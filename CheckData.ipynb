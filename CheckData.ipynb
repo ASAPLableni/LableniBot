{
 "cells": [
  {
   "cell_type": "code",
   "execution_count": 1,
   "id": "82b89d7b",
   "metadata": {},
   "outputs": [],
   "source": [
    "import pandas as pd\n",
    "import numpy as np\n",
    "import matplotlib.pyplot as plt\n",
    "import os\n",
    "\n",
    "import analysis_utils as aute"
   ]
  },
  {
   "cell_type": "code",
   "execution_count": 2,
   "id": "2815e58f",
   "metadata": {},
   "outputs": [
    {
     "name": "stdout",
     "output_type": "stream",
     "text": [
      "Number of conversations: 2\n"
     ]
    }
   ],
   "source": [
    "all_df_list = []\n",
    "for conv in os.listdir(\"Conversations/\"):\n",
    "    excel_name = [file for file in os.listdir(\"Conversations/\" + conv) if \".xlsx\" in file][0]\n",
    "    df_x = pd.read_excel(\"Conversations/\" + conv + \"/\" + excel_name)\n",
    "    if df_x.shape[0] > 2:\n",
    "        all_df_list.append(df_x)\n",
    "            \n",
    "print(\"Number of conversations:\", len(all_df_list))"
   ]
  },
  {
   "cell_type": "code",
   "execution_count": 14,
   "id": "4fa67e34",
   "metadata": {},
   "outputs": [],
   "source": [
    "check_list = []\n",
    "for df in all_df_list:\n",
    "    check_list.append({\n",
    "        \"NumRows\": df.shape[0],\n",
    "        \"NumCols\": df.shape[1],\n",
    "        \"TimeConversation_min\": (df[\"UnixTimestampEnd\"].iloc[-1] - df[\"UnixTimestampInit\"].iloc[0])/60\n",
    "    })\n",
    "    \n",
    "df_check = pd.DataFrame(check_list)"
   ]
  },
  {
   "cell_type": "code",
   "execution_count": 17,
   "id": "c085138c",
   "metadata": {},
   "outputs": [
    {
     "name": "stdout",
     "output_type": "stream",
     "text": [
      "Mean Number of rows = 33.0 +/- 9.0 ; Median = 33.0 ; Min. =  24 ; Max. =  42\n",
      "\n"
     ]
    },
    {
     "data": {
      "image/png": "[encoded data removed]",
      "text/plain": [
       "<Figure size 720x360 with 1 Axes>"
      ]
     },
     "metadata": {
      "needs_background": "light"
     },
     "output_type": "display_data"
    },
    {
     "name": "stdout",
     "output_type": "stream",
     "text": [
      "Mean Number of cols = 10.0 +/- 0.0 ; Median = 10.0 ; Min. =  10 ; Max. =  10\n",
      "\n",
      "Mean Time conversation (min) = 5.0805 +/- 1.4654 ; Median = 5.0805 ; Min. =  3.6152 ; Max. =  6.5459\n",
      "\n"
     ]
    },
    {
     "data": {
      "image/png": "[encoded data removed]",
      "text/plain": [
       "<Figure size 720x360 with 1 Axes>"
      ]
     },
     "metadata": {
      "needs_background": "light"
     },
     "output_type": "display_data"
    }
   ],
   "source": [
    "aute.stat_print(df_check[\"NumRows\"], \"Number of rows\")\n",
    "print()\n",
    "\n",
    "plt.figure(figsize=(10, 5))\n",
    "\n",
    "plt.hist(df_check[\"NumRows\"], bins=31, alpha=0.7)\n",
    "plt.xlabel(\"Number of rows\", fontsize=14)\n",
    "\n",
    "plt.show()\n",
    "\n",
    "aute.stat_print(df_check[\"NumCols\"], \"Number of cols\")\n",
    "print()\n",
    "\n",
    "aute.stat_print(df_check[\"TimeConversation_min\"], \"Time conversation (min)\")\n",
    "print()\n",
    "\n",
    "plt.figure(figsize=(10, 5))\n",
    "\n",
    "plt.hist(df_check[\"TimeConversation_min\"], bins=31, alpha=0.7)\n",
    "plt.xlabel(\"Conversation time (min)\", fontsize=14)\n",
    "\n",
    "plt.show()"
   ]
  },
  {
   "cell_type": "code",
   "execution_count": null,
   "id": "bc115d6a",
   "metadata": {},
   "outputs": [],
   "source": []
  }
 ],
 "metadata": {
  "kernelspec": {
   "display_name": "Python 3 (ipykernel)",
   "language": "python",
   "name": "python3"
  },
  "language_info": {
   "codemirror_mode": {
    "name": "ipython",
    "version": 3
   },
   "file_extension": ".py",
   "mimetype": "text/x-python",
   "name": "python",
   "nbconvert_exporter": "python",
   "pygments_lexer": "ipython3",
   "version": "3.9.11"
  }
 },
 "nbformat": 4,
 "nbformat_minor": 5
}
