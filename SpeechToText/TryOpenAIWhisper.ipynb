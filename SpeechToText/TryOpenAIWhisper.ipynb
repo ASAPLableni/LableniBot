{
 "cells": [
  {
   "cell_type": "code",
   "execution_count": 22,
   "id": "50f0eb91",
   "metadata": {
    "ExecuteTime": {
     "end_time": "2022-09-23T07:09:38.230484Z",
     "start_time": "2022-09-23T07:09:38.224432Z"
    }
   },
   "outputs": [],
   "source": [
    "import pandas as pd\n",
    "import numpy as np\n",
    "import os\n",
    "import time\n",
    "\n",
    "import whisper"
   ]
  },
  {
   "cell_type": "code",
   "execution_count": 24,
   "id": "b3e8b112",
   "metadata": {
    "ExecuteTime": {
     "end_time": "2022-09-23T07:10:27.103567Z",
     "start_time": "2022-09-23T07:10:27.085456Z"
    }
   },
   "outputs": [],
   "source": [
    "def stat_print(list_x, name, precision=4, quantile=False):\n",
    "    if quantile:\n",
    "        print(\n",
    "            \"Mean \" + name + \" =\", np.round(np.nanmean(list_x), precision),\n",
    "            \"+/-\", np.round(np.nanstd(list_x), precision),\n",
    "            \"; Median =\", np.round(np.nanmedian(list_x), precision),\n",
    "            \"; Min. = \", np.round(np.nanmin(list_x), precision),\n",
    "            \"; Max. = \", np.round(np.nanmax(list_x), precision),\n",
    "            \"\\n Quantile 1%\", np.round(np.nanquantile(list_x, 0.01), precision),\n",
    "            \"Quantile 99%\", np.round(np.nanquantile(list_x, 0.99), precision)\n",
    "        )\n",
    "    else:\n",
    "        print(\n",
    "            \"Mean \" + name + \" =\", np.round(np.nanmean(list_x), precision),\n",
    "            \"+/-\", np.round(np.nanstd(list_x), precision),\n",
    "            \"; Median =\", np.round(np.nanmedian(list_x), precision),\n",
    "            \"; Min. = \", np.round(np.nanmin(list_x), precision),\n",
    "            \"; Max. = \", np.round(np.nanmax(list_x), precision)\n",
    "        )"
   ]
  },
  {
   "cell_type": "code",
   "execution_count": 13,
   "id": "88aad4a6",
   "metadata": {
    "ExecuteTime": {
     "end_time": "2022-09-23T07:02:26.815424Z",
     "start_time": "2022-09-23T07:02:26.800200Z"
    }
   },
   "outputs": [
    {
     "name": "stdout",
     "output_type": "stream",
     "text": [
      "['audio_bot_aws.wav', 'Subject_Jose_T=0.wav', 'Subject_Jose_T=1.wav', 'Subject_Jose_T=2.wav', 'Subject_Jose_T=3.wav', 'Subject_Jose_T=4.wav', 'Subject_Jose_T=5.wav', 'Subject_Jose_T=6.wav', 'Subject_Jose_T=7.wav']\n"
     ]
    }
   ],
   "source": [
    "audio_files = [f for f in os.listdir() if \".wav\" in f]\n",
    "print(audio_files)"
   ]
  },
  {
   "cell_type": "code",
   "execution_count": 3,
   "id": "ac55e495",
   "metadata": {
    "ExecuteTime": {
     "end_time": "2022-09-23T06:58:32.560010Z",
     "start_time": "2022-09-23T06:58:19.997428Z"
    }
   },
   "outputs": [
    {
     "name": "stderr",
     "output_type": "stream",
     "text": [
      "100%|███████████████████████████████████████| 139M/139M [00:11<00:00, 12.4MiB/s]\n"
     ]
    }
   ],
   "source": [
    "model = whisper.load_model(\"base\")"
   ]
  },
  {
   "cell_type": "code",
   "execution_count": 15,
   "id": "43e9d595",
   "metadata": {
    "ExecuteTime": {
     "end_time": "2022-09-23T07:08:17.692006Z",
     "start_time": "2022-09-23T07:07:34.562631Z"
    }
   },
   "outputs": [
    {
     "name": "stderr",
     "output_type": "stream",
     "text": [
      "C:\\Users\\Jose\\Desktop\\LabLENI\\git\\LableniBot\\venv\\lib\\site-packages\\whisper\\transcribe.py:70: UserWarning: FP16 is not supported on CPU; using FP32 instead\n",
      "  warnings.warn(\"FP16 is not supported on CPU; using FP32 instead\")\n"
     ]
    },
    {
     "name": "stdout",
     "output_type": "stream",
     "text": [
      "Detected language: spanish\n",
      "Detected language: spanish\n",
      "Detected language: spanish\n",
      "Detected language: spanish\n",
      "Detected language: spanish\n",
      "Detected language: spanish\n",
      "Detected language: spanish\n",
      "Detected language: spanish\n",
      "Detected language: spanish\n"
     ]
    }
   ],
   "source": [
    "save_results_list = []\n",
    "for f in audio_files:\n",
    "    t0 = time.time()\n",
    "    result = model.transcribe(f)\n",
    "    delta_t = time.time() - t0\n",
    "    \n",
    "    save_results_list.append({\n",
    "        \"AudioFile\": f,\n",
    "        \"Text\": result[\"text\"],\n",
    "        \"DeltaTime\": delta_t,\n",
    "        \"compression_ratio\": result[\"segments\"][0][\"compression_ratio\"],\n",
    "        \"no_speech_prob\": result[\"segments\"][0][\"no_speech_prob\"],\n",
    "        \"Language\": result[\"language\"],\n",
    "    })"
   ]
  },
  {
   "cell_type": "code",
   "execution_count": 27,
   "id": "b3ea4529",
   "metadata": {
    "ExecuteTime": {
     "end_time": "2022-09-23T07:12:30.258948Z",
     "start_time": "2022-09-23T07:12:30.235399Z"
    }
   },
   "outputs": [
    {
     "data": {
      "text/html": [
       "<div>\n",
       "<style scoped>\n",
       "    .dataframe tbody tr th:only-of-type {\n",
       "        vertical-align: middle;\n",
       "    }\n",
       "\n",
       "    .dataframe tbody tr th {\n",
       "        vertical-align: top;\n",
       "    }\n",
       "\n",
       "    .dataframe thead th {\n",
       "        text-align: right;\n",
       "    }\n",
       "</style>\n",
       "<table border=\"1\" class=\"dataframe\">\n",
       "  <thead>\n",
       "    <tr style=\"text-align: right;\">\n",
       "      <th></th>\n",
       "      <th>AudioFile</th>\n",
       "      <th>Text</th>\n",
       "      <th>DeltaTime</th>\n",
       "      <th>compression_ratio</th>\n",
       "      <th>no_speech_prob</th>\n",
       "      <th>Language</th>\n",
       "    </tr>\n",
       "  </thead>\n",
       "  <tbody>\n",
       "    <tr>\n",
       "      <th>0</th>\n",
       "      <td>audio_bot_aws.wav</td>\n",
       "      <td>De verdad, eso es increíble. Me siento muy a ...</td>\n",
       "      <td>3.800838</td>\n",
       "      <td>0.883333</td>\n",
       "      <td>0.186058</td>\n",
       "      <td>es</td>\n",
       "    </tr>\n",
       "    <tr>\n",
       "      <th>1</th>\n",
       "      <td>Subject_Jose_T=0.wav</td>\n",
       "      <td>Hola María, ¿cómo estás? Yo también estoy muy...</td>\n",
       "      <td>3.859542</td>\n",
       "      <td>0.871795</td>\n",
       "      <td>0.181110</td>\n",
       "      <td>es</td>\n",
       "    </tr>\n",
       "    <tr>\n",
       "      <th>2</th>\n",
       "      <td>Subject_Jose_T=1.wav</td>\n",
       "      <td>Sí que yo me llamo José y estoy muy contento ...</td>\n",
       "      <td>3.912071</td>\n",
       "      <td>0.876712</td>\n",
       "      <td>0.058637</td>\n",
       "      <td>es</td>\n",
       "    </tr>\n",
       "    <tr>\n",
       "      <th>3</th>\n",
       "      <td>Subject_Jose_T=2.wav</td>\n",
       "      <td>El placer es mi omaria, ¿a qué te dedicas?</td>\n",
       "      <td>3.653322</td>\n",
       "      <td>0.807692</td>\n",
       "      <td>0.178047</td>\n",
       "      <td>es</td>\n",
       "    </tr>\n",
       "    <tr>\n",
       "      <th>4</th>\n",
       "      <td>Subject_Jose_T=3.wav</td>\n",
       "      <td>te doyeron lyingwen que estudi hasta tres</td>\n",
       "      <td>12.668211</td>\n",
       "      <td>0.854167</td>\n",
       "      <td>0.243649</td>\n",
       "      <td>es</td>\n",
       "    </tr>\n",
       "    <tr>\n",
       "      <th>5</th>\n",
       "      <td>Subject_Jose_T=4.wav</td>\n",
       "      <td>Ah, qué guay, creo que los psicólogos son muy...</td>\n",
       "      <td>4.398523</td>\n",
       "      <td>0.950000</td>\n",
       "      <td>0.045852</td>\n",
       "      <td>es</td>\n",
       "    </tr>\n",
       "    <tr>\n",
       "      <th>6</th>\n",
       "      <td>Subject_Jose_T=5.wav</td>\n",
       "      <td>ahí me alegro mucho entonces María la verdad ...</td>\n",
       "      <td>4.214833</td>\n",
       "      <td>1.102041</td>\n",
       "      <td>0.131233</td>\n",
       "      <td>es</td>\n",
       "    </tr>\n",
       "    <tr>\n",
       "      <th>7</th>\n",
       "      <td>Subject_Jose_T=6.wav</td>\n",
       "      <td>seguro que sí que lo conseguirás</td>\n",
       "      <td>2.900639</td>\n",
       "      <td>0.842105</td>\n",
       "      <td>0.022074</td>\n",
       "      <td>es</td>\n",
       "    </tr>\n",
       "    <tr>\n",
       "      <th>8</th>\n",
       "      <td>Subject_Jose_T=7.wav</td>\n",
       "      <td>Tás fuento lo camaría. No sé qué me estás dic...</td>\n",
       "      <td>3.705381</td>\n",
       "      <td>0.836066</td>\n",
       "      <td>0.144891</td>\n",
       "      <td>es</td>\n",
       "    </tr>\n",
       "  </tbody>\n",
       "</table>\n",
       "</div>"
      ],
      "text/plain": [
       "              AudioFile                                               Text  \\\n",
       "0     audio_bot_aws.wav   De verdad, eso es increíble. Me siento muy a ...   \n",
       "1  Subject_Jose_T=0.wav   Hola María, ¿cómo estás? Yo también estoy muy...   \n",
       "2  Subject_Jose_T=1.wav   Sí que yo me llamo José y estoy muy contento ...   \n",
       "3  Subject_Jose_T=2.wav         El placer es mi omaria, ¿a qué te dedicas?   \n",
       "4  Subject_Jose_T=3.wav          te doyeron lyingwen que estudi hasta tres   \n",
       "5  Subject_Jose_T=4.wav   Ah, qué guay, creo que los psicólogos son muy...   \n",
       "6  Subject_Jose_T=5.wav   ahí me alegro mucho entonces María la verdad ...   \n",
       "7  Subject_Jose_T=6.wav                   seguro que sí que lo conseguirás   \n",
       "8  Subject_Jose_T=7.wav   Tás fuento lo camaría. No sé qué me estás dic...   \n",
       "\n",
       "   DeltaTime  compression_ratio  no_speech_prob Language  \n",
       "0   3.800838           0.883333        0.186058       es  \n",
       "1   3.859542           0.871795        0.181110       es  \n",
       "2   3.912071           0.876712        0.058637       es  \n",
       "3   3.653322           0.807692        0.178047       es  \n",
       "4  12.668211           0.854167        0.243649       es  \n",
       "5   4.398523           0.950000        0.045852       es  \n",
       "6   4.214833           1.102041        0.131233       es  \n",
       "7   2.900639           0.842105        0.022074       es  \n",
       "8   3.705381           0.836066        0.144891       es  "
      ]
     },
     "metadata": {},
     "output_type": "display_data"
    }
   ],
   "source": [
    "df_s2t = pd.DataFrame(save_results_list)\n",
    "display(df_s2t.head(10))\n",
    "df_s2t.to_csv(\"SaveOpenAIWhisper.csv\", index=False)"
   ]
  },
  {
   "cell_type": "code",
   "execution_count": 25,
   "id": "bcb148cd",
   "metadata": {
    "ExecuteTime": {
     "end_time": "2022-09-23T07:10:48.545094Z",
     "start_time": "2022-09-23T07:10:48.536962Z"
    }
   },
   "outputs": [
    {
     "name": "stdout",
     "output_type": "stream",
     "text": [
      "Mean DeltaTime = 4.7904 +/- 2.8127 ; Median = 3.8595 ; Min. =  2.9006 ; Max. =  12.6682\n"
     ]
    }
   ],
   "source": [
    "stat_print(df_s2t[\"DeltaTime\"], \"DeltaTime\", precision=4, quantile=False)"
   ]
  },
  {
   "cell_type": "code",
   "execution_count": null,
   "id": "6806c036",
   "metadata": {},
   "outputs": [],
   "source": []
  },
  {
   "cell_type": "code",
   "execution_count": null,
   "id": "e6e15260",
   "metadata": {},
   "outputs": [],
   "source": []
  },
  {
   "cell_type": "code",
   "execution_count": null,
   "id": "5234df8a",
   "metadata": {},
   "outputs": [],
   "source": []
  },
  {
   "cell_type": "code",
   "execution_count": 9,
   "id": "b5228fe1",
   "metadata": {
    "ExecuteTime": {
     "end_time": "2022-09-23T07:01:36.185849Z",
     "start_time": "2022-09-23T07:01:31.417768Z"
    }
   },
   "outputs": [
    {
     "name": "stdout",
     "output_type": "stream",
     "text": [
      "Detected language: es\n",
      "Detected language: spanish\n",
      " De verdad, eso es increíble. Me siento muy a la gada.\n"
     ]
    }
   ],
   "source": [
    "# load audio and pad/trim it to fit 30 seconds\n",
    "audio = whisper.load_audio(\"audio_bot_aws.wav\")\n",
    "audio = whisper.pad_or_trim(audio)\n",
    "\n",
    "# make log-Mel spectrogram and move to the same device as the model\n",
    "mel = whisper.log_mel_spectrogram(audio).to(model.device)\n",
    "\n",
    "# detect the spoken language\n",
    "_, probs = model.detect_language(mel)\n",
    "print(f\"Detected language: {max(probs, key=probs.get)}\")\n",
    "\n",
    "result = model.transcribe(\"audio_bot_aws.wav\")\n",
    "\n",
    "# decode the audio\n",
    "# options = whisper.DecodingOptions()\n",
    "# result = whisper.decode(model, mel, options)\n",
    "\n",
    "# print the recognized text\n",
    "print(result[\"text\"])"
   ]
  },
  {
   "cell_type": "code",
   "execution_count": 14,
   "id": "7856d0b5",
   "metadata": {
    "ExecuteTime": {
     "end_time": "2022-09-23T07:05:48.003446Z",
     "start_time": "2022-09-23T07:05:47.989942Z"
    }
   },
   "outputs": [
    {
     "data": {
      "text/plain": [
       "{'text': ' De verdad, eso es increíble. Me siento muy a la gada.',\n",
       " 'segments': [{'id': 0,\n",
       "   'seek': 0,\n",
       "   'start': 0.0,\n",
       "   'end': 6.0,\n",
       "   'text': ' De verdad, eso es increíble. Me siento muy a la gada.',\n",
       "   'tokens': [50364,\n",
       "    1346,\n",
       "    13692,\n",
       "    11,\n",
       "    7287,\n",
       "    785,\n",
       "    46202,\n",
       "    638,\n",
       "    13,\n",
       "    1923,\n",
       "    40340,\n",
       "    5323,\n",
       "    257,\n",
       "    635,\n",
       "    290,\n",
       "    1538,\n",
       "    13,\n",
       "    50664],\n",
       "   'temperature': 0.0,\n",
       "   'avg_logprob': -0.36580140967118113,\n",
       "   'compression_ratio': 0.8833333333333333,\n",
       "   'no_speech_prob': 0.18605804443359375}],\n",
       " 'language': 'es'}"
      ]
     },
     "execution_count": 14,
     "metadata": {},
     "output_type": "execute_result"
    }
   ],
   "source": [
    "result"
   ]
  },
  {
   "cell_type": "code",
   "execution_count": null,
   "id": "f833baac",
   "metadata": {},
   "outputs": [],
   "source": []
  }
 ],
 "metadata": {
  "kernelspec": {
   "display_name": "Python 3 (ipykernel)",
   "language": "python",
   "name": "python3"
  },
  "language_info": {
   "codemirror_mode": {
    "name": "ipython",
    "version": 3
   },
   "file_extension": ".py",
   "mimetype": "text/x-python",
   "name": "python",
   "nbconvert_exporter": "python",
   "pygments_lexer": "ipython3",
   "version": "3.7.8"
  },
  "latex_envs": {
   "LaTeX_envs_menu_present": true,
   "autoclose": false,
   "autocomplete": true,
   "bibliofile": "biblio.bib",
   "cite_by": "apalike",
   "current_citInitial": 1,
   "eqLabelWithNumbers": true,
   "eqNumInitial": 1,
   "hotkeys": {
    "equation": "Ctrl-E",
    "itemize": "Ctrl-I"
   },
   "labels_anchors": false,
   "latex_user_defs": false,
   "report_style_numbering": false,
   "user_envs_cfg": false
  }
 },
 "nbformat": 4,
 "nbformat_minor": 5
}
