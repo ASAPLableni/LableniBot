{
 "cells": [
  {
   "cell_type": "code",
   "execution_count": 1,
   "id": "b1a93a8e",
   "metadata": {
    "ExecuteTime": {
     "end_time": "2022-08-04T16:55:48.872190Z",
     "start_time": "2022-08-04T16:55:48.858949Z"
    }
   },
   "outputs": [],
   "source": [
    "text = \"Hola como estas\""
   ]
  },
  {
   "cell_type": "code",
   "execution_count": null,
   "id": "57fa6344",
   "metadata": {},
   "outputs": [],
   "source": [
    "import torch\n",
    "import zipfile\n",
    "import torchaudio\n",
    "from glob import glob\n",
    "\n",
    "device = torch.device('cpu')  # gpu also works, but our models are fast enough for CPU\n",
    "model, decoder, utils = torch.hub.load(repo_or_dir='snakers4/silero-models',\n",
    "                                       model='silero_stt',\n",
    "                                       language='es', # also available 'de', 'es'\n",
    "                                       device=device)\n",
    "read_batch, split_into_batches, read_audio, prepare_model_input = utils  # see function signature for details"
   ]
  },
  {
   "cell_type": "code",
   "execution_count": 11,
   "id": "8afeaa7e",
   "metadata": {
    "ExecuteTime": {
     "end_time": "2022-08-04T17:27:10.584969Z",
     "start_time": "2022-08-04T17:27:10.354771Z"
    }
   },
   "outputs": [
    {
     "name": "stdout",
     "output_type": "stream",
     "text": [
      "sí que yo me llamo josé y estoy muy contento de conocer te maría\n"
     ]
    }
   ],
   "source": [
    "test_files = glob('Subject_Jose_T=1.wav')\n",
    "batches = split_into_batches(test_files, batch_size=1)\n",
    "input = prepare_model_input(read_batch(batches[0]), device=device)\n",
    "\n",
    "output = model(input)\n",
    "for example in output:\n",
    "    print(decoder(example.cpu()))"
   ]
  },
  {
   "cell_type": "code",
   "execution_count": null,
   "id": "7af8329f",
   "metadata": {},
   "outputs": [],
   "source": []
  },
  {
   "cell_type": "code",
   "execution_count": null,
   "id": "0cc05787",
   "metadata": {},
   "outputs": [],
   "source": []
  },
  {
   "cell_type": "code",
   "execution_count": 8,
   "id": "b14626e6",
   "metadata": {
    "ExecuteTime": {
     "end_time": "2022-08-07T17:46:49.412204Z",
     "start_time": "2022-08-07T17:46:49.397933Z"
    }
   },
   "outputs": [],
   "source": [
    "from google.cloud import speech_v1 as speech\n",
    "\n",
    "\n",
    "def speech_to_text(config, audio):\n",
    "    client = speech.SpeechClient.from_service_account_json(\"../google_api.json\")\n",
    "    response = client.recognize(config=config, audio=audio)\n",
    "    print_sentences(response)\n",
    "\n",
    "\n",
    "def print_sentences(response):\n",
    "    for result in response.results:\n",
    "        best_alternative = result.alternatives[0]\n",
    "        transcript = best_alternative.transcript\n",
    "        confidence = best_alternative.confidence\n",
    "        print(\"-\" * 80)\n",
    "        print(f\"Transcript: {transcript}\")\n",
    "        print(f\"Confidence: {confidence:.0%}\")\n",
    "\n",
    "\n",
    "config = dict(language_code=\"en-US\")\n",
    "config.update(dict(enable_automatic_punctuation=True))\n",
    "audio = dict(uri=\"gs://cloud-samples-data/speech/brooklyn_bridge.flac\")\n"
   ]
  },
  {
   "cell_type": "code",
   "execution_count": 9,
   "id": "1d5d0af5",
   "metadata": {
    "ExecuteTime": {
     "end_time": "2022-08-07T17:46:53.108256Z",
     "start_time": "2022-08-07T17:46:51.646182Z"
    }
   },
   "outputs": [
    {
     "name": "stdout",
     "output_type": "stream",
     "text": [
      "--------------------------------------------------------------------------------\n",
      "Transcript: How old is the Brooklyn Bridge?\n",
      "Confidence: 98%\n"
     ]
    }
   ],
   "source": [
    "speech_to_text(config, audio)"
   ]
  },
  {
   "cell_type": "code",
   "execution_count": 1,
   "id": "49547a62",
   "metadata": {
    "ExecuteTime": {
     "end_time": "2022-08-08T17:10:59.721983Z",
     "start_time": "2022-08-08T17:10:59.274697Z"
    }
   },
   "outputs": [],
   "source": [
    "from google.cloud import speech\n",
    "\n",
    "client = speech.SpeechClient.from_service_account_json(\"../google_api.json\")"
   ]
  },
  {
   "cell_type": "code",
   "execution_count": 2,
   "id": "0fc41f1b",
   "metadata": {
    "ExecuteTime": {
     "end_time": "2022-08-08T17:11:00.427793Z",
     "start_time": "2022-08-08T17:11:00.411341Z"
    }
   },
   "outputs": [],
   "source": [
    "speech_file = \"Subject_Jose_T=0.wav\"\n",
    "with open(speech_file, \"rb\") as audio_file:\n",
    "    content = audio_file.read()"
   ]
  },
  {
   "cell_type": "code",
   "execution_count": 3,
   "id": "a301d187",
   "metadata": {
    "ExecuteTime": {
     "end_time": "2022-08-08T17:11:04.377043Z",
     "start_time": "2022-08-08T17:11:02.379401Z"
    }
   },
   "outputs": [
    {
     "name": "stdout",
     "output_type": "stream",
     "text": [
      "--------------------\n",
      "First alternative of result 0\n",
      "Transcript: Hola, María cómo estás? Yo también estoy muy contenta de conocerte.\n",
      "Channel Tag: 1\n",
      "--------------------\n",
      "First alternative of result 1\n",
      "Transcript: Hola, María cómo estás? Yo también estoy muy contenta de conocerte.\n",
      "Channel Tag: 2\n"
     ]
    }
   ],
   "source": [
    "audio = speech.RecognitionAudio(content=content)\n",
    "\n",
    "config = speech.RecognitionConfig(\n",
    "    encoding=speech.RecognitionConfig.AudioEncoding.LINEAR16,\n",
    "    # sample_rate_hertz=44100,\n",
    "    language_code=\"es-EU\",\n",
    "    audio_channel_count=2,\n",
    "    enable_separate_recognition_per_channel=True,\n",
    "    enable_automatic_punctuation=True\n",
    ")\n",
    "\n",
    "response = client.recognize(config=config, audio=audio)\n",
    "\n",
    "for i, result in enumerate(response.results):\n",
    "    alternative = result.alternatives[0]\n",
    "    print(\"-\" * 20)\n",
    "    print(\"First alternative of result {}\".format(i))\n",
    "    print(u\"Transcript: {}\".format(alternative.transcript))\n",
    "    print(u\"Channel Tag: {}\".format(result.channel_tag))"
   ]
  },
  {
   "cell_type": "code",
   "execution_count": 12,
   "id": "cb048994",
   "metadata": {
    "ExecuteTime": {
     "end_time": "2022-08-08T17:12:15.947720Z",
     "start_time": "2022-08-08T17:12:15.939712Z"
    }
   },
   "outputs": [
    {
     "data": {
      "text/plain": [
       "'Hola, María cómo estás? Yo también estoy muy contenta de conocerte.'"
      ]
     },
     "execution_count": 12,
     "metadata": {},
     "output_type": "execute_result"
    }
   ],
   "source": [
    "response.results[0].alternatives[0].transcript"
   ]
  },
  {
   "cell_type": "code",
   "execution_count": null,
   "id": "127dc060",
   "metadata": {},
   "outputs": [],
   "source": []
  }
 ],
 "metadata": {
  "kernelspec": {
   "display_name": "Python 3 (ipykernel)",
   "language": "python",
   "name": "python3"
  },
  "language_info": {
   "codemirror_mode": {
    "name": "ipython",
    "version": 3
   },
   "file_extension": ".py",
   "mimetype": "text/x-python",
   "name": "python",
   "nbconvert_exporter": "python",
   "pygments_lexer": "ipython3",
   "version": "3.7.8"
  },
  "latex_envs": {
   "LaTeX_envs_menu_present": true,
   "autoclose": false,
   "autocomplete": true,
   "bibliofile": "biblio.bib",
   "cite_by": "apalike",
   "current_citInitial": 1,
   "eqLabelWithNumbers": true,
   "eqNumInitial": 1,
   "hotkeys": {
    "equation": "Ctrl-E",
    "itemize": "Ctrl-I"
   },
   "labels_anchors": false,
   "latex_user_defs": false,
   "report_style_numbering": false,
   "user_envs_cfg": false
  }
 },
 "nbformat": 4,
 "nbformat_minor": 5
}
