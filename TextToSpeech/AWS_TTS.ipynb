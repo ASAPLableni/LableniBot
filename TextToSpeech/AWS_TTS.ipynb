{
 "cells": [
  {
   "cell_type": "code",
   "execution_count": 23,
   "id": "592d5270",
   "metadata": {
    "ExecuteTime": {
     "end_time": "2022-07-27T15:12:43.963579Z",
     "start_time": "2022-07-27T15:12:43.942344Z"
    }
   },
   "outputs": [],
   "source": [
    "\"\"\"Getting Started Example for Python 2.7+/3.3+\"\"\"\n",
    "from boto3 import Session\n",
    "from botocore.exceptions import BotoCoreError, ClientError\n",
    "from contextlib import closing\n",
    "import os\n",
    "import sys\n",
    "import subprocess\n",
    "from tempfile import gettempdir\n",
    "import json\n",
    "import wave\n",
    "import pyaudio\n",
    "\n",
    "from pydub import AudioSegment"
   ]
  },
  {
   "cell_type": "code",
   "execution_count": 2,
   "id": "9255585f",
   "metadata": {
    "ExecuteTime": {
     "end_time": "2022-07-27T15:03:32.597385Z",
     "start_time": "2022-07-27T15:03:32.535334Z"
    }
   },
   "outputs": [],
   "source": [
    "config_json = open('../config.json')\n",
    "config_dict = json.load(config_json)\n",
    "\n",
    "# Create a client using the credentials and region defined in the [adminuser]\n",
    "# section of the AWS credentials file (~/.aws/credentials).\n",
    "session = Session(aws_access_key_id=config_dict[\"AWS_ACCESS_KEY_ID\"],\n",
    "                  aws_secret_access_key=config_dict[\"AWS_SECRET_ACCESS_KEY\"])\n",
    "polly = session.client(\"polly\", region_name='eu-west-1')"
   ]
  },
  {
   "cell_type": "code",
   "execution_count": 3,
   "id": "58905d5e",
   "metadata": {
    "ExecuteTime": {
     "end_time": "2022-07-27T15:03:33.003397Z",
     "start_time": "2022-07-27T15:03:32.991386Z"
    }
   },
   "outputs": [],
   "source": [
    "my_text = '''\n",
    "<speak>\n",
    "Hola otra vez <break time=\"1s\"/> la voz de antes era un poco mala pero yo soy mejor.\n",
    "</speak>\n",
    "'''"
   ]
  },
  {
   "cell_type": "code",
   "execution_count": 21,
   "id": "29032cf5",
   "metadata": {
    "ExecuteTime": {
     "end_time": "2022-07-27T15:12:28.382201Z",
     "start_time": "2022-07-27T15:12:28.251867Z"
    }
   },
   "outputs": [],
   "source": [
    "response = polly.synthesize_speech(\n",
    "    Text=my_text, \n",
    "    OutputFormat=\"mp3\", \n",
    "    VoiceId=\"Lucia\",\n",
    "    Engine=\"neural\",\n",
    "    TextType=\"ssml\"\n",
    ")"
   ]
  },
  {
   "cell_type": "code",
   "execution_count": null,
   "id": "785be911",
   "metadata": {},
   "outputs": [],
   "source": [
    "with closing(response[\"AudioStream\"]) as stream:\n",
    "    # output = os.path.join(gettempdir(), \"speech.mp3\")\n",
    "    with open(\"speech.mp3\", \"wb\") as file:\n",
    "           file.write(stream.read())\n",
    "\n",
    "# convert wav to mp3                                                            \n",
    "sound = AudioSegment.from_mp3(\"speech.mp3\")\n",
    "sound.export(\"speech.wav\", format=\"wav\")"
   ]
  },
  {
   "cell_type": "code",
   "execution_count": 19,
   "id": "ea5ebf7a",
   "metadata": {
    "ExecuteTime": {
     "end_time": "2022-07-27T15:11:25.071499Z",
     "start_time": "2022-07-27T15:11:25.052951Z"
    }
   },
   "outputs": [],
   "source": [
    "# Initializing variables\n",
    "CHANNELS = 1  # Polly's output is a mono audio stream\n",
    "RATE = 44100\n",
    "WAV_SAMPLE_WIDTH_BYTES = 2  # Polly's output is a stream of 16-bits (2 bytes) samples\n",
    "FRAMES = []\n",
    "\n",
    "# Processing the response to audio stream\n",
    "STREAM = response.get(\"AudioStream\")\n",
    "FRAMES.append(STREAM.read())\n",
    "\n",
    "WAVE_FORMAT = wave.open(\"speech.wav\", 'wb')\n",
    "# WAVE_FORMAT = wave.open(OUTPUT_FILE_IN_WAVE, 'wb')\n",
    "WAVE_FORMAT.setnchannels(CHANNELS)\n",
    "WAVE_FORMAT.setsampwidth(WAV_SAMPLE_WIDTH_BYTES)\n",
    "WAVE_FORMAT.setframerate(RATE)\n",
    "WAVE_FORMAT.writeframes(b''.join(FRAMES))\n",
    "WAVE_FORMAT.close()"
   ]
  },
  {
   "cell_type": "code",
   "execution_count": 20,
   "id": "72d9c450",
   "metadata": {
    "ExecuteTime": {
     "end_time": "2022-07-27T15:11:31.502482Z",
     "start_time": "2022-07-27T15:11:31.260925Z"
    }
   },
   "outputs": [],
   "source": [
    "CHUNK = 1024\n",
    "\n",
    "# open a wav format music\n",
    "f = wave.open(\"speech.wav\", \"rb\")\n",
    "# instantiate PyAudio\n",
    "p = pyaudio.PyAudio()\n",
    "# open stream\n",
    "stream = p.open(format=p.get_format_from_width(f.getsampwidth()),\n",
    "                channels=f.getnchannels(),\n",
    "                rate=f.getframerate(),\n",
    "                output=True)\n",
    "# read data\n",
    "data = f.readframes(CHUNK)\n",
    "\n",
    "# play stream\n",
    "while data:\n",
    "    stream.write(data)\n",
    "    data = f.readframes(CHUNK)\n",
    "\n",
    "    # stop stream\n",
    "stream.stop_stream()\n",
    "stream.close()\n",
    "\n",
    "# close PyAudio\n",
    "p.terminate()"
   ]
  },
  {
   "cell_type": "code",
   "execution_count": null,
   "id": "2636f8da",
   "metadata": {},
   "outputs": [],
   "source": []
  }
 ],
 "metadata": {
  "kernelspec": {
   "display_name": "Python 3 (ipykernel)",
   "language": "python",
   "name": "python3"
  },
  "language_info": {
   "codemirror_mode": {
    "name": "ipython",
    "version": 3
   },
   "file_extension": ".py",
   "mimetype": "text/x-python",
   "name": "python",
   "nbconvert_exporter": "python",
   "pygments_lexer": "ipython3",
   "version": "3.7.8"
  },
  "latex_envs": {
   "LaTeX_envs_menu_present": true,
   "autoclose": false,
   "autocomplete": true,
   "bibliofile": "biblio.bib",
   "cite_by": "apalike",
   "current_citInitial": 1,
   "eqLabelWithNumbers": true,
   "eqNumInitial": 1,
   "hotkeys": {
    "equation": "Ctrl-E",
    "itemize": "Ctrl-I"
   },
   "labels_anchors": false,
   "latex_user_defs": false,
   "report_style_numbering": false,
   "user_envs_cfg": false
  }
 },
 "nbformat": 4,
 "nbformat_minor": 5
}
