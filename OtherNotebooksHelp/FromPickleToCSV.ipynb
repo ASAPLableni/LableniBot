{
 "cells": [
  {
   "cell_type": "code",
   "execution_count": 1,
   "id": "f2bbcae0",
   "metadata": {},
   "outputs": [],
   "source": [
    "import pandas as pd\n",
    "import os"
   ]
  },
  {
   "cell_type": "code",
   "execution_count": 2,
   "id": "95b7b10b",
   "metadata": {},
   "outputs": [],
   "source": [
    "for subj_id in os.listdir(\"../Conversations\"):\n",
    "    for file in os.listdir(\"../Conversations/\" + subj_id):\n",
    "        path_to_pkl = \"../Conversations/\" + subj_id + \"/\" + file\n",
    "        pickle_file = [x for x in os.listdir(path_to_pkl) if \".pkl\" in x][0]\n",
    "        \n",
    "        df_pkl_to_csv = pd.read_pickle(path_to_pkl + \"/\" + pickle_file)\n",
    "        \n",
    "        new_data_path = \"../ConversationToCSV/\" + subj_id + \"_\" + pickle_file.replace(\".pkl\", \".csv\")\n",
    "        df_pkl_to_csv.to_csv(new_data_path, sep=\";\", index=False)\n",
    "        "
   ]
  },
  {
   "cell_type": "code",
   "execution_count": 3,
   "id": "5f9c9d1e",
   "metadata": {},
   "outputs": [
    {
     "name": "stdout",
     "output_type": "stream",
     "text": [
      "Number of conversations converted 6\n",
      "['Alejandro_Conv_20221010_113912.csv', 'Alejandro_Conv_20221010_114930.csv', 'Alejandro_Conv_20221010_115743.csv', 'Alejandro_Conv_20221010_120250.csv', 'Alejandro_Conv_20221010_120751.csv', 'Alejandro_Conv_20221010_121407.csv']\n"
     ]
    }
   ],
   "source": [
    "num_conv = len(os.listdir(\"../ConversationToCSV/\"))\n",
    "print(\"Number of conversations converted\", num_conv)\n",
    "print(os.listdir(\"../ConversationToCSV/\"))"
   ]
  },
  {
   "cell_type": "code",
   "execution_count": null,
   "id": "c39dfc53",
   "metadata": {},
   "outputs": [],
   "source": []
  },
  {
   "cell_type": "code",
   "execution_count": null,
   "id": "dbff5a63",
   "metadata": {},
   "outputs": [],
   "source": []
  }
 ],
 "metadata": {
  "kernelspec": {
   "display_name": "Python 3 (ipykernel)",
   "language": "python",
   "name": "python3"
  },
  "language_info": {
   "codemirror_mode": {
    "name": "ipython",
    "version": 3
   },
   "file_extension": ".py",
   "mimetype": "text/x-python",
   "name": "python",
   "nbconvert_exporter": "python",
   "pygments_lexer": "ipython3",
   "version": "3.9.11"
  }
 },
 "nbformat": 4,
 "nbformat_minor": 5
}
