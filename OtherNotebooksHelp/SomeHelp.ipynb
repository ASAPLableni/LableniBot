{
 "cells": [
  {
   "cell_type": "code",
   "execution_count": 15,
   "id": "a7827e03",
   "metadata": {
    "ExecuteTime": {
     "end_time": "2022-10-04T16:26:28.640012Z",
     "start_time": "2022-10-04T16:26:28.542656Z"
    }
   },
   "outputs": [],
   "source": [
    "import numpy as np\n",
    "import pandas as pd\n",
    "import matplotlib.pyplot as plt\n",
    "import seaborn as sns\n",
    "import time\n",
    "import os\n",
    "import pickle"
   ]
  },
  {
   "cell_type": "markdown",
   "id": "2aa62416",
   "metadata": {},
   "source": [
    "### Order Google S2T output"
   ]
  },
  {
   "cell_type": "code",
   "execution_count": 2,
   "id": "c04bf8de",
   "metadata": {
    "ExecuteTime": {
     "end_time": "2022-10-04T16:26:28.938278Z",
     "start_time": "2022-10-04T16:26:28.925268Z"
    }
   },
   "outputs": [],
   "source": [
    "example1_time = np.array([5, 6, 7, 8])\n",
    "example1_sent = np.array([\"Hello\", \"Hello, how are you ?\", \" how are you\", \" how are you my friend ?\"])"
   ]
  },
  {
   "cell_type": "code",
   "execution_count": 3,
   "id": "bbc98a72",
   "metadata": {
    "ExecuteTime": {
     "end_time": "2022-10-04T16:26:29.407017Z",
     "start_time": "2022-10-04T16:26:29.397008Z"
    }
   },
   "outputs": [],
   "source": [
    "matrix_content = np.zeros((len(example1_sent), len(example1_sent)))\n",
    "\n",
    "for i, i_sent in enumerate(example1_sent):\n",
    "    for j, j_sent in enumerate(example1_sent):\n",
    "        matrix_content[i][j] = 1 if i_sent in j_sent else 0\n",
    "        \n",
    "keep_vec_bool = matrix_content.sum(axis=0) > 1\n",
    "\n",
    "order_idx = np.argsort(example1_time[keep_vec_bool])\n",
    "final_sentence = \" \".join(example1_sent[keep_vec_bool][order_idx])"
   ]
  },
  {
   "cell_type": "code",
   "execution_count": 4,
   "id": "fbcf3901",
   "metadata": {
    "ExecuteTime": {
     "end_time": "2022-10-04T16:26:33.730493Z",
     "start_time": "2022-10-04T16:26:33.725489Z"
    }
   },
   "outputs": [],
   "source": [
    "def get_google_s2t_sent(example1_sent, example1_time):\n",
    "    \n",
    "    matrix_content = np.zeros((len(example1_sent), len(example1_sent)))\n",
    "\n",
    "    for i, i_sent in enumerate(example1_sent):\n",
    "        for j, j_sent in enumerate(example1_sent):\n",
    "            matrix_content[i][j] = 1 if i_sent in j_sent else 0\n",
    "\n",
    "    keep_vec_bool = matrix_content.sum(axis=0) > 1\n",
    "\n",
    "    order_idx = np.argsort(example1_time[keep_vec_bool])\n",
    "    final_sentence = \" \".join(example1_sent[keep_vec_bool][order_idx])\n",
    "    \n",
    "    return final_sentence"
   ]
  },
  {
   "cell_type": "code",
   "execution_count": null,
   "id": "9d49f451",
   "metadata": {},
   "outputs": [],
   "source": []
  },
  {
   "cell_type": "markdown",
   "id": "8980438e",
   "metadata": {},
   "source": [
    "### Check data save"
   ]
  },
  {
   "cell_type": "code",
   "execution_count": 26,
   "id": "eaa31392",
   "metadata": {},
   "outputs": [],
   "source": [
    "df = pd.read_excel(\"data_example.xlsx\")"
   ]
  },
  {
   "cell_type": "code",
   "execution_count": 27,
   "id": "67de2940",
   "metadata": {},
   "outputs": [],
   "source": [
    "df_to_dict = df.T.to_dict()\n",
    "all_data_list = [v for v in df_to_dict.values()]"
   ]
  },
  {
   "cell_type": "code",
   "execution_count": 28,
   "id": "91aa14f1",
   "metadata": {},
   "outputs": [],
   "source": [
    "n_max_rows = 100\n",
    "\n",
    "save_results_check = []\n",
    "save_my_data_check_list = []\n",
    "for i in range(n_max_rows):\n",
    "    if i >= df.shape[0]:\n",
    "        save_my_data_check_list.append(all_data_list[-1])\n",
    "    else:\n",
    "        save_my_data_check_list.append(all_data_list[i])\n",
    "\n",
    "    t0_df = time.time()\n",
    "    df_check = pd.DataFrame(save_my_data_check_list)\n",
    "    t1_df = time.time()\n",
    "\n",
    "    save_results_check.append({\n",
    "        \"NumRows\": i,\n",
    "        \"Label\": \"GenerateDF\",\n",
    "        \"TimeDelta\": (t1_df-t0_df)\n",
    "    })\n",
    "\n",
    "    t0_excel = time.time()\n",
    "    df_check.to_excel(\"FolderDataCheck/data_excel.xlsx\", index=False)\n",
    "    t1_excel = time.time()\n",
    "\n",
    "    save_results_check.append({\n",
    "        \"NumRows\": i,\n",
    "        \"Label\": \"SaveExcel\",\n",
    "        \"TimeDelta\": (t1_excel-t0_excel)\n",
    "    })\n",
    "\n",
    "    t0_csv = time.time()\n",
    "    df_check.to_csv(\"FolderDataCheck/data_csv.csv\", index=False)\n",
    "    t1_csv = time.time()\n",
    "\n",
    "    save_results_check.append({\n",
    "        \"NumRows\": i,\n",
    "        \"Label\": \"SaveCSV\",\n",
    "        \"TimeDelta\": (t1_csv-t0_csv)\n",
    "    })\n",
    "\n",
    "    t0_pkl = time.time()\n",
    "    df_check.to_pickle(\"FolderDataCheck/data_pkl.pkl\")\n",
    "    t1_pkl = time.time()\n",
    "\n",
    "    save_results_check.append({\n",
    "        \"NumRows\": i,\n",
    "        \"Label\": \"SavePKL\",\n",
    "        \"TimeDelta\": (t1_pkl-t0_pkl)\n",
    "    })"
   ]
  },
  {
   "cell_type": "code",
   "execution_count": 32,
   "id": "c5c671d5",
   "metadata": {},
   "outputs": [
    {
     "data": {
      "text/html": [
       "<div>\n",
       "<style scoped>\n",
       "    .dataframe tbody tr th:only-of-type {\n",
       "        vertical-align: middle;\n",
       "    }\n",
       "\n",
       "    .dataframe tbody tr th {\n",
       "        vertical-align: top;\n",
       "    }\n",
       "\n",
       "    .dataframe thead th {\n",
       "        text-align: right;\n",
       "    }\n",
       "</style>\n",
       "<table border=\"1\" class=\"dataframe\">\n",
       "  <thead>\n",
       "    <tr style=\"text-align: right;\">\n",
       "      <th></th>\n",
       "      <th>NumRows</th>\n",
       "      <th>Label</th>\n",
       "      <th>TimeDelta</th>\n",
       "    </tr>\n",
       "  </thead>\n",
       "  <tbody>\n",
       "    <tr>\n",
       "      <th>390</th>\n",
       "      <td>97</td>\n",
       "      <td>SaveCSV</td>\n",
       "      <td>0.005005</td>\n",
       "    </tr>\n",
       "    <tr>\n",
       "      <th>391</th>\n",
       "      <td>97</td>\n",
       "      <td>SavePKL</td>\n",
       "      <td>0.000000</td>\n",
       "    </tr>\n",
       "    <tr>\n",
       "      <th>392</th>\n",
       "      <td>98</td>\n",
       "      <td>GenerateDF</td>\n",
       "      <td>0.001000</td>\n",
       "    </tr>\n",
       "    <tr>\n",
       "      <th>393</th>\n",
       "      <td>98</td>\n",
       "      <td>SaveExcel</td>\n",
       "      <td>0.045041</td>\n",
       "    </tr>\n",
       "    <tr>\n",
       "      <th>394</th>\n",
       "      <td>98</td>\n",
       "      <td>SaveCSV</td>\n",
       "      <td>0.005004</td>\n",
       "    </tr>\n",
       "    <tr>\n",
       "      <th>395</th>\n",
       "      <td>98</td>\n",
       "      <td>SavePKL</td>\n",
       "      <td>0.000000</td>\n",
       "    </tr>\n",
       "    <tr>\n",
       "      <th>396</th>\n",
       "      <td>99</td>\n",
       "      <td>GenerateDF</td>\n",
       "      <td>0.001001</td>\n",
       "    </tr>\n",
       "    <tr>\n",
       "      <th>397</th>\n",
       "      <td>99</td>\n",
       "      <td>SaveExcel</td>\n",
       "      <td>0.044546</td>\n",
       "    </tr>\n",
       "    <tr>\n",
       "      <th>398</th>\n",
       "      <td>99</td>\n",
       "      <td>SaveCSV</td>\n",
       "      <td>0.005005</td>\n",
       "    </tr>\n",
       "    <tr>\n",
       "      <th>399</th>\n",
       "      <td>99</td>\n",
       "      <td>SavePKL</td>\n",
       "      <td>0.001002</td>\n",
       "    </tr>\n",
       "  </tbody>\n",
       "</table>\n",
       "</div>"
      ],
      "text/plain": [
       "     NumRows       Label  TimeDelta\n",
       "390       97     SaveCSV   0.005005\n",
       "391       97     SavePKL   0.000000\n",
       "392       98  GenerateDF   0.001000\n",
       "393       98   SaveExcel   0.045041\n",
       "394       98     SaveCSV   0.005004\n",
       "395       98     SavePKL   0.000000\n",
       "396       99  GenerateDF   0.001001\n",
       "397       99   SaveExcel   0.044546\n",
       "398       99     SaveCSV   0.005005\n",
       "399       99     SavePKL   0.001002"
      ]
     },
     "execution_count": 32,
     "metadata": {},
     "output_type": "execute_result"
    }
   ],
   "source": [
    "df_res_check = pd.DataFrame(save_results_check)\n",
    "df_res_check.tail(10)"
   ]
  },
  {
   "cell_type": "code",
   "execution_count": 30,
   "id": "c6dfdc08",
   "metadata": {},
   "outputs": [
    {
     "data": {
      "image/png": "[encoded data removed]",
      "text/plain": [
       "<Figure size 1080x432 with 1 Axes>"
      ]
     },
     "metadata": {
      "needs_background": "light"
     },
     "output_type": "display_data"
    }
   ],
   "source": [
    "plt.figure(figsize=(15, 6))\n",
    "\n",
    "for g, df_g in df_res_check.groupby(\"Label\"):\n",
    "    plt.plot(df_g[\"NumRows\"], df_g[\"TimeDelta\"], label=g)\n",
    "\n",
    "plt.legend(fontsize=12)\n",
    "plt.xlabel(\"Num. Rows\", fontsize=14)\n",
    "plt.ylabel(\"Time (s)\")\n",
    "plt.show()"
   ]
  },
  {
   "cell_type": "code",
   "execution_count": null,
   "id": "655abfc7",
   "metadata": {},
   "outputs": [],
   "source": []
  },
  {
   "cell_type": "code",
   "execution_count": null,
   "id": "4357a663",
   "metadata": {},
   "outputs": [],
   "source": []
  }
 ],
 "metadata": {
  "kernelspec": {
   "display_name": "Python 3.7.8 ('venv': venv)",
   "language": "python",
   "name": "python3"
  },
  "language_info": {
   "codemirror_mode": {
    "name": "ipython",
    "version": 3
   },
   "file_extension": ".py",
   "mimetype": "text/x-python",
   "name": "python",
   "nbconvert_exporter": "python",
   "pygments_lexer": "ipython3",
   "version": "3.7.8"
  },
  "latex_envs": {
   "LaTeX_envs_menu_present": true,
   "autoclose": false,
   "autocomplete": true,
   "bibliofile": "biblio.bib",
   "cite_by": "apalike",
   "current_citInitial": 1,
   "eqLabelWithNumbers": true,
   "eqNumInitial": 1,
   "hotkeys": {
    "equation": "Ctrl-E",
    "itemize": "Ctrl-I"
   },
   "labels_anchors": false,
   "latex_user_defs": false,
   "report_style_numbering": false,
   "user_envs_cfg": false
  },
  "vscode": {
   "interpreter": {
    "hash": "1894742da8d4df0582994d9f35387e3eb5c01a820108455775fa087a2a81ebdb"
   }
  }
 },
 "nbformat": 4,
 "nbformat_minor": 5
}
