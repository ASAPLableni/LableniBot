{
 "cells": [
  {
   "cell_type": "code",
   "execution_count": 1,
   "id": "a7827e03",
   "metadata": {
    "ExecuteTime": {
     "end_time": "2022-10-04T16:26:28.640012Z",
     "start_time": "2022-10-04T16:26:28.542656Z"
    }
   },
   "outputs": [],
   "source": [
    "import numpy as np"
   ]
  },
  {
   "cell_type": "markdown",
   "id": "2aa62416",
   "metadata": {},
   "source": [
    "### Order Google S2T output"
   ]
  },
  {
   "cell_type": "code",
   "execution_count": 2,
   "id": "c04bf8de",
   "metadata": {
    "ExecuteTime": {
     "end_time": "2022-10-04T16:26:28.938278Z",
     "start_time": "2022-10-04T16:26:28.925268Z"
    }
   },
   "outputs": [],
   "source": [
    "example1_time = np.array([5, 6, 7, 8])\n",
    "example1_sent = np.array([\"Hello\", \"Hello, how are you ?\", \" how are you\", \" how are you my friend ?\"])"
   ]
  },
  {
   "cell_type": "code",
   "execution_count": 3,
   "id": "bbc98a72",
   "metadata": {
    "ExecuteTime": {
     "end_time": "2022-10-04T16:26:29.407017Z",
     "start_time": "2022-10-04T16:26:29.397008Z"
    }
   },
   "outputs": [],
   "source": [
    "matrix_content = np.zeros((len(example1_sent), len(example1_sent)))\n",
    "\n",
    "for i, i_sent in enumerate(example1_sent):\n",
    "    for j, j_sent in enumerate(example1_sent):\n",
    "        matrix_content[i][j] = 1 if i_sent in j_sent else 0\n",
    "        \n",
    "keep_vec_bool = matrix_content.sum(axis=0) > 1\n",
    "\n",
    "order_idx = np.argsort(example1_time[keep_vec_bool])\n",
    "final_sentence = \" \".join(example1_sent[keep_vec_bool][order_idx])"
   ]
  },
  {
   "cell_type": "code",
   "execution_count": 4,
   "id": "fbcf3901",
   "metadata": {
    "ExecuteTime": {
     "end_time": "2022-10-04T16:26:33.730493Z",
     "start_time": "2022-10-04T16:26:33.725489Z"
    }
   },
   "outputs": [],
   "source": [
    "def get_google_s2t_sent(example1_sent, example1_time):\n",
    "    \n",
    "    matrix_content = np.zeros((len(example1_sent), len(example1_sent)))\n",
    "\n",
    "    for i, i_sent in enumerate(example1_sent):\n",
    "        for j, j_sent in enumerate(example1_sent):\n",
    "            matrix_content[i][j] = 1 if i_sent in j_sent else 0\n",
    "\n",
    "    keep_vec_bool = matrix_content.sum(axis=0) > 1\n",
    "\n",
    "    order_idx = np.argsort(example1_time[keep_vec_bool])\n",
    "    final_sentence = \" \".join(example1_sent[keep_vec_bool][order_idx])\n",
    "    \n",
    "    return final_sentence"
   ]
  },
  {
   "cell_type": "code",
   "execution_count": null,
   "id": "9d49f451",
   "metadata": {},
   "outputs": [],
   "source": []
  }
 ],
 "metadata": {
  "kernelspec": {
   "display_name": "Python 3 (ipykernel)",
   "language": "python",
   "name": "python3"
  },
  "language_info": {
   "codemirror_mode": {
    "name": "ipython",
    "version": 3
   },
   "file_extension": ".py",
   "mimetype": "text/x-python",
   "name": "python",
   "nbconvert_exporter": "python",
   "pygments_lexer": "ipython3",
   "version": "3.7.8"
  },
  "latex_envs": {
   "LaTeX_envs_menu_present": true,
   "autoclose": false,
   "autocomplete": true,
   "bibliofile": "biblio.bib",
   "cite_by": "apalike",
   "current_citInitial": 1,
   "eqLabelWithNumbers": true,
   "eqNumInitial": 1,
   "hotkeys": {
    "equation": "Ctrl-E",
    "itemize": "Ctrl-I"
   },
   "labels_anchors": false,
   "latex_user_defs": false,
   "report_style_numbering": false,
   "user_envs_cfg": false
  }
 },
 "nbformat": 4,
 "nbformat_minor": 5
}
