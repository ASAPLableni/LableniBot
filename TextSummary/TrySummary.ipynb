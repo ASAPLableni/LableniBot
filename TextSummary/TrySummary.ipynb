{
 "cells": [
  {
   "cell_type": "code",
   "execution_count": 1,
   "id": "d89e9ae2",
   "metadata": {},
   "outputs": [
    {
     "name": "stderr",
     "output_type": "stream",
     "text": [
      "C:\\Users\\jllanes\\Desktop\\Proyectos\\DialogueSummaries\\venv\\lib\\site-packages\\tqdm\\auto.py:22: TqdmWarning: IProgress not found. Please update jupyter and ipywidgets. See https://ipywidgets.readthedocs.io/en/stable/user_install.html\n",
      "  from .autonotebook import tqdm as notebook_tqdm\n"
     ]
    }
   ],
   "source": [
    "import pandas as pd\n",
    "import numpy as np\n",
    "import time\n",
    "import os\n",
    "import matplotlib.pyplot as plt\n",
    "\n",
    "from transformers import pipeline\n",
    "\n",
    "import utils as ute"
   ]
  },
  {
   "cell_type": "code",
   "execution_count": 2,
   "id": "18deb205",
   "metadata": {},
   "outputs": [],
   "source": [
    "all_df_list = []\n",
    "for f in os.listdir(\"Conversations/\"):\n",
    "    df = pd.read_excel(\"Conversations/\" + f)\n",
    "    if df.shape[0] > 4:\n",
    "        all_df_list.append(df)\n",
    "        \n",
    "df_all = pd.concat(all_df_list).reset_index(drop=True)"
   ]
  },
  {
   "cell_type": "code",
   "execution_count": 3,
   "id": "ee5058ae",
   "metadata": {},
   "outputs": [],
   "source": [
    "whole_text = \". \".join(df_all[\"message\"])"
   ]
  },
  {
   "cell_type": "code",
   "execution_count": 4,
   "id": "8edd92ef",
   "metadata": {},
   "outputs": [],
   "source": [
    "summarizer = pipeline(\"summarization\", model=\"facebook/bart-large-cnn\")\n",
    "\n",
    "ARTICLE = \"\"\" \n",
    "New York (CNN)When Liana Barrientos was 23 years old, she got married in Westchester County, New York.\n",
    "A year later, she got married again in Westchester County, but to a different man and without divorcing her first husband.\n",
    "Only 18 days after that marriage, she got hitched yet again. \n",
    "Then, Barrientos declared \"I do\" five more times, sometimes only within two weeks of each other.\n",
    "In 2010, she married once more, this time in the Bronx. In an application for a marriage license, \n",
    "she stated it was her \"first and only\" marriage.\n",
    "Barrientos, now 39, is facing two criminal counts of \"offering a false instrument for filing in the first degree,\" \n",
    "referring to her false statements on the\n",
    "2010 marriage license application, according to court documents.\n",
    "Prosecutors said the marriages were part of an immigration scam.\n",
    "On Friday, she pleaded not guilty at State Supreme Court in the Bronx, according to her attorney, \n",
    "Christopher Wright, who declined to comment further.\n",
    "After leaving court, Barrientos was arrested and charged with theft of service and criminal trespass for allegedly \n",
    "sneaking into the New York subway through an emergency exit, said Detective\n",
    "Annette Markowski, a police spokeswoman. In total, Barrientos has been married 10 times, \n",
    "with nine of her marriages occurring between 1999 and 2002.\n",
    "All occurred either in Westchester County, Long Island, New Jersey or the Bronx. \n",
    "She is believed to still be married to four men, and at one time, she was married to eight men at once, prosecutors say.\n",
    "Prosecutors said the immigration scam involved some of her husbands, \n",
    "who filed for permanent residence status shortly after the marriages.\n",
    "Any divorces happened only after such filings were approved. It was unclear whether any of the men will be prosecuted.\n",
    "The case was referred to the Bronx District Attorney\\'s Office by Immigration and Customs Enforcement and \n",
    "the Department of Homeland Security\\'s\n",
    "Investigation Division. Seven of the men are from so-called \"red-flagged\" countries, including \n",
    "Egypt, Turkey, Georgia, Pakistan and Mali.\n",
    "Her eighth husband, Rashid Rajput, was deported in 2006 to his native Pakistan after an investigation by \n",
    "the Joint Terrorism Task Force.\n",
    "If convicted, Barrientos faces up to four years in prison.  Her next court appearance is scheduled for May 18.\n",
    "\"\"\""
   ]
  },
  {
   "cell_type": "code",
   "execution_count": 5,
   "id": "261cb2da",
   "metadata": {},
   "outputs": [
    {
     "name": "stdout",
     "output_type": "stream",
     "text": [
      "Number of words 369\n"
     ]
    }
   ],
   "source": [
    "print(\"Number of words\", len(ARTICLE.split()))"
   ]
  },
  {
   "cell_type": "code",
   "execution_count": 6,
   "id": "77a9dd25",
   "metadata": {},
   "outputs": [
    {
     "name": "stdout",
     "output_type": "stream",
     "text": [
      "[{'summary_text': 'Liana Barrientos has been married 10 times, nine of them between 1999 and 2002. Prosecutors say the marriages were part of an immigration scam. She pleaded not guilty to two counts of \"offering a false instrument for filing in the first degree\"'}]\n"
     ]
    }
   ],
   "source": [
    "summary = summarizer(ARTICLE, max_length=130, min_length=30, do_sample=False)\n",
    "print(summary)"
   ]
  },
  {
   "cell_type": "code",
   "execution_count": 7,
   "id": "65d4b8d1",
   "metadata": {},
   "outputs": [
    {
     "data": {
      "text/plain": [
       "'Liana Barrientos has been married 10 times, nine of them between 1999 and 2002. Prosecutors say the marriages were part of an immigration scam. She pleaded not guilty to two counts of \"offering a false instrument for filing in the first degree\"'"
      ]
     },
     "execution_count": 7,
     "metadata": {},
     "output_type": "execute_result"
    }
   ],
   "source": [
    "summary[0]['summary_text']"
   ]
  },
  {
   "cell_type": "code",
   "execution_count": 9,
   "id": "a96b4023",
   "metadata": {},
   "outputs": [
    {
     "name": "stdout",
     "output_type": "stream",
     "text": [
      "Iteration 9 of 10\r"
     ]
    }
   ],
   "source": [
    "my_text = whole_text\n",
    "\n",
    "max_len_summary = 130\n",
    "num_iter = 10\n",
    "num_words_by_step = int( (len(my_text.split())-max_len_summary)/num_iter)\n",
    "\n",
    "result_list = []\n",
    "for i in range(num_iter):\n",
    "    \n",
    "    try:\n",
    "    \n",
    "        print(\"Iteration\", i, \"of\", num_iter, end=\"\\r\")\n",
    "\n",
    "        num_words_take = max_len_summary + i*num_words_by_step\n",
    "        my_new_text = \" \".join(my_text.split()[: num_words_take])\n",
    "\n",
    "        t0 = time.time()\n",
    "        output_summary = summarizer(my_new_text, max_length=130, min_length=30, do_sample=False)\n",
    "        delta_time = time.time() - t0\n",
    "\n",
    "        result_list.append({\n",
    "            \"DeltaTime\": delta_time,\n",
    "            \"NumWords\": num_words_take,\n",
    "            \"Summary\": output_summary[0]['summary_text']\n",
    "        })\n",
    "    except:\n",
    "        pass\n",
    "    \n",
    "df_res = pd.DataFrame(result_list)"
   ]
  },
  {
   "cell_type": "code",
   "execution_count": 11,
   "id": "64191c5f",
   "metadata": {},
   "outputs": [
    {
     "name": "stdout",
     "output_type": "stream",
     "text": [
      "Correlation value 0.7410505677951653\n",
      "P-value -\n",
      "Coefficients: \n",
      " [0.00834725] \n",
      "Intercept: \n",
      " 4.471854551978732\n",
      "R-square: 0.55\n"
     ]
    },
    {
     "data": {
      "image/png": "[encoded data removed]",
      "text/plain": [
       "<Figure size 864x360 with 1 Axes>"
      ]
     },
     "metadata": {
      "needs_background": "light"
     },
     "output_type": "display_data"
    }
   ],
   "source": [
    "ute.make_scatter_plot(df=df_res, \n",
    "                      x_feat=\"NumWords\", \n",
    "                      x_name=\"Number of Words\", \n",
    "                      y_feat=\"DeltaTime\", \n",
    "                      y_name=\"Time spend (s)\")"
   ]
  },
  {
   "cell_type": "markdown",
   "id": "8ac58fae",
   "metadata": {},
   "source": [
    "### Evaluate how accurate is the summary"
   ]
  },
  {
   "cell_type": "code",
   "execution_count": 12,
   "id": "79f2cf1b",
   "metadata": {},
   "outputs": [],
   "source": [
    "summary = summarizer(ARTICLE, max_length=130, min_length=30, do_sample=False)\n",
    "summary_text = summary[0]['summary_text']"
   ]
  },
  {
   "cell_type": "code",
   "execution_count": null,
   "id": "e28213cf",
   "metadata": {},
   "outputs": [],
   "source": []
  },
  {
   "cell_type": "code",
   "execution_count": null,
   "id": "dd008956",
   "metadata": {},
   "outputs": [],
   "source": []
  }
 ],
 "metadata": {
  "kernelspec": {
   "display_name": "Python 3 (ipykernel)",
   "language": "python",
   "name": "python3"
  },
  "language_info": {
   "codemirror_mode": {
    "name": "ipython",
    "version": 3
   },
   "file_extension": ".py",
   "mimetype": "text/x-python",
   "name": "python",
   "nbconvert_exporter": "python",
   "pygments_lexer": "ipython3",
   "version": "3.7.8"
  },
  "latex_envs": {
   "LaTeX_envs_menu_present": true,
   "autoclose": false,
   "autocomplete": true,
   "bibliofile": "biblio.bib",
   "cite_by": "apalike",
   "current_citInitial": 1,
   "eqLabelWithNumbers": true,
   "eqNumInitial": 1,
   "hotkeys": {
    "equation": "Ctrl-E",
    "itemize": "Ctrl-I"
   },
   "labels_anchors": false,
   "latex_user_defs": false,
   "report_style_numbering": false,
   "user_envs_cfg": false
  }
 },
 "nbformat": 4,
 "nbformat_minor": 5
}
