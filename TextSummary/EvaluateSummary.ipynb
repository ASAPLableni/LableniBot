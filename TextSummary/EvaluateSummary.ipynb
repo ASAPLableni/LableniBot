{
 "cells": [
  {
   "cell_type": "code",
   "execution_count": 32,
   "id": "ec0969ec",
   "metadata": {
    "ExecuteTime": {
     "end_time": "2022-07-15T14:40:27.380704Z",
     "start_time": "2022-07-15T14:40:27.371638Z"
    }
   },
   "outputs": [
    {
     "name": "stderr",
     "output_type": "stream",
     "text": [
      "[nltk_data] Downloading package punkt to\n",
      "[nltk_data]     C:\\Users\\Jose\\AppData\\Roaming\\nltk_data...\n",
      "[nltk_data]   Package punkt is already up-to-date!\n",
      "[nltk_data] Error loading tokenizers/punkt/spanish.pickle: Package\n",
      "[nltk_data]     'tokenizers/punkt/spanish.pickle' not found in index\n",
      "[nltk_data] Downloading package stopwords to\n",
      "[nltk_data]     C:\\Users\\Jose\\AppData\\Roaming\\nltk_data...\n",
      "[nltk_data]   Package stopwords is already up-to-date!\n"
     ]
    },
    {
     "data": {
      "text/plain": [
       "True"
      ]
     },
     "execution_count": 32,
     "metadata": {},
     "output_type": "execute_result"
    }
   ],
   "source": [
    "import time\n",
    "import numpy as np\n",
    "import pandas as pd\n",
    "import matplotlib.pyplot as plt\n",
    "import os\n",
    "\n",
    "from transformers import pipeline\n",
    "from transformers import BartTokenizer, BartForConditionalGeneration\n",
    "\n",
    "import scipy.stats as stats\n",
    "\n",
    "from scipy.spatial.distance import pdist, squareform\n",
    "from sklearn import linear_model\n",
    "from sklearn.metrics import r2_score\n",
    "\n",
    "import unicodedata\n",
    "\n",
    "# Text analysis\n",
    "import nltk\n",
    "from nltk.tokenize import sent_tokenize, word_tokenize\n",
    "from nltk.stem.snowball import SpanishStemmer\n",
    "from nltk.corpus import stopwords\n",
    "nltk.download('punkt')\n",
    "nltk.download('tokenizers/punkt/spanish.pickle')\n",
    "nltk.download('stopwords')"
   ]
  },
  {
   "cell_type": "code",
   "execution_count": 28,
   "id": "a4aa9964",
   "metadata": {
    "ExecuteTime": {
     "end_time": "2022-07-15T14:37:34.157190Z",
     "start_time": "2022-07-15T14:37:34.135170Z"
    }
   },
   "outputs": [],
   "source": [
    "tokenize_spanish = nltk.data.load('tokenizers/punkt/spanish.pickle')\n",
    "spanish_stemmer = SpanishStemmer()\n",
    "spanish_stopwords_th = stopwords.words('spanish')"
   ]
  },
  {
   "cell_type": "code",
   "execution_count": 17,
   "id": "1726390c",
   "metadata": {
    "ExecuteTime": {
     "end_time": "2022-07-15T14:31:08.019174Z",
     "start_time": "2022-07-15T14:31:07.997149Z"
    }
   },
   "outputs": [],
   "source": [
    "def get_p_string(p):\n",
    "    if p >= 0.05:\n",
    "        return \"-\"\n",
    "    elif 0.01 <= p < 0.05:\n",
    "        return \"*\"\n",
    "    elif 0.001 <= p < 0.01:\n",
    "        return \"**\"\n",
    "    else:\n",
    "        return \"***\"\n",
    "\n",
    "def make_scatter_plot(df, x_feat, x_name, y_feat, y_name, alpha_th=0.6, fontsize_th=14, lr_mode=True):\n",
    "    data_idx = df[[x_feat, y_feat]].dropna().index.values\n",
    "\n",
    "    corr_v, corr_pvalue = stats.pearsonr(df.loc[data_idx, x_feat].values, df.loc[data_idx, y_feat].values)\n",
    "    print(\"Correlation value\", corr_v)\n",
    "    print(\"P-value\", get_p_string(corr_pvalue))\n",
    "\n",
    "    plt.figure(figsize=(12, 5))\n",
    "\n",
    "    if lr_mode:\n",
    "        lr = linear_model.LinearRegression(n_jobs=-1)\n",
    "        lr.fit(df.loc[data_idx, x_feat].values.reshape(-1, 1), df.loc[data_idx, y_feat])\n",
    "        y_pred = lr.predict(df.loc[data_idx, x_feat].values.reshape(-1, 1))\n",
    "\n",
    "        print(\"Coefficients: \\n\", lr.coef_, \"\\nIntercept: \\n\", lr.intercept_)\n",
    "        print(\"R-square: %.2f\" % r2_score(df.loc[data_idx, y_feat], y_pred))\n",
    "\n",
    "        plt.plot(df.loc[data_idx, x_feat], y_pred, c=\"red\", label=\"Linear Regression\")\n",
    "        plt.legend(fontsize=12)\n",
    "        delta_int = np.abs(np.nanmax(df[y_feat]) - np.nanmin(df[y_feat]))\n",
    "        plt.ylim(np.nanmin(df[y_feat]) - 0.1 * delta_int, np.nanmax(df[y_feat]) + 0.1 * delta_int)\n",
    "\n",
    "    plt.scatter(df[x_feat], df[y_feat], alpha=0.6)\n",
    "\n",
    "    plt.xlabel(x_name, fontsize=14)\n",
    "    plt.ylabel(y_name, fontsize=14)\n",
    "\n",
    "    plt.show()"
   ]
  },
  {
   "cell_type": "code",
   "execution_count": 2,
   "id": "525b3b4a",
   "metadata": {
    "ExecuteTime": {
     "end_time": "2022-07-15T14:23:39.307109Z",
     "start_time": "2022-07-15T14:17:46.758099Z"
    }
   },
   "outputs": [
    {
     "data": {
      "application/vnd.jupyter.widget-view+json": {
       "model_id": "913efe8973b64373b3fd7944365c2eed",
       "version_major": 2,
       "version_minor": 0
      },
      "text/plain": [
       "Downloading:   0%|          | 0.00/1.55k [00:00<?, ?B/s]"
      ]
     },
     "metadata": {},
     "output_type": "display_data"
    },
    {
     "data": {
      "application/vnd.jupyter.widget-view+json": {
       "model_id": "ca4daf01abea4665837214156085a1cb",
       "version_major": 2,
       "version_minor": 0
      },
      "text/plain": [
       "Downloading:   0%|          | 0.00/1.51G [00:00<?, ?B/s]"
      ]
     },
     "metadata": {},
     "output_type": "display_data"
    },
    {
     "data": {
      "application/vnd.jupyter.widget-view+json": {
       "model_id": "819e60d6c11441e4a8f5fac6d282644f",
       "version_major": 2,
       "version_minor": 0
      },
      "text/plain": [
       "Downloading:   0%|          | 0.00/878k [00:00<?, ?B/s]"
      ]
     },
     "metadata": {},
     "output_type": "display_data"
    },
    {
     "data": {
      "application/vnd.jupyter.widget-view+json": {
       "model_id": "07c3e84e35f54292959c44b7123bf00a",
       "version_major": 2,
       "version_minor": 0
      },
      "text/plain": [
       "Downloading:   0%|          | 0.00/446k [00:00<?, ?B/s]"
      ]
     },
     "metadata": {},
     "output_type": "display_data"
    },
    {
     "data": {
      "application/vnd.jupyter.widget-view+json": {
       "model_id": "31fe7641a4d8453298c256539f63a059",
       "version_major": 2,
       "version_minor": 0
      },
      "text/plain": [
       "Downloading:   0%|          | 0.00/1.29M [00:00<?, ?B/s]"
      ]
     },
     "metadata": {},
     "output_type": "display_data"
    },
    {
     "name": "stdout",
     "output_type": "stream",
     "text": [
      "Time spend 352.53 s\n"
     ]
    }
   ],
   "source": [
    "# https://huggingface.co/docs/transformers/model_doc/bart#transformers.BartForConditionalGeneration\n",
    "\n",
    "t0 = time.time()\n",
    "\n",
    "summarizer = pipeline(\"summarization\", model=\"facebook/bart-large-cnn\")\n",
    "# summarizer.model.to(\"cuda\")\n",
    "\n",
    "ARTICLE = \"\"\" \n",
    "New York (CNN)When Liana Barrientos was 23 years old, she got married in Westchester County, New York.\n",
    "A year later, she got married again in Westchester County, but to a different man and without divorcing her first husband.\n",
    "Only 18 days after that marriage, she got hitched yet again. \n",
    "Then, Barrientos declared \"I do\" five more times, sometimes only within two weeks of each other.\n",
    "In 2010, she married once more, this time in the Bronx. \n",
    "In an application for a marriage license, she stated it was her \"first and only\" marriage.\n",
    "Barrientos, now 39, is facing two criminal counts of \"offering a false instrument for filing in the first degree,\" \n",
    "referring to her false statements on the\n",
    "2010 marriage license application, according to court documents.\n",
    "Prosecutors said the marriages were part of an immigration scam.\n",
    "On Friday, she pleaded not guilty at State Supreme Court in the Bronx, according to her attorney, \n",
    "Christopher Wright, who declined to comment further.\n",
    "After leaving court, \n",
    "Barrientos was arrested and charged with theft of service and criminal trespass for allegedly sneaking \n",
    "into the New York subway through an emergency exit, said Detective\n",
    "Annette Markowski, a police spokeswoman. \n",
    "In total, Barrientos has been married 10 times, with nine of her marriages occurring between 1999 and 2002.\n",
    "All occurred either in Westchester County, Long Island, New Jersey or the Bronx. \n",
    "She is believed to still be married to four men, and at one time, she was married to eight men at once, prosecutors say.\n",
    "Prosecutors said the immigration scam involved some of her husbands, \n",
    "who filed for permanent residence status shortly after the marriages.\n",
    "Any divorces happened only after such filings were approved. It was unclear whether any of the men will be prosecuted.\n",
    "The case was referred to the Bronx District Attorney\\'s Office by \n",
    "Immigration and Customs Enforcement and the Department of Homeland Security\\'s\n",
    "Investigation Division. \n",
    "Seven of the men are from so-called \"red-flagged\" countries, including Egypt, Turkey, Georgia, Pakistan and Mali.\n",
    "Her eighth husband, Rashid Rajput, was deported in 2006 to his native Pakistan after an investigation \n",
    "by the Joint Terrorism Task Force.\n",
    "If convicted, Barrientos faces up to four years in prison.  Her next court appearance is scheduled for May 18.\n",
    "\"\"\"\n",
    "\n",
    "answer = summarizer(ARTICLE, max_length=100, min_length=30, do_sample=False)\n",
    "\n",
    "print(\"Time spend\", np.round(time.time()-t0, 2), \"s\")"
   ]
  },
  {
   "cell_type": "code",
   "execution_count": 3,
   "id": "df895177",
   "metadata": {
    "ExecuteTime": {
     "end_time": "2022-07-15T14:23:39.322122Z",
     "start_time": "2022-07-15T14:23:39.308110Z"
    }
   },
   "outputs": [
    {
     "name": "stdout",
     "output_type": "stream",
     "text": [
      "Liana Barrientos has been married 10 times, with nine of her marriages occurring between 1999 and 2002. She is believed to still be married to four men, and at one time, she was married to eight men at once, prosecutors say. She pleaded not guilty at State Supreme Court in the Bronx.\n"
     ]
    }
   ],
   "source": [
    "print(answer[0][\"summary_text\"])"
   ]
  },
  {
   "cell_type": "code",
   "execution_count": 19,
   "id": "859944b2",
   "metadata": {
    "ExecuteTime": {
     "end_time": "2022-07-15T14:32:53.300537Z",
     "start_time": "2022-07-15T14:32:03.370073Z"
    }
   },
   "outputs": [
    {
     "data": {
      "text/html": [
       "<div>\n",
       "<style scoped>\n",
       "    .dataframe tbody tr th:only-of-type {\n",
       "        vertical-align: middle;\n",
       "    }\n",
       "\n",
       "    .dataframe tbody tr th {\n",
       "        vertical-align: top;\n",
       "    }\n",
       "\n",
       "    .dataframe thead th {\n",
       "        text-align: right;\n",
       "    }\n",
       "</style>\n",
       "<table border=\"1\" class=\"dataframe\">\n",
       "  <thead>\n",
       "    <tr style=\"text-align: right;\">\n",
       "      <th></th>\n",
       "      <th>NumCharacters</th>\n",
       "      <th>NumWords</th>\n",
       "      <th>MaxLength</th>\n",
       "      <th>Time_s</th>\n",
       "    </tr>\n",
       "  </thead>\n",
       "  <tbody>\n",
       "    <tr>\n",
       "      <th>0</th>\n",
       "      <td>120</td>\n",
       "      <td>21</td>\n",
       "      <td>30</td>\n",
       "      <td>4.650292</td>\n",
       "    </tr>\n",
       "    <tr>\n",
       "      <th>1</th>\n",
       "      <td>207</td>\n",
       "      <td>39</td>\n",
       "      <td>50</td>\n",
       "      <td>6.465548</td>\n",
       "    </tr>\n",
       "    <tr>\n",
       "      <th>2</th>\n",
       "      <td>284</td>\n",
       "      <td>52</td>\n",
       "      <td>70</td>\n",
       "      <td>7.724253</td>\n",
       "    </tr>\n",
       "    <tr>\n",
       "      <th>3</th>\n",
       "      <td>284</td>\n",
       "      <td>52</td>\n",
       "      <td>100</td>\n",
       "      <td>7.740286</td>\n",
       "    </tr>\n",
       "    <tr>\n",
       "      <th>4</th>\n",
       "      <td>284</td>\n",
       "      <td>52</td>\n",
       "      <td>120</td>\n",
       "      <td>7.831002</td>\n",
       "    </tr>\n",
       "    <tr>\n",
       "      <th>5</th>\n",
       "      <td>284</td>\n",
       "      <td>52</td>\n",
       "      <td>150</td>\n",
       "      <td>7.752768</td>\n",
       "    </tr>\n",
       "    <tr>\n",
       "      <th>6</th>\n",
       "      <td>284</td>\n",
       "      <td>52</td>\n",
       "      <td>200</td>\n",
       "      <td>7.757308</td>\n",
       "    </tr>\n",
       "  </tbody>\n",
       "</table>\n",
       "</div>"
      ],
      "text/plain": [
       "   NumCharacters  NumWords  MaxLength    Time_s\n",
       "0            120        21         30  4.650292\n",
       "1            207        39         50  6.465548\n",
       "2            284        52         70  7.724253\n",
       "3            284        52        100  7.740286\n",
       "4            284        52        120  7.831002\n",
       "5            284        52        150  7.752768\n",
       "6            284        52        200  7.757308"
      ]
     },
     "execution_count": 19,
     "metadata": {},
     "output_type": "execute_result"
    }
   ],
   "source": [
    "max_length_list = [30, 50, 70, 100, 120, 150, 200]\n",
    "\n",
    "result_list = []\n",
    "for max_len_th in max_length_list:\n",
    "    t0 = time.time()\n",
    "    answer = summarizer(ARTICLE, max_length=max_len_th, min_length=30, do_sample=False)\n",
    "    time_spend = time.time() - t0\n",
    "    result_list.append({\n",
    "        \"NumCharacters\": len(answer[0][\"summary_text\"]),\n",
    "        \"NumWords\": len(answer[0][\"summary_text\"].split()),\n",
    "        \"MaxLength\": max_len_th,\n",
    "        \"Time_s\": time_spend\n",
    "    })\n",
    "    \n",
    "df_result = pd.DataFrame(result_list)\n",
    "df_result"
   ]
  },
  {
   "cell_type": "code",
   "execution_count": null,
   "id": "e5a39ab3",
   "metadata": {},
   "outputs": [],
   "source": []
  },
  {
   "cell_type": "code",
   "execution_count": 21,
   "id": "4174a8c0",
   "metadata": {
    "ExecuteTime": {
     "end_time": "2022-07-15T14:33:13.826401Z",
     "start_time": "2022-07-15T14:33:13.627213Z"
    }
   },
   "outputs": [
    {
     "name": "stdout",
     "output_type": "stream",
     "text": [
      "Correlation value 0.6934660339210112\n",
      "P-value -\n",
      "Coefficients: \n",
      " [0.13932432] \n",
      "Intercept: \n",
      " 31.38378378378379\n",
      "R-square: 0.48\n"
     ]
    },
    {
     "data": {
      "image/png": "[encoded data removed]",
      "text/plain": [
       "<Figure size 864x360 with 1 Axes>"
      ]
     },
     "metadata": {
      "needs_background": "light"
     },
     "output_type": "display_data"
    },
    {
     "name": "stdout",
     "output_type": "stream",
     "text": [
      "Correlation value 0.6965654666559099\n",
      "P-value -\n",
      "Coefficients: \n",
      " [0.01403931] \n",
      "Intercept: \n",
      " 5.6875939021239414\n",
      "R-square: 0.49\n"
     ]
    },
    {
     "data": {
      "image/png": "[encoded data removed]",
      "text/plain": [
       "<Figure size 864x360 with 1 Axes>"
      ]
     },
     "metadata": {
      "needs_background": "light"
     },
     "output_type": "display_data"
    }
   ],
   "source": [
    "make_scatter_plot(df=df_result, x_feat=\"MaxLength\", x_name=\"MaxLength\", y_feat=\"NumWords\", y_name=\"NumWords\")\n",
    "\n",
    "make_scatter_plot(df=df_result, x_feat=\"MaxLength\", x_name=\"MaxLength\", y_feat=\"Time_s\", y_name=\"Time_s\")"
   ]
  },
  {
   "cell_type": "code",
   "execution_count": null,
   "id": "54800add",
   "metadata": {},
   "outputs": [],
   "source": []
  },
  {
   "cell_type": "code",
   "execution_count": 29,
   "id": "7e1858b7",
   "metadata": {
    "ExecuteTime": {
     "end_time": "2022-07-15T14:37:46.255008Z",
     "start_time": "2022-07-15T14:37:46.241463Z"
    }
   },
   "outputs": [],
   "source": [
    "def strip_accents(s):\n",
    "    return ''.join(c for c in unicodedata.normalize('NFD', s) if unicodedata.category(c) != 'Mn')\n",
    "\n",
    "def clean_text(text, subject_name, \n",
    "               tokenize_spanish=tokenize_spanish, \n",
    "               spanish_stopwords_th=spanish_stopwords_th, \n",
    "               spanish_stemmer=spanish_stemmer, \n",
    "               use_stemmer=True):\n",
    "    \n",
    "    text = text.lower()\n",
    "    text = text.replace('?', \"\").replace('¿', \"\").replace('!', \"\").replace('¡', \"\")\n",
    "    if subject_name:\n",
    "        text = text.replace(subject_name, \"\")\n",
    "    text = strip_accents(text)\n",
    "    \n",
    "    text_token_list = []\n",
    "    if use_stemmer:\n",
    "        for word in text.split():\n",
    "            token_text = tokenize_spanish.tokenize(word)\n",
    "            if len(token_text) > 0 and word not in spanish_stopwords_th:\n",
    "                text_token_list.append(spanish_stemmer.stem(token_text[0]))\n",
    "    else:\n",
    "        text_token_list.append(text)\n",
    "            \n",
    "    text = \" \".join(text_token_list)\n",
    "    \n",
    "    return text"
   ]
  },
  {
   "cell_type": "code",
   "execution_count": 30,
   "id": "e943a93a",
   "metadata": {
    "ExecuteTime": {
     "end_time": "2022-07-15T14:37:47.859074Z",
     "start_time": "2022-07-15T14:37:47.777576Z"
    }
   },
   "outputs": [
    {
     "name": "stdout",
     "output_type": "stream",
     "text": [
      "Number of conversations: 6\n"
     ]
    }
   ],
   "source": [
    "all_df_list = []\n",
    "for conv in os.listdir(\"../Conversations/\"):\n",
    "    excel_name = [file for file in os.listdir(\"../Conversations/\" + conv) if \".xlsx\" in file][0]\n",
    "    df_x = pd.read_excel(\"../Conversations/\" + conv + \"/\" + excel_name)\n",
    "    if df_x.shape[0] > 2:\n",
    "        all_df_list.append(df_x)\n",
    "            \n",
    "print(\"Number of conversations:\", len(all_df_list))"
   ]
  },
  {
   "cell_type": "code",
   "execution_count": 34,
   "id": "96ca188d",
   "metadata": {
    "ExecuteTime": {
     "end_time": "2022-07-15T14:41:19.396192Z",
     "start_time": "2022-07-15T14:41:19.377178Z"
    }
   },
   "outputs": [
    {
     "data": {
      "text/html": [
       "<div>\n",
       "<style scoped>\n",
       "    .dataframe tbody tr th:only-of-type {\n",
       "        vertical-align: middle;\n",
       "    }\n",
       "\n",
       "    .dataframe tbody tr th {\n",
       "        vertical-align: top;\n",
       "    }\n",
       "\n",
       "    .dataframe thead th {\n",
       "        text-align: right;\n",
       "    }\n",
       "</style>\n",
       "<table border=\"1\" class=\"dataframe\">\n",
       "  <thead>\n",
       "    <tr style=\"text-align: right;\">\n",
       "      <th></th>\n",
       "      <th>SubjectId</th>\n",
       "      <th>SubjectName</th>\n",
       "      <th>TimeInitStr</th>\n",
       "      <th>TimeEndStr</th>\n",
       "      <th>UnixTimestampInit</th>\n",
       "      <th>UnixTimestampEnd</th>\n",
       "      <th>Source</th>\n",
       "      <th>SpanishMessage</th>\n",
       "      <th>EnglishMessage</th>\n",
       "      <th>Mode</th>\n",
       "    </tr>\n",
       "  </thead>\n",
       "  <tbody>\n",
       "    <tr>\n",
       "      <th>0</th>\n",
       "      <td>JoseID7</td>\n",
       "      <td>Jose</td>\n",
       "      <td>2022-07-13 20:11:58.363894</td>\n",
       "      <td>2022-07-13 20:11:58.363894</td>\n",
       "      <td>1.657736e+09</td>\n",
       "      <td>1.657736e+09</td>\n",
       "      <td>Person</td>\n",
       "      <td>Como te llamas?</td>\n",
       "      <td>What's your name?</td>\n",
       "      <td>write</td>\n",
       "    </tr>\n",
       "    <tr>\n",
       "      <th>1</th>\n",
       "      <td>JoseID7</td>\n",
       "      <td>Jose</td>\n",
       "      <td>2022-07-13 20:11:58.802435</td>\n",
       "      <td>2022-07-13 20:12:02.154849</td>\n",
       "      <td>1.657736e+09</td>\n",
       "      <td>1.657736e+09</td>\n",
       "      <td>Bot</td>\n",
       "      <td>Mi nombre es Susan y soy un graduado universit...</td>\n",
       "      <td>My name is Susan, and I am a college graduate...</td>\n",
       "      <td>write</td>\n",
       "    </tr>\n",
       "    <tr>\n",
       "      <th>2</th>\n",
       "      <td>JoseID7</td>\n",
       "      <td>Jose</td>\n",
       "      <td>2022-07-13 20:12:07.859059</td>\n",
       "      <td>2022-07-13 20:12:17.919635</td>\n",
       "      <td>1.657736e+09</td>\n",
       "      <td>1.657736e+09</td>\n",
       "      <td>Person</td>\n",
       "      <td>Hola Susan, que tal estas ?</td>\n",
       "      <td>Hello Susan, how are you?</td>\n",
       "      <td>write</td>\n",
       "    </tr>\n",
       "    <tr>\n",
       "      <th>3</th>\n",
       "      <td>JoseID7</td>\n",
       "      <td>Jose</td>\n",
       "      <td>2022-07-13 20:12:19.274752</td>\n",
       "      <td>2022-07-13 20:12:20.753808</td>\n",
       "      <td>1.657736e+09</td>\n",
       "      <td>1.657736e+09</td>\n",
       "      <td>Bot</td>\n",
       "      <td>Hola, estoy bien.¿Como estas?Estoy bien.</td>\n",
       "      <td>Hi, I am doing well. How are you doing? I am ...</td>\n",
       "      <td>write</td>\n",
       "    </tr>\n",
       "    <tr>\n",
       "      <th>4</th>\n",
       "      <td>JoseID7</td>\n",
       "      <td>Jose</td>\n",
       "      <td>2022-07-13 20:12:26.65794</td>\n",
       "      <td>2022-07-13 20:12:36.530307</td>\n",
       "      <td>1.657736e+09</td>\n",
       "      <td>1.657736e+09</td>\n",
       "      <td>Person</td>\n",
       "      <td>Yo estoy muy bien, mi nombre es Jose</td>\n",
       "      <td>I'm very good, my name is Jose</td>\n",
       "      <td>write</td>\n",
       "    </tr>\n",
       "    <tr>\n",
       "      <th>5</th>\n",
       "      <td>JoseID7</td>\n",
       "      <td>Jose</td>\n",
       "      <td>2022-07-13 20:12:37.362226</td>\n",
       "      <td>2022-07-13 20:12:39.616026</td>\n",
       "      <td>1.657736e+09</td>\n",
       "      <td>1.657736e+09</td>\n",
       "      <td>Bot</td>\n",
       "      <td>Hola José, gusto en conocerte.¿A qué te dedicas?</td>\n",
       "      <td>Hi Jose, nice to meet you. What do you do for...</td>\n",
       "      <td>write</td>\n",
       "    </tr>\n",
       "    <tr>\n",
       "      <th>6</th>\n",
       "      <td>JoseID7</td>\n",
       "      <td>Jose</td>\n",
       "      <td>2022-07-13 20:12:44.544372</td>\n",
       "      <td>2022-07-13 20:12:52.404147</td>\n",
       "      <td>1.657736e+09</td>\n",
       "      <td>1.657736e+09</td>\n",
       "      <td>Person</td>\n",
       "      <td>Pues soy analista de datos y tu ?</td>\n",
       "      <td>Well, am I data analyst and you?</td>\n",
       "      <td>write</td>\n",
       "    </tr>\n",
       "    <tr>\n",
       "      <th>7</th>\n",
       "      <td>JoseID7</td>\n",
       "      <td>Jose</td>\n",
       "      <td>2022-07-13 20:12:53.122663</td>\n",
       "      <td>2022-07-13 20:12:55.681505</td>\n",
       "      <td>1.657736e+09</td>\n",
       "      <td>1.657736e+09</td>\n",
       "      <td>Bot</td>\n",
       "      <td>No estoy seguro de a qué te refieres con eso, ...</td>\n",
       "      <td>I'm not sure what you mean by that, but I wor...</td>\n",
       "      <td>write</td>\n",
       "    </tr>\n",
       "    <tr>\n",
       "      <th>8</th>\n",
       "      <td>JoseID7</td>\n",
       "      <td>Jose</td>\n",
       "      <td>2022-07-13 20:13:00.870875</td>\n",
       "      <td>2022-07-13 20:13:27.223804</td>\n",
       "      <td>1.657736e+09</td>\n",
       "      <td>1.657736e+09</td>\n",
       "      <td>Person</td>\n",
       "      <td>Bueno me voy, adios</td>\n",
       "      <td>Well, gotta go, bye</td>\n",
       "      <td>write</td>\n",
       "    </tr>\n",
       "    <tr>\n",
       "      <th>9</th>\n",
       "      <td>JoseID7</td>\n",
       "      <td>Jose</td>\n",
       "      <td>2022-07-13 20:13:28.125484</td>\n",
       "      <td>2022-07-13 20:13:30.38480</td>\n",
       "      <td>1.657736e+09</td>\n",
       "      <td>1.657736e+09</td>\n",
       "      <td>Bot</td>\n",
       "      <td>¡Adiós, espero que tengas un gran día?!</td>\n",
       "      <td>Goodbye, I hope you have a great day!?!</td>\n",
       "      <td>write</td>\n",
       "    </tr>\n",
       "    <tr>\n",
       "      <th>10</th>\n",
       "      <td>JoseID7</td>\n",
       "      <td>Jose</td>\n",
       "      <td>2022-07-13 20:13:33.600055</td>\n",
       "      <td>2022-07-13 20:13:43.123050</td>\n",
       "      <td>1.657736e+09</td>\n",
       "      <td>1.657736e+09</td>\n",
       "      <td>Person</td>\n",
       "      <td>Igualmente</td>\n",
       "      <td>Equally</td>\n",
       "      <td>write</td>\n",
       "    </tr>\n",
       "    <tr>\n",
       "      <th>11</th>\n",
       "      <td>JoseID7</td>\n",
       "      <td>Jose</td>\n",
       "      <td>2022-07-13 20:13:43.286724</td>\n",
       "      <td>2022-07-13 20:13:46.66720</td>\n",
       "      <td>1.657736e+09</td>\n",
       "      <td>1.657736e+09</td>\n",
       "      <td>Bot</td>\n",
       "      <td>No sé sobre ti, pero creo que soy más igual qu...</td>\n",
       "      <td>I don't know about you, but I think I'm more ...</td>\n",
       "      <td>write</td>\n",
       "    </tr>\n",
       "  </tbody>\n",
       "</table>\n",
       "</div>"
      ],
      "text/plain": [
       "   SubjectId SubjectName                 TimeInitStr  \\\n",
       "0    JoseID7        Jose  2022-07-13 20:11:58.363894   \n",
       "1    JoseID7        Jose  2022-07-13 20:11:58.802435   \n",
       "2    JoseID7        Jose  2022-07-13 20:12:07.859059   \n",
       "3    JoseID7        Jose  2022-07-13 20:12:19.274752   \n",
       "4    JoseID7        Jose   2022-07-13 20:12:26.65794   \n",
       "5    JoseID7        Jose  2022-07-13 20:12:37.362226   \n",
       "6    JoseID7        Jose  2022-07-13 20:12:44.544372   \n",
       "7    JoseID7        Jose  2022-07-13 20:12:53.122663   \n",
       "8    JoseID7        Jose  2022-07-13 20:13:00.870875   \n",
       "9    JoseID7        Jose  2022-07-13 20:13:28.125484   \n",
       "10   JoseID7        Jose  2022-07-13 20:13:33.600055   \n",
       "11   JoseID7        Jose  2022-07-13 20:13:43.286724   \n",
       "\n",
       "                    TimeEndStr  UnixTimestampInit  UnixTimestampEnd  Source  \\\n",
       "0   2022-07-13 20:11:58.363894       1.657736e+09      1.657736e+09  Person   \n",
       "1   2022-07-13 20:12:02.154849       1.657736e+09      1.657736e+09     Bot   \n",
       "2   2022-07-13 20:12:17.919635       1.657736e+09      1.657736e+09  Person   \n",
       "3   2022-07-13 20:12:20.753808       1.657736e+09      1.657736e+09     Bot   \n",
       "4   2022-07-13 20:12:36.530307       1.657736e+09      1.657736e+09  Person   \n",
       "5   2022-07-13 20:12:39.616026       1.657736e+09      1.657736e+09     Bot   \n",
       "6   2022-07-13 20:12:52.404147       1.657736e+09      1.657736e+09  Person   \n",
       "7   2022-07-13 20:12:55.681505       1.657736e+09      1.657736e+09     Bot   \n",
       "8   2022-07-13 20:13:27.223804       1.657736e+09      1.657736e+09  Person   \n",
       "9    2022-07-13 20:13:30.38480       1.657736e+09      1.657736e+09     Bot   \n",
       "10  2022-07-13 20:13:43.123050       1.657736e+09      1.657736e+09  Person   \n",
       "11   2022-07-13 20:13:46.66720       1.657736e+09      1.657736e+09     Bot   \n",
       "\n",
       "                                       SpanishMessage  \\\n",
       "0                                     Como te llamas?   \n",
       "1   Mi nombre es Susan y soy un graduado universit...   \n",
       "2                         Hola Susan, que tal estas ?   \n",
       "3            Hola, estoy bien.¿Como estas?Estoy bien.   \n",
       "4                Yo estoy muy bien, mi nombre es Jose   \n",
       "5    Hola José, gusto en conocerte.¿A qué te dedicas?   \n",
       "6                   Pues soy analista de datos y tu ?   \n",
       "7   No estoy seguro de a qué te refieres con eso, ...   \n",
       "8                                 Bueno me voy, adios   \n",
       "9             ¡Adiós, espero que tengas un gran día?!   \n",
       "10                                         Igualmente   \n",
       "11  No sé sobre ti, pero creo que soy más igual qu...   \n",
       "\n",
       "                                       EnglishMessage   Mode  \n",
       "0                                   What's your name?  write  \n",
       "1    My name is Susan, and I am a college graduate...  write  \n",
       "2                           Hello Susan, how are you?  write  \n",
       "3    Hi, I am doing well. How are you doing? I am ...  write  \n",
       "4                      I'm very good, my name is Jose  write  \n",
       "5    Hi Jose, nice to meet you. What do you do for...  write  \n",
       "6                    Well, am I data analyst and you?  write  \n",
       "7    I'm not sure what you mean by that, but I wor...  write  \n",
       "8                                 Well, gotta go, bye  write  \n",
       "9             Goodbye, I hope you have a great day!?!  write  \n",
       "10                                            Equally  write  \n",
       "11   I don't know about you, but I think I'm more ...  write  "
      ]
     },
     "execution_count": 34,
     "metadata": {},
     "output_type": "execute_result"
    }
   ],
   "source": [
    "df_x"
   ]
  },
  {
   "cell_type": "code",
   "execution_count": null,
   "id": "d7f479fe",
   "metadata": {},
   "outputs": [],
   "source": []
  },
  {
   "cell_type": "code",
   "execution_count": null,
   "id": "54eeb478",
   "metadata": {},
   "outputs": [],
   "source": []
  }
 ],
 "metadata": {
  "kernelspec": {
   "display_name": "Python 3 (ipykernel)",
   "language": "python",
   "name": "python3"
  },
  "language_info": {
   "codemirror_mode": {
    "name": "ipython",
    "version": 3
   },
   "file_extension": ".py",
   "mimetype": "text/x-python",
   "name": "python",
   "nbconvert_exporter": "python",
   "pygments_lexer": "ipython3",
   "version": "3.7.8"
  },
  "latex_envs": {
   "LaTeX_envs_menu_present": true,
   "autoclose": false,
   "autocomplete": true,
   "bibliofile": "biblio.bib",
   "cite_by": "apalike",
   "current_citInitial": 1,
   "eqLabelWithNumbers": true,
   "eqNumInitial": 1,
   "hotkeys": {
    "equation": "Ctrl-E",
    "itemize": "Ctrl-I"
   },
   "labels_anchors": false,
   "latex_user_defs": false,
   "report_style_numbering": false,
   "user_envs_cfg": false
  }
 },
 "nbformat": 4,
 "nbformat_minor": 5
}
