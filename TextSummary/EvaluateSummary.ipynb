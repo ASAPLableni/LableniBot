{
 "cells": [
  {
   "cell_type": "code",
   "execution_count": 1,
   "id": "ec0969ec",
   "metadata": {
    "ExecuteTime": {
     "end_time": "2022-07-18T18:14:25.209481Z",
     "start_time": "2022-07-18T18:14:22.972842Z"
    }
   },
   "outputs": [
    {
     "name": "stderr",
     "output_type": "stream",
     "text": [
      "[nltk_data] Downloading package punkt to\n",
      "[nltk_data]     C:\\Users\\Jose\\AppData\\Roaming\\nltk_data...\n",
      "[nltk_data]   Package punkt is already up-to-date!\n",
      "[nltk_data] Error loading tokenizers/punkt/spanish.pickle: Package\n",
      "[nltk_data]     'tokenizers/punkt/spanish.pickle' not found in index\n",
      "[nltk_data] Downloading package stopwords to\n",
      "[nltk_data]     C:\\Users\\Jose\\AppData\\Roaming\\nltk_data...\n",
      "[nltk_data]   Package stopwords is already up-to-date!\n"
     ]
    },
    {
     "data": {
      "text/plain": [
       "True"
      ]
     },
     "execution_count": 1,
     "metadata": {},
     "output_type": "execute_result"
    }
   ],
   "source": [
    "import time\n",
    "import numpy as np\n",
    "import pandas as pd\n",
    "import matplotlib.pyplot as plt\n",
    "import os\n",
    "\n",
    "import torch\n",
    "\n",
    "from transformers import pipeline\n",
    "from transformers import BartTokenizer, BartForConditionalGeneration\n",
    "\n",
    "import scipy.stats as stats\n",
    "\n",
    "from scipy.spatial.distance import pdist, squareform\n",
    "from sklearn import linear_model\n",
    "from sklearn.metrics import r2_score\n",
    "\n",
    "import unicodedata\n",
    "\n",
    "# Text analysis\n",
    "import nltk\n",
    "from nltk.tokenize import sent_tokenize, word_tokenize\n",
    "from nltk.stem.snowball import SpanishStemmer\n",
    "from nltk.corpus import stopwords\n",
    "nltk.download('punkt')\n",
    "nltk.download('tokenizers/punkt/spanish.pickle')\n",
    "nltk.download('stopwords')"
   ]
  },
  {
   "cell_type": "code",
   "execution_count": 2,
   "id": "a4aa9964",
   "metadata": {
    "ExecuteTime": {
     "end_time": "2022-07-18T18:14:25.224805Z",
     "start_time": "2022-07-18T18:14:25.211484Z"
    }
   },
   "outputs": [],
   "source": [
    "tokenize_spanish = nltk.data.load('tokenizers/punkt/spanish.pickle')\n",
    "spanish_stemmer = SpanishStemmer()\n",
    "spanish_stopwords_th = stopwords.words('spanish')"
   ]
  },
  {
   "cell_type": "code",
   "execution_count": 3,
   "id": "1726390c",
   "metadata": {
    "ExecuteTime": {
     "end_time": "2022-07-18T18:14:25.240780Z",
     "start_time": "2022-07-18T18:14:25.225807Z"
    }
   },
   "outputs": [],
   "source": [
    "def get_p_string(p):\n",
    "    if p >= 0.05:\n",
    "        return \"-\"\n",
    "    elif 0.01 <= p < 0.05:\n",
    "        return \"*\"\n",
    "    elif 0.001 <= p < 0.01:\n",
    "        return \"**\"\n",
    "    else:\n",
    "        return \"***\"\n",
    "\n",
    "def make_scatter_plot(df, x_feat, x_name, y_feat, y_name, alpha_th=0.6, fontsize_th=14, lr_mode=True):\n",
    "    data_idx = df[[x_feat, y_feat]].dropna().index.values\n",
    "\n",
    "    corr_v, corr_pvalue = stats.pearsonr(df.loc[data_idx, x_feat].values, df.loc[data_idx, y_feat].values)\n",
    "    print(\"Correlation value\", corr_v)\n",
    "    print(\"P-value\", get_p_string(corr_pvalue))\n",
    "\n",
    "    plt.figure(figsize=(12, 5))\n",
    "\n",
    "    if lr_mode:\n",
    "        lr = linear_model.LinearRegression(n_jobs=-1)\n",
    "        lr.fit(df.loc[data_idx, x_feat].values.reshape(-1, 1), df.loc[data_idx, y_feat])\n",
    "        y_pred = lr.predict(df.loc[data_idx, x_feat].values.reshape(-1, 1))\n",
    "\n",
    "        print(\"Coefficients: \\n\", lr.coef_, \"\\nIntercept: \\n\", lr.intercept_)\n",
    "        print(\"R-square: %.2f\" % r2_score(df.loc[data_idx, y_feat], y_pred))\n",
    "\n",
    "        plt.plot(df.loc[data_idx, x_feat], y_pred, c=\"red\", label=\"Linear Regression\")\n",
    "        plt.legend(fontsize=12)\n",
    "        delta_int = np.abs(np.nanmax(df[y_feat]) - np.nanmin(df[y_feat]))\n",
    "        plt.ylim(np.nanmin(df[y_feat]) - 0.1 * delta_int, np.nanmax(df[y_feat]) + 0.1 * delta_int)\n",
    "\n",
    "    plt.scatter(df[x_feat], df[y_feat], alpha=0.6)\n",
    "\n",
    "    plt.xlabel(x_name, fontsize=14)\n",
    "    plt.ylabel(y_name, fontsize=14)\n",
    "\n",
    "    plt.show()\n",
    "    \n",
    "def stat_print(list_x, name, precision=4, quantile=False):\n",
    "    if quantile:\n",
    "        print(\n",
    "            \"Mean \" + name + \" =\", np.round(np.nanmean(list_x), precision),\n",
    "            \"+/-\", np.round(np.nanstd(list_x), precision),\n",
    "            \"; Median =\", np.round(np.nanmedian(list_x), precision),\n",
    "            \"; Min. = \", np.round(np.nanmin(list_x), precision),\n",
    "            \"; Max. = \", np.round(np.nanmax(list_x), precision),\n",
    "            \"\\n Quantile 1%\", np.round(np.nanquantile(list_x, 0.01), precision),\n",
    "            \"Quantile 99%\", np.round(np.nanquantile(list_x, 0.99), precision)\n",
    "        )\n",
    "    else:\n",
    "        print(\n",
    "            \"Mean \" + name + \" =\", np.round(np.nanmean(list_x), precision),\n",
    "            \"+/-\", np.round(np.nanstd(list_x), precision),\n",
    "            \"; Median =\", np.round(np.nanmedian(list_x), precision),\n",
    "            \"; Min. = \", np.round(np.nanmin(list_x), precision),\n",
    "            \"; Max. = \", np.round(np.nanmax(list_x), precision)\n",
    "        )"
   ]
  },
  {
   "cell_type": "code",
   "execution_count": null,
   "id": "b771f29b",
   "metadata": {
    "ExecuteTime": {
     "end_time": "2022-07-18T16:50:23.290334Z",
     "start_time": "2022-07-18T16:50:23.274080Z"
    }
   },
   "outputs": [],
   "source": []
  },
  {
   "cell_type": "code",
   "execution_count": 4,
   "id": "525b3b4a",
   "metadata": {
    "ExecuteTime": {
     "end_time": "2022-07-18T18:14:42.007533Z",
     "start_time": "2022-07-18T18:14:25.242782Z"
    }
   },
   "outputs": [
    {
     "name": "stdout",
     "output_type": "stream",
     "text": [
      "Time spend 16.75 s\n"
     ]
    }
   ],
   "source": [
    "# https://huggingface.co/docs/transformers/model_doc/bart#transformers.BartForConditionalGeneration\n",
    "\n",
    "t0 = time.time()\n",
    "\n",
    "summarizer = pipeline(\"summarization\", model=\"facebook/bart-large-cnn\")\n",
    "# summarizer.model.to(\"cuda\")\n",
    "\n",
    "ARTICLE = \"\"\" \n",
    "New York (CNN)When Liana Barrientos was 23 years old, she got married in Westchester County, New York.\n",
    "A year later, she got married again in Westchester County, but to a different man and without divorcing her first husband.\n",
    "Only 18 days after that marriage, she got hitched yet again. \n",
    "Then, Barrientos declared \"I do\" five more times, sometimes only within two weeks of each other.\n",
    "In 2010, she married once more, this time in the Bronx. \n",
    "In an application for a marriage license, she stated it was her \"first and only\" marriage.\n",
    "Barrientos, now 39, is facing two criminal counts of \"offering a false instrument for filing in the first degree,\" \n",
    "referring to her false statements on the\n",
    "2010 marriage license application, according to court documents.\n",
    "Prosecutors said the marriages were part of an immigration scam.\n",
    "On Friday, she pleaded not guilty at State Supreme Court in the Bronx, according to her attorney, \n",
    "Christopher Wright, who declined to comment further.\n",
    "After leaving court, \n",
    "Barrientos was arrested and charged with theft of service and criminal trespass for allegedly sneaking \n",
    "into the New York subway through an emergency exit, said Detective\n",
    "Annette Markowski, a police spokeswoman. \n",
    "In total, Barrientos has been married 10 times, with nine of her marriages occurring between 1999 and 2002.\n",
    "All occurred either in Westchester County, Long Island, New Jersey or the Bronx. \n",
    "She is believed to still be married to four men, and at one time, she was married to eight men at once, prosecutors say.\n",
    "Prosecutors said the immigration scam involved some of her husbands, \n",
    "who filed for permanent residence status shortly after the marriages.\n",
    "Any divorces happened only after such filings were approved. It was unclear whether any of the men will be prosecuted.\n",
    "The case was referred to the Bronx District Attorney\\'s Office by \n",
    "Immigration and Customs Enforcement and the Department of Homeland Security\\'s\n",
    "Investigation Division. \n",
    "Seven of the men are from so-called \"red-flagged\" countries, including Egypt, Turkey, Georgia, Pakistan and Mali.\n",
    "Her eighth husband, Rashid Rajput, was deported in 2006 to his native Pakistan after an investigation \n",
    "by the Joint Terrorism Task Force.\n",
    "If convicted, Barrientos faces up to four years in prison.  Her next court appearance is scheduled for May 18.\n",
    "\"\"\"\n",
    "\n",
    "answer = summarizer(ARTICLE, max_length=100, min_length=30, do_sample=False)\n",
    "\n",
    "print(\"Time spend\", np.round(time.time()-t0, 2), \"s\")"
   ]
  },
  {
   "cell_type": "code",
   "execution_count": 5,
   "id": "df895177",
   "metadata": {
    "ExecuteTime": {
     "end_time": "2022-07-18T18:14:42.023048Z",
     "start_time": "2022-07-18T18:14:42.008534Z"
    }
   },
   "outputs": [
    {
     "name": "stdout",
     "output_type": "stream",
     "text": [
      "Liana Barrientos has been married 10 times, with nine of her marriages occurring between 1999 and 2002. She is believed to still be married to four men, and at one time, she was married to eight men at once, prosecutors say. She pleaded not guilty at State Supreme Court in the Bronx.\n"
     ]
    }
   ],
   "source": [
    "print(answer[0][\"summary_text\"])"
   ]
  },
  {
   "cell_type": "code",
   "execution_count": 6,
   "id": "859944b2",
   "metadata": {
    "ExecuteTime": {
     "end_time": "2022-07-18T18:15:31.673594Z",
     "start_time": "2022-07-18T18:14:42.024049Z"
    }
   },
   "outputs": [
    {
     "data": {
      "text/html": [
       "<div>\n",
       "<style scoped>\n",
       "    .dataframe tbody tr th:only-of-type {\n",
       "        vertical-align: middle;\n",
       "    }\n",
       "\n",
       "    .dataframe tbody tr th {\n",
       "        vertical-align: top;\n",
       "    }\n",
       "\n",
       "    .dataframe thead th {\n",
       "        text-align: right;\n",
       "    }\n",
       "</style>\n",
       "<table border=\"1\" class=\"dataframe\">\n",
       "  <thead>\n",
       "    <tr style=\"text-align: right;\">\n",
       "      <th></th>\n",
       "      <th>NumCharacters</th>\n",
       "      <th>NumWords</th>\n",
       "      <th>MaxLength</th>\n",
       "      <th>Time_s</th>\n",
       "    </tr>\n",
       "  </thead>\n",
       "  <tbody>\n",
       "    <tr>\n",
       "      <th>0</th>\n",
       "      <td>120</td>\n",
       "      <td>21</td>\n",
       "      <td>30</td>\n",
       "      <td>4.596202</td>\n",
       "    </tr>\n",
       "    <tr>\n",
       "      <th>1</th>\n",
       "      <td>207</td>\n",
       "      <td>39</td>\n",
       "      <td>50</td>\n",
       "      <td>6.299321</td>\n",
       "    </tr>\n",
       "    <tr>\n",
       "      <th>2</th>\n",
       "      <td>284</td>\n",
       "      <td>52</td>\n",
       "      <td>70</td>\n",
       "      <td>7.803061</td>\n",
       "    </tr>\n",
       "    <tr>\n",
       "      <th>3</th>\n",
       "      <td>284</td>\n",
       "      <td>52</td>\n",
       "      <td>100</td>\n",
       "      <td>7.776578</td>\n",
       "    </tr>\n",
       "    <tr>\n",
       "      <th>4</th>\n",
       "      <td>284</td>\n",
       "      <td>52</td>\n",
       "      <td>120</td>\n",
       "      <td>7.729063</td>\n",
       "    </tr>\n",
       "    <tr>\n",
       "      <th>5</th>\n",
       "      <td>284</td>\n",
       "      <td>52</td>\n",
       "      <td>150</td>\n",
       "      <td>7.736183</td>\n",
       "    </tr>\n",
       "    <tr>\n",
       "      <th>6</th>\n",
       "      <td>284</td>\n",
       "      <td>52</td>\n",
       "      <td>200</td>\n",
       "      <td>7.691121</td>\n",
       "    </tr>\n",
       "  </tbody>\n",
       "</table>\n",
       "</div>"
      ],
      "text/plain": [
       "   NumCharacters  NumWords  MaxLength    Time_s\n",
       "0            120        21         30  4.596202\n",
       "1            207        39         50  6.299321\n",
       "2            284        52         70  7.803061\n",
       "3            284        52        100  7.776578\n",
       "4            284        52        120  7.729063\n",
       "5            284        52        150  7.736183\n",
       "6            284        52        200  7.691121"
      ]
     },
     "execution_count": 6,
     "metadata": {},
     "output_type": "execute_result"
    }
   ],
   "source": [
    "max_length_list = [30, 50, 70, 100, 120, 150, 200]\n",
    "\n",
    "result_list = []\n",
    "for max_len_th in max_length_list:\n",
    "    t0 = time.time()\n",
    "    answer = summarizer(ARTICLE, max_length=max_len_th, min_length=30, \n",
    "                        do_sample=False)\n",
    "    time_spend = time.time() - t0\n",
    "    result_list.append({\n",
    "        \"NumCharacters\": len(answer[0][\"summary_text\"]),\n",
    "        \"NumWords\": len(answer[0][\"summary_text\"].split()),\n",
    "        \"MaxLength\": max_len_th,\n",
    "        \"Time_s\": time_spend\n",
    "    })\n",
    "    \n",
    "df_result = pd.DataFrame(result_list)\n",
    "df_result"
   ]
  },
  {
   "cell_type": "code",
   "execution_count": null,
   "id": "e5a39ab3",
   "metadata": {},
   "outputs": [],
   "source": []
  },
  {
   "cell_type": "code",
   "execution_count": 7,
   "id": "4174a8c0",
   "metadata": {
    "ExecuteTime": {
     "end_time": "2022-07-18T18:15:31.913335Z",
     "start_time": "2022-07-18T18:15:31.674596Z"
    }
   },
   "outputs": [
    {
     "name": "stdout",
     "output_type": "stream",
     "text": [
      "Correlation value 0.6934660339210112\n",
      "P-value -\n",
      "Coefficients: \n",
      " [0.13932432] \n",
      "Intercept: \n",
      " 31.38378378378379\n",
      "R-square: 0.48\n"
     ]
    },
    {
     "data": {
      "image/png": "[encoded data removed]",
      "text/plain": [
       "<Figure size 864x360 with 1 Axes>"
      ]
     },
     "metadata": {
      "needs_background": "light"
     },
     "output_type": "display_data"
    },
    {
     "name": "stdout",
     "output_type": "stream",
     "text": [
      "Correlation value 0.6825001439158869\n",
      "P-value -\n",
      "Coefficients: \n",
      " [0.01409015] \n",
      "Intercept: \n",
      " 5.6409455209165005\n",
      "R-square: 0.47\n"
     ]
    },
    {
     "data": {
      "image/png": "[encoded data removed]",
      "text/plain": [
       "<Figure size 864x360 with 1 Axes>"
      ]
     },
     "metadata": {
      "needs_background": "light"
     },
     "output_type": "display_data"
    }
   ],
   "source": [
    "make_scatter_plot(df=df_result, x_feat=\"MaxLength\", x_name=\"MaxLength\", y_feat=\"NumWords\", y_name=\"NumWords\")\n",
    "\n",
    "make_scatter_plot(df=df_result, x_feat=\"MaxLength\", x_name=\"MaxLength\", y_feat=\"Time_s\", y_name=\"Time_s\")"
   ]
  },
  {
   "cell_type": "code",
   "execution_count": null,
   "id": "54800add",
   "metadata": {},
   "outputs": [],
   "source": []
  },
  {
   "cell_type": "code",
   "execution_count": 8,
   "id": "7e1858b7",
   "metadata": {
    "ExecuteTime": {
     "end_time": "2022-07-18T18:15:31.928513Z",
     "start_time": "2022-07-18T18:15:31.914337Z"
    }
   },
   "outputs": [],
   "source": [
    "def strip_accents(s):\n",
    "    return ''.join(c for c in unicodedata.normalize('NFD', s) if unicodedata.category(c) != 'Mn')\n",
    "\n",
    "def clean_text(text, subject_name, \n",
    "               tokenize_spanish=tokenize_spanish, \n",
    "               spanish_stopwords_th=spanish_stopwords_th, \n",
    "               spanish_stemmer=spanish_stemmer, \n",
    "               use_stemmer=True):\n",
    "    \n",
    "    text = text.lower()\n",
    "    text = text.replace('?', \"\").replace('¿', \"\").replace('!', \"\").replace('¡', \"\")\n",
    "    if subject_name:\n",
    "        text = text.replace(subject_name, \"\")\n",
    "    text = strip_accents(text)\n",
    "    \n",
    "    text_token_list = []\n",
    "    if use_stemmer:\n",
    "        for word in text.split():\n",
    "            token_text = tokenize_spanish.tokenize(word)\n",
    "            if len(token_text) > 0 and word not in spanish_stopwords_th:\n",
    "                text_token_list.append(spanish_stemmer.stem(token_text[0]))\n",
    "    else:\n",
    "        text_token_list.append(text)\n",
    "            \n",
    "    text = \" \".join(text_token_list)\n",
    "    \n",
    "    return text"
   ]
  },
  {
   "cell_type": "code",
   "execution_count": 9,
   "id": "e943a93a",
   "metadata": {
    "ExecuteTime": {
     "end_time": "2022-07-18T18:15:32.184089Z",
     "start_time": "2022-07-18T18:15:31.929859Z"
    }
   },
   "outputs": [
    {
     "name": "stdout",
     "output_type": "stream",
     "text": [
      "Number of conversations: 6\n"
     ]
    }
   ],
   "source": [
    "all_df_list = []\n",
    "for conv in os.listdir(\"../Conversations/\"):\n",
    "    excel_name = [file for file in os.listdir(\"../Conversations/\" + conv) if \".xlsx\" in file][0]\n",
    "    df_x = pd.read_excel(\"../Conversations/\" + conv + \"/\" + excel_name)\n",
    "    if df_x.shape[0] > 2:\n",
    "        all_df_list.append(df_x)\n",
    "            \n",
    "print(\"Number of conversations:\", len(all_df_list))"
   ]
  },
  {
   "cell_type": "code",
   "execution_count": 10,
   "id": "96ca188d",
   "metadata": {
    "ExecuteTime": {
     "end_time": "2022-07-18T18:15:41.027596Z",
     "start_time": "2022-07-18T18:15:32.186091Z"
    }
   },
   "outputs": [],
   "source": [
    "summarizer = pipeline(\"summarization\", model=\"facebook/bart-large-cnn\")"
   ]
  },
  {
   "cell_type": "code",
   "execution_count": 11,
   "id": "4db505e1",
   "metadata": {
    "ExecuteTime": {
     "end_time": "2022-07-18T18:22:41.359397Z",
     "start_time": "2022-07-18T18:15:41.028599Z"
    }
   },
   "outputs": [
    {
     "name": "stdout",
     "output_type": "stream",
     "text": [
      "Conversation id 0 sentence id 23\r"
     ]
    },
    {
     "name": "stderr",
     "output_type": "stream",
     "text": [
      "Your max_length is set to 100, but you input_length is only 97. You might consider decreasing max_length manually, e.g. summarizer('...', max_length=48)\n"
     ]
    },
    {
     "name": "stdout",
     "output_type": "stream",
     "text": [
      "Conversation id 1 sentence id 33\r"
     ]
    },
    {
     "name": "stderr",
     "output_type": "stream",
     "text": [
      "Your max_length is set to 100, but you input_length is only 96. You might consider decreasing max_length manually, e.g. summarizer('...', max_length=48)\n"
     ]
    },
    {
     "name": "stdout",
     "output_type": "stream",
     "text": [
      "Conversation id 2 sentence id 41\r"
     ]
    },
    {
     "name": "stderr",
     "output_type": "stream",
     "text": [
      "Your max_length is set to 100, but you input_length is only 93. You might consider decreasing max_length manually, e.g. summarizer('...', max_length=46)\n"
     ]
    },
    {
     "name": "stdout",
     "output_type": "stream",
     "text": [
      "Conversation id 4 sentence id 9\r"
     ]
    },
    {
     "name": "stderr",
     "output_type": "stream",
     "text": [
      "Your max_length is set to 100, but you input_length is only 88. You might consider decreasing max_length manually, e.g. summarizer('...', max_length=44)\n"
     ]
    },
    {
     "name": "stdout",
     "output_type": "stream",
     "text": [
      "Conversation id 5 sentence id 6\r"
     ]
    },
    {
     "name": "stderr",
     "output_type": "stream",
     "text": [
      "Your max_length is set to 100, but you input_length is only 99. You might consider decreasing max_length manually, e.g. summarizer('...', max_length=49)\n"
     ]
    },
    {
     "name": "stdout",
     "output_type": "stream",
     "text": [
      "Conversation id 5 sentence id 11\r"
     ]
    }
   ],
   "source": [
    "summary_conv_list = []\n",
    "for i_text, df_text in enumerate(all_df_list):\n",
    "\n",
    "    all_text_paired = list(zip(df_text[\"Source\"].values, df_text[\"EnglishMessage\"].values))\n",
    "\n",
    "    for i_tt, text_tuple in enumerate(all_text_paired):\n",
    "        text_list = [\": \".join(text) for text in all_text_paired[:i_tt]]\n",
    "        whole_text = \" \".join(text_list)\n",
    "        \n",
    "        if len(whole_text.split()) > 50:\n",
    "            \n",
    "            print(\"Conversation id\", i_text, \"sentence id\", i_tt, end=\"\\r\")\n",
    "            \n",
    "            t0 = time.time()\n",
    "            answer = summarizer(whole_text, max_length=100, min_length=10)\n",
    "            elapsed_time = time.time() - t0\n",
    "\n",
    "            summary_conv_list.append({\n",
    "                \"ConversationId\": i_text,\n",
    "                \"InitialText\": whole_text,\n",
    "                \"NumWordsOriginalText\": len(whole_text.split()),\n",
    "                \"SummaryText\": answer[0][\"summary_text\"],\n",
    "                \"NumWordsSummary\": len(answer[0][\"summary_text\"].split()),\n",
    "                \"Time_s\": elapsed_time,\n",
    "            })\n",
    "    "
   ]
  },
  {
   "cell_type": "code",
   "execution_count": 12,
   "id": "c7bfb05f",
   "metadata": {
    "ExecuteTime": {
     "end_time": "2022-07-18T18:22:41.391426Z",
     "start_time": "2022-07-18T18:22:41.360398Z"
    }
   },
   "outputs": [
    {
     "data": {
      "text/html": [
       "<div>\n",
       "<style scoped>\n",
       "    .dataframe tbody tr th:only-of-type {\n",
       "        vertical-align: middle;\n",
       "    }\n",
       "\n",
       "    .dataframe tbody tr th {\n",
       "        vertical-align: top;\n",
       "    }\n",
       "\n",
       "    .dataframe thead th {\n",
       "        text-align: right;\n",
       "    }\n",
       "</style>\n",
       "<table border=\"1\" class=\"dataframe\">\n",
       "  <thead>\n",
       "    <tr style=\"text-align: right;\">\n",
       "      <th></th>\n",
       "      <th>ConversationId</th>\n",
       "      <th>InitialText</th>\n",
       "      <th>NumWordsOriginalText</th>\n",
       "      <th>SummaryText</th>\n",
       "      <th>NumWordsSummary</th>\n",
       "      <th>Time_s</th>\n",
       "    </tr>\n",
       "  </thead>\n",
       "  <tbody>\n",
       "    <tr>\n",
       "      <th>0</th>\n",
       "      <td>0</td>\n",
       "      <td>Person: What's your name? Bot:  My name is Sus...</td>\n",
       "      <td>74</td>\n",
       "      <td>Susan is a college graduate who works as a gro...</td>\n",
       "      <td>28</td>\n",
       "      <td>3.486181</td>\n",
       "    </tr>\n",
       "    <tr>\n",
       "      <th>1</th>\n",
       "      <td>0</td>\n",
       "      <td>Person: What's your name? Bot:  My name is Sus...</td>\n",
       "      <td>83</td>\n",
       "      <td>Susan is a college graduate. She works at a gr...</td>\n",
       "      <td>28</td>\n",
       "      <td>3.286988</td>\n",
       "    </tr>\n",
       "    <tr>\n",
       "      <th>2</th>\n",
       "      <td>0</td>\n",
       "      <td>Person: What's your name? Bot:  My name is Sus...</td>\n",
       "      <td>97</td>\n",
       "      <td>Susan is a college graduate. She works at a gr...</td>\n",
       "      <td>19</td>\n",
       "      <td>2.470251</td>\n",
       "    </tr>\n",
       "    <tr>\n",
       "      <th>3</th>\n",
       "      <td>0</td>\n",
       "      <td>Person: What's your name? Bot:  My name is Sus...</td>\n",
       "      <td>111</td>\n",
       "      <td>Susan is a college graduate who works as a gro...</td>\n",
       "      <td>28</td>\n",
       "      <td>3.260965</td>\n",
       "    </tr>\n",
       "    <tr>\n",
       "      <th>4</th>\n",
       "      <td>0</td>\n",
       "      <td>Person: What's your name? Bot:  My name is Sus...</td>\n",
       "      <td>125</td>\n",
       "      <td>Susan is a college graduate. She works at a gr...</td>\n",
       "      <td>21</td>\n",
       "      <td>2.821580</td>\n",
       "    </tr>\n",
       "    <tr>\n",
       "      <th>...</th>\n",
       "      <td>...</td>\n",
       "      <td>...</td>\n",
       "      <td>...</td>\n",
       "      <td>...</td>\n",
       "      <td>...</td>\n",
       "      <td>...</td>\n",
       "    </tr>\n",
       "    <tr>\n",
       "      <th>87</th>\n",
       "      <td>5</td>\n",
       "      <td>Person: What's your name? Bot:  My name is Sus...</td>\n",
       "      <td>69</td>\n",
       "      <td>Bot:  My name is Susan, and I am a college gra...</td>\n",
       "      <td>23</td>\n",
       "      <td>3.013739</td>\n",
       "    </tr>\n",
       "    <tr>\n",
       "      <th>88</th>\n",
       "      <td>5</td>\n",
       "      <td>Person: What's your name? Bot:  My name is Sus...</td>\n",
       "      <td>84</td>\n",
       "      <td>Bot:  My name is Susan, and I am a college gra...</td>\n",
       "      <td>24</td>\n",
       "      <td>3.166609</td>\n",
       "    </tr>\n",
       "    <tr>\n",
       "      <th>89</th>\n",
       "      <td>5</td>\n",
       "      <td>Person: What's your name? Bot:  My name is Sus...</td>\n",
       "      <td>89</td>\n",
       "      <td>Bot:  My name is Susan, and I am a college gra...</td>\n",
       "      <td>20</td>\n",
       "      <td>2.819576</td>\n",
       "    </tr>\n",
       "    <tr>\n",
       "      <th>90</th>\n",
       "      <td>5</td>\n",
       "      <td>Person: What's your name? Bot:  My name is Sus...</td>\n",
       "      <td>98</td>\n",
       "      <td>Susan is a college graduate and works as a dat...</td>\n",
       "      <td>15</td>\n",
       "      <td>2.059909</td>\n",
       "    </tr>\n",
       "    <tr>\n",
       "      <th>91</th>\n",
       "      <td>5</td>\n",
       "      <td>Person: What's your name? Bot:  My name is Sus...</td>\n",
       "      <td>100</td>\n",
       "      <td>Susan:  My name is Susan, and I am a college g...</td>\n",
       "      <td>24</td>\n",
       "      <td>3.282009</td>\n",
       "    </tr>\n",
       "  </tbody>\n",
       "</table>\n",
       "<p>92 rows × 6 columns</p>\n",
       "</div>"
      ],
      "text/plain": [
       "    ConversationId                                        InitialText  \\\n",
       "0                0  Person: What's your name? Bot:  My name is Sus...   \n",
       "1                0  Person: What's your name? Bot:  My name is Sus...   \n",
       "2                0  Person: What's your name? Bot:  My name is Sus...   \n",
       "3                0  Person: What's your name? Bot:  My name is Sus...   \n",
       "4                0  Person: What's your name? Bot:  My name is Sus...   \n",
       "..             ...                                                ...   \n",
       "87               5  Person: What's your name? Bot:  My name is Sus...   \n",
       "88               5  Person: What's your name? Bot:  My name is Sus...   \n",
       "89               5  Person: What's your name? Bot:  My name is Sus...   \n",
       "90               5  Person: What's your name? Bot:  My name is Sus...   \n",
       "91               5  Person: What's your name? Bot:  My name is Sus...   \n",
       "\n",
       "    NumWordsOriginalText                                        SummaryText  \\\n",
       "0                     74  Susan is a college graduate who works as a gro...   \n",
       "1                     83  Susan is a college graduate. She works at a gr...   \n",
       "2                     97  Susan is a college graduate. She works at a gr...   \n",
       "3                    111  Susan is a college graduate who works as a gro...   \n",
       "4                    125  Susan is a college graduate. She works at a gr...   \n",
       "..                   ...                                                ...   \n",
       "87                    69  Bot:  My name is Susan, and I am a college gra...   \n",
       "88                    84  Bot:  My name is Susan, and I am a college gra...   \n",
       "89                    89  Bot:  My name is Susan, and I am a college gra...   \n",
       "90                    98  Susan is a college graduate and works as a dat...   \n",
       "91                   100  Susan:  My name is Susan, and I am a college g...   \n",
       "\n",
       "    NumWordsSummary    Time_s  \n",
       "0                28  3.486181  \n",
       "1                28  3.286988  \n",
       "2                19  2.470251  \n",
       "3                28  3.260965  \n",
       "4                21  2.821580  \n",
       "..              ...       ...  \n",
       "87               23  3.013739  \n",
       "88               24  3.166609  \n",
       "89               20  2.819576  \n",
       "90               15  2.059909  \n",
       "91               24  3.282009  \n",
       "\n",
       "[92 rows x 6 columns]"
      ]
     },
     "execution_count": 12,
     "metadata": {},
     "output_type": "execute_result"
    }
   ],
   "source": [
    "df_summary_conv = pd.DataFrame(summary_conv_list)\n",
    "df_summary_conv.to_csv(\"SummaryResults.csv\", index=False)\n",
    "df_summary_conv"
   ]
  },
  {
   "cell_type": "code",
   "execution_count": 13,
   "id": "051ab842",
   "metadata": {
    "ExecuteTime": {
     "end_time": "2022-07-18T18:22:41.407441Z",
     "start_time": "2022-07-18T18:22:41.392427Z"
    }
   },
   "outputs": [
    {
     "name": "stdout",
     "output_type": "stream",
     "text": [
      "The text ->  Person: What's your name? Bot:  My name is Susan, and I am a college graduate. I have a good job. Person: Hello Susan, how are you? Bot:  Hi, I am doing well. How are you doing? I am good. Person: I'm very good, my name is Jose Bot:  Hi Jose, nice to meet you. What do you do for a living? Person: Well, am I data analyst and you? Bot:  I'm not sure what you mean by that, but I work as an accountant. Person: Well, gotta go, bye Bot:  Goodbye, I hope you have a great day!?!\n",
      "\n",
      "Number of words in original text->  98\n",
      "\n",
      "The summary ->  Susan is a college graduate and works as a data analyst. Jose is an accountant.\n",
      "\n",
      "Number of words in summary ->  15\n"
     ]
    }
   ],
   "source": [
    "index = -2\n",
    "\n",
    "print(\"The text -> \", df_summary_conv[\"InitialText\"].iloc[index])\n",
    "print()\n",
    "print(\"Number of words in original text-> \", df_summary_conv[\"NumWordsOriginalText\"].iloc[index])\n",
    "print()\n",
    "print(\"The summary -> \", df_summary_conv[\"SummaryText\"].iloc[index])\n",
    "print()\n",
    "print(\"Number of words in summary -> \", df_summary_conv[\"NumWordsSummary\"].iloc[index])"
   ]
  },
  {
   "cell_type": "code",
   "execution_count": 14,
   "id": "317a6c50",
   "metadata": {
    "ExecuteTime": {
     "end_time": "2022-07-18T18:22:41.423456Z",
     "start_time": "2022-07-18T18:22:41.408441Z"
    }
   },
   "outputs": [
    {
     "name": "stdout",
     "output_type": "stream",
     "text": [
      "Mean Number of words in summary = 30.7826 +/- 10.684 ; Median = 28.0 ; Min. =  15 ; Max. =  57\n"
     ]
    }
   ],
   "source": [
    "stat_print(df_summary_conv[\"NumWordsSummary\"], \"Number of words in summary\")"
   ]
  },
  {
   "cell_type": "code",
   "execution_count": 15,
   "id": "0517d786",
   "metadata": {
    "ExecuteTime": {
     "end_time": "2022-07-18T18:22:41.534556Z",
     "start_time": "2022-07-18T18:22:41.424456Z"
    }
   },
   "outputs": [
    {
     "name": "stdout",
     "output_type": "stream",
     "text": [
      "Correlation value 0.5817468516443656\n",
      "P-value ***\n",
      "Coefficients: \n",
      " [0.05028343] \n",
      "Intercept: \n",
      " 19.18298649331235\n",
      "R-square: 0.34\n"
     ]
    },
    {
     "data": {
      "image/png": "[encoded data removed]",
      "text/plain": [
       "<Figure size 864x360 with 1 Axes>"
      ]
     },
     "metadata": {
      "needs_background": "light"
     },
     "output_type": "display_data"
    }
   ],
   "source": [
    "make_scatter_plot(df=df_summary_conv, \n",
    "                  x_feat=\"NumWordsOriginalText\", \n",
    "                  x_name=\"Num. Words original text\", \n",
    "                  y_feat=\"NumWordsSummary\", \n",
    "                  y_name=\"Num. words summary\")"
   ]
  },
  {
   "cell_type": "code",
   "execution_count": 16,
   "id": "32257820",
   "metadata": {
    "ExecuteTime": {
     "end_time": "2022-07-18T18:22:41.678687Z",
     "start_time": "2022-07-18T18:22:41.535557Z"
    }
   },
   "outputs": [
    {
     "data": {
      "image/png": "[encoded data removed]",
      "text/plain": [
       "<Figure size 1080x432 with 1 Axes>"
      ]
     },
     "metadata": {
      "needs_background": "light"
     },
     "output_type": "display_data"
    }
   ],
   "source": [
    "plt.figure(figsize=(15, 6))\n",
    "for conv_id, df_sub_conv in df_summary_conv.groupby(\"ConversationId\"):\n",
    "    \n",
    "    plt.scatter(df_sub_conv[\"NumWordsOriginalText\"], df_sub_conv[\"NumWordsSummary\"], \n",
    "                label=\"Conversation \"+str(conv_id), alpha=0.8)\n",
    "\n",
    "plt.xlabel(\"Num. words original text\", fontsize=14)\n",
    "plt.ylabel(\"Num. words in summary\", fontsize=14)\n",
    "plt.legend(fontsize=12)\n",
    "    \n",
    "plt.show()"
   ]
  },
  {
   "cell_type": "code",
   "execution_count": 17,
   "id": "ec12bcc1",
   "metadata": {
    "ExecuteTime": {
     "end_time": "2022-07-18T18:22:42.156826Z",
     "start_time": "2022-07-18T18:22:41.679688Z"
    }
   },
   "outputs": [
    {
     "data": {
      "image/png": "[encoded data removed]",
      "text/plain": [
       "<Figure size 1080x432 with 1 Axes>"
      ]
     },
     "metadata": {
      "needs_background": "light"
     },
     "output_type": "display_data"
    },
    {
     "data": {
      "image/png": "[encoded data removed]",
      "text/plain": [
       "<Figure size 1080x432 with 1 Axes>"
      ]
     },
     "metadata": {
      "needs_background": "light"
     },
     "output_type": "display_data"
    },
    {
     "data": {
      "image/png": "[encoded data removed]",
      "text/plain": [
       "<Figure size 1080x432 with 1 Axes>"
      ]
     },
     "metadata": {
      "needs_background": "light"
     },
     "output_type": "display_data"
    },
    {
     "data": {
      "image/png": "[encoded data removed]",
      "text/plain": [
       "<Figure size 1080x432 with 1 Axes>"
      ]
     },
     "metadata": {
      "needs_background": "light"
     },
     "output_type": "display_data"
    },
    {
     "data": {
      "image/png": "[encoded data removed]",
      "text/plain": [
       "<Figure size 1080x432 with 1 Axes>"
      ]
     },
     "metadata": {
      "needs_background": "light"
     },
     "output_type": "display_data"
    }
   ],
   "source": [
    "for conv_id, df_sub_conv in df_summary_conv.groupby(\"ConversationId\"):\n",
    "    \n",
    "    plt.figure(figsize=(15, 6))\n",
    "    plt.scatter(df_sub_conv[\"NumWordsOriginalText\"], df_sub_conv[\"NumWordsSummary\"], \n",
    "                label=\"Conversation \"+str(conv_id), alpha=0.8)\n",
    "\n",
    "    plt.xlabel(\"Num. words original text\", fontsize=14)\n",
    "    plt.ylabel(\"Num. words in summary\", fontsize=14)\n",
    "    plt.legend(fontsize=12)\n",
    "\n",
    "    plt.show()"
   ]
  },
  {
   "cell_type": "code",
   "execution_count": null,
   "id": "1884dae0",
   "metadata": {},
   "outputs": [],
   "source": []
  }
 ],
 "metadata": {
  "kernelspec": {
   "display_name": "Python 3 (ipykernel)",
   "language": "python",
   "name": "python3"
  },
  "language_info": {
   "codemirror_mode": {
    "name": "ipython",
    "version": 3
   },
   "file_extension": ".py",
   "mimetype": "text/x-python",
   "name": "python",
   "nbconvert_exporter": "python",
   "pygments_lexer": "ipython3",
   "version": "3.7.8"
  },
  "latex_envs": {
   "LaTeX_envs_menu_present": true,
   "autoclose": false,
   "autocomplete": true,
   "bibliofile": "biblio.bib",
   "cite_by": "apalike",
   "current_citInitial": 1,
   "eqLabelWithNumbers": true,
   "eqNumInitial": 1,
   "hotkeys": {
    "equation": "Ctrl-E",
    "itemize": "Ctrl-I"
   },
   "labels_anchors": false,
   "latex_user_defs": false,
   "report_style_numbering": false,
   "user_envs_cfg": false
  }
 },
 "nbformat": 4,
 "nbformat_minor": 5
}
