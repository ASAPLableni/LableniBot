{
 "cells": [
  {
   "cell_type": "code",
   "execution_count": 1,
   "id": "2b5dc239",
   "metadata": {
    "ExecuteTime": {
     "end_time": "2022-07-24T15:09:50.178064Z",
     "start_time": "2022-07-24T15:09:38.729545Z"
    }
   },
   "outputs": [],
   "source": [
    "import numpy as np\n",
    "import matplotlib.pyplot as plt\n",
    "import os\n",
    "from pydub import AudioSegment\n",
    "\n",
    "from scipy.io import wavfile\n",
    "\n",
    "import pyaudio\n",
    "import wave\n",
    "\n",
    "from pyannote.core import Annotation, Segment\n",
    "from pyannote.audio.pipelines import VoiceActivityDetection\n",
    "# https://github.com/pyannote/pyannote-audio"
   ]
  },
  {
   "cell_type": "code",
   "execution_count": 2,
   "id": "016c25fa",
   "metadata": {
    "ExecuteTime": {
     "end_time": "2022-07-24T15:09:50.193752Z",
     "start_time": "2022-07-24T15:09:50.180065Z"
    }
   },
   "outputs": [
    {
     "ename": "SyntaxError",
     "evalue": "(unicode error) 'unicodeescape' codec can't decode bytes in position 2-3: truncated \\UXXXXXXXX escape (156663807.py, line 3)",
     "output_type": "error",
     "traceback": [
      "\u001b[1;36m  File \u001b[1;32m\"C:\\Users\\Jose\\AppData\\Local\\Temp\\ipykernel_18168\\156663807.py\"\u001b[1;36m, line \u001b[1;32m3\u001b[0m\n\u001b[1;33m    'C:\\Users\\Jose\\Desktop\\LabLENI\\git\\LableniBot\\Conversations\\Joseidalgo_20220724_170544.148\\Audios\\Subject_Joseidalgo_T=0.wav'\u001b[0m\n\u001b[1;37m    ^\u001b[0m\n\u001b[1;31mSyntaxError\u001b[0m\u001b[1;31m:\u001b[0m (unicode error) 'unicodeescape' codec can't decode bytes in position 2-3: truncated \\UXXXXXXXX escape\n"
     ]
    }
   ],
   "source": [
    "# samplerate, data = wavfile.read('Data/Grabacion.wav')\n",
    "samplerate, data = wavfile.read(\n",
    "    'C:\\Users\\Jose\\Desktop\\LabLENI\\git\\LableniBot\\Conversations\\Joseidalgo_20220724_170544.148\\Audios\\Subject_Joseidalgo_T=0.wav'\n",
    ") "
   ]
  },
  {
   "cell_type": "code",
   "execution_count": 3,
   "id": "9d68a359",
   "metadata": {
    "ExecuteTime": {
     "end_time": "2022-07-24T15:10:01.786059Z",
     "start_time": "2022-07-24T15:10:00.427679Z"
    }
   },
   "outputs": [
    {
     "data": {
      "text/plain": [
       "<pyannote.audio.pipelines.voice_activity_detection.VoiceActivityDetection at 0x2286ec1a4c8>"
      ]
     },
     "execution_count": 3,
     "metadata": {},
     "output_type": "execute_result"
    }
   ],
   "source": [
    "pipeline = VoiceActivityDetection(segmentation=\"pyannote/segmentation\")\n",
    "HYPER_PARAMETERS = {\n",
    "  # onset/offset activation thresholds\n",
    "  \"onset\": 0.5, \"offset\": 0.5,\n",
    "  # remove speech regions shorter than that many seconds.\n",
    "  \"min_duration_on\": 0.0,\n",
    "  # fill non-speech regions shorter than that many seconds.\n",
    "  \"min_duration_off\": 0.0\n",
    "}\n",
    "pipeline.instantiate(HYPER_PARAMETERS)"
   ]
  },
  {
   "cell_type": "code",
   "execution_count": 5,
   "id": "cb2d8a55",
   "metadata": {
    "ExecuteTime": {
     "end_time": "2022-07-24T15:10:30.056858Z",
     "start_time": "2022-07-24T15:10:28.535444Z"
    }
   },
   "outputs": [
    {
     "data": {
      "image/png": "[encoded data removed]",
      "text/plain": [
       "<pyannote.core.annotation.Annotation at 0x228701d4508>"
      ]
     },
     "execution_count": 5,
     "metadata": {},
     "output_type": "execute_result"
    }
   ],
   "source": [
    "vad = pipeline(\"C:\\\\Users\\\\Jose\\\\Desktop\\\\LabLENI\\\\git\\\\LableniBot\\\\Conversations\\\\Joseidalgo_20220724_170544.148\\\\Audios\\\\Subject_Joseidalgo_T=0.wav\")\n",
    "# `vad` is a pyannote.core.Annotation instance containing speech regions\n",
    "\n",
    "vad"
   ]
  },
  {
   "cell_type": "code",
   "execution_count": 26,
   "id": "f354c051",
   "metadata": {
    "ExecuteTime": {
     "end_time": "2022-07-14T21:17:37.228032Z",
     "start_time": "2022-07-14T21:17:37.210585Z"
    }
   },
   "outputs": [],
   "source": [
    "x = vad.get_timeline().segments_set_"
   ]
  },
  {
   "cell_type": "code",
   "execution_count": null,
   "id": "aea7df36",
   "metadata": {},
   "outputs": [],
   "source": []
  }
 ],
 "metadata": {
  "kernelspec": {
   "display_name": "Python 3 (ipykernel)",
   "language": "python",
   "name": "python3"
  },
  "language_info": {
   "codemirror_mode": {
    "name": "ipython",
    "version": 3
   },
   "file_extension": ".py",
   "mimetype": "text/x-python",
   "name": "python",
   "nbconvert_exporter": "python",
   "pygments_lexer": "ipython3",
   "version": "3.7.8"
  },
  "latex_envs": {
   "LaTeX_envs_menu_present": true,
   "autoclose": false,
   "autocomplete": true,
   "bibliofile": "biblio.bib",
   "cite_by": "apalike",
   "current_citInitial": 1,
   "eqLabelWithNumbers": true,
   "eqNumInitial": 1,
   "hotkeys": {
    "equation": "Ctrl-E",
    "itemize": "Ctrl-I"
   },
   "labels_anchors": false,
   "latex_user_defs": false,
   "report_style_numbering": false,
   "user_envs_cfg": false
  }
 },
 "nbformat": 4,
 "nbformat_minor": 5
}
