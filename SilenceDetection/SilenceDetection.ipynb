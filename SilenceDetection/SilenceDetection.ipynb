{
 "cells": [
  {
   "cell_type": "code",
   "execution_count": 1,
   "id": "2b5dc239",
   "metadata": {
    "ExecuteTime": {
     "end_time": "2022-07-18T18:06:52.802843Z",
     "start_time": "2022-07-18T18:06:41.512829Z"
    }
   },
   "outputs": [],
   "source": [
    "import numpy as np\n",
    "import matplotlib.pyplot as plt\n",
    "import os\n",
    "from pydub import AudioSegment\n",
    "\n",
    "from scipy.io import wavfile\n",
    "\n",
    "import pyaudio\n",
    "import wave\n",
    "\n",
    "from pyannote.core import Annotation, Segment\n",
    "from pyannote.audio.pipelines import VoiceActivityDetection\n",
    "# https://github.com/pyannote/pyannote-audio"
   ]
  },
  {
   "cell_type": "code",
   "execution_count": 2,
   "id": "016c25fa",
   "metadata": {
    "ExecuteTime": {
     "end_time": "2022-07-14T21:02:24.484054Z",
     "start_time": "2022-07-14T21:02:24.467112Z"
    }
   },
   "outputs": [],
   "source": [
    "samplerate, data = wavfile.read('Data/Grabacion.wav')"
   ]
  },
  {
   "cell_type": "code",
   "execution_count": 21,
   "id": "9d68a359",
   "metadata": {
    "ExecuteTime": {
     "end_time": "2022-07-14T21:09:22.510383Z",
     "start_time": "2022-07-14T21:09:21.513850Z"
    }
   },
   "outputs": [
    {
     "data": {
      "text/plain": [
       "<pyannote.audio.pipelines.voice_activity_detection.VoiceActivityDetection at 0x21db167d608>"
      ]
     },
     "execution_count": 21,
     "metadata": {},
     "output_type": "execute_result"
    }
   ],
   "source": [
    "pipeline = VoiceActivityDetection(segmentation=\"pyannote/segmentation\")\n",
    "HYPER_PARAMETERS = {\n",
    "  # onset/offset activation thresholds\n",
    "  \"onset\": 0.5, \"offset\": 0.5,\n",
    "  # remove speech regions shorter than that many seconds.\n",
    "  \"min_duration_on\": 0.0,\n",
    "  # fill non-speech regions shorter than that many seconds.\n",
    "  \"min_duration_off\": 0.0\n",
    "}\n",
    "pipeline.instantiate(HYPER_PARAMETERS)"
   ]
  },
  {
   "cell_type": "code",
   "execution_count": 50,
   "id": "cb2d8a55",
   "metadata": {
    "ExecuteTime": {
     "end_time": "2022-07-14T21:46:35.090858Z",
     "start_time": "2022-07-14T21:46:34.517185Z"
    }
   },
   "outputs": [
    {
     "data": {
      "image/png": "[encoded data removed]",
      "text/plain": [
       "<pyannote.core.annotation.Annotation at 0x21db17153c8>"
      ]
     },
     "execution_count": 50,
     "metadata": {},
     "output_type": "execute_result"
    }
   ],
   "source": [
    "vad = pipeline('Data/Grabacion.wav')\n",
    "# `vad` is a pyannote.core.Annotation instance containing speech regions\n",
    "\n",
    "vad"
   ]
  },
  {
   "cell_type": "code",
   "execution_count": 26,
   "id": "f354c051",
   "metadata": {
    "ExecuteTime": {
     "end_time": "2022-07-14T21:17:37.228032Z",
     "start_time": "2022-07-14T21:17:37.210585Z"
    }
   },
   "outputs": [],
   "source": [
    "x = vad.get_timeline().segments_set_"
   ]
  },
  {
   "cell_type": "code",
   "execution_count": null,
   "id": "aea7df36",
   "metadata": {},
   "outputs": [],
   "source": []
  }
 ],
 "metadata": {
  "kernelspec": {
   "display_name": "Python 3 (ipykernel)",
   "language": "python",
   "name": "python3"
  },
  "language_info": {
   "codemirror_mode": {
    "name": "ipython",
    "version": 3
   },
   "file_extension": ".py",
   "mimetype": "text/x-python",
   "name": "python",
   "nbconvert_exporter": "python",
   "pygments_lexer": "ipython3",
   "version": "3.7.8"
  },
  "latex_envs": {
   "LaTeX_envs_menu_present": true,
   "autoclose": false,
   "autocomplete": true,
   "bibliofile": "biblio.bib",
   "cite_by": "apalike",
   "current_citInitial": 1,
   "eqLabelWithNumbers": true,
   "eqNumInitial": 1,
   "hotkeys": {
    "equation": "Ctrl-E",
    "itemize": "Ctrl-I"
   },
   "labels_anchors": false,
   "latex_user_defs": false,
   "report_style_numbering": false,
   "user_envs_cfg": false
  }
 },
 "nbformat": 4,
 "nbformat_minor": 5
}
