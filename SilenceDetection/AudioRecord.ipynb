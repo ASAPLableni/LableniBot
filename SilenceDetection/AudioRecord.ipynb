{
 "cells": [
  {
   "cell_type": "code",
   "execution_count": 1,
   "id": "6703c92e",
   "metadata": {
    "ExecuteTime": {
     "end_time": "2022-07-24T15:22:01.708629Z",
     "start_time": "2022-07-24T15:21:50.403313Z"
    }
   },
   "outputs": [],
   "source": [
    "import numpy as np\n",
    "import matplotlib.pyplot as plt\n",
    "import os\n",
    "from pydub import AudioSegment\n",
    "import time\n",
    "\n",
    "import pyaudio\n",
    "import wave\n",
    "\n",
    "from pyannote.core import Annotation, Segment\n",
    "from pyannote.audio.pipelines import VoiceActivityDetection"
   ]
  },
  {
   "cell_type": "code",
   "execution_count": null,
   "id": "af1b0c36",
   "metadata": {},
   "outputs": [],
   "source": []
  },
  {
   "cell_type": "code",
   "execution_count": 2,
   "id": "64fdaf02",
   "metadata": {
    "ExecuteTime": {
     "end_time": "2022-07-24T15:22:03.023272Z",
     "start_time": "2022-07-24T15:22:01.710632Z"
    }
   },
   "outputs": [
    {
     "data": {
      "text/plain": [
       "<pyannote.audio.pipelines.voice_activity_detection.VoiceActivityDetection at 0x1f74d405d48>"
      ]
     },
     "execution_count": 2,
     "metadata": {},
     "output_type": "execute_result"
    }
   ],
   "source": [
    "silence_detection_pipeline = VoiceActivityDetection(segmentation=\"pyannote/segmentation\")\n",
    "HYPER_PARAMETERS = {\n",
    "  # onset/offset activation thresholds\n",
    "  \"onset\": 0.5, \"offset\": 0.5,\n",
    "  # remove speech regions shorter than that many seconds.\n",
    "  \"min_duration_on\": 0.0,\n",
    "  # fill non-speech regions shorter than that many seconds.\n",
    "  \"min_duration_off\": 0.0\n",
    "}\n",
    "silence_detection_pipeline.instantiate(HYPER_PARAMETERS)"
   ]
  },
  {
   "cell_type": "code",
   "execution_count": 13,
   "id": "049cfb42",
   "metadata": {
    "ExecuteTime": {
     "end_time": "2022-07-24T15:25:37.950600Z",
     "start_time": "2022-07-24T15:25:31.019037Z"
    }
   },
   "outputs": [
    {
     "name": "stdout",
     "output_type": "stream",
     "text": [
      "* recording\n",
      "Hola 1.020432472229004\n",
      "Hola 2.0904433727264404\n",
      "Hola 3.180243492126465\n",
      "Hola 4.290720462799072\n",
      "Hola 5.41024112701416\n",
      "Hola 6.626007318496704\n",
      "* done recording\n"
     ]
    }
   ],
   "source": [
    "CHUNK = 1024\n",
    "FORMAT = pyaudio.paInt16\n",
    "CHANNELS = 2\n",
    "RATE = 44100\n",
    "RECORD_SECONDS = 30\n",
    "WAVE_OUTPUT_FILENAME = \"Data/voice.wav\"\n",
    "\n",
    "p = pyaudio.PyAudio()\n",
    "\n",
    "stream = p.open(format=FORMAT,\n",
    "                channels=CHANNELS,\n",
    "                rate=RATE,\n",
    "                input=True,\n",
    "                frames_per_buffer=CHUNK)\n",
    "\n",
    "print(\"* recording\")\n",
    "\n",
    "TIME_TO_CUT = 1.5\n",
    "\n",
    "t0 = time.time()\n",
    "t0_start_talk = time.time()\n",
    "silence_th = 0\n",
    "frames = []\n",
    "for i in range(0, int(RATE / CHUNK * RECORD_SECONDS)):\n",
    "    data = stream.read(CHUNK)\n",
    "    frames.append(data)\n",
    "    if time.time()-t0 > 1:\n",
    "        \n",
    "        print(\"Hola\", time.time()-t0_start_talk)\n",
    "        \n",
    "        wf = wave.open(WAVE_OUTPUT_FILENAME, 'wb')\n",
    "        wf.setnchannels(CHANNELS)\n",
    "        wf.setsampwidth(p.get_sample_size(FORMAT))\n",
    "        wf.setframerate(RATE)\n",
    "        wf.writeframes(b''.join(frames))\n",
    "        wf.close()\n",
    "        \n",
    "        vad = silence_detection_pipeline(WAVE_OUTPUT_FILENAME)\n",
    "        \n",
    "        x = vad.get_timeline().segments_set_\n",
    "\n",
    "        \n",
    "        if len(x) > 0:\n",
    "            last_time_talk = np.max([x_elt.end for x_elt in list(x)])\n",
    "            if time.time()-(last_time_talk+t0_start_talk) > TIME_TO_CUT:\n",
    "                break\n",
    "            else:\n",
    "                silence_th += len(x)-1\n",
    "                # silence_th = len(x)\n",
    "        \n",
    "        t0 = time.time()\n",
    "\n",
    "print(\"* done recording\")\n",
    "\n",
    "stream.stop_stream()\n",
    "stream.close()\n",
    "p.terminate()\n",
    "\n",
    "wf = wave.open(WAVE_OUTPUT_FILENAME, 'wb')\n",
    "wf.setnchannels(CHANNELS)\n",
    "wf.setsampwidth(p.get_sample_size(FORMAT))\n",
    "wf.setframerate(RATE)\n",
    "wf.writeframes(b''.join(frames))\n",
    "wf.close()"
   ]
  },
  {
   "cell_type": "code",
   "execution_count": 12,
   "id": "962d680e",
   "metadata": {
    "ExecuteTime": {
     "end_time": "2022-07-24T15:25:14.614139Z",
     "start_time": "2022-07-24T15:25:14.609133Z"
    }
   },
   "outputs": [
    {
     "data": {
      "text/plain": [
       "set()"
      ]
     },
     "execution_count": 12,
     "metadata": {},
     "output_type": "execute_result"
    }
   ],
   "source": [
    "x"
   ]
  },
  {
   "cell_type": "code",
   "execution_count": 8,
   "id": "de9705ef",
   "metadata": {
    "ExecuteTime": {
     "end_time": "2022-07-24T15:24:35.055148Z",
     "start_time": "2022-07-24T15:24:35.045065Z"
    }
   },
   "outputs": [
    {
     "data": {
      "text/plain": [
       "[]"
      ]
     },
     "execution_count": 8,
     "metadata": {},
     "output_type": "execute_result"
    }
   ],
   "source": [
    "[x_elt.end for x_elt in list(x)]"
   ]
  },
  {
   "cell_type": "code",
   "execution_count": 6,
   "id": "c2a40283",
   "metadata": {
    "ExecuteTime": {
     "end_time": "2022-07-24T15:23:04.082032Z",
     "start_time": "2022-07-24T15:23:03.202233Z"
    }
   },
   "outputs": [
    {
     "data": {
      "image/png": "[encoded data removed]",
      "text/plain": [
       "<pyannote.core.annotation.Annotation at 0x1f74d9b5808>"
      ]
     },
     "execution_count": 6,
     "metadata": {},
     "output_type": "execute_result"
    }
   ],
   "source": [
    "VAD = silence_detection_pipeline(WAVE_OUTPUT_FILENAME)\n",
    "VAD"
   ]
  },
  {
   "cell_type": "code",
   "execution_count": 18,
   "id": "12d67c4f",
   "metadata": {
    "ExecuteTime": {
     "end_time": "2022-07-24T15:40:47.754392Z",
     "start_time": "2022-07-24T15:40:41.017146Z"
    }
   },
   "outputs": [],
   "source": [
    "chunk = 1024\n",
    "\n",
    "#open a wav format music  \n",
    "f = wave.open(\"Data/voice.wav\",\"rb\")  \n",
    "#instantiate PyAudio  \n",
    "p = pyaudio.PyAudio()  \n",
    "#open stream  \n",
    "stream = p.open(format = p.get_format_from_width(f.getsampwidth()),  \n",
    "                channels = f.getnchannels(),  \n",
    "                rate = f.getframerate(),  \n",
    "                output = True)  \n",
    "#read data  \n",
    "data = f.readframes(chunk)  \n",
    "\n",
    "#play stream  \n",
    "while data:  \n",
    "    stream.write(data)  \n",
    "    data = f.readframes(chunk)  \n",
    "\n",
    "#stop stream  \n",
    "stream.stop_stream()  \n",
    "stream.close()  \n",
    "\n",
    "#close PyAudio  \n",
    "p.terminate()  "
   ]
  },
  {
   "cell_type": "code",
   "execution_count": null,
   "id": "9cf24a1a",
   "metadata": {},
   "outputs": [],
   "source": []
  }
 ],
 "metadata": {
  "kernelspec": {
   "display_name": "Python 3 (ipykernel)",
   "language": "python",
   "name": "python3"
  },
  "language_info": {
   "codemirror_mode": {
    "name": "ipython",
    "version": 3
   },
   "file_extension": ".py",
   "mimetype": "text/x-python",
   "name": "python",
   "nbconvert_exporter": "python",
   "pygments_lexer": "ipython3",
   "version": "3.7.8"
  },
  "latex_envs": {
   "LaTeX_envs_menu_present": true,
   "autoclose": false,
   "autocomplete": true,
   "bibliofile": "biblio.bib",
   "cite_by": "apalike",
   "current_citInitial": 1,
   "eqLabelWithNumbers": true,
   "eqNumInitial": 1,
   "hotkeys": {
    "equation": "Ctrl-E",
    "itemize": "Ctrl-I"
   },
   "labels_anchors": false,
   "latex_user_defs": false,
   "report_style_numbering": false,
   "user_envs_cfg": false
  }
 },
 "nbformat": 4,
 "nbformat_minor": 5
}
