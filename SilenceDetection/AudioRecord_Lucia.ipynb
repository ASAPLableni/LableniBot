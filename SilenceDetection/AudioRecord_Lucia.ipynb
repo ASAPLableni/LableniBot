{
 "cells": [
  {
   "cell_type": "code",
   "execution_count": 1,
   "id": "6703c92e",
   "metadata": {
    "ExecuteTime": {
     "end_time": "2022-07-24T15:22:01.708629Z",
     "start_time": "2022-07-24T15:21:50.403313Z"
    }
   },
   "outputs": [],
   "source": [
    "import numpy as np\n",
    "import matplotlib.pyplot as plt\n",
    "import os\n",
    "from pydub import AudioSegment\n",
    "import time\n",
    "\n",
    "import pyaudio\n",
    "import wave\n",
    "\n",
    "from pyannote.core import Annotation, Segment\n",
    "from pyannote.audio.pipelines import VoiceActivityDetection"
   ]
  },
  {
   "cell_type": "code",
   "execution_count": 2,
   "id": "64fdaf02",
   "metadata": {
    "ExecuteTime": {
     "end_time": "2022-07-24T15:22:03.023272Z",
     "start_time": "2022-07-24T15:22:01.710632Z"
    }
   },
   "outputs": [
    {
     "data": {
      "text/plain": [
       "<pyannote.audio.pipelines.voice_activity_detection.VoiceActivityDetection at 0x247f6c89340>"
      ]
     },
     "execution_count": 2,
     "metadata": {},
     "output_type": "execute_result"
    }
   ],
   "source": [
    "silence_detection_pipeline = VoiceActivityDetection(segmentation=\"pyannote/segmentation\")\n",
    "HYPER_PARAMETERS = {\n",
    "  # onset/offset activation thresholds\n",
    "  \"onset\": 0.5, \"offset\": 0.5,\n",
    "  # remove speech regions shorter than that many seconds.\n",
    "  \"min_duration_on\": 0.0,\n",
    "  # fill non-speech regions shorter than that many seconds.\n",
    "  \"min_duration_off\": 0.0\n",
    "}\n",
    "silence_detection_pipeline.instantiate(HYPER_PARAMETERS)\n",
    "\n",
    "ejemplo = 0"
   ]
  },
  {
   "cell_type": "code",
   "execution_count": 4,
   "id": "1884b0ef",
   "metadata": {},
   "outputs": [
    {
     "data": {
      "text/plain": [
       "{'index': 1,\n",
       " 'structVersion': 2,\n",
       " 'name': 'Micrófono (Realtek(R) Audio)',\n",
       " 'hostApi': 0,\n",
       " 'maxInputChannels': 2,\n",
       " 'maxOutputChannels': 0,\n",
       " 'defaultLowInputLatency': 0.09,\n",
       " 'defaultLowOutputLatency': 0.09,\n",
       " 'defaultHighInputLatency': 0.18,\n",
       " 'defaultHighOutputLatency': 0.18,\n",
       " 'defaultSampleRate': 44100.0}"
      ]
     },
     "execution_count": 4,
     "metadata": {},
     "output_type": "execute_result"
    }
   ],
   "source": [
    "import pyaudio\n",
    "pa = pyaudio.PyAudio()\n",
    "pa.get_default_input_device_info()"
   ]
  },
  {
   "cell_type": "code",
   "execution_count": 46,
   "id": "049cfb42",
   "metadata": {
    "ExecuteTime": {
     "end_time": "2022-07-24T15:25:37.950600Z",
     "start_time": "2022-07-24T15:25:31.019037Z"
    },
    "scrolled": true
   },
   "outputs": [
    {
     "name": "stdout",
     "output_type": "stream",
     "text": [
      "* recording\n",
      "Duration: 1.52 s\n",
      "Total: 5.255061626434326\n",
      "* done recording\n"
     ]
    }
   ],
   "source": [
    "# https://realpython.com/playing-and-recording-sound-python/#saving-and-converting-audio\n",
    "    \n",
    "ejemplo += 1\n",
    "\n",
    "t0 = time.time()\n",
    "\n",
    "# =========================================\n",
    "# Parameters audio recording \n",
    "# =========================================\n",
    "CHUNK = 1024\n",
    "CHANNELS = 1\n",
    "RATE = 44100 # 44100\n",
    "FORMAT = pyaudio.paInt32 # pyaudio.paInt16, pyaudio.paInt24, pyaudio.paInt32\n",
    "RECORD_SECONDS = 30 # Maximum recording time\n",
    "TIME_TO_CUT = 1.5 # Time threshold for considering the end of the speech\n",
    "WAVE_OUTPUT_FILENAME = \"voice_\"+str(ejemplo)+\".wav\"\n",
    "\n",
    "# Start streaming\n",
    "p = pyaudio.PyAudio()\n",
    "stream = p.open(format=FORMAT, channels=CHANNELS,\n",
    "                rate=RATE, input=True, frames_per_buffer=CHUNK)\n",
    "print(\"* recording\")\n",
    "t0_start_talk = time.time()\n",
    "\n",
    "silence_th = 0\n",
    "frames = []\n",
    "\n",
    "# Crear y guardar un archivo vacío para acerlerar el guardado posterior\n",
    "wf = wave.open(WAVE_OUTPUT_FILENAME, 'wb')\n",
    "# wf.setparams((CHANNELS, p.get_sample_size(FORMAT), RATE, 0, 'NONE', 'not compressed'))\n",
    "wf.setnchannels(CHANNELS)\n",
    "wf.setsampwidth(p.get_sample_size(FORMAT))\n",
    "wf.setframerate(RATE)\n",
    "wf.writeframes(b''.join(frames))\n",
    "wf.close()\n",
    "\n",
    "# Bucle hasta un máximo de RECORD_SECONDS segundos       \n",
    "for i in range(0, int(RATE / CHUNK * RECORD_SECONDS)):\n",
    "    data = stream.read(CHUNK)\n",
    "    frames.append(data)\n",
    "    \n",
    "    # Guardar el audio a partir de X segundos de que empiece a hablar\n",
    "    if time.time()-t0_start_talk > 3:\n",
    "        \n",
    "        wf = wave.open(WAVE_OUTPUT_FILENAME, 'wb')\n",
    "        wf.setnchannels(CHANNELS)\n",
    "        wf.setsampwidth(p.get_sample_size(FORMAT))\n",
    "        wf.setframerate(RATE)\n",
    "        wf.writeframes(b''.join(frames))\n",
    "        wf.close()\n",
    "        \n",
    "        vad = silence_detection_pipeline(WAVE_OUTPUT_FILENAME)\n",
    "        \n",
    "        x = vad.get_timeline().segments_set_\n",
    "        \n",
    "        if len(x) > 0:\n",
    "            # Coger el tiempo final del ultimo segmento detectado\n",
    "            last_time_talk = np.max([x_elt.end for x_elt in list(x)]) \n",
    "            # Calcular la diferencia con el instante actual y ver si supera el umbral TIME_TO_CUT\n",
    "            cond_listen = (time.time() - t0_start_talk) > 5\n",
    "            if time.time()-(last_time_talk+t0_start_talk) > TIME_TO_CUT and cond_listen:\n",
    "                print('Duration:',round(time.time()-(last_time_talk+t0_start_talk),2),'s')\n",
    "                print('Total:',time.time() - t0_start_talk)\n",
    "                break\n",
    "            else:\n",
    "                silence_th += len(x) - 1\n",
    "        \n",
    "        t0 = time.time()\n",
    "wf.close()\n",
    "print(\"* done recording\")\n",
    "\n",
    "stream.stop_stream()\n",
    "stream.close()\n",
    "p.terminate()\n",
    "\n",
    "wf = wave.open(WAVE_OUTPUT_FILENAME, 'wb')\n",
    "wf.setnchannels(CHANNELS)\n",
    "wf.setsampwidth(p.get_sample_size(FORMAT))\n",
    "wf.setframerate(RATE)\n",
    "wf.writeframes(b''.join(frames))\n",
    "wf.close()"
   ]
  },
  {
   "cell_type": "code",
   "execution_count": 50,
   "id": "de4fa888",
   "metadata": {},
   "outputs": [
    {
     "data": {
      "text/plain": [
       "77.69828057289124"
      ]
     },
     "execution_count": 50,
     "metadata": {},
     "output_type": "execute_result"
    }
   ],
   "source": [
    "time.time()-(last_time_talk+t0_start_talk)"
   ]
  },
  {
   "cell_type": "code",
   "execution_count": 49,
   "id": "129b8c14",
   "metadata": {},
   "outputs": [
    {
     "data": {
      "text/plain": [
       "{<Segment(0.531563, 3.73781)>}"
      ]
     },
     "execution_count": 49,
     "metadata": {},
     "output_type": "execute_result"
    }
   ],
   "source": [
    "x"
   ]
  },
  {
   "cell_type": "code",
   "execution_count": 48,
   "id": "c2a40283",
   "metadata": {
    "ExecuteTime": {
     "end_time": "2022-07-24T15:23:04.082032Z",
     "start_time": "2022-07-24T15:23:03.202233Z"
    }
   },
   "outputs": [
    {
     "data": {
      "image/png": "[encoded data removed]",
      "text/plain": [
       "<pyannote.core.annotation.Annotation at 0x248123bb790>"
      ]
     },
     "execution_count": 48,
     "metadata": {},
     "output_type": "execute_result"
    }
   ],
   "source": [
    "VAD = silence_detection_pipeline(WAVE_OUTPUT_FILENAME)\n",
    "VAD"
   ]
  },
  {
   "cell_type": "code",
   "execution_count": null,
   "id": "9cf24a1a",
   "metadata": {},
   "outputs": [],
   "source": []
  }
 ],
 "metadata": {
  "kernelspec": {
   "display_name": "Python 3 (ipykernel)",
   "language": "python",
   "name": "python3"
  },
  "language_info": {
   "codemirror_mode": {
    "name": "ipython",
    "version": 3
   },
   "file_extension": ".py",
   "mimetype": "text/x-python",
   "name": "python",
   "nbconvert_exporter": "python",
   "pygments_lexer": "ipython3",
   "version": "3.9.11"
  },
  "latex_envs": {
   "LaTeX_envs_menu_present": true,
   "autoclose": false,
   "autocomplete": true,
   "bibliofile": "biblio.bib",
   "cite_by": "apalike",
   "current_citInitial": 1,
   "eqLabelWithNumbers": true,
   "eqNumInitial": 1,
   "hotkeys": {
    "equation": "Ctrl-E",
    "itemize": "Ctrl-I"
   },
   "labels_anchors": false,
   "latex_user_defs": false,
   "report_style_numbering": false,
   "user_envs_cfg": false
  }
 },
 "nbformat": 4,
 "nbformat_minor": 5
}
