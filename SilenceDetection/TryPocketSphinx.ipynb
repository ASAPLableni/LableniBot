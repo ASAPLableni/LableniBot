{
 "cells": [
  {
   "cell_type": "code",
   "execution_count": 5,
   "id": "ccb9609a",
   "metadata": {
    "ExecuteTime": {
     "end_time": "2022-10-10T16:58:47.090430Z",
     "start_time": "2022-10-10T16:58:47.075499Z"
    }
   },
   "outputs": [
    {
     "ename": "ImportError",
     "evalue": "cannot import name 'Endpointer' from 'pocketsphinx' (C:\\Users\\Jose\\Desktop\\LabLENI\\git\\LableniBot\\venv\\lib\\site-packages\\pocketsphinx\\__init__.py)",
     "output_type": "error",
     "traceback": [
      "\u001b[1;31m---------------------------------------------------------------------------\u001b[0m",
      "\u001b[1;31mImportError\u001b[0m                               Traceback (most recent call last)",
      "\u001b[1;32m~\\AppData\\Local\\Temp\\ipykernel_10880\\3334232284.py\u001b[0m in \u001b[0;36m<module>\u001b[1;34m\u001b[0m\n\u001b[1;32m----> 1\u001b[1;33m \u001b[1;32mfrom\u001b[0m \u001b[0mpocketsphinx\u001b[0m \u001b[1;32mimport\u001b[0m \u001b[0mEndpointer\u001b[0m\u001b[1;33m,\u001b[0m \u001b[0mDecoder\u001b[0m\u001b[1;33m,\u001b[0m \u001b[0mset_loglevel\u001b[0m\u001b[1;33m\u001b[0m\u001b[1;33m\u001b[0m\u001b[0m\n\u001b[0m\u001b[0;32m      2\u001b[0m \u001b[1;32mimport\u001b[0m \u001b[0msubprocess\u001b[0m\u001b[1;33m\u001b[0m\u001b[1;33m\u001b[0m\u001b[0m\n\u001b[0;32m      3\u001b[0m \u001b[1;32mimport\u001b[0m \u001b[0msys\u001b[0m\u001b[1;33m\u001b[0m\u001b[1;33m\u001b[0m\u001b[0m\n\u001b[0;32m      4\u001b[0m \u001b[1;32mimport\u001b[0m \u001b[0mos\u001b[0m\u001b[1;33m\u001b[0m\u001b[1;33m\u001b[0m\u001b[0m\n\u001b[0;32m      5\u001b[0m \u001b[1;33m\u001b[0m\u001b[0m\n",
      "\u001b[1;31mImportError\u001b[0m: cannot import name 'Endpointer' from 'pocketsphinx' (C:\\Users\\Jose\\Desktop\\LabLENI\\git\\LableniBot\\venv\\lib\\site-packages\\pocketsphinx\\__init__.py)"
     ]
    }
   ],
   "source": [
    "from pocketsphinx import Endpointer, Decoder, set_loglevel\n",
    "import subprocess\n",
    "import sys\n",
    "import os\n",
    "\n",
    "\n",
    "def main():\n",
    "    set_loglevel(\"INFO\")\n",
    "    ep = Endpointer()\n",
    "    decoder = Decoder(samprate=ep.sample_rate,)\n",
    "    soxcmd = f\"sox -q -r {ep.sample_rate} -c 1 -b 16 -e signed-integer -d -t raw -\"\n",
    "    sox = subprocess.Popen(soxcmd.split(), stdout=subprocess.PIPE)\n",
    "    while True:\n",
    "        frame = sox.stdout.read(ep.frame_bytes)\n",
    "        prev_in_speech = ep.in_speech\n",
    "        speech = ep.process(frame)\n",
    "        if speech is not None:\n",
    "            if not prev_in_speech:\n",
    "                print(\"Speech start at %.2f\" % (ep.speech_start), file=sys.stderr)\n",
    "                decoder.start_utt()\n",
    "            decoder.process_raw(speech)\n",
    "            hyp = decoder.hyp()\n",
    "            if hyp is not None:\n",
    "                print(\"PARTIAL RESULT:\", hyp.hypstr, file=sys.stderr)\n",
    "            if not ep.in_speech:\n",
    "                print(\"Speech end at %.2f\" % (ep.speech_end), file=sys.stderr)\n",
    "                decoder.end_utt()\n",
    "                print(decoder.hyp().hypstr)"
   ]
  },
  {
   "cell_type": "code",
   "execution_count": 4,
   "id": "5a350a77",
   "metadata": {
    "ExecuteTime": {
     "end_time": "2022-10-10T16:52:06.830250Z",
     "start_time": "2022-10-10T16:52:06.823254Z"
    }
   },
   "outputs": [],
   "source": [
    "import pocketsphinx"
   ]
  },
  {
   "cell_type": "code",
   "execution_count": null,
   "id": "eed58913",
   "metadata": {},
   "outputs": [],
   "source": []
  },
  {
   "cell_type": "code",
   "execution_count": null,
   "id": "cf9326c7",
   "metadata": {},
   "outputs": [],
   "source": []
  }
 ],
 "metadata": {
  "kernelspec": {
   "display_name": "Python 3 (ipykernel)",
   "language": "python",
   "name": "python3"
  },
  "language_info": {
   "codemirror_mode": {
    "name": "ipython",
    "version": 3
   },
   "file_extension": ".py",
   "mimetype": "text/x-python",
   "name": "python",
   "nbconvert_exporter": "python",
   "pygments_lexer": "ipython3",
   "version": "3.7.8"
  },
  "latex_envs": {
   "LaTeX_envs_menu_present": true,
   "autoclose": false,
   "autocomplete": true,
   "bibliofile": "biblio.bib",
   "cite_by": "apalike",
   "current_citInitial": 1,
   "eqLabelWithNumbers": true,
   "eqNumInitial": 1,
   "hotkeys": {
    "equation": "Ctrl-E",
    "itemize": "Ctrl-I"
   },
   "labels_anchors": false,
   "latex_user_defs": false,
   "report_style_numbering": false,
   "user_envs_cfg": false
  }
 },
 "nbformat": 4,
 "nbformat_minor": 5
}
