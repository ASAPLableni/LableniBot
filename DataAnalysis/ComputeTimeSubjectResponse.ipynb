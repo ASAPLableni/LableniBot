{
 "cells": [
  {
   "cell_type": "code",
   "execution_count": 1,
   "id": "8d2554d6",
   "metadata": {
    "ExecuteTime": {
     "end_time": "2023-01-14T14:57:29.274257Z",
     "start_time": "2023-01-14T14:57:12.710495Z"
    }
   },
   "outputs": [
    {
     "name": "stderr",
     "output_type": "stream",
     "text": [
      "The torchaudio backend is switched to 'soundfile'. Note that 'sox_io' is not supported on Windows.\n",
      "The torchaudio backend is switched to 'soundfile'. Note that 'sox_io' is not supported on Windows.\n"
     ]
    }
   ],
   "source": [
    "import numpy as np\n",
    "import pandas as pd\n",
    "import matplotlib.pyplot as plt\n",
    "import scipy as sp\n",
    "import seaborn as sns\n",
    "import json\n",
    "import random\n",
    "import re\n",
    "import os\n",
    "\n",
    "from pyannote.audio.pipelines import VoiceActivityDetection\n",
    "\n",
    "import analysis_utils as aute"
   ]
  },
  {
   "cell_type": "code",
   "execution_count": 2,
   "id": "cf15bd12",
   "metadata": {
    "ExecuteTime": {
     "end_time": "2023-01-14T14:57:30.355370Z",
     "start_time": "2023-01-14T14:57:29.275258Z"
    }
   },
   "outputs": [],
   "source": [
    "config_json = open(\"../LableniBotConfig/config.json\")\n",
    "config_dict = json.load(config_json)\n",
    "\n",
    "hugging_face_key = config_dict[\"HUGGING_FACE\"]\n",
    "\n",
    "silence_detection_pipeline = VoiceActivityDetection(segmentation=\"pyannote/segmentation\",\n",
    "                                                    use_auth_token=hugging_face_key)"
   ]
  },
  {
   "cell_type": "code",
   "execution_count": null,
   "id": "3dda2a4d",
   "metadata": {
    "ExecuteTime": {
     "end_time": "2023-01-14T10:48:48.887684Z",
     "start_time": "2023-01-14T10:48:48.875673Z"
    }
   },
   "outputs": [],
   "source": []
  },
  {
   "cell_type": "code",
   "execution_count": 3,
   "id": "39e02360",
   "metadata": {
    "ExecuteTime": {
     "end_time": "2023-01-14T14:57:30.371392Z",
     "start_time": "2023-01-14T14:57:30.357373Z"
    }
   },
   "outputs": [],
   "source": [
    "all_files_conv_list = []\n",
    "\n",
    "path_conv = \"../Conversations/\"\n",
    "for conv_id in os.listdir(path_conv):\n",
    "    if \"User\" in conv_id:\n",
    "        path_to_csv = path_conv + conv_id + \"/\"\n",
    "        for sub_conv_id in os.listdir(path_to_csv):\n",
    "            if \"User\" in sub_conv_id:\n",
    "                all_files_conv_list.append(path_to_csv + sub_conv_id + \"/\")"
   ]
  },
  {
   "cell_type": "code",
   "execution_count": null,
   "id": "bb5d1c72",
   "metadata": {
    "ExecuteTime": {
     "end_time": "2023-01-14T14:46:00.377396Z",
     "start_time": "2023-01-14T14:46:00.357379Z"
    }
   },
   "outputs": [],
   "source": []
  },
  {
   "cell_type": "code",
   "execution_count": 7,
   "id": "fbb0bc8c",
   "metadata": {
    "ExecuteTime": {
     "end_time": "2023-01-14T14:46:44.403021Z",
     "start_time": "2023-01-14T14:46:44.154618Z"
    }
   },
   "outputs": [],
   "source": [
    "time_diff_list = []\n",
    "\n",
    "for whole_path in all_files_conv_list:\n",
    "    name_csv_file = [f for f in os.listdir(whole_path) if \".csv\" in f][0]\n",
    "    data = pd.read_csv(whole_path + name_csv_file, sep=\";\")\n",
    "\n",
    "    p_start = data[\"PersonTalkStartUnix\"].dropna().values\n",
    "    b_end = data[\"BotTalkEndUnix\"].dropna().values\n",
    "\n",
    "    max_shape = np.min([p_start.shape[0], b_end.shape[0]])\n",
    "\n",
    "    time_diff  = p_start[:max_shape] - b_end[:max_shape]\n",
    "\n",
    "    for t in time_diff:\n",
    "        if not np.isnan(t):\n",
    "            time_diff_list.append(t)"
   ]
  },
  {
   "cell_type": "code",
   "execution_count": 8,
   "id": "94986883",
   "metadata": {
    "ExecuteTime": {
     "end_time": "2023-01-14T14:46:45.106784Z",
     "start_time": "2023-01-14T14:46:44.999643Z"
    }
   },
   "outputs": [
    {
     "name": "stdout",
     "output_type": "stream",
     "text": [
      "Mean Elapsed time between Bot ends and person starts = 0.0021 +/- 0.0004 ; Median = 0.002 ; Min. =  0.001 ; Max. =  0.004\n"
     ]
    },
    {
     "data": {
      "image/png": "[encoded data removed]",
      "text/plain": [
       "<Figure size 864x360 with 1 Axes>"
      ]
     },
     "metadata": {
      "needs_background": "light"
     },
     "output_type": "display_data"
    }
   ],
   "source": [
    "aute.stat_print(time_diff_list, \"Elapsed time between Bot ends and person starts\")\n",
    "\n",
    "plt.figure(figsize=(12, 5))\n",
    "plt.hist(time_diff_list, bins=31)\n",
    "\n",
    "plt.show()"
   ]
  },
  {
   "cell_type": "code",
   "execution_count": null,
   "id": "0ed447af",
   "metadata": {
    "ExecuteTime": {
     "end_time": "2023-01-14T10:57:50.858879Z",
     "start_time": "2023-01-14T10:57:50.828852Z"
    }
   },
   "outputs": [],
   "source": []
  },
  {
   "cell_type": "code",
   "execution_count": 41,
   "id": "a21e754d",
   "metadata": {
    "ExecuteTime": {
     "end_time": "2023-01-14T15:29:10.587748Z",
     "start_time": "2023-01-14T15:22:25.121184Z"
    },
    "scrolled": true
   },
   "outputs": [
    {
     "name": "stdout",
     "output_type": "stream",
     "text": [
      "Iteration 115\r"
     ]
    }
   ],
   "source": [
    "save_data_list = []\n",
    "\n",
    "for i_wp, whole_path in enumerate(all_files_conv_list):\n",
    "    \n",
    "    print(\"Iteration\", i_wp, end=\"\\r\")\n",
    "    \n",
    "    name_csv_file = [f for f in os.listdir(whole_path) if \".csv\" in f][0]\n",
    "    data = pd.read_csv(whole_path + name_csv_file, sep=\";\")\n",
    "\n",
    "    path_to_audios = whole_path + \"Audios/\"\n",
    "    all_audios = os.listdir(path_to_audios)\n",
    "    for i_audio, audio in enumerate(all_audios):\n",
    "        try:\n",
    "            vad = silence_detection_pipeline(path_to_audios + audio)\n",
    "        except:\n",
    "            continue\n",
    "        \n",
    "        x = vad.get_timeline().segments_set_\n",
    "        start_person_talk_since_audio = list(x)[0].start if len(x) > 0 else 0\n",
    "\n",
    "        conv_position = int(audio.split(\".\")[0][-1])\n",
    "\n",
    "        bot_end_talk = data[\"BotTalkEndUnix\"].iloc[2*conv_position]\n",
    "        \n",
    "        if 2*conv_position+1 < data.shape[0]:\n",
    "        \n",
    "            person_start_talk = data[\"PersonTalkStartUnix\"].iloc[2*conv_position+1]\n",
    "\n",
    "            diff_listen_talk = person_start_talk + start_person_talk_since_audio - bot_end_talk\n",
    "\n",
    "            config_name_bot = data[\"ConfigName\"].iloc[0]\n",
    "            bot_personality, bot_gender, bot_type_id = config_name_bot.split(\"_\")\n",
    "            \n",
    "            bot_gender = \"Female\" if bot_gender==\"Woman\" else bot_gender\n",
    "            bot_gender = \"Male\" if bot_gender==\"Man\" else bot_gender\n",
    "            \n",
    "            save_data_list.append({\n",
    "                \"PathId\": i_wp,\n",
    "                \"ConvStartTime\": data[\"UnixTimestampLoopInit\"].iloc[0],\n",
    "                \"SubjectId\": data[\"SubjectId\"].iloc[0],\n",
    "                \"ConvStepId\": i_audio,\n",
    "                \"DiffTimeListenTalk\": diff_listen_talk,\n",
    "                \"AudioDetection\": start_person_talk_since_audio,\n",
    "                \"BotPersonality\": bot_personality,\n",
    "                \"BotGender\": bot_gender,\n",
    "                \"BotTypeId\": bot_type_id\n",
    "            })\n",
    "            \n",
    "df_res = pd.DataFrame(save_data_list)"
   ]
  },
  {
   "cell_type": "code",
   "execution_count": null,
   "id": "a48747a5",
   "metadata": {
    "ExecuteTime": {
     "end_time": "2023-01-14T15:13:21.925637Z",
     "start_time": "2023-01-14T15:13:21.908957Z"
    },
    "scrolled": true
   },
   "outputs": [],
   "source": []
  },
  {
   "cell_type": "code",
   "execution_count": 42,
   "id": "2cb82584",
   "metadata": {
    "ExecuteTime": {
     "end_time": "2023-01-14T15:29:10.714676Z",
     "start_time": "2023-01-14T15:29:10.588748Z"
    }
   },
   "outputs": [
    {
     "name": "stdout",
     "output_type": "stream",
     "text": [
      "Mean Time thinking = 1.3713 +/- 1.7193 ; Median = 0.9723 ; Min. =  0.0019 ; Max. =  17.2229\n"
     ]
    },
    {
     "data": {
      "image/png": "[encoded data removed]",
      "text/plain": [
       "<Figure size 864x360 with 1 Axes>"
      ]
     },
     "metadata": {
      "needs_background": "light"
     },
     "output_type": "display_data"
    }
   ],
   "source": [
    "aute.stat_print(df_res[\"DiffTimeListenTalk\"], \"Time thinking\")\n",
    "\n",
    "plt.figure(figsize=(12, 5))\n",
    "plt.hist(df_res[\"DiffTimeListenTalk\"], bins=31)\n",
    "\n",
    "plt.show()"
   ]
  },
  {
   "cell_type": "code",
   "execution_count": 43,
   "id": "6a693472",
   "metadata": {
    "ExecuteTime": {
     "end_time": "2023-01-14T15:29:10.810063Z",
     "start_time": "2023-01-14T15:29:10.716678Z"
    }
   },
   "outputs": [
    {
     "data": {
      "image/png": "[encoded data removed]",
      "text/plain": [
       "<Figure size 1080x432 with 1 Axes>"
      ]
     },
     "metadata": {
      "needs_background": "light"
     },
     "output_type": "display_data"
    }
   ],
   "source": [
    "plt.figure(figsize=(15, 6))\n",
    "sns.boxplot(data=df_res, x=\"BotGender\", y=\"DiffTimeListenTalk\")\n",
    "plt.show()"
   ]
  },
  {
   "cell_type": "code",
   "execution_count": 45,
   "id": "982d4dd3",
   "metadata": {
    "ExecuteTime": {
     "end_time": "2023-01-14T15:42:43.981274Z",
     "start_time": "2023-01-14T15:42:43.814167Z"
    }
   },
   "outputs": [
    {
     "data": {
      "image/png": "[encoded data removed]",
      "text/plain": [
       "<Figure size 1080x432 with 1 Axes>"
      ]
     },
     "metadata": {
      "needs_background": "light"
     },
     "output_type": "display_data"
    },
    {
     "name": "stdout",
     "output_type": "stream",
     "text": [
      "Mean Personality Angry = 1.4619 +/- 1.6281 ; Median = 1.0567 ; Min. =  0.002 ; Max. =  10.5404\n",
      "Mean Personality Happy = 1.5103 +/- 2.0666 ; Median = 1.0051 ; Min. =  0.002 ; Max. =  13.4429\n",
      "Mean Personality Neutral = 1.2846 +/- 1.7542 ; Median = 0.8711 ; Min. =  0.002 ; Max. =  17.2229\n",
      "Mean Personality Relax = 1.2675 +/- 1.2903 ; Median = 0.947 ; Min. =  0.0019 ; Max. =  7.9248\n",
      "Mean Personality Sad = 1.4642 +/- 1.7101 ; Median = 1.1242 ; Min. =  0.002 ; Max. =  11.9242\n"
     ]
    }
   ],
   "source": [
    "plt.figure(figsize=(15, 6))\n",
    "sns.boxplot(data=df_res, x=\"BotPersonality\", y=\"DiffTimeListenTalk\")\n",
    "plt.ylabel(\"Subject time until answer (s)\", fontsize=14)\n",
    "plt.xlabel(\"VH Personality\", fontsize=14)\n",
    "\n",
    "plt.savefig(\"Results/Images/TimeThinking.pdf\", dpi=300, format=\"pdf\")\n",
    "\n",
    "plt.show()\n",
    "\n",
    "for k, df_k in df_res.groupby(\"BotPersonality\"):\n",
    "    aute.stat_print(df_k[\"DiffTimeListenTalk\"], \"Personality \" + k)"
   ]
  },
  {
   "cell_type": "code",
   "execution_count": null,
   "id": "49b95e32",
   "metadata": {
    "ExecuteTime": {
     "end_time": "2023-01-14T10:40:46.758456Z",
     "start_time": "2023-01-14T10:40:46.748445Z"
    }
   },
   "outputs": [],
   "source": []
  },
  {
   "cell_type": "code",
   "execution_count": null,
   "id": "a087e719",
   "metadata": {
    "ExecuteTime": {
     "end_time": "2023-01-14T10:45:53.517218Z",
     "start_time": "2023-01-14T10:45:53.500200Z"
    }
   },
   "outputs": [],
   "source": []
  },
  {
   "cell_type": "code",
   "execution_count": null,
   "id": "46140d35",
   "metadata": {
    "ExecuteTime": {
     "end_time": "2023-01-14T11:16:38.634401Z",
     "start_time": "2023-01-14T11:16:38.405006Z"
    }
   },
   "outputs": [],
   "source": []
  },
  {
   "cell_type": "code",
   "execution_count": null,
   "id": "940d9040",
   "metadata": {
    "ExecuteTime": {
     "end_time": "2023-01-14T11:16:24.787495Z",
     "start_time": "2023-01-14T11:16:24.777820Z"
    }
   },
   "outputs": [],
   "source": []
  },
  {
   "cell_type": "code",
   "execution_count": null,
   "id": "6d4e0557",
   "metadata": {},
   "outputs": [],
   "source": []
  }
 ],
 "metadata": {
  "kernelspec": {
   "display_name": "Python 3 (ipykernel)",
   "language": "python",
   "name": "python3"
  },
  "language_info": {
   "codemirror_mode": {
    "name": "ipython",
    "version": 3
   },
   "file_extension": ".py",
   "mimetype": "text/x-python",
   "name": "python",
   "nbconvert_exporter": "python",
   "pygments_lexer": "ipython3",
   "version": "3.7.8"
  },
  "latex_envs": {
   "LaTeX_envs_menu_present": true,
   "autoclose": false,
   "autocomplete": true,
   "bibliofile": "biblio.bib",
   "cite_by": "apalike",
   "current_citInitial": 1,
   "eqLabelWithNumbers": true,
   "eqNumInitial": 1,
   "hotkeys": {
    "equation": "Ctrl-E",
    "itemize": "Ctrl-I"
   },
   "labels_anchors": false,
   "latex_user_defs": false,
   "report_style_numbering": false,
   "user_envs_cfg": false
  }
 },
 "nbformat": 4,
 "nbformat_minor": 5
}
