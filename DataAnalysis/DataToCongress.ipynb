{
 "cells": [
  {
   "cell_type": "code",
   "execution_count": 1,
   "id": "ee505740",
   "metadata": {
    "ExecuteTime": {
     "end_time": "2023-02-16T18:34:29.458483Z",
     "start_time": "2023-02-16T18:34:16.659571Z"
    }
   },
   "outputs": [
    {
     "name": "stderr",
     "output_type": "stream",
     "text": [
      "[nltk_data] Downloading package punkt to\n",
      "[nltk_data]     C:\\Users\\Jose\\AppData\\Roaming\\nltk_data...\n",
      "[nltk_data]   Package punkt is already up-to-date!\n",
      "[nltk_data] Error loading tokenizers/punkt/spanish.pickle: Package\n",
      "[nltk_data]     'tokenizers/punkt/spanish.pickle' not found in index\n",
      "[nltk_data] Downloading package stopwords to\n",
      "[nltk_data]     C:\\Users\\Jose\\AppData\\Roaming\\nltk_data...\n",
      "[nltk_data]   Package stopwords is already up-to-date!\n",
      "The torchaudio backend is switched to 'soundfile'. Note that 'sox_io' is not supported on Windows.\n",
      "The torchaudio backend is switched to 'soundfile'. Note that 'sox_io' is not supported on Windows.\n"
     ]
    }
   ],
   "source": [
    "import os\n",
    "import numpy as np\n",
    "import pandas as pd\n",
    "import matplotlib.pyplot as plt\n",
    "import scipy as sp\n",
    "import json\n",
    "import random\n",
    "import seaborn as sns\n",
    "import re\n",
    "\n",
    "import spacy\n",
    "\n",
    "# Text analysis\n",
    "import nltk\n",
    "from nltk.tokenize import sent_tokenize, word_tokenize\n",
    "from nltk.stem.snowball import SpanishStemmer\n",
    "from nltk.corpus import stopwords\n",
    "nltk.download('punkt')\n",
    "nltk.download('tokenizers/punkt/spanish.pickle')\n",
    "nltk.download('stopwords')\n",
    "\n",
    "import unicodedata\n",
    "\n",
    "from wordcloud import WordCloud, STOPWORDS\n",
    "\n",
    "# ### Scikit-Learn ###\n",
    "from sklearn.pipeline import Pipeline\n",
    "from sklearn.preprocessing import StandardScaler, MinMaxScaler\n",
    "from sklearn.model_selection import StratifiedGroupKFold, StratifiedKFold, RepeatedStratifiedKFold\n",
    "from sklearn.linear_model import LinearRegression, LogisticRegression\n",
    "from sklearn.ensemble import RandomForestClassifier\n",
    "from sklearn import metrics as skmetrics\n",
    "\n",
    "from pyannote.audio.pipelines import VoiceActivityDetection\n",
    "\n",
    "import analysis_utils as aute"
   ]
  },
  {
   "cell_type": "code",
   "execution_count": 2,
   "id": "39341d6b",
   "metadata": {
    "ExecuteTime": {
     "end_time": "2023-02-16T18:34:30.461332Z",
     "start_time": "2023-02-16T18:34:29.460484Z"
    }
   },
   "outputs": [],
   "source": [
    "config_json = open(\"../LableniBotConfig/config.json\")\n",
    "config_dict = json.load(config_json)\n",
    "\n",
    "hugging_face_key = config_dict[\"HUGGING_FACE\"]\n",
    "\n",
    "silence_detection_pipeline = VoiceActivityDetection(segmentation=\"pyannote/segmentation\",\n",
    "                                                    use_auth_token=hugging_face_key)"
   ]
  },
  {
   "cell_type": "code",
   "execution_count": 3,
   "id": "d6b359e0",
   "metadata": {
    "ExecuteTime": {
     "end_time": "2023-02-16T18:34:30.477034Z",
     "start_time": "2023-02-16T18:34:30.462333Z"
    }
   },
   "outputs": [],
   "source": [
    "def get_audio_talk_duration(path_to_subj_conv):\n",
    "    path_to_audios = path_to_subj_conv + \"/Audios/\"\n",
    "    all_audios = os.listdir(path_to_audios)\n",
    "\n",
    "    delta_talk_list = []\n",
    "    for i_audio, audio in enumerate(all_audios):\n",
    "        try:\n",
    "            vad = silence_detection_pipeline(path_to_audios + audio)\n",
    "        except:\n",
    "            print(\"Bad audio\", path_to_audios + audio)\n",
    "            delta_talk_list.append(np.nan)\n",
    "\n",
    "        seg_timeline = list(vad.get_timeline().segments_set_)\n",
    "        \n",
    "        if len(seg_timeline) > 0:\n",
    "            start_time = np.min([seg.start for seg in seg_timeline])\n",
    "            end_time = np.max([seg.end for seg in seg_timeline])\n",
    "\n",
    "            delta_time_human_talk = end_time - start_time\n",
    "            delta_talk_list.append(delta_time_human_talk)\n",
    "        else:\n",
    "            delta_talk_list.append(np.nan)\n",
    "    \n",
    "    return delta_talk_list"
   ]
  },
  {
   "cell_type": "code",
   "execution_count": null,
   "id": "b975a027",
   "metadata": {
    "ExecuteTime": {
     "end_time": "2023-02-16T18:51:08.884614Z",
     "start_time": "2023-02-16T18:51:08.865605Z"
    }
   },
   "outputs": [],
   "source": []
  },
  {
   "cell_type": "code",
   "execution_count": 16,
   "id": "de272dc3",
   "metadata": {
    "ExecuteTime": {
     "end_time": "2023-02-16T19:06:51.372750Z",
     "start_time": "2023-02-16T18:51:14.679802Z"
    },
    "scrolled": true
   },
   "outputs": [
    {
     "name": "stdout",
     "output_type": "stream",
     "text": [
      "Bad audio D:/GuardarDatosLableniBOT/User_11_CB/User_11_CB_Conversations/User_11_CB_20221123_100034/Audios/Subject_User_11_CB_T=5.wav\n",
      "Bad audio D:/GuardarDatosLableniBOT/User_12_CB/User_12_CB_Conversations/User_12_CB_20221123_122103/Audios/Subject_User_12_CB_T=9.wav\n",
      "Bad audio D:/GuardarDatosLableniBOT/User_12_CB/User_12_CB_Conversations/User_12_CB_20221123_122736/Audios/Subject_User_12_CB_T=8.wav\n",
      "Bad audio D:/GuardarDatosLableniBOT/User_15_CB/User_15_CB_Conversations/User_15_CB_20221124_120946/Audios/Subject_User_15_CB_T=9.wav\n",
      "Bad audio D:/GuardarDatosLableniBOT/User_15_CB/User_15_CB_Conversations/User_15_CB_20221124_122515/Audios/Subject_User_15_CB_T=8.wav\n",
      "Bad audio D:/GuardarDatosLableniBOT/User_17_CB/User_17_CB_Conversations/User_17_CB_20221125_104412/Audios/Subject_User_17_CB_T=6.wav\n",
      "Bad audio D:/GuardarDatosLableniBOT/User_19_CB/User_19_CB_Conversations/User_19_CB_20221125_144045/Audios/Subject_User_19_CB_T=11.wav\n",
      "Bad audio D:/GuardarDatosLableniBOT/User_20_CB/User_20_CB_Conversations/User_20_CB_20221129_122244/Audios/Subject_User_20_CB_T=9.wav\n",
      "Bad audio D:/GuardarDatosLableniBOT/User_21_CB/User_21_CB_Conversations/User_21_CB_20221129_145336/Audios/Subject_User_21_CB_T=11.wav\n",
      "Bad audio D:/GuardarDatosLableniBOT/User_21_CB/User_21_CB_Conversations/User_21_CB_20221129_152324/Audios/Subject_User_21_CB_T=10.wav\n",
      "Bad audio D:/GuardarDatosLableniBOT/User_24_CB/User_24_CB_Conversations/User_24_CB_20221201_095320/Audios/Subject_User_24_CB_T=14.wav\n",
      "Bad audio D:/GuardarDatosLableniBOT/User_24_CB/User_24_CB_Conversations/User_24_CB_20221201_102022/Audios/Subject_User_24_CB_T=7.wav\n",
      "Bad audio D:/GuardarDatosLableniBOT/User_25_CB/User_25_CB_Conversations/User_25_CB_20221201_121013/Audios/Subject_User_25_CB_T=8.wav\n",
      "Bad audio D:/GuardarDatosLableniBOT/User_25_CB/User_25_CB_Conversations/User_25_CB_20221201_121702/Audios/Subject_User_25_CB_T=9.wav\n",
      "Bad audio D:/GuardarDatosLableniBOT/User_25_CB/User_25_CB_Conversations/User_25_CB_20221201_122309/Audios/Subject_User_25_CB_T=9.wav\n",
      "Bad audio D:/GuardarDatosLableniBOT/User_25_CB/User_25_CB_Conversations/User_25_CB_20221201_122940/Audios/Subject_User_25_CB_T=7.wav\n",
      "Bad audio D:/GuardarDatosLableniBOT/User_25_CB/User_25_CB_Conversations/User_25_CB_20221201_123621/Audios/Subject_User_25_CB_T=6.wav\n",
      "Bad audio D:/GuardarDatosLableniBOT/User_26_CB/User_26_CB_Conversations/User_26_CB_20221202_121404/Audios/Subject_User_26_CB_T=8.wav\n",
      "Bad audio D:/GuardarDatosLableniBOT/User_27_CB/User_27_CB_Conversations/User_27_CB_20221202_142713/Audios/Subject_User_27_CB_T=11.wav\n",
      "Bad audio D:/GuardarDatosLableniBOT/User_28_CB/User_28_CB_Conversations/User_28_CB_20221205_095208/Audios/Subject_User_28_CB_T=6.wav\n",
      "Bad audio D:/GuardarDatosLableniBOT/User_30_CB/User_30_CB_Conversations/User_30_CB_20221205_135907/Audios/Subject_User_30_CB_T=6.wav\n",
      "Bad audio D:/GuardarDatosLableniBOT/User_30_CB/User_30_CB_Conversations/User_30_CB_20221205_140607/Audios/Subject_User_30_CB_T=15.wav\n",
      "Bad audio D:/GuardarDatosLableniBOT/User_30_CB/User_30_CB_Conversations/User_30_CB_20221205_142235/Audios/Subject_User_30_CB_T=5.wav\n",
      "Bad audio D:/GuardarDatosLableniBOT/User_32_CB/User_32_CB_Conversations/User_32_CB_20221207_115042/Audios/Subject_User_32_CB_T=10.wav\n",
      "Bad audio D:/GuardarDatosLableniBOT/User_32_CB/User_32_CB_Conversations/User_32_CB_20221207_115814/Audios/Subject_User_32_CB_T=9.wav\n",
      "Bad audio D:/GuardarDatosLableniBOT/User_32_CB/User_32_CB_Conversations/User_32_CB_20221207_121214/Audios/Subject_User_32_CB_T=8.wav\n",
      "Bad audio D:/GuardarDatosLableniBOT/User_34_CB/User_34_CB_Conversations/User_34_CB_20221209_095936/Audios/Subject_User_34_CB_T=7.wav\n",
      "Bad audio D:/GuardarDatosLableniBOT/User_34_CB/User_34_CB_Conversations/User_34_CB_20221209_100537/Audios/Subject_User_34_CB_T=7.wav\n",
      "Bad audio D:/GuardarDatosLableniBOT/User_34_CB/User_34_CB_Conversations/User_34_CB_20221209_101326/Audios/Subject_User_34_CB_T=6.wav\n",
      "Bad audio D:/GuardarDatosLableniBOT/User_34_CB/User_34_CB_Conversations/User_34_CB_20221209_101829/Audios/Subject_User_34_CB_T=7.wav\n",
      "Bad audio D:/GuardarDatosLableniBOT/User_34_CB/User_34_CB_Conversations/User_34_CB_20221209_102424/Audios/Subject_User_34_CB_T=10.wav\n",
      "Bad audio D:/GuardarDatosLableniBOT/User_35_CB/User_35_CB_Conversations/User_35_CB_20221209_114448/Audios/Subject_User_35_CB_T=9.wav\n",
      "Bad audio D:/GuardarDatosLableniBOT/User_35_CB/User_35_CB_Conversations/User_35_CB_20221209_120247/Audios/Subject_User_35_CB_T=10.wav\n",
      "Bad audio D:/GuardarDatosLableniBOT/User_38_CB/User_38_CB_Conversations/User_38_CB_20221213_114832/Audios/Subject_User_38_CB_T=8.wav\n",
      "Bad audio D:/GuardarDatosLableniBOT/User_40_CB/User_40_CB_Conversations/User_40_CB_20221214_095635/Audios/Subject_User_40_CB_T=10.wav\n",
      "Bad audio D:/GuardarDatosLableniBOT/User_40_CB/User_40_CB_Conversations/User_40_CB_20221214_101407/Audios/Subject_User_40_CB_T=7.wav\n",
      "Bad audio D:/GuardarDatosLableniBOT/User_40_CB/User_40_CB_Conversations/User_40_CB_20221214_102115/Audios/Subject_User_40_CB_T=7.wav\n",
      "Bad audio D:/GuardarDatosLableniBOT/User_41_CB/User_41_CB_Conversations/User_41_CB_20221214_120943/Audios/Subject_User_41_CB_T=6.wav\n",
      "Bad audio D:/GuardarDatosLableniBOT/User_43_CB/User_43_CB_Conversations/User_43_CB_20221215_101326/Audios/Subject_User_43_CB_T=12.wav\n",
      "Bad audio D:/GuardarDatosLableniBOT/User_43_CB/User_43_CB_Conversations/User_43_CB_20221215_104218/Audios/Subject_User_43_CB_T=7.wav\n",
      "Subject User_45_CB\r"
     ]
    },
    {
     "ename": "IndexError",
     "evalue": "list index out of range",
     "output_type": "error",
     "traceback": [
      "\u001b[1;31m---------------------------------------------------------------------------\u001b[0m",
      "\u001b[1;31mIndexError\u001b[0m                                Traceback (most recent call last)",
      "\u001b[1;32m~\\AppData\\Local\\Temp\\ipykernel_8008\\982843214.py\u001b[0m in \u001b[0;36m<module>\u001b[1;34m\u001b[0m\n\u001b[0;32m     10\u001b[0m                 \u001b[0mpath_to_subj_conv\u001b[0m \u001b[1;33m=\u001b[0m \u001b[0mpath_to_conv_2\u001b[0m \u001b[1;33m+\u001b[0m \u001b[0mfile\u001b[0m\u001b[1;33m\u001b[0m\u001b[1;33m\u001b[0m\u001b[0m\n\u001b[0;32m     11\u001b[0m                 \u001b[1;31m# try:\u001b[0m\u001b[1;33m\u001b[0m\u001b[1;33m\u001b[0m\u001b[1;33m\u001b[0m\u001b[0m\n\u001b[1;32m---> 12\u001b[1;33m                 \u001b[0mcsv_name\u001b[0m \u001b[1;33m=\u001b[0m \u001b[1;33m[\u001b[0m\u001b[0mfile\u001b[0m \u001b[1;32mfor\u001b[0m \u001b[0mfile\u001b[0m \u001b[1;32min\u001b[0m \u001b[0mos\u001b[0m\u001b[1;33m.\u001b[0m\u001b[0mlistdir\u001b[0m\u001b[1;33m(\u001b[0m\u001b[0mpath_to_subj_conv\u001b[0m\u001b[1;33m)\u001b[0m \u001b[1;32mif\u001b[0m \u001b[1;34m\".csv\"\u001b[0m \u001b[1;32min\u001b[0m \u001b[0mfile\u001b[0m\u001b[1;33m]\u001b[0m\u001b[1;33m[\u001b[0m\u001b[1;36m0\u001b[0m\u001b[1;33m]\u001b[0m\u001b[1;33m\u001b[0m\u001b[1;33m\u001b[0m\u001b[0m\n\u001b[0m\u001b[0;32m     13\u001b[0m                 \u001b[0mdf_x\u001b[0m \u001b[1;33m=\u001b[0m \u001b[0mpd\u001b[0m\u001b[1;33m.\u001b[0m\u001b[0mread_csv\u001b[0m\u001b[1;33m(\u001b[0m\u001b[0mpath_to_subj_conv\u001b[0m \u001b[1;33m+\u001b[0m \u001b[1;34m\"/\"\u001b[0m \u001b[1;33m+\u001b[0m \u001b[0mcsv_name\u001b[0m\u001b[1;33m,\u001b[0m \u001b[0msep\u001b[0m\u001b[1;33m=\u001b[0m\u001b[1;34m\";\"\u001b[0m\u001b[1;33m)\u001b[0m\u001b[1;33m\u001b[0m\u001b[1;33m\u001b[0m\u001b[0m\n\u001b[0;32m     14\u001b[0m                 \u001b[1;32mif\u001b[0m \u001b[0mdf_x\u001b[0m\u001b[1;33m.\u001b[0m\u001b[0mshape\u001b[0m\u001b[1;33m[\u001b[0m\u001b[1;36m0\u001b[0m\u001b[1;33m]\u001b[0m \u001b[1;33m>\u001b[0m \u001b[1;36m2\u001b[0m\u001b[1;33m:\u001b[0m\u001b[1;33m\u001b[0m\u001b[1;33m\u001b[0m\u001b[0m\n",
      "\u001b[1;31mIndexError\u001b[0m: list index out of range"
     ]
    }
   ],
   "source": [
    "path_to_convs = \"D:/GuardarDatosLableniBOT\"\n",
    "\n",
    "all_df_list = []\n",
    "for subj in os.listdir(path_to_convs)[:]:\n",
    "    if \"User\" in subj:\n",
    "        print(\"Subject\", subj, end=\"\\r\")\n",
    "        path_to_conv_2 = path_to_convs + \"/\" + subj + \"/\" + subj + \"_Conversations/\"\n",
    "        for file in os.listdir(path_to_conv_2):\n",
    "            if \"User\" in file:\n",
    "                path_to_subj_conv = path_to_conv_2 + file\n",
    "                # try:\n",
    "                csv_name = [file for file in os.listdir(path_to_subj_conv) if \".csv\" in file][0]\n",
    "                df_x = pd.read_csv(path_to_subj_conv + \"/\" + csv_name, sep=\";\")\n",
    "                if df_x.shape[0] > 2:\n",
    "\n",
    "                    df_x[\"DeltaHumanTalk\"] = np.nan\n",
    "                    delta_talk_list = get_audio_talk_duration(path_to_subj_conv)\n",
    "                    d_talk_nona_list = [t for t in delta_talk_list if not np.isnan(t)]\n",
    "                    source_person = df_x[\"Source\"] == \"Person\"\n",
    "                    if np.sum(source_person) < len(d_talk_nona_list):\n",
    "                        df_x.loc[source_person, \"DeltaHumanTalk\"] = d_talk_nona_list[:np.sum(source_person)]\n",
    "                    elif np.sum(source_person) == len(d_talk_nona_list):\n",
    "                        df_x.loc[source_person, \"DeltaHumanTalk\"] = d_talk_nona_list\n",
    "                    else:\n",
    "                        for _ in range(np.sum(source_person) - len(d_talk_nona_list)):\n",
    "                            d_talk_nona_list.append(np.nan)\n",
    "                        df_x.loc[source_person, \"DeltaHumanTalk\"] = d_talk_nona_list\n",
    "\n",
    "                    all_df_list.append(df_x)\n",
    "                # except:\n",
    "                    # print(\"Bad subject\", path_to_subj_conv + \"/\" + csv_name)"
   ]
  },
  {
   "cell_type": "code",
   "execution_count": null,
   "id": "32f85e45",
   "metadata": {
    "ExecuteTime": {
     "end_time": "2023-02-16T19:12:12.349417Z",
     "start_time": "2023-02-16T19:12:12.331399Z"
    }
   },
   "outputs": [],
   "source": []
  },
  {
   "cell_type": "code",
   "execution_count": 18,
   "id": "d0dd4031",
   "metadata": {
    "ExecuteTime": {
     "end_time": "2023-02-16T19:08:18.625600Z",
     "start_time": "2023-02-16T19:08:18.216232Z"
    }
   },
   "outputs": [],
   "source": [
    "result_process_data_list = []\n",
    "for data in all_df_list:\n",
    "    \n",
    "    personality, gender, _ = data[\"ConfigName\"].iloc[0].split(\"_\")\n",
    "    \n",
    "    gender = \"Female\" if gender == \"Woman\" else gender\n",
    "    gender = \"Male\" if gender == \"Man\" else gender\n",
    "    \n",
    "    human_time_talk = (data[\"PersonTalkEndUnix\"] - data[\"PersonTalkStartUnix\"]).dropna().values\n",
    "    bot_time_talk = (data[\"BotTalkEndUnix\"] - data[\"BotTalkStartUnix\"]).dropna().values\n",
    "    conv_time = (data[\"UnixTimeSave\"].iloc[-1] - data[\"UnixTimestampLoopInit\"].iloc[0])/60\n",
    "    max_num_pair_sentence = np.max([\n",
    "        label for label in data[\"ConversationSentenceId\"].unique() if np.sum(data[\"ConversationSentenceId\"] == label) == 2\n",
    "    ])\n",
    "    result_process_data_list.append({\n",
    "        \"SubjectId\": data[\"SubjectId\"].iloc[0],\n",
    "        \"ChatbotName\": data[\"ChatbotName\"].iloc[0],\n",
    "        \"Gender\": gender,\n",
    "        \"Personality\": personality,\n",
    "        \"UnixLoopStart\": data[\"UnixTimestampLoopInit\"].iloc[0],\n",
    "        \"MeanHumanTime_s\": np.mean(human_time_talk),\n",
    "        \"StdHumanTime_s\": np.std(human_time_talk),\n",
    "        \"MaxHumanTime_s\": np.max(human_time_talk),\n",
    "        \"FromAudioMeanHumanTime_s\": np.nanmean(data[\"DeltaHumanTalk\"]),\n",
    "        \"FromAudioStdHumanTime_s\": np.nanstd(data[\"DeltaHumanTalk\"]),\n",
    "        \"FromAudioMaxHumanTime_s\": np.nanmax(data[\"DeltaHumanTalk\"]),\n",
    "        \"MeanBotTime_s\": np.mean(bot_time_talk),\n",
    "        \"StdBotTime_s\": np.std(bot_time_talk),\n",
    "        \"MaxBotTime_s\": np.max(bot_time_talk),\n",
    "        \"ConvTime_min\": conv_time,\n",
    "        \"NumberOfSentences\": data.shape[0],\n",
    "        \"MaxNumQA\": max_num_pair_sentence,\n",
    "        \"NumSentencePerson\": np.sum(data[\"Source\"] == \"Person\"),\n",
    "        \"NumSentenceBot\": np.sum(data[\"Source\"] == \"Bot\"),\n",
    "    })\n",
    "    \n",
    "df_res_process = pd.DataFrame(result_process_data_list)"
   ]
  },
  {
   "cell_type": "code",
   "execution_count": 19,
   "id": "aca3a806",
   "metadata": {
    "ExecuteTime": {
     "end_time": "2023-02-16T19:08:19.904203Z",
     "start_time": "2023-02-16T19:08:19.882183Z"
    }
   },
   "outputs": [
    {
     "name": "stdout",
     "output_type": "stream",
     "text": [
      "Index(['SubjectId', 'ChatbotName', 'Gender', 'Personality', 'UnixLoopStart',\n",
      "       'MeanHumanTime_s', 'StdHumanTime_s', 'MaxHumanTime_s',\n",
      "       'FromAudioMeanHumanTime_s', 'FromAudioStdHumanTime_s',\n",
      "       'FromAudioMaxHumanTime_s', 'MeanBotTime_s', 'StdBotTime_s',\n",
      "       'MaxBotTime_s', 'ConvTime_min', 'NumberOfSentences', 'MaxNumQA'],\n",
      "      dtype='object')\n",
      "Shape (206, 17)\n"
     ]
    },
    {
     "data": {
      "text/html": [
       "<div>\n",
       "<style scoped>\n",
       "    .dataframe tbody tr th:only-of-type {\n",
       "        vertical-align: middle;\n",
       "    }\n",
       "\n",
       "    .dataframe tbody tr th {\n",
       "        vertical-align: top;\n",
       "    }\n",
       "\n",
       "    .dataframe thead th {\n",
       "        text-align: right;\n",
       "    }\n",
       "</style>\n",
       "<table border=\"1\" class=\"dataframe\">\n",
       "  <thead>\n",
       "    <tr style=\"text-align: right;\">\n",
       "      <th></th>\n",
       "      <th>SubjectId</th>\n",
       "      <th>ChatbotName</th>\n",
       "      <th>Gender</th>\n",
       "      <th>Personality</th>\n",
       "      <th>UnixLoopStart</th>\n",
       "      <th>MeanHumanTime_s</th>\n",
       "      <th>StdHumanTime_s</th>\n",
       "      <th>MaxHumanTime_s</th>\n",
       "      <th>FromAudioMeanHumanTime_s</th>\n",
       "      <th>FromAudioStdHumanTime_s</th>\n",
       "      <th>FromAudioMaxHumanTime_s</th>\n",
       "      <th>MeanBotTime_s</th>\n",
       "      <th>StdBotTime_s</th>\n",
       "      <th>MaxBotTime_s</th>\n",
       "      <th>ConvTime_min</th>\n",
       "      <th>NumberOfSentences</th>\n",
       "      <th>MaxNumQA</th>\n",
       "    </tr>\n",
       "  </thead>\n",
       "  <tbody>\n",
       "    <tr>\n",
       "      <th>0</th>\n",
       "      <td>User_11_CB</td>\n",
       "      <td>Ana</td>\n",
       "      <td>Female</td>\n",
       "      <td>Neutral</td>\n",
       "      <td>1.669194e+09</td>\n",
       "      <td>7.487375</td>\n",
       "      <td>1.557242</td>\n",
       "      <td>9.394597</td>\n",
       "      <td>2.446875</td>\n",
       "      <td>0.729734</td>\n",
       "      <td>3.661875</td>\n",
       "      <td>4.908687</td>\n",
       "      <td>1.552132</td>\n",
       "      <td>7.341591</td>\n",
       "      <td>1.507762</td>\n",
       "      <td>11</td>\n",
       "      <td>4</td>\n",
       "    </tr>\n",
       "    <tr>\n",
       "      <th>1</th>\n",
       "      <td>User_11_CB</td>\n",
       "      <td>Alejandro</td>\n",
       "      <td>Male</td>\n",
       "      <td>Neutral</td>\n",
       "      <td>1.669194e+09</td>\n",
       "      <td>7.017915</td>\n",
       "      <td>1.364921</td>\n",
       "      <td>9.427634</td>\n",
       "      <td>3.405586</td>\n",
       "      <td>1.865663</td>\n",
       "      <td>7.171875</td>\n",
       "      <td>5.090596</td>\n",
       "      <td>1.010189</td>\n",
       "      <td>6.823508</td>\n",
       "      <td>4.313851</td>\n",
       "      <td>33</td>\n",
       "      <td>15</td>\n",
       "    </tr>\n",
       "    <tr>\n",
       "      <th>2</th>\n",
       "      <td>User_11_CB</td>\n",
       "      <td>Lucía</td>\n",
       "      <td>Female</td>\n",
       "      <td>Relax</td>\n",
       "      <td>1.669195e+09</td>\n",
       "      <td>6.244338</td>\n",
       "      <td>0.010837</td>\n",
       "      <td>6.255175</td>\n",
       "      <td>1.468125</td>\n",
       "      <td>0.641250</td>\n",
       "      <td>2.109375</td>\n",
       "      <td>5.983278</td>\n",
       "      <td>0.419997</td>\n",
       "      <td>6.486332</td>\n",
       "      <td>0.675252</td>\n",
       "      <td>5</td>\n",
       "      <td>1</td>\n",
       "    </tr>\n",
       "    <tr>\n",
       "      <th>3</th>\n",
       "      <td>User_11_CB</td>\n",
       "      <td>Carlos</td>\n",
       "      <td>Male</td>\n",
       "      <td>Angry</td>\n",
       "      <td>1.669195e+09</td>\n",
       "      <td>7.823977</td>\n",
       "      <td>1.575770</td>\n",
       "      <td>9.464282</td>\n",
       "      <td>4.159688</td>\n",
       "      <td>2.401103</td>\n",
       "      <td>8.420625</td>\n",
       "      <td>8.883119</td>\n",
       "      <td>3.366829</td>\n",
       "      <td>15.931445</td>\n",
       "      <td>4.342793</td>\n",
       "      <td>24</td>\n",
       "      <td>11</td>\n",
       "    </tr>\n",
       "    <tr>\n",
       "      <th>4</th>\n",
       "      <td>User_11_CB</td>\n",
       "      <td>María</td>\n",
       "      <td>Female</td>\n",
       "      <td>Happy</td>\n",
       "      <td>1.669196e+09</td>\n",
       "      <td>6.523247</td>\n",
       "      <td>0.907325</td>\n",
       "      <td>9.391859</td>\n",
       "      <td>2.646307</td>\n",
       "      <td>1.516103</td>\n",
       "      <td>6.480000</td>\n",
       "      <td>6.862201</td>\n",
       "      <td>2.464372</td>\n",
       "      <td>11.795177</td>\n",
       "      <td>3.358991</td>\n",
       "      <td>23</td>\n",
       "      <td>10</td>\n",
       "    </tr>\n",
       "    <tr>\n",
       "      <th>5</th>\n",
       "      <td>User_11_CB</td>\n",
       "      <td>Daniel</td>\n",
       "      <td>Male</td>\n",
       "      <td>Sad</td>\n",
       "      <td>1.669196e+09</td>\n",
       "      <td>9.405147</td>\n",
       "      <td>4.663871</td>\n",
       "      <td>18.943190</td>\n",
       "      <td>5.325469</td>\n",
       "      <td>4.437919</td>\n",
       "      <td>13.584375</td>\n",
       "      <td>7.447752</td>\n",
       "      <td>2.813411</td>\n",
       "      <td>14.109570</td>\n",
       "      <td>4.323107</td>\n",
       "      <td>24</td>\n",
       "      <td>11</td>\n",
       "    </tr>\n",
       "    <tr>\n",
       "      <th>6</th>\n",
       "      <td>User_12_CB</td>\n",
       "      <td>David</td>\n",
       "      <td>Male</td>\n",
       "      <td>Neutral</td>\n",
       "      <td>1.669201e+09</td>\n",
       "      <td>8.172129</td>\n",
       "      <td>4.425992</td>\n",
       "      <td>22.151716</td>\n",
       "      <td>1.808221</td>\n",
       "      <td>1.037859</td>\n",
       "      <td>4.083750</td>\n",
       "      <td>6.085023</td>\n",
       "      <td>1.893712</td>\n",
       "      <td>8.502159</td>\n",
       "      <td>4.144871</td>\n",
       "      <td>27</td>\n",
       "      <td>12</td>\n",
       "    </tr>\n",
       "    <tr>\n",
       "      <th>7</th>\n",
       "      <td>User_12_CB</td>\n",
       "      <td>Laura</td>\n",
       "      <td>Female</td>\n",
       "      <td>Neutral</td>\n",
       "      <td>1.669202e+09</td>\n",
       "      <td>7.170712</td>\n",
       "      <td>1.449513</td>\n",
       "      <td>9.396725</td>\n",
       "      <td>2.009812</td>\n",
       "      <td>1.292727</td>\n",
       "      <td>4.336875</td>\n",
       "      <td>7.202766</td>\n",
       "      <td>2.059395</td>\n",
       "      <td>10.485668</td>\n",
       "      <td>3.305628</td>\n",
       "      <td>21</td>\n",
       "      <td>9</td>\n",
       "    </tr>\n",
       "    <tr>\n",
       "      <th>8</th>\n",
       "      <td>User_12_CB</td>\n",
       "      <td>Pablo</td>\n",
       "      <td>Male</td>\n",
       "      <td>Relax</td>\n",
       "      <td>1.669202e+09</td>\n",
       "      <td>6.677848</td>\n",
       "      <td>1.100366</td>\n",
       "      <td>9.377840</td>\n",
       "      <td>1.975580</td>\n",
       "      <td>1.022306</td>\n",
       "      <td>3.864375</td>\n",
       "      <td>6.901148</td>\n",
       "      <td>3.434003</td>\n",
       "      <td>15.908851</td>\n",
       "      <td>4.235855</td>\n",
       "      <td>29</td>\n",
       "      <td>13</td>\n",
       "    </tr>\n",
       "    <tr>\n",
       "      <th>9</th>\n",
       "      <td>User_12_CB</td>\n",
       "      <td>Marta</td>\n",
       "      <td>Female</td>\n",
       "      <td>Angry</td>\n",
       "      <td>1.669202e+09</td>\n",
       "      <td>8.337839</td>\n",
       "      <td>2.592614</td>\n",
       "      <td>12.571239</td>\n",
       "      <td>3.193125</td>\n",
       "      <td>2.030894</td>\n",
       "      <td>6.598125</td>\n",
       "      <td>8.347744</td>\n",
       "      <td>5.054337</td>\n",
       "      <td>17.929290</td>\n",
       "      <td>3.485238</td>\n",
       "      <td>19</td>\n",
       "      <td>8</td>\n",
       "    </tr>\n",
       "  </tbody>\n",
       "</table>\n",
       "</div>"
      ],
      "text/plain": [
       "    SubjectId ChatbotName  Gender Personality  UnixLoopStart  MeanHumanTime_s  \\\n",
       "0  User_11_CB         Ana  Female     Neutral   1.669194e+09         7.487375   \n",
       "1  User_11_CB   Alejandro    Male     Neutral   1.669194e+09         7.017915   \n",
       "2  User_11_CB       Lucía  Female       Relax   1.669195e+09         6.244338   \n",
       "3  User_11_CB      Carlos    Male       Angry   1.669195e+09         7.823977   \n",
       "4  User_11_CB       María  Female       Happy   1.669196e+09         6.523247   \n",
       "5  User_11_CB      Daniel    Male         Sad   1.669196e+09         9.405147   \n",
       "6  User_12_CB       David    Male     Neutral   1.669201e+09         8.172129   \n",
       "7  User_12_CB       Laura  Female     Neutral   1.669202e+09         7.170712   \n",
       "8  User_12_CB       Pablo    Male       Relax   1.669202e+09         6.677848   \n",
       "9  User_12_CB       Marta  Female       Angry   1.669202e+09         8.337839   \n",
       "\n",
       "   StdHumanTime_s  MaxHumanTime_s  FromAudioMeanHumanTime_s  \\\n",
       "0        1.557242        9.394597                  2.446875   \n",
       "1        1.364921        9.427634                  3.405586   \n",
       "2        0.010837        6.255175                  1.468125   \n",
       "3        1.575770        9.464282                  4.159688   \n",
       "4        0.907325        9.391859                  2.646307   \n",
       "5        4.663871       18.943190                  5.325469   \n",
       "6        4.425992       22.151716                  1.808221   \n",
       "7        1.449513        9.396725                  2.009812   \n",
       "8        1.100366        9.377840                  1.975580   \n",
       "9        2.592614       12.571239                  3.193125   \n",
       "\n",
       "   FromAudioStdHumanTime_s  FromAudioMaxHumanTime_s  MeanBotTime_s  \\\n",
       "0                 0.729734                 3.661875       4.908687   \n",
       "1                 1.865663                 7.171875       5.090596   \n",
       "2                 0.641250                 2.109375       5.983278   \n",
       "3                 2.401103                 8.420625       8.883119   \n",
       "4                 1.516103                 6.480000       6.862201   \n",
       "5                 4.437919                13.584375       7.447752   \n",
       "6                 1.037859                 4.083750       6.085023   \n",
       "7                 1.292727                 4.336875       7.202766   \n",
       "8                 1.022306                 3.864375       6.901148   \n",
       "9                 2.030894                 6.598125       8.347744   \n",
       "\n",
       "   StdBotTime_s  MaxBotTime_s  ConvTime_min  NumberOfSentences  MaxNumQA  \n",
       "0      1.552132      7.341591      1.507762                 11         4  \n",
       "1      1.010189      6.823508      4.313851                 33        15  \n",
       "2      0.419997      6.486332      0.675252                  5         1  \n",
       "3      3.366829     15.931445      4.342793                 24        11  \n",
       "4      2.464372     11.795177      3.358991                 23        10  \n",
       "5      2.813411     14.109570      4.323107                 24        11  \n",
       "6      1.893712      8.502159      4.144871                 27        12  \n",
       "7      2.059395     10.485668      3.305628                 21         9  \n",
       "8      3.434003     15.908851      4.235855                 29        13  \n",
       "9      5.054337     17.929290      3.485238                 19         8  "
      ]
     },
     "execution_count": 19,
     "metadata": {},
     "output_type": "execute_result"
    }
   ],
   "source": [
    "print(df_res_process.columns)\n",
    "print(\"Shape\", df_res_process.shape)\n",
    "df_res_process.head(10)"
   ]
  },
  {
   "cell_type": "code",
   "execution_count": 20,
   "id": "61d629f4",
   "metadata": {
    "ExecuteTime": {
     "end_time": "2023-02-16T19:08:22.001905Z",
     "start_time": "2023-02-16T19:08:21.998910Z"
    }
   },
   "outputs": [],
   "source": [
    "df_res_process[\"SubjectId\"] = df_res_process[\"SubjectId\"].replace(\"Alejandro\", \"User_10_CB\")"
   ]
  },
  {
   "cell_type": "code",
   "execution_count": 37,
   "id": "dddc4fea",
   "metadata": {
    "ExecuteTime": {
     "end_time": "2023-02-16T19:14:43.416255Z",
     "start_time": "2023-02-16T19:14:43.403238Z"
    }
   },
   "outputs": [
    {
     "name": "stdout",
     "output_type": "stream",
     "text": [
      "Number of Subjects 35\n",
      "Subjects ['User_11_CB' 'User_12_CB' 'User_13_CB' 'User_14_CB' 'User_15_CB'\n",
      " 'User_16_CB' 'User_17_CB' 'User_18_CB' 'User_19_CB' 'User_20_CB'\n",
      " 'User_21_CB' 'User_22_CB' 'User_23_CB' 'User_24_CB' 'User_25_CB'\n",
      " 'User_26_CB' 'User_27_CB' 'User_28_CB' 'User_29_CB' 'User_30_CB'\n",
      " 'User_31_CB' 'User_32_CB' 'User_33_CB' 'User_34_CB' 'User_35_CB'\n",
      " 'User_36_CB' 'User_37_CB' 'User_38_CB' 'User_39_CB' 'User_40_CB'\n",
      " 'User_41_CB' 'User_42_CB' 'User_43_CB' 'User_44_CB' 'User_45_CB']\n"
     ]
    }
   ],
   "source": [
    "print(\"Number of Subjects\", df_res_process[\"SubjectId\"].nunique())\n",
    "print(\"Subjects\", df_res_process[\"SubjectId\"].unique())"
   ]
  },
  {
   "cell_type": "code",
   "execution_count": 36,
   "id": "455d0cec",
   "metadata": {
    "ExecuteTime": {
     "end_time": "2023-02-16T19:13:58.717582Z",
     "start_time": "2023-02-16T19:13:58.578931Z"
    }
   },
   "outputs": [
    {
     "data": {
      "image/png": "[encoded data removed]",
      "text/plain": [
       "<Figure size 1080x432 with 1 Axes>"
      ]
     },
     "metadata": {
      "needs_background": "light"
     },
     "output_type": "display_data"
    }
   ],
   "source": [
    "plt.figure(figsize=(15, 6))\n",
    "\n",
    "plt.hist(df_res_process[\"FromAudioMeanHumanTime_s\"], bins=31, alpha=0.6)\n",
    "plt.hist(df_res_process[\"MeanBotTime_s\"], bins=31, alpha=0.6)\n",
    "\n",
    "plt.show()"
   ]
  },
  {
   "cell_type": "code",
   "execution_count": null,
   "id": "fe451483",
   "metadata": {},
   "outputs": [],
   "source": []
  },
  {
   "cell_type": "code",
   "execution_count": 47,
   "id": "19a7ffac",
   "metadata": {
    "ExecuteTime": {
     "end_time": "2023-01-23T15:47:38.500759Z",
     "start_time": "2023-01-23T15:47:38.480736Z"
    }
   },
   "outputs": [],
   "source": [
    "df_res_process.to_csv(\"Results/DataConvProcessed.csv\", sep=\";\", index=False)"
   ]
  },
  {
   "cell_type": "code",
   "execution_count": null,
   "id": "217fd1ec",
   "metadata": {},
   "outputs": [],
   "source": []
  }
 ],
 "metadata": {
  "kernelspec": {
   "display_name": "Python 3 (ipykernel)",
   "language": "python",
   "name": "python3"
  },
  "language_info": {
   "codemirror_mode": {
    "name": "ipython",
    "version": 3
   },
   "file_extension": ".py",
   "mimetype": "text/x-python",
   "name": "python",
   "nbconvert_exporter": "python",
   "pygments_lexer": "ipython3",
   "version": "3.7.8"
  },
  "latex_envs": {
   "LaTeX_envs_menu_present": true,
   "autoclose": false,
   "autocomplete": true,
   "bibliofile": "biblio.bib",
   "cite_by": "apalike",
   "current_citInitial": 1,
   "eqLabelWithNumbers": true,
   "eqNumInitial": 1,
   "hotkeys": {
    "equation": "Ctrl-E",
    "itemize": "Ctrl-I"
   },
   "labels_anchors": false,
   "latex_user_defs": false,
   "report_style_numbering": false,
   "user_envs_cfg": false
  }
 },
 "nbformat": 4,
 "nbformat_minor": 5
}
