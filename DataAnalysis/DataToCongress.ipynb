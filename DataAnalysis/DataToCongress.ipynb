{
 "cells": [
  {
   "cell_type": "code",
   "execution_count": 1,
   "id": "ee505740",
   "metadata": {
    "ExecuteTime": {
     "end_time": "2023-01-23T15:07:49.882560Z",
     "start_time": "2023-01-23T15:07:47.142407Z"
    }
   },
   "outputs": [
    {
     "name": "stderr",
     "output_type": "stream",
     "text": [
      "[nltk_data] Downloading package punkt to\n",
      "[nltk_data]     C:\\Users\\Jose\\AppData\\Roaming\\nltk_data...\n",
      "[nltk_data]   Package punkt is already up-to-date!\n",
      "[nltk_data] Error loading tokenizers/punkt/spanish.pickle: Package\n",
      "[nltk_data]     'tokenizers/punkt/spanish.pickle' not found in index\n",
      "[nltk_data] Downloading package stopwords to\n",
      "[nltk_data]     C:\\Users\\Jose\\AppData\\Roaming\\nltk_data...\n",
      "[nltk_data]   Package stopwords is already up-to-date!\n"
     ]
    }
   ],
   "source": [
    "import os\n",
    "import numpy as np\n",
    "import pandas as pd\n",
    "import matplotlib.pyplot as plt\n",
    "import scipy as sp\n",
    "import json\n",
    "import random\n",
    "import seaborn as sns\n",
    "import re\n",
    "\n",
    "import spacy\n",
    "\n",
    "# Text analysis\n",
    "import nltk\n",
    "from nltk.tokenize import sent_tokenize, word_tokenize\n",
    "from nltk.stem.snowball import SpanishStemmer\n",
    "from nltk.corpus import stopwords\n",
    "nltk.download('punkt')\n",
    "nltk.download('tokenizers/punkt/spanish.pickle')\n",
    "nltk.download('stopwords')\n",
    "\n",
    "import unicodedata\n",
    "\n",
    "from wordcloud import WordCloud, STOPWORDS\n",
    "\n",
    "# ### Scikit-Learn ###\n",
    "from sklearn.pipeline import Pipeline\n",
    "from sklearn.preprocessing import StandardScaler, MinMaxScaler\n",
    "from sklearn.model_selection import StratifiedGroupKFold, StratifiedKFold, RepeatedStratifiedKFold\n",
    "from sklearn.linear_model import LinearRegression, LogisticRegression\n",
    "from sklearn.ensemble import RandomForestClassifier\n",
    "from sklearn import metrics as skmetrics\n",
    "\n",
    "import analysis_utils as aute"
   ]
  },
  {
   "cell_type": "code",
   "execution_count": null,
   "id": "39341d6b",
   "metadata": {
    "ExecuteTime": {
     "end_time": "2023-01-23T14:56:30.307048Z",
     "start_time": "2023-01-23T14:56:30.298016Z"
    }
   },
   "outputs": [],
   "source": []
  },
  {
   "cell_type": "code",
   "execution_count": 2,
   "id": "de272dc3",
   "metadata": {
    "ExecuteTime": {
     "end_time": "2023-01-23T15:08:02.366724Z",
     "start_time": "2023-01-23T15:07:49.884564Z"
    }
   },
   "outputs": [
    {
     "name": "stdout",
     "output_type": "stream",
     "text": [
      "Bad subject D:/GuardarDatosLableniBOT/User_02_CB/User_02_CB_Conversations/User_02_CB_20221116_123151/Conv_20221116_122202.csv\n",
      "Bad subject D:/GuardarDatosLableniBOT/User_10_CB/User_10_CB_Conversations/GuideOfTimes_User_10_CB.csv/Conv_20221118_144128.csv\n",
      "Bad subject D:/GuardarDatosLableniBOT/User_10_CB/User_10_CB_Conversations/GuideOfTimes_User_10_CB.pkl/Conv_20221118_144128.csv\n",
      "Bad subject D:/GuardarDatosLableniBOT/User_45_CB/User_45_CB_Conversations/User_45_CB_20221215_141244/Conv_20221215_140335.csv\n",
      "Bad subject D:/GuardarDatosLableniBOT/User_45_CB/User_45_CB_Conversations/User_45_CB_20221215_143002/Conv_20221215_142512.csv\n",
      "Bad subject D:/GuardarDatosLableniBOT/User_50_CB/User_50_CB_Conversations/User_50_CB_20221219_144734/Conv_20221219_144031.csv\n"
     ]
    }
   ],
   "source": [
    "path_to_convs = \"D:/GuardarDatosLableniBOT\"\n",
    "\n",
    "all_df_list = []\n",
    "for subj in os.listdir(path_to_convs):\n",
    "    if \"User\" in subj:\n",
    "        path_to_conv_2 = path_to_convs + \"/\" + subj + \"/\" + subj + \"_Conversations/\"\n",
    "        for file in os.listdir(path_to_conv_2):\n",
    "            if \"User\" in file:\n",
    "                path_to_subj_conv = path_to_conv_2 + file\n",
    "                try:\n",
    "                    csv_name = [file for file in os.listdir(path_to_subj_conv) if \".csv\" in file][0]\n",
    "                    df_x = pd.read_csv(path_to_subj_conv + \"/\" + csv_name, sep=\";\")\n",
    "                    if df_x.shape[0] > 2:\n",
    "                        all_df_list.append(df_x)\n",
    "                except:\n",
    "                    print(\"Bad subject\", path_to_subj_conv + \"/\" + csv_name)"
   ]
  },
  {
   "cell_type": "code",
   "execution_count": 5,
   "id": "4f88e3ff",
   "metadata": {
    "ExecuteTime": {
     "end_time": "2023-01-23T15:08:40.568304Z",
     "start_time": "2023-01-23T15:08:40.553031Z"
    }
   },
   "outputs": [
    {
     "name": "stdout",
     "output_type": "stream",
     "text": [
      "Number of conversations 312\n"
     ]
    }
   ],
   "source": [
    "print(\"Number of conversations\", len(all_df_list))"
   ]
  },
  {
   "cell_type": "code",
   "execution_count": null,
   "id": "dbb10304",
   "metadata": {
    "ExecuteTime": {
     "end_time": "2023-01-23T15:08:02.382757Z",
     "start_time": "2023-01-23T15:08:02.367726Z"
    }
   },
   "outputs": [],
   "source": []
  },
  {
   "cell_type": "code",
   "execution_count": 37,
   "id": "d0dd4031",
   "metadata": {
    "ExecuteTime": {
     "end_time": "2023-01-23T15:38:44.690683Z",
     "start_time": "2023-01-23T15:38:44.138228Z"
    }
   },
   "outputs": [],
   "source": [
    "result_process_data_list = []\n",
    "for data in all_df_list:\n",
    "    \n",
    "    personality, gender, _ = data[\"ConfigName\"].iloc[0].split(\"_\")\n",
    "    \n",
    "    gender = \"Female\" if gender == \"Woman\" else gender\n",
    "    gender = \"Male\" if gender == \"Man\" else gender\n",
    "    \n",
    "    human_time_talk = (data[\"PersonTalkEndUnix\"] - data[\"PersonTalkStartUnix\"]).dropna().values\n",
    "    bot_time_talk = (data[\"BotTalkEndUnix\"] - data[\"BotTalkStartUnix\"]).dropna().values\n",
    "    conv_time = (data[\"UnixTimeSave\"].iloc[-1] - data[\"UnixTimestampLoopInit\"].iloc[0])/60\n",
    "    max_num_pair_sentence = np.max([\n",
    "        label for label in data[\"ConversationSentenceId\"].unique() if np.sum(data[\"ConversationSentenceId\"] == label) == 2\n",
    "    ])\n",
    "    result_process_data_list.append({\n",
    "        \"SubjectId\": data[\"SubjectId\"].iloc[0],\n",
    "        \"ChatbotName\": data[\"ChatbotName\"].iloc[0],\n",
    "        \"Gender\": gender,\n",
    "        \"Personality\": personality,\n",
    "        \"UnixLoopStart\": data[\"UnixTimestampLoopInit\"].iloc[0],\n",
    "        \"MeanHumanTime_s\": np.mean(human_time_talk),\n",
    "        \"StdHumanTime_s\": np.std(human_time_talk),\n",
    "        \"MaxHumanTime_s\": np.max(human_time_talk),\n",
    "        \"MeanBotTime_s\": np.mean(bot_time_talk),\n",
    "        \"StdBotTime_s\": np.std(bot_time_talk),\n",
    "        \"MaxBotTime_s\": np.max(bot_time_talk),\n",
    "        \"ConvTime_min\": conv_time,\n",
    "        \"NumberOfSentences\": data.shape[0],\n",
    "        \"MaxNumQA\": max_num_pair_sentence\n",
    "    })\n",
    "    \n",
    "df_res_process = pd.DataFrame(result_process_data_list)"
   ]
  },
  {
   "cell_type": "code",
   "execution_count": 39,
   "id": "aca3a806",
   "metadata": {
    "ExecuteTime": {
     "end_time": "2023-01-23T15:39:13.931291Z",
     "start_time": "2023-01-23T15:39:13.904225Z"
    }
   },
   "outputs": [
    {
     "name": "stdout",
     "output_type": "stream",
     "text": [
      "Index(['SubjectId', 'ChatbotName', 'Gender', 'Personality', 'UnixLoopStart',\n",
      "       'MeanHumanTime_s', 'StdHumanTime_s', 'MaxHumanTime_s', 'MeanBotTime_s',\n",
      "       'StdBotTime_s', 'MaxBotTime_s', 'ConvTime_min', 'NumberOfSentences',\n",
      "       'MaxNumQA'],\n",
      "      dtype='object')\n",
      "Shape (312, 14)\n"
     ]
    },
    {
     "data": {
      "text/html": [
       "<div>\n",
       "<style scoped>\n",
       "    .dataframe tbody tr th:only-of-type {\n",
       "        vertical-align: middle;\n",
       "    }\n",
       "\n",
       "    .dataframe tbody tr th {\n",
       "        vertical-align: top;\n",
       "    }\n",
       "\n",
       "    .dataframe thead th {\n",
       "        text-align: right;\n",
       "    }\n",
       "</style>\n",
       "<table border=\"1\" class=\"dataframe\">\n",
       "  <thead>\n",
       "    <tr style=\"text-align: right;\">\n",
       "      <th></th>\n",
       "      <th>SubjectId</th>\n",
       "      <th>ChatbotName</th>\n",
       "      <th>Gender</th>\n",
       "      <th>Personality</th>\n",
       "      <th>UnixLoopStart</th>\n",
       "      <th>MeanHumanTime_s</th>\n",
       "      <th>StdHumanTime_s</th>\n",
       "      <th>MaxHumanTime_s</th>\n",
       "      <th>MeanBotTime_s</th>\n",
       "      <th>StdBotTime_s</th>\n",
       "      <th>MaxBotTime_s</th>\n",
       "      <th>ConvTime_min</th>\n",
       "      <th>NumberOfSentences</th>\n",
       "      <th>MaxNumQA</th>\n",
       "    </tr>\n",
       "  </thead>\n",
       "  <tbody>\n",
       "    <tr>\n",
       "      <th>0</th>\n",
       "      <td>User_01_CB</td>\n",
       "      <td>Laura</td>\n",
       "      <td>Female</td>\n",
       "      <td>Neutral</td>\n",
       "      <td>1.668588e+09</td>\n",
       "      <td>10.987555</td>\n",
       "      <td>5.116723</td>\n",
       "      <td>18.949747</td>\n",
       "      <td>9.134379</td>\n",
       "      <td>4.181297</td>\n",
       "      <td>17.346042</td>\n",
       "      <td>2.721243</td>\n",
       "      <td>13</td>\n",
       "      <td>5</td>\n",
       "    </tr>\n",
       "    <tr>\n",
       "      <th>1</th>\n",
       "      <td>User_01_CB</td>\n",
       "      <td>David</td>\n",
       "      <td>Male</td>\n",
       "      <td>Neutral</td>\n",
       "      <td>1.668589e+09</td>\n",
       "      <td>7.830935</td>\n",
       "      <td>1.584070</td>\n",
       "      <td>9.427005</td>\n",
       "      <td>7.307400</td>\n",
       "      <td>2.099484</td>\n",
       "      <td>10.818570</td>\n",
       "      <td>1.462437</td>\n",
       "      <td>9</td>\n",
       "      <td>3</td>\n",
       "    </tr>\n",
       "    <tr>\n",
       "      <th>2</th>\n",
       "      <td>User_01_CB</td>\n",
       "      <td>María</td>\n",
       "      <td>Female</td>\n",
       "      <td>Happy</td>\n",
       "      <td>1.668589e+09</td>\n",
       "      <td>9.411009</td>\n",
       "      <td>3.463359</td>\n",
       "      <td>15.750861</td>\n",
       "      <td>10.265537</td>\n",
       "      <td>4.970026</td>\n",
       "      <td>17.750785</td>\n",
       "      <td>2.055950</td>\n",
       "      <td>10</td>\n",
       "      <td>4</td>\n",
       "    </tr>\n",
       "    <tr>\n",
       "      <th>3</th>\n",
       "      <td>User_01_CB</td>\n",
       "      <td>Pablo</td>\n",
       "      <td>Male</td>\n",
       "      <td>Relax</td>\n",
       "      <td>1.668589e+09</td>\n",
       "      <td>9.390276</td>\n",
       "      <td>3.389688</td>\n",
       "      <td>15.737232</td>\n",
       "      <td>9.744340</td>\n",
       "      <td>3.805364</td>\n",
       "      <td>18.376184</td>\n",
       "      <td>3.045179</td>\n",
       "      <td>15</td>\n",
       "      <td>6</td>\n",
       "    </tr>\n",
       "    <tr>\n",
       "      <th>4</th>\n",
       "      <td>User_01_CB</td>\n",
       "      <td>Sara</td>\n",
       "      <td>Female</td>\n",
       "      <td>Sad</td>\n",
       "      <td>1.668590e+09</td>\n",
       "      <td>7.026681</td>\n",
       "      <td>1.380410</td>\n",
       "      <td>9.435585</td>\n",
       "      <td>5.361100</td>\n",
       "      <td>1.693569</td>\n",
       "      <td>7.381239</td>\n",
       "      <td>2.312869</td>\n",
       "      <td>17</td>\n",
       "      <td>7</td>\n",
       "    </tr>\n",
       "    <tr>\n",
       "      <th>5</th>\n",
       "      <td>User_01_CB</td>\n",
       "      <td>Jorge</td>\n",
       "      <td>Male</td>\n",
       "      <td>Angry</td>\n",
       "      <td>1.668590e+09</td>\n",
       "      <td>8.156119</td>\n",
       "      <td>2.540030</td>\n",
       "      <td>12.621134</td>\n",
       "      <td>8.949473</td>\n",
       "      <td>5.886838</td>\n",
       "      <td>17.846622</td>\n",
       "      <td>2.034079</td>\n",
       "      <td>11</td>\n",
       "      <td>4</td>\n",
       "    </tr>\n",
       "    <tr>\n",
       "      <th>6</th>\n",
       "      <td>User_02_CB</td>\n",
       "      <td>Alejandro</td>\n",
       "      <td>Male</td>\n",
       "      <td>Neutral</td>\n",
       "      <td>1.668596e+09</td>\n",
       "      <td>10.650504</td>\n",
       "      <td>7.062532</td>\n",
       "      <td>30.711790</td>\n",
       "      <td>5.655437</td>\n",
       "      <td>1.366320</td>\n",
       "      <td>7.744314</td>\n",
       "      <td>4.156950</td>\n",
       "      <td>25</td>\n",
       "      <td>11</td>\n",
       "    </tr>\n",
       "    <tr>\n",
       "      <th>7</th>\n",
       "      <td>User_02_CB</td>\n",
       "      <td>Laura</td>\n",
       "      <td>Female</td>\n",
       "      <td>Neutral</td>\n",
       "      <td>1.668597e+09</td>\n",
       "      <td>6.619163</td>\n",
       "      <td>1.038502</td>\n",
       "      <td>9.366427</td>\n",
       "      <td>6.100837</td>\n",
       "      <td>1.254352</td>\n",
       "      <td>8.661257</td>\n",
       "      <td>2.305496</td>\n",
       "      <td>17</td>\n",
       "      <td>7</td>\n",
       "    </tr>\n",
       "    <tr>\n",
       "      <th>8</th>\n",
       "      <td>User_02_CB</td>\n",
       "      <td>Javier</td>\n",
       "      <td>Male</td>\n",
       "      <td>Happy</td>\n",
       "      <td>1.668597e+09</td>\n",
       "      <td>6.967394</td>\n",
       "      <td>1.330694</td>\n",
       "      <td>9.403758</td>\n",
       "      <td>4.812545</td>\n",
       "      <td>1.607716</td>\n",
       "      <td>7.006487</td>\n",
       "      <td>3.456228</td>\n",
       "      <td>27</td>\n",
       "      <td>12</td>\n",
       "    </tr>\n",
       "    <tr>\n",
       "      <th>9</th>\n",
       "      <td>User_02_CB</td>\n",
       "      <td>Lucía</td>\n",
       "      <td>Female</td>\n",
       "      <td>Relax</td>\n",
       "      <td>1.668598e+09</td>\n",
       "      <td>7.526045</td>\n",
       "      <td>1.899582</td>\n",
       "      <td>12.557345</td>\n",
       "      <td>3.922697</td>\n",
       "      <td>1.132431</td>\n",
       "      <td>7.405552</td>\n",
       "      <td>4.302142</td>\n",
       "      <td>35</td>\n",
       "      <td>16</td>\n",
       "    </tr>\n",
       "  </tbody>\n",
       "</table>\n",
       "</div>"
      ],
      "text/plain": [
       "    SubjectId ChatbotName  Gender Personality  UnixLoopStart  MeanHumanTime_s  \\\n",
       "0  User_01_CB       Laura  Female     Neutral   1.668588e+09        10.987555   \n",
       "1  User_01_CB       David    Male     Neutral   1.668589e+09         7.830935   \n",
       "2  User_01_CB       María  Female       Happy   1.668589e+09         9.411009   \n",
       "3  User_01_CB       Pablo    Male       Relax   1.668589e+09         9.390276   \n",
       "4  User_01_CB        Sara  Female         Sad   1.668590e+09         7.026681   \n",
       "5  User_01_CB       Jorge    Male       Angry   1.668590e+09         8.156119   \n",
       "6  User_02_CB   Alejandro    Male     Neutral   1.668596e+09        10.650504   \n",
       "7  User_02_CB       Laura  Female     Neutral   1.668597e+09         6.619163   \n",
       "8  User_02_CB      Javier    Male       Happy   1.668597e+09         6.967394   \n",
       "9  User_02_CB       Lucía  Female       Relax   1.668598e+09         7.526045   \n",
       "\n",
       "   StdHumanTime_s  MaxHumanTime_s  MeanBotTime_s  StdBotTime_s  MaxBotTime_s  \\\n",
       "0        5.116723       18.949747       9.134379      4.181297     17.346042   \n",
       "1        1.584070        9.427005       7.307400      2.099484     10.818570   \n",
       "2        3.463359       15.750861      10.265537      4.970026     17.750785   \n",
       "3        3.389688       15.737232       9.744340      3.805364     18.376184   \n",
       "4        1.380410        9.435585       5.361100      1.693569      7.381239   \n",
       "5        2.540030       12.621134       8.949473      5.886838     17.846622   \n",
       "6        7.062532       30.711790       5.655437      1.366320      7.744314   \n",
       "7        1.038502        9.366427       6.100837      1.254352      8.661257   \n",
       "8        1.330694        9.403758       4.812545      1.607716      7.006487   \n",
       "9        1.899582       12.557345       3.922697      1.132431      7.405552   \n",
       "\n",
       "   ConvTime_min  NumberOfSentences  MaxNumQA  \n",
       "0      2.721243                 13         5  \n",
       "1      1.462437                  9         3  \n",
       "2      2.055950                 10         4  \n",
       "3      3.045179                 15         6  \n",
       "4      2.312869                 17         7  \n",
       "5      2.034079                 11         4  \n",
       "6      4.156950                 25        11  \n",
       "7      2.305496                 17         7  \n",
       "8      3.456228                 27        12  \n",
       "9      4.302142                 35        16  "
      ]
     },
     "execution_count": 39,
     "metadata": {},
     "output_type": "execute_result"
    }
   ],
   "source": [
    "print(df_res_process.columns)\n",
    "print(\"Shape\", df_res_process.shape)\n",
    "df_res_process.head(10)"
   ]
  },
  {
   "cell_type": "code",
   "execution_count": 44,
   "id": "61d629f4",
   "metadata": {
    "ExecuteTime": {
     "end_time": "2023-01-23T15:47:27.898106Z",
     "start_time": "2023-01-23T15:47:27.891100Z"
    }
   },
   "outputs": [],
   "source": [
    "df_res_process[\"SubjectId\"] = df_res_process[\"SubjectId\"].replace(\"Alejandro\", \"User_10_CB\")"
   ]
  },
  {
   "cell_type": "code",
   "execution_count": 46,
   "id": "dddc4fea",
   "metadata": {
    "ExecuteTime": {
     "end_time": "2023-01-23T15:47:35.379657Z",
     "start_time": "2023-01-23T15:47:35.375684Z"
    }
   },
   "outputs": [
    {
     "data": {
      "text/plain": [
       "array(['User_01_CB', 'User_02_CB', 'User_03_CB', 'User_04_CB',\n",
       "       'User_05_CB', 'User_06_CB', 'User_07_CB', 'User_08_CB',\n",
       "       'User_09_CB', 'User_10_CB', 'User_11_CB', 'User_12_CB',\n",
       "       'User_13_CB', 'User_14_CB', 'User_15_CB', 'User_16_CB',\n",
       "       'User_17_CB', 'User_18_CB', 'User_19_CB', 'User_20_CB',\n",
       "       'User_21_CB', 'User_22_CB', 'User_23_CB', 'User_24_CB',\n",
       "       'User_25_CB', 'User_26_CB', 'User_27_CB', 'User_28_CB',\n",
       "       'User_29_CB', 'User_30_CB', 'User_31_CB', 'User_32_CB',\n",
       "       'User_33_CB', 'User_34_CB', 'User_35_CB', 'User_36_CB',\n",
       "       'User_37_CB', 'User_38_CB', 'User_39_CB', 'User_40_CB',\n",
       "       'User_41_CB', 'User_42_CB', 'User_43_CB', 'User_44_CB',\n",
       "       'User_45_CB', 'User_46_CB', 'User_47_CB', 'User_48_CB',\n",
       "       'User_49_CB', 'User_50_CB', 'User_51_CB', 'User_52_CB'],\n",
       "      dtype=object)"
      ]
     },
     "execution_count": 46,
     "metadata": {},
     "output_type": "execute_result"
    }
   ],
   "source": [
    "df_res_process[\"SubjectId\"].unique()"
   ]
  },
  {
   "cell_type": "code",
   "execution_count": 47,
   "id": "19a7ffac",
   "metadata": {
    "ExecuteTime": {
     "end_time": "2023-01-23T15:47:38.500759Z",
     "start_time": "2023-01-23T15:47:38.480736Z"
    }
   },
   "outputs": [],
   "source": [
    "df_res_process.to_csv(\"Results/DataConvProcessed.csv\", sep=\";\", index=False)"
   ]
  },
  {
   "cell_type": "code",
   "execution_count": null,
   "id": "217fd1ec",
   "metadata": {},
   "outputs": [],
   "source": []
  }
 ],
 "metadata": {
  "kernelspec": {
   "display_name": "Python 3 (ipykernel)",
   "language": "python",
   "name": "python3"
  },
  "language_info": {
   "codemirror_mode": {
    "name": "ipython",
    "version": 3
   },
   "file_extension": ".py",
   "mimetype": "text/x-python",
   "name": "python",
   "nbconvert_exporter": "python",
   "pygments_lexer": "ipython3",
   "version": "3.7.8"
  },
  "latex_envs": {
   "LaTeX_envs_menu_present": true,
   "autoclose": false,
   "autocomplete": true,
   "bibliofile": "biblio.bib",
   "cite_by": "apalike",
   "current_citInitial": 1,
   "eqLabelWithNumbers": true,
   "eqNumInitial": 1,
   "hotkeys": {
    "equation": "Ctrl-E",
    "itemize": "Ctrl-I"
   },
   "labels_anchors": false,
   "latex_user_defs": false,
   "report_style_numbering": false,
   "user_envs_cfg": false
  }
 },
 "nbformat": 4,
 "nbformat_minor": 5
}
