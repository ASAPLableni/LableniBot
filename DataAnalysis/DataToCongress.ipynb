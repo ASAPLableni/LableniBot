{
 "cells": [
  {
   "cell_type": "code",
   "execution_count": 1,
   "id": "ee505740",
   "metadata": {
    "ExecuteTime": {
     "end_time": "2023-02-17T09:32:50.647236Z",
     "start_time": "2023-02-17T09:32:27.938820Z"
    }
   },
   "outputs": [
    {
     "name": "stderr",
     "output_type": "stream",
     "text": [
      "[nltk_data] Downloading package punkt to\n",
      "[nltk_data]     C:\\Users\\Jose\\AppData\\Roaming\\nltk_data...\n",
      "[nltk_data]   Package punkt is already up-to-date!\n",
      "[nltk_data] Error loading tokenizers/punkt/spanish.pickle: Package\n",
      "[nltk_data]     'tokenizers/punkt/spanish.pickle' not found in index\n",
      "[nltk_data] Downloading package stopwords to\n",
      "[nltk_data]     C:\\Users\\Jose\\AppData\\Roaming\\nltk_data...\n",
      "[nltk_data]   Package stopwords is already up-to-date!\n",
      "The torchaudio backend is switched to 'soundfile'. Note that 'sox_io' is not supported on Windows.\n",
      "The torchaudio backend is switched to 'soundfile'. Note that 'sox_io' is not supported on Windows.\n"
     ]
    }
   ],
   "source": [
    "import os\n",
    "import numpy as np\n",
    "import pandas as pd\n",
    "import matplotlib.pyplot as plt\n",
    "import scipy as sp\n",
    "import json\n",
    "import random\n",
    "import seaborn as sns\n",
    "import re\n",
    "\n",
    "import spacy\n",
    "\n",
    "# Text analysis\n",
    "import nltk\n",
    "from nltk.tokenize import sent_tokenize, word_tokenize\n",
    "from nltk.stem.snowball import SpanishStemmer\n",
    "from nltk.corpus import stopwords\n",
    "nltk.download('punkt')\n",
    "nltk.download('tokenizers/punkt/spanish.pickle')\n",
    "nltk.download('stopwords')\n",
    "\n",
    "import unicodedata\n",
    "\n",
    "from wordcloud import WordCloud, STOPWORDS\n",
    "\n",
    "# ### Scikit-Learn ###\n",
    "from sklearn.pipeline import Pipeline\n",
    "from sklearn.preprocessing import StandardScaler, MinMaxScaler\n",
    "from sklearn.model_selection import StratifiedGroupKFold, StratifiedKFold, RepeatedStratifiedKFold\n",
    "from sklearn.linear_model import LinearRegression, LogisticRegression\n",
    "from sklearn.ensemble import RandomForestClassifier\n",
    "from sklearn import metrics as skmetrics\n",
    "\n",
    "from pyannote.audio.pipelines import VoiceActivityDetection\n",
    "\n",
    "import analysis_utils as aute"
   ]
  },
  {
   "cell_type": "code",
   "execution_count": 2,
   "id": "39341d6b",
   "metadata": {
    "ExecuteTime": {
     "end_time": "2023-02-17T09:32:51.841321Z",
     "start_time": "2023-02-17T09:32:50.649238Z"
    }
   },
   "outputs": [],
   "source": [
    "config_json = open(\"../LableniBotConfig/config.json\")\n",
    "config_dict = json.load(config_json)\n",
    "\n",
    "hugging_face_key = config_dict[\"HUGGING_FACE\"]\n",
    "\n",
    "silence_detection_pipeline = VoiceActivityDetection(segmentation=\"pyannote/segmentation\",\n",
    "                                                    use_auth_token=hugging_face_key)"
   ]
  },
  {
   "cell_type": "code",
   "execution_count": 3,
   "id": "d6b359e0",
   "metadata": {
    "ExecuteTime": {
     "end_time": "2023-02-17T09:32:51.857335Z",
     "start_time": "2023-02-17T09:32:51.842322Z"
    }
   },
   "outputs": [],
   "source": [
    "def get_audio_talk_duration(path_to_subj_conv):\n",
    "    path_to_audios = path_to_subj_conv + \"/Audios/\"\n",
    "    all_audios = os.listdir(path_to_audios)\n",
    "\n",
    "    delta_talk_list = []\n",
    "    for i_audio, audio in enumerate(all_audios):\n",
    "        try:\n",
    "            vad = silence_detection_pipeline(path_to_audios + audio)\n",
    "        except:\n",
    "            print(\"Bad audio\", path_to_audios + audio)\n",
    "            delta_talk_list.append(np.nan)\n",
    "\n",
    "        seg_timeline = list(vad.get_timeline().segments_set_)\n",
    "        \n",
    "        if len(seg_timeline) > 0:\n",
    "            start_time = np.min([seg.start for seg in seg_timeline])\n",
    "            end_time = np.max([seg.end for seg in seg_timeline])\n",
    "\n",
    "            delta_time_human_talk = end_time - start_time\n",
    "            delta_talk_list.append(delta_time_human_talk)\n",
    "        else:\n",
    "            delta_talk_list.append(np.nan)\n",
    "    \n",
    "    return delta_talk_list"
   ]
  },
  {
   "cell_type": "code",
   "execution_count": null,
   "id": "b975a027",
   "metadata": {
    "ExecuteTime": {
     "end_time": "2023-02-16T18:51:08.884614Z",
     "start_time": "2023-02-16T18:51:08.865605Z"
    }
   },
   "outputs": [],
   "source": []
  },
  {
   "cell_type": "code",
   "execution_count": 4,
   "id": "de272dc3",
   "metadata": {
    "ExecuteTime": {
     "end_time": "2023-02-17T09:56:28.029045Z",
     "start_time": "2023-02-17T09:32:51.859338Z"
    },
    "scrolled": true
   },
   "outputs": [
    {
     "name": "stdout",
     "output_type": "stream",
     "text": [
      "Bad audio D:/GuardarDatosLableniBOT/User_01_CB/User_01_CB_Conversations/User_01_CB_20221116_100942/Audios/Subject_User_01_CB_T=8.wav\n",
      "Bad audio D:/GuardarDatosLableniBOT/User_01_CB/User_01_CB_Conversations/User_01_CB_20221116_101436/Audios/Subject_User_01_CB_T=5.wav\n",
      "Bad audio D:/GuardarDatosLableniBOT/User_03_CB/User_03_CB_Conversations/User_03_CB_20221116_141720/Audios/Subject_User_03_CB_T=10.wav\n",
      "Bad audio D:/GuardarDatosLableniBOT/User_03_CB/User_03_CB_Conversations/User_03_CB_20221116_143608/Audios/Subject_User_03_CB_T=11.wav\n",
      "Bad audio D:/GuardarDatosLableniBOT/User_05_CB/User_05_CB_Conversations/User_05_CB_20221117_121148/Audios/Subject_User_05_CB_T=9.wav\n",
      "Bad audio D:/GuardarDatosLableniBOT/User_06_CB/User_06_CB_Conversations/User_06_CB_20221117_151809/Audios/Subject_User_06_CB_T=8.wav\n",
      "Bad audio D:/GuardarDatosLableniBOT/User_07_CB/User_07_CB_Conversations/User_07_CB_20221118_100438/Audios/Subject_User_07_CB_T=12.wav\n",
      "Bad audio D:/GuardarDatosLableniBOT/User_07_CB/User_07_CB_Conversations/User_07_CB_20221118_101300/Audios/Subject_User_07_CB_T=10.wav\n",
      "Bad audio D:/GuardarDatosLableniBOT/User_09_CB/User_09_CB_Conversations/User_09_CB_20221118_140828/Audios/Subject_User_09_CB_T=10.wav\n",
      "Bad audio D:/GuardarDatosLableniBOT/User_09_CB/User_09_CB_Conversations/User_09_CB_20221118_142721/Audios/Subject_User_09_CB_T=10.wav\n",
      "Bad audio D:/GuardarDatosLableniBOT/User_10_CB/User_10_CB_Conversations/User_10_CB_20221121_121708/Audios/Subject_User_10_CB_T=12.wav\n",
      "Bad audio D:/GuardarDatosLableniBOT/User_11_CB/User_11_CB_Conversations/User_11_CB_20221123_100034/Audios/Subject_User_11_CB_T=5.wav\n",
      "Bad audio D:/GuardarDatosLableniBOT/User_12_CB/User_12_CB_Conversations/User_12_CB_20221123_122103/Audios/Subject_User_12_CB_T=9.wav\n",
      "Bad audio D:/GuardarDatosLableniBOT/User_12_CB/User_12_CB_Conversations/User_12_CB_20221123_122736/Audios/Subject_User_12_CB_T=8.wav\n",
      "Bad audio D:/GuardarDatosLableniBOT/User_15_CB/User_15_CB_Conversations/User_15_CB_20221124_120946/Audios/Subject_User_15_CB_T=9.wav\n",
      "Bad audio D:/GuardarDatosLableniBOT/User_15_CB/User_15_CB_Conversations/User_15_CB_20221124_122515/Audios/Subject_User_15_CB_T=8.wav\n",
      "Bad audio D:/GuardarDatosLableniBOT/User_17_CB/User_17_CB_Conversations/User_17_CB_20221125_104412/Audios/Subject_User_17_CB_T=6.wav\n",
      "Bad audio D:/GuardarDatosLableniBOT/User_19_CB/User_19_CB_Conversations/User_19_CB_20221125_144045/Audios/Subject_User_19_CB_T=11.wav\n",
      "Bad audio D:/GuardarDatosLableniBOT/User_20_CB/User_20_CB_Conversations/User_20_CB_20221129_122244/Audios/Subject_User_20_CB_T=9.wav\n",
      "Bad audio D:/GuardarDatosLableniBOT/User_21_CB/User_21_CB_Conversations/User_21_CB_20221129_145336/Audios/Subject_User_21_CB_T=11.wav\n",
      "Bad audio D:/GuardarDatosLableniBOT/User_21_CB/User_21_CB_Conversations/User_21_CB_20221129_152324/Audios/Subject_User_21_CB_T=10.wav\n",
      "Bad audio D:/GuardarDatosLableniBOT/User_24_CB/User_24_CB_Conversations/User_24_CB_20221201_095320/Audios/Subject_User_24_CB_T=14.wav\n",
      "Bad audio D:/GuardarDatosLableniBOT/User_24_CB/User_24_CB_Conversations/User_24_CB_20221201_102022/Audios/Subject_User_24_CB_T=7.wav\n",
      "Bad audio D:/GuardarDatosLableniBOT/User_25_CB/User_25_CB_Conversations/User_25_CB_20221201_121013/Audios/Subject_User_25_CB_T=8.wav\n",
      "Bad audio D:/GuardarDatosLableniBOT/User_25_CB/User_25_CB_Conversations/User_25_CB_20221201_121702/Audios/Subject_User_25_CB_T=9.wav\n",
      "Bad audio D:/GuardarDatosLableniBOT/User_25_CB/User_25_CB_Conversations/User_25_CB_20221201_122309/Audios/Subject_User_25_CB_T=9.wav\n",
      "Bad audio D:/GuardarDatosLableniBOT/User_25_CB/User_25_CB_Conversations/User_25_CB_20221201_122940/Audios/Subject_User_25_CB_T=7.wav\n",
      "Bad audio D:/GuardarDatosLableniBOT/User_25_CB/User_25_CB_Conversations/User_25_CB_20221201_123621/Audios/Subject_User_25_CB_T=6.wav\n",
      "Bad audio D:/GuardarDatosLableniBOT/User_26_CB/User_26_CB_Conversations/User_26_CB_20221202_121404/Audios/Subject_User_26_CB_T=8.wav\n",
      "Bad audio D:/GuardarDatosLableniBOT/User_27_CB/User_27_CB_Conversations/User_27_CB_20221202_142713/Audios/Subject_User_27_CB_T=11.wav\n",
      "Bad audio D:/GuardarDatosLableniBOT/User_28_CB/User_28_CB_Conversations/User_28_CB_20221205_095208/Audios/Subject_User_28_CB_T=6.wav\n",
      "Bad audio D:/GuardarDatosLableniBOT/User_30_CB/User_30_CB_Conversations/User_30_CB_20221205_135907/Audios/Subject_User_30_CB_T=6.wav\n",
      "Bad audio D:/GuardarDatosLableniBOT/User_30_CB/User_30_CB_Conversations/User_30_CB_20221205_140607/Audios/Subject_User_30_CB_T=15.wav\n",
      "Bad audio D:/GuardarDatosLableniBOT/User_30_CB/User_30_CB_Conversations/User_30_CB_20221205_142235/Audios/Subject_User_30_CB_T=5.wav\n",
      "Bad audio D:/GuardarDatosLableniBOT/User_32_CB/User_32_CB_Conversations/User_32_CB_20221207_115042/Audios/Subject_User_32_CB_T=10.wav\n",
      "Bad audio D:/GuardarDatosLableniBOT/User_32_CB/User_32_CB_Conversations/User_32_CB_20221207_115814/Audios/Subject_User_32_CB_T=9.wav\n",
      "Bad audio D:/GuardarDatosLableniBOT/User_32_CB/User_32_CB_Conversations/User_32_CB_20221207_121214/Audios/Subject_User_32_CB_T=8.wav\n",
      "Bad audio D:/GuardarDatosLableniBOT/User_34_CB/User_34_CB_Conversations/User_34_CB_20221209_095936/Audios/Subject_User_34_CB_T=7.wav\n",
      "Bad audio D:/GuardarDatosLableniBOT/User_34_CB/User_34_CB_Conversations/User_34_CB_20221209_100537/Audios/Subject_User_34_CB_T=7.wav\n",
      "Bad audio D:/GuardarDatosLableniBOT/User_34_CB/User_34_CB_Conversations/User_34_CB_20221209_101326/Audios/Subject_User_34_CB_T=6.wav\n",
      "Bad audio D:/GuardarDatosLableniBOT/User_34_CB/User_34_CB_Conversations/User_34_CB_20221209_101829/Audios/Subject_User_34_CB_T=7.wav\n",
      "Bad audio D:/GuardarDatosLableniBOT/User_34_CB/User_34_CB_Conversations/User_34_CB_20221209_102424/Audios/Subject_User_34_CB_T=10.wav\n",
      "Bad audio D:/GuardarDatosLableniBOT/User_35_CB/User_35_CB_Conversations/User_35_CB_20221209_114448/Audios/Subject_User_35_CB_T=9.wav\n",
      "Bad audio D:/GuardarDatosLableniBOT/User_35_CB/User_35_CB_Conversations/User_35_CB_20221209_120247/Audios/Subject_User_35_CB_T=10.wav\n",
      "Bad audio D:/GuardarDatosLableniBOT/User_38_CB/User_38_CB_Conversations/User_38_CB_20221213_114832/Audios/Subject_User_38_CB_T=8.wav\n",
      "Bad audio D:/GuardarDatosLableniBOT/User_40_CB/User_40_CB_Conversations/User_40_CB_20221214_095635/Audios/Subject_User_40_CB_T=10.wav\n",
      "Bad audio D:/GuardarDatosLableniBOT/User_40_CB/User_40_CB_Conversations/User_40_CB_20221214_101407/Audios/Subject_User_40_CB_T=7.wav\n",
      "Bad audio D:/GuardarDatosLableniBOT/User_40_CB/User_40_CB_Conversations/User_40_CB_20221214_102115/Audios/Subject_User_40_CB_T=7.wav\n",
      "Bad audio D:/GuardarDatosLableniBOT/User_41_CB/User_41_CB_Conversations/User_41_CB_20221214_120943/Audios/Subject_User_41_CB_T=6.wav\n",
      "Bad audio D:/GuardarDatosLableniBOT/User_43_CB/User_43_CB_Conversations/User_43_CB_20221215_101326/Audios/Subject_User_43_CB_T=12.wav\n",
      "Bad audio D:/GuardarDatosLableniBOT/User_43_CB/User_43_CB_Conversations/User_43_CB_20221215_104218/Audios/Subject_User_43_CB_T=7.wav\n",
      "Bad audio D:/GuardarDatosLableniBOT/User_45_CB/User_45_CB_Conversations/User_45_CB_20221215_141956/Audios/Subject_User_45_CB_T=6.wav\n",
      "Bad audio D:/GuardarDatosLableniBOT/User_45_CB/User_45_CB_Conversations/User_45_CB_20221215_143101/Audios/Subject_User_45_CB_T=9.wav\n",
      "Bad audio D:/GuardarDatosLableniBOT/User_45_CB/User_45_CB_Conversations/User_45_CB_20221215_143632/Audios/Subject_User_45_CB_T=8.wav\n",
      "Bad audio D:/GuardarDatosLableniBOT/User_46_CB/User_46_CB_Conversations/User_46_CB_20221216_100843/Audios/Subject_User_46_CB_T=10.wav\n",
      "Bad audio D:/GuardarDatosLableniBOT/User_46_CB/User_46_CB_Conversations/User_46_CB_20221216_102117/Audios/Subject_User_46_CB_T=12.wav\n",
      "Bad audio D:/GuardarDatosLableniBOT/User_47_CB/User_47_CB_Conversations/User_47_CB_20221216_124755/Audios/Subject_User_47_CB_T=7.wav\n",
      "Bad audio D:/GuardarDatosLableniBOT/User_48_CB/User_48_CB_Conversations/User_48_CB_20221216_142810/Audios/Subject_User_48_CB_T=8.wav\n",
      "Bad audio D:/GuardarDatosLableniBOT/User_48_CB/User_48_CB_Conversations/User_48_CB_20221216_144048/Audios/Subject_User_48_CB_T=8.wav\n",
      "Bad audio D:/GuardarDatosLableniBOT/User_48_CB/User_48_CB_Conversations/User_48_CB_20221216_145959/Audios/Subject_User_48_CB_T=9.wav\n",
      "Bad audio D:/GuardarDatosLableniBOT/User_49_CB/User_49_CB_Conversations/User_49_CB_20221219_101558/Audios/Subject_User_49_CB_T=10.wav\n",
      "Subject User_50_CB\r"
     ]
    },
    {
     "ename": "IndexError",
     "evalue": "list index out of range",
     "output_type": "error",
     "traceback": [
      "\u001b[1;31m---------------------------------------------------------------------------\u001b[0m",
      "\u001b[1;31mIndexError\u001b[0m                                Traceback (most recent call last)",
      "\u001b[1;32m~\\AppData\\Local\\Temp\\ipykernel_4620\\3387771349.py\u001b[0m in \u001b[0;36m<module>\u001b[1;34m\u001b[0m\n\u001b[0;32m     10\u001b[0m                 \u001b[0mpath_to_subj_conv\u001b[0m \u001b[1;33m=\u001b[0m \u001b[0mpath_to_conv_2\u001b[0m \u001b[1;33m+\u001b[0m \u001b[0mfile\u001b[0m\u001b[1;33m\u001b[0m\u001b[1;33m\u001b[0m\u001b[0m\n\u001b[0;32m     11\u001b[0m                 \u001b[1;31m# try:\u001b[0m\u001b[1;33m\u001b[0m\u001b[1;33m\u001b[0m\u001b[1;33m\u001b[0m\u001b[0m\n\u001b[1;32m---> 12\u001b[1;33m                 \u001b[0mcsv_name\u001b[0m \u001b[1;33m=\u001b[0m \u001b[1;33m[\u001b[0m\u001b[0mfile\u001b[0m \u001b[1;32mfor\u001b[0m \u001b[0mfile\u001b[0m \u001b[1;32min\u001b[0m \u001b[0mos\u001b[0m\u001b[1;33m.\u001b[0m\u001b[0mlistdir\u001b[0m\u001b[1;33m(\u001b[0m\u001b[0mpath_to_subj_conv\u001b[0m\u001b[1;33m)\u001b[0m \u001b[1;32mif\u001b[0m \u001b[1;34m\".csv\"\u001b[0m \u001b[1;32min\u001b[0m \u001b[0mfile\u001b[0m\u001b[1;33m]\u001b[0m\u001b[1;33m[\u001b[0m\u001b[1;36m0\u001b[0m\u001b[1;33m]\u001b[0m\u001b[1;33m\u001b[0m\u001b[1;33m\u001b[0m\u001b[0m\n\u001b[0m\u001b[0;32m     13\u001b[0m                 \u001b[0mdf_x\u001b[0m \u001b[1;33m=\u001b[0m \u001b[0mpd\u001b[0m\u001b[1;33m.\u001b[0m\u001b[0mread_csv\u001b[0m\u001b[1;33m(\u001b[0m\u001b[0mpath_to_subj_conv\u001b[0m \u001b[1;33m+\u001b[0m \u001b[1;34m\"/\"\u001b[0m \u001b[1;33m+\u001b[0m \u001b[0mcsv_name\u001b[0m\u001b[1;33m,\u001b[0m \u001b[0msep\u001b[0m\u001b[1;33m=\u001b[0m\u001b[1;34m\";\"\u001b[0m\u001b[1;33m)\u001b[0m\u001b[1;33m\u001b[0m\u001b[1;33m\u001b[0m\u001b[0m\n\u001b[0;32m     14\u001b[0m                 \u001b[1;32mif\u001b[0m \u001b[0mdf_x\u001b[0m\u001b[1;33m.\u001b[0m\u001b[0mshape\u001b[0m\u001b[1;33m[\u001b[0m\u001b[1;36m0\u001b[0m\u001b[1;33m]\u001b[0m \u001b[1;33m>\u001b[0m \u001b[1;36m2\u001b[0m\u001b[1;33m:\u001b[0m\u001b[1;33m\u001b[0m\u001b[1;33m\u001b[0m\u001b[0m\n",
      "\u001b[1;31mIndexError\u001b[0m: list index out of range"
     ]
    }
   ],
   "source": [
    "path_to_convs = \"D:/GuardarDatosLableniBOT\"\n",
    "\n",
    "all_df_list = []\n",
    "for subj in os.listdir(path_to_convs)[:]:\n",
    "    if \"User\" in subj:\n",
    "        print(\"Subject\", subj, end=\"\\r\")\n",
    "        path_to_conv_2 = path_to_convs + \"/\" + subj + \"/\" + subj + \"_Conversations/\"\n",
    "        for file in os.listdir(path_to_conv_2):\n",
    "            if \"User\" in file:\n",
    "                path_to_subj_conv = path_to_conv_2 + file\n",
    "                # try:\n",
    "                csv_name = [file for file in os.listdir(path_to_subj_conv) if \".csv\" in file][0]\n",
    "                df_x = pd.read_csv(path_to_subj_conv + \"/\" + csv_name, sep=\";\")\n",
    "                if df_x.shape[0] > 2:\n",
    "\n",
    "                    df_x[\"DeltaHumanTalk\"] = np.nan\n",
    "                    delta_talk_list = get_audio_talk_duration(path_to_subj_conv)\n",
    "                    d_talk_nona_list = [t for t in delta_talk_list if not np.isnan(t)]\n",
    "                    source_person = df_x[\"Source\"] == \"Person\"\n",
    "                    if np.sum(source_person) < len(d_talk_nona_list):\n",
    "                        df_x.loc[source_person, \"DeltaHumanTalk\"] = d_talk_nona_list[:np.sum(source_person)]\n",
    "                    elif np.sum(source_person) == len(d_talk_nona_list):\n",
    "                        df_x.loc[source_person, \"DeltaHumanTalk\"] = d_talk_nona_list\n",
    "                    else:\n",
    "                        for _ in range(np.sum(source_person) - len(d_talk_nona_list)):\n",
    "                            d_talk_nona_list.append(np.nan)\n",
    "                        df_x.loc[source_person, \"DeltaHumanTalk\"] = d_talk_nona_list\n",
    "\n",
    "                    all_df_list.append(df_x)\n",
    "                # except:\n",
    "                    # print(\"Bad subject\", path_to_subj_conv + \"/\" + csv_name)"
   ]
  },
  {
   "cell_type": "code",
   "execution_count": 27,
   "id": "aa17ff94",
   "metadata": {
    "ExecuteTime": {
     "end_time": "2023-02-17T11:53:33.272493Z",
     "start_time": "2023-02-17T11:53:33.263480Z"
    }
   },
   "outputs": [
    {
     "data": {
      "text/plain": [
       "'Mi nombre es Jorge ¿Cómo te llamas? ; Hola Ana Maria. Estoy enfadado hoy porque pedí un aumento de sueldo y no se lo concedieron. A este ritmo, no podré llegar a fin de mes. ; Sí, supongo que tienes razón. Pero es frustrante trabajar duro y no poder tener un poco más de dinero para hacer las cosas que me gustan. ; Sí, supongo que tienes razón. A veces es mejor cambiar de trabajo y tener menos sueldo, pero al menos así tendría más tiempo libre para hacer las cosas que me gustan. ; Actúo en teatro. ; Sí, parece que cada vez hay menos interés en el teatro y es una pena, porque es muy gratificante. ; Sí, es una pena que cada vez haya menos interés en el teatro y en las artes en general. Es muy triste que la gente no valore todo el trabajo y el esfuerzo que se pone en estas actividades. ; Sí, creo que estamos en una época en la que todo es muy incierto y no hay muchas oportunidades. Es una pena que la gente no valore el trabajo de las personas que trabajan en el teatro y en las artes en general. ;  No, no me bajo en esta parada, pero muchas gracias por la conversación. Ha sido muy agradable. ; Un lugar. ; Bueno, me tengo que ir. Adiós!'"
      ]
     },
     "execution_count": 27,
     "metadata": {},
     "output_type": "execute_result"
    }
   ],
   "source": []
  },
  {
   "cell_type": "code",
   "execution_count": 33,
   "id": "32f85e45",
   "metadata": {
    "ExecuteTime": {
     "end_time": "2023-02-17T11:54:37.063084Z",
     "start_time": "2023-02-17T11:54:37.058080Z"
    }
   },
   "outputs": [],
   "source": [
    " "
   ]
  },
  {
   "cell_type": "code",
   "execution_count": null,
   "id": "3d13abdb",
   "metadata": {
    "ExecuteTime": {
     "end_time": "2023-02-17T11:53:59.172293Z",
     "start_time": "2023-02-17T11:53:59.163353Z"
    }
   },
   "outputs": [],
   "source": []
  },
  {
   "cell_type": "code",
   "execution_count": null,
   "id": "cf1c6aa7",
   "metadata": {
    "ExecuteTime": {
     "end_time": "2023-02-17T11:36:21.778241Z",
     "start_time": "2023-02-17T11:36:21.769232Z"
    }
   },
   "outputs": [],
   "source": []
  },
  {
   "cell_type": "code",
   "execution_count": 35,
   "id": "d0dd4031",
   "metadata": {
    "ExecuteTime": {
     "end_time": "2023-02-17T12:00:26.759150Z",
     "start_time": "2023-02-17T12:00:25.900637Z"
    }
   },
   "outputs": [],
   "source": [
    "result_process_data_list = []\n",
    "for data in all_df_list:\n",
    "    \n",
    "    personality, gender, _ = data[\"ConfigName\"].iloc[0].split(\"_\")\n",
    "    \n",
    "    gender = \"Female\" if gender == \"Woman\" else gender\n",
    "    gender = \"Male\" if gender == \"Man\" else gender\n",
    "    \n",
    "    human_time_talk = (data[\"PersonTalkEndUnix\"] - data[\"PersonTalkStartUnix\"]).dropna().values\n",
    "    bot_time_talk = (data[\"BotTalkEndUnix\"] - data[\"BotTalkStartUnix\"]).dropna().values\n",
    "    conv_time = (data[\"UnixTimeSave\"].iloc[-1] - data[\"UnixTimestampLoopInit\"].iloc[0])/60\n",
    "    max_num_pair_sentence = 1 + np.max([\n",
    "        label for label in data[\"ConversationSentenceId\"].unique() if np.sum(data[\"ConversationSentenceId\"] == label) == 2\n",
    "    ])\n",
    "    \n",
    "    all_vh_text = data[data[\"Source\"] == \"Bot\"][\"SpanishMessage\"].values\n",
    "    num_words_vh = [len(re.findall(r'\\w+', txt)) for txt in all_vh_text] \n",
    "    all_vh_text_big_str = \" ; \".join(all_vh_text) \n",
    "    \n",
    "    all_person_text = data[data[\"Source\"] == \"Person\"][\"SpanishMessage\"].values\n",
    "    num_words_person = [len(re.findall(r'\\w+', txt)) for txt in all_person_text] \n",
    "    all_person_text_big_str = \" ; \".join(all_person_text) \n",
    "    \n",
    "    result_process_data_list.append({\n",
    "        \"SubjectId\": data[\"SubjectId\"].iloc[0],\n",
    "        \"VH_Name\": data[\"ChatbotName\"].iloc[0],\n",
    "        \"VH_Gender\": gender,\n",
    "        \"VH_Personality\": personality,\n",
    "        \"UnixLoopStart\": data[\"UnixTimestampLoopInit\"].iloc[0],\n",
    "        \"MeanHumanTime_s\": np.mean(human_time_talk),\n",
    "        \"StdHumanTime_s\": np.std(human_time_talk),\n",
    "        \"MaxHumanTime_s\": np.max(human_time_talk),\n",
    "        \"FromAudio_MeanHumanTime_s\": np.nanmean(data[\"DeltaHumanTalk\"]),\n",
    "        \"FromAudio_StdHumanTime_s\": np.nanstd(data[\"DeltaHumanTalk\"]),\n",
    "        \"FromAudio_MaxHumanTime_s\": np.nanmax(data[\"DeltaHumanTalk\"]),\n",
    "        \"FromAudio_TotalHumanTime_s\": np.nansum(data[\"DeltaHumanTalk\"]),\n",
    "        \"MeanVHTime_s\": np.mean(bot_time_talk),\n",
    "        \"StdVHTime_s\": np.std(bot_time_talk),\n",
    "        \"MaxVHTime_s\": np.max(bot_time_talk),\n",
    "        \"TotalVHTime_s\": np.max(bot_time_talk),\n",
    "        \"ConvTime_min\": conv_time,\n",
    "        \"NumberOfSentences\": data.shape[0],\n",
    "        \"MaxNumQA\": max_num_pair_sentence,\n",
    "        \"NumSentencePerson\": np.sum(data[\"Source\"] == \"Person\"),\n",
    "        \"NumSentenceVH\": np.sum(data[\"Source\"] == \"Bot\"),\n",
    "        \"TextPerson\": all_person_text_big_str,\n",
    "        \"NumTotalWordsPerson\": np.sum(num_words_person),\n",
    "        \"MeanWordsPerson\": np.mean(num_words_person),\n",
    "        \"MaxWordsPerson\": np.max(num_words_person),\n",
    "        \"StdWordsPerson\": np.std(num_words_person),\n",
    "        \"TextVH\": all_vh_text_big_str,\n",
    "        \"NumTotalWordsVH\": np.sum(num_words_vh),\n",
    "        \"MeanWordsVH\": np.mean(num_words_vh),\n",
    "        \"MaxWordsVH\": np.max(num_words_vh),\n",
    "        \"StdWordsVH\": np.std(num_words_vh)\n",
    "    })\n",
    "    \n",
    "df_res_process = pd.DataFrame(result_process_data_list)"
   ]
  },
  {
   "cell_type": "code",
   "execution_count": 36,
   "id": "aca3a806",
   "metadata": {
    "ExecuteTime": {
     "end_time": "2023-02-17T12:00:27.587291Z",
     "start_time": "2023-02-17T12:00:27.550096Z"
    }
   },
   "outputs": [
    {
     "name": "stdout",
     "output_type": "stream",
     "text": [
      "Index(['SubjectId', 'VH_Name', 'VH_Gender', 'VH_Personality', 'UnixLoopStart',\n",
      "       'MeanHumanTime_s', 'StdHumanTime_s', 'MaxHumanTime_s',\n",
      "       'FromAudio_MeanHumanTime_s', 'FromAudio_StdHumanTime_s',\n",
      "       'FromAudio_MaxHumanTime_s', 'FromAudio_TotalHumanTime_s',\n",
      "       'MeanVHTime_s', 'StdVHTime_s', 'MaxVHTime_s', 'TotalVHTime_s',\n",
      "       'ConvTime_min', 'NumberOfSentences', 'MaxNumQA', 'NumSentencePerson',\n",
      "       'NumSentenceVH', 'TextPerson', 'NumTotalWordsPerson', 'MeanWordsPerson',\n",
      "       'MaxWordsPerson', 'StdWordsPerson', 'TextVH', 'NumTotalWordsVH',\n",
      "       'MeanWordsVH', 'MaxWordsVH', 'StdWordsVH'],\n",
      "      dtype='object')\n",
      "Shape (300, 31)\n"
     ]
    },
    {
     "data": {
      "text/html": [
       "<div>\n",
       "<style scoped>\n",
       "    .dataframe tbody tr th:only-of-type {\n",
       "        vertical-align: middle;\n",
       "    }\n",
       "\n",
       "    .dataframe tbody tr th {\n",
       "        vertical-align: top;\n",
       "    }\n",
       "\n",
       "    .dataframe thead th {\n",
       "        text-align: right;\n",
       "    }\n",
       "</style>\n",
       "<table border=\"1\" class=\"dataframe\">\n",
       "  <thead>\n",
       "    <tr style=\"text-align: right;\">\n",
       "      <th></th>\n",
       "      <th>SubjectId</th>\n",
       "      <th>VH_Name</th>\n",
       "      <th>VH_Gender</th>\n",
       "      <th>VH_Personality</th>\n",
       "      <th>UnixLoopStart</th>\n",
       "      <th>MeanHumanTime_s</th>\n",
       "      <th>StdHumanTime_s</th>\n",
       "      <th>MaxHumanTime_s</th>\n",
       "      <th>FromAudio_MeanHumanTime_s</th>\n",
       "      <th>FromAudio_StdHumanTime_s</th>\n",
       "      <th>...</th>\n",
       "      <th>TextPerson</th>\n",
       "      <th>NumTotalWordsPerson</th>\n",
       "      <th>MeanWordsPerson</th>\n",
       "      <th>MaxWordsPerson</th>\n",
       "      <th>StdWordsPerson</th>\n",
       "      <th>TextVH</th>\n",
       "      <th>NumTotalWordsVH</th>\n",
       "      <th>MeanWordsVH</th>\n",
       "      <th>MaxWordsVH</th>\n",
       "      <th>StdWordsVH</th>\n",
       "    </tr>\n",
       "  </thead>\n",
       "  <tbody>\n",
       "    <tr>\n",
       "      <th>0</th>\n",
       "      <td>User_01_CB</td>\n",
       "      <td>Laura</td>\n",
       "      <td>Female</td>\n",
       "      <td>Neutral</td>\n",
       "      <td>1.668588e+09</td>\n",
       "      <td>10.987555</td>\n",
       "      <td>5.116723</td>\n",
       "      <td>18.949747</td>\n",
       "      <td>6.252188</td>\n",
       "      <td>5.127379</td>\n",
       "      <td>...</td>\n",
       "      <td>buenas yo soy Jesús ; yo sí, Valencia y tú ; P...</td>\n",
       "      <td>105</td>\n",
       "      <td>17.500000</td>\n",
       "      <td>44</td>\n",
       "      <td>15.019432</td>\n",
       "      <td>Hola, mi nombre es Laura ¿Cómo te llamas tú? ;...</td>\n",
       "      <td>116</td>\n",
       "      <td>16.571429</td>\n",
       "      <td>37</td>\n",
       "      <td>10.265854</td>\n",
       "    </tr>\n",
       "    <tr>\n",
       "      <th>1</th>\n",
       "      <td>User_01_CB</td>\n",
       "      <td>David</td>\n",
       "      <td>Male</td>\n",
       "      <td>Neutral</td>\n",
       "      <td>1.668589e+09</td>\n",
       "      <td>7.830935</td>\n",
       "      <td>1.584070</td>\n",
       "      <td>9.427005</td>\n",
       "      <td>4.083750</td>\n",
       "      <td>2.342801</td>\n",
       "      <td>...</td>\n",
       "      <td>buenas yo soy Jesús ; Encantado mi deporte fav...</td>\n",
       "      <td>50</td>\n",
       "      <td>12.500000</td>\n",
       "      <td>23</td>\n",
       "      <td>6.873864</td>\n",
       "      <td>Hola, mi nombre es David ¿Cómo te llamas tú? ;...</td>\n",
       "      <td>55</td>\n",
       "      <td>11.000000</td>\n",
       "      <td>16</td>\n",
       "      <td>2.607681</td>\n",
       "    </tr>\n",
       "    <tr>\n",
       "      <th>2</th>\n",
       "      <td>User_01_CB</td>\n",
       "      <td>María</td>\n",
       "      <td>Female</td>\n",
       "      <td>Happy</td>\n",
       "      <td>1.668589e+09</td>\n",
       "      <td>9.411009</td>\n",
       "      <td>3.463359</td>\n",
       "      <td>15.750861</td>\n",
       "      <td>4.752000</td>\n",
       "      <td>2.694755</td>\n",
       "      <td>...</td>\n",
       "      <td>hola buenas yo me llamo Jesús encantado María ...</td>\n",
       "      <td>66</td>\n",
       "      <td>13.200000</td>\n",
       "      <td>27</td>\n",
       "      <td>8.255907</td>\n",
       "      <td>Encantada de conocerte, mi nombre es María ¿Cu...</td>\n",
       "      <td>101</td>\n",
       "      <td>20.200000</td>\n",
       "      <td>38</td>\n",
       "      <td>13.789851</td>\n",
       "    </tr>\n",
       "    <tr>\n",
       "      <th>3</th>\n",
       "      <td>User_01_CB</td>\n",
       "      <td>Pablo</td>\n",
       "      <td>Male</td>\n",
       "      <td>Relax</td>\n",
       "      <td>1.668589e+09</td>\n",
       "      <td>9.390276</td>\n",
       "      <td>3.389688</td>\n",
       "      <td>15.737232</td>\n",
       "      <td>5.351786</td>\n",
       "      <td>3.136928</td>\n",
       "      <td>...</td>\n",
       "      <td>Hola, yo me llamo Jesús te gusta la playa, qué...</td>\n",
       "      <td>106</td>\n",
       "      <td>15.142857</td>\n",
       "      <td>24</td>\n",
       "      <td>6.854166</td>\n",
       "      <td>Hola, mi nombre es Pablo ¿Cual es tu nombre? ;...</td>\n",
       "      <td>154</td>\n",
       "      <td>19.250000</td>\n",
       "      <td>41</td>\n",
       "      <td>9.443913</td>\n",
       "    </tr>\n",
       "    <tr>\n",
       "      <th>4</th>\n",
       "      <td>User_01_CB</td>\n",
       "      <td>Sara</td>\n",
       "      <td>Female</td>\n",
       "      <td>Sad</td>\n",
       "      <td>1.668590e+09</td>\n",
       "      <td>7.026681</td>\n",
       "      <td>1.380410</td>\n",
       "      <td>9.435585</td>\n",
       "      <td>2.630391</td>\n",
       "      <td>1.614463</td>\n",
       "      <td>...</td>\n",
       "      <td>Hola, Sara yo soy Jesús hace un buen día, no? ...</td>\n",
       "      <td>70</td>\n",
       "      <td>8.750000</td>\n",
       "      <td>18</td>\n",
       "      <td>4.968652</td>\n",
       "      <td>Hola, me llamo Sara ¿y tú? ; Hola Jesús, sí ha...</td>\n",
       "      <td>84</td>\n",
       "      <td>9.333333</td>\n",
       "      <td>16</td>\n",
       "      <td>4.690416</td>\n",
       "    </tr>\n",
       "    <tr>\n",
       "      <th>5</th>\n",
       "      <td>User_01_CB</td>\n",
       "      <td>Jorge</td>\n",
       "      <td>Male</td>\n",
       "      <td>Angry</td>\n",
       "      <td>1.668590e+09</td>\n",
       "      <td>8.156119</td>\n",
       "      <td>2.540030</td>\n",
       "      <td>12.621134</td>\n",
       "      <td>4.384125</td>\n",
       "      <td>2.928042</td>\n",
       "      <td>...</td>\n",
       "      <td>hola, yo me llamo Jesús ; Y no has pensado en ...</td>\n",
       "      <td>65</td>\n",
       "      <td>13.000000</td>\n",
       "      <td>31</td>\n",
       "      <td>10.099505</td>\n",
       "      <td>Mi nombre es Jorge ¿Cómo te llamas? ; Estoy en...</td>\n",
       "      <td>112</td>\n",
       "      <td>18.666667</td>\n",
       "      <td>43</td>\n",
       "      <td>16.172679</td>\n",
       "    </tr>\n",
       "    <tr>\n",
       "      <th>6</th>\n",
       "      <td>User_02_CB</td>\n",
       "      <td>Alejandro</td>\n",
       "      <td>Male</td>\n",
       "      <td>Neutral</td>\n",
       "      <td>1.668596e+09</td>\n",
       "      <td>10.650504</td>\n",
       "      <td>7.062532</td>\n",
       "      <td>30.711790</td>\n",
       "      <td>2.964375</td>\n",
       "      <td>2.561300</td>\n",
       "      <td>...</td>\n",
       "      <td>hola, yo soy Elena ; de aquí de Valencia ; Si ...</td>\n",
       "      <td>70</td>\n",
       "      <td>5.833333</td>\n",
       "      <td>15</td>\n",
       "      <td>4.393809</td>\n",
       "      <td>Hola, mi nombre es Alejandro ¿Cómo te llamas t...</td>\n",
       "      <td>118</td>\n",
       "      <td>9.076923</td>\n",
       "      <td>14</td>\n",
       "      <td>3.583328</td>\n",
       "    </tr>\n",
       "    <tr>\n",
       "      <th>7</th>\n",
       "      <td>User_02_CB</td>\n",
       "      <td>Laura</td>\n",
       "      <td>Female</td>\n",
       "      <td>Neutral</td>\n",
       "      <td>1.668597e+09</td>\n",
       "      <td>6.619163</td>\n",
       "      <td>1.038502</td>\n",
       "      <td>9.366427</td>\n",
       "      <td>1.974375</td>\n",
       "      <td>1.371503</td>\n",
       "      <td>...</td>\n",
       "      <td>hola mi nombre es Elena ; me Valencia ; Pues m...</td>\n",
       "      <td>41</td>\n",
       "      <td>5.125000</td>\n",
       "      <td>10</td>\n",
       "      <td>2.666341</td>\n",
       "      <td>Hola, mi nombre es Laura ¿Cómo te llamas tú? ;...</td>\n",
       "      <td>82</td>\n",
       "      <td>9.111111</td>\n",
       "      <td>14</td>\n",
       "      <td>2.685121</td>\n",
       "    </tr>\n",
       "    <tr>\n",
       "      <th>8</th>\n",
       "      <td>User_02_CB</td>\n",
       "      <td>Javier</td>\n",
       "      <td>Male</td>\n",
       "      <td>Happy</td>\n",
       "      <td>1.668597e+09</td>\n",
       "      <td>6.967394</td>\n",
       "      <td>1.330694</td>\n",
       "      <td>9.403758</td>\n",
       "      <td>2.148317</td>\n",
       "      <td>1.497199</td>\n",
       "      <td>...</td>\n",
       "      <td>hola Javier soy Elena ; de aquí de la ciudad ;...</td>\n",
       "      <td>63</td>\n",
       "      <td>4.846154</td>\n",
       "      <td>11</td>\n",
       "      <td>2.851347</td>\n",
       "      <td>Encantado de conocerte, mi nombre es Javier ¿C...</td>\n",
       "      <td>86</td>\n",
       "      <td>6.142857</td>\n",
       "      <td>11</td>\n",
       "      <td>3.270149</td>\n",
       "    </tr>\n",
       "    <tr>\n",
       "      <th>9</th>\n",
       "      <td>User_02_CB</td>\n",
       "      <td>Lucía</td>\n",
       "      <td>Female</td>\n",
       "      <td>Relax</td>\n",
       "      <td>1.668598e+09</td>\n",
       "      <td>7.526045</td>\n",
       "      <td>1.899582</td>\n",
       "      <td>12.557345</td>\n",
       "      <td>1.979338</td>\n",
       "      <td>1.939479</td>\n",
       "      <td>...</td>\n",
       "      <td>hola, soy Elena ; Muy bien. ; Me paseo a respi...</td>\n",
       "      <td>82</td>\n",
       "      <td>4.823529</td>\n",
       "      <td>10</td>\n",
       "      <td>3.364788</td>\n",
       "      <td>Hola, mi nombre es Lucía ¿Cual es tu nombre? ;...</td>\n",
       "      <td>97</td>\n",
       "      <td>5.388889</td>\n",
       "      <td>14</td>\n",
       "      <td>2.831154</td>\n",
       "    </tr>\n",
       "  </tbody>\n",
       "</table>\n",
       "<p>10 rows × 31 columns</p>\n",
       "</div>"
      ],
      "text/plain": [
       "    SubjectId    VH_Name VH_Gender VH_Personality  UnixLoopStart  \\\n",
       "0  User_01_CB      Laura    Female        Neutral   1.668588e+09   \n",
       "1  User_01_CB      David      Male        Neutral   1.668589e+09   \n",
       "2  User_01_CB      María    Female          Happy   1.668589e+09   \n",
       "3  User_01_CB      Pablo      Male          Relax   1.668589e+09   \n",
       "4  User_01_CB       Sara    Female            Sad   1.668590e+09   \n",
       "5  User_01_CB      Jorge      Male          Angry   1.668590e+09   \n",
       "6  User_02_CB  Alejandro      Male        Neutral   1.668596e+09   \n",
       "7  User_02_CB      Laura    Female        Neutral   1.668597e+09   \n",
       "8  User_02_CB     Javier      Male          Happy   1.668597e+09   \n",
       "9  User_02_CB      Lucía    Female          Relax   1.668598e+09   \n",
       "\n",
       "   MeanHumanTime_s  StdHumanTime_s  MaxHumanTime_s  FromAudio_MeanHumanTime_s  \\\n",
       "0        10.987555        5.116723       18.949747                   6.252188   \n",
       "1         7.830935        1.584070        9.427005                   4.083750   \n",
       "2         9.411009        3.463359       15.750861                   4.752000   \n",
       "3         9.390276        3.389688       15.737232                   5.351786   \n",
       "4         7.026681        1.380410        9.435585                   2.630391   \n",
       "5         8.156119        2.540030       12.621134                   4.384125   \n",
       "6        10.650504        7.062532       30.711790                   2.964375   \n",
       "7         6.619163        1.038502        9.366427                   1.974375   \n",
       "8         6.967394        1.330694        9.403758                   2.148317   \n",
       "9         7.526045        1.899582       12.557345                   1.979338   \n",
       "\n",
       "   FromAudio_StdHumanTime_s  ...  \\\n",
       "0                  5.127379  ...   \n",
       "1                  2.342801  ...   \n",
       "2                  2.694755  ...   \n",
       "3                  3.136928  ...   \n",
       "4                  1.614463  ...   \n",
       "5                  2.928042  ...   \n",
       "6                  2.561300  ...   \n",
       "7                  1.371503  ...   \n",
       "8                  1.497199  ...   \n",
       "9                  1.939479  ...   \n",
       "\n",
       "                                          TextPerson  NumTotalWordsPerson  \\\n",
       "0  buenas yo soy Jesús ; yo sí, Valencia y tú ; P...                  105   \n",
       "1  buenas yo soy Jesús ; Encantado mi deporte fav...                   50   \n",
       "2  hola buenas yo me llamo Jesús encantado María ...                   66   \n",
       "3  Hola, yo me llamo Jesús te gusta la playa, qué...                  106   \n",
       "4  Hola, Sara yo soy Jesús hace un buen día, no? ...                   70   \n",
       "5  hola, yo me llamo Jesús ; Y no has pensado en ...                   65   \n",
       "6  hola, yo soy Elena ; de aquí de Valencia ; Si ...                   70   \n",
       "7  hola mi nombre es Elena ; me Valencia ; Pues m...                   41   \n",
       "8  hola Javier soy Elena ; de aquí de la ciudad ;...                   63   \n",
       "9  hola, soy Elena ; Muy bien. ; Me paseo a respi...                   82   \n",
       "\n",
       "   MeanWordsPerson  MaxWordsPerson  StdWordsPerson  \\\n",
       "0        17.500000              44       15.019432   \n",
       "1        12.500000              23        6.873864   \n",
       "2        13.200000              27        8.255907   \n",
       "3        15.142857              24        6.854166   \n",
       "4         8.750000              18        4.968652   \n",
       "5        13.000000              31       10.099505   \n",
       "6         5.833333              15        4.393809   \n",
       "7         5.125000              10        2.666341   \n",
       "8         4.846154              11        2.851347   \n",
       "9         4.823529              10        3.364788   \n",
       "\n",
       "                                              TextVH  NumTotalWordsVH  \\\n",
       "0  Hola, mi nombre es Laura ¿Cómo te llamas tú? ;...              116   \n",
       "1  Hola, mi nombre es David ¿Cómo te llamas tú? ;...               55   \n",
       "2  Encantada de conocerte, mi nombre es María ¿Cu...              101   \n",
       "3  Hola, mi nombre es Pablo ¿Cual es tu nombre? ;...              154   \n",
       "4  Hola, me llamo Sara ¿y tú? ; Hola Jesús, sí ha...               84   \n",
       "5  Mi nombre es Jorge ¿Cómo te llamas? ; Estoy en...              112   \n",
       "6  Hola, mi nombre es Alejandro ¿Cómo te llamas t...              118   \n",
       "7  Hola, mi nombre es Laura ¿Cómo te llamas tú? ;...               82   \n",
       "8  Encantado de conocerte, mi nombre es Javier ¿C...               86   \n",
       "9  Hola, mi nombre es Lucía ¿Cual es tu nombre? ;...               97   \n",
       "\n",
       "   MeanWordsVH  MaxWordsVH  StdWordsVH  \n",
       "0    16.571429          37   10.265854  \n",
       "1    11.000000          16    2.607681  \n",
       "2    20.200000          38   13.789851  \n",
       "3    19.250000          41    9.443913  \n",
       "4     9.333333          16    4.690416  \n",
       "5    18.666667          43   16.172679  \n",
       "6     9.076923          14    3.583328  \n",
       "7     9.111111          14    2.685121  \n",
       "8     6.142857          11    3.270149  \n",
       "9     5.388889          14    2.831154  \n",
       "\n",
       "[10 rows x 31 columns]"
      ]
     },
     "execution_count": 36,
     "metadata": {},
     "output_type": "execute_result"
    }
   ],
   "source": [
    "print(df_res_process.columns)\n",
    "print(\"Shape\", df_res_process.shape)\n",
    "df_res_process.head(10)"
   ]
  },
  {
   "cell_type": "code",
   "execution_count": 37,
   "id": "61d629f4",
   "metadata": {
    "ExecuteTime": {
     "end_time": "2023-02-17T12:00:28.308427Z",
     "start_time": "2023-02-17T12:00:28.299390Z"
    }
   },
   "outputs": [],
   "source": [
    "df_res_process[\"SubjectId\"] = df_res_process[\"SubjectId\"].replace(\"Alejandro\", \"User_10_CB\")"
   ]
  },
  {
   "cell_type": "code",
   "execution_count": 38,
   "id": "dddc4fea",
   "metadata": {
    "ExecuteTime": {
     "end_time": "2023-02-17T12:00:29.119550Z",
     "start_time": "2023-02-17T12:00:29.101680Z"
    }
   },
   "outputs": [
    {
     "name": "stdout",
     "output_type": "stream",
     "text": [
      "Number of Subjects 50\n",
      "Subjects ['User_01_CB' 'User_02_CB' 'User_03_CB' 'User_04_CB' 'User_05_CB'\n",
      " 'User_06_CB' 'User_07_CB' 'User_08_CB' 'User_09_CB' 'User_10_CB'\n",
      " 'User_11_CB' 'User_12_CB' 'User_13_CB' 'User_14_CB' 'User_15_CB'\n",
      " 'User_16_CB' 'User_17_CB' 'User_18_CB' 'User_19_CB' 'User_20_CB'\n",
      " 'User_21_CB' 'User_22_CB' 'User_23_CB' 'User_24_CB' 'User_25_CB'\n",
      " 'User_26_CB' 'User_27_CB' 'User_28_CB' 'User_29_CB' 'User_30_CB'\n",
      " 'User_31_CB' 'User_32_CB' 'User_33_CB' 'User_34_CB' 'User_35_CB'\n",
      " 'User_36_CB' 'User_37_CB' 'User_38_CB' 'User_39_CB' 'User_40_CB'\n",
      " 'User_41_CB' 'User_42_CB' 'User_43_CB' 'User_44_CB' 'User_45_CB'\n",
      " 'User_46_CB' 'User_47_CB' 'User_48_CB' 'User_49_CB' 'User_50_CB']\n"
     ]
    }
   ],
   "source": [
    "print(\"Number of Subjects\", df_res_process[\"SubjectId\"].nunique())\n",
    "print(\"Subjects\", df_res_process[\"SubjectId\"].unique())"
   ]
  },
  {
   "cell_type": "code",
   "execution_count": null,
   "id": "455d0cec",
   "metadata": {
    "ExecuteTime": {
     "end_time": "2023-02-16T19:13:58.717582Z",
     "start_time": "2023-02-16T19:13:58.578931Z"
    }
   },
   "outputs": [],
   "source": []
  },
  {
   "cell_type": "code",
   "execution_count": 39,
   "id": "19a7ffac",
   "metadata": {
    "ExecuteTime": {
     "end_time": "2023-02-17T12:00:30.198714Z",
     "start_time": "2023-02-17T12:00:30.171974Z"
    }
   },
   "outputs": [],
   "source": [
    "df_res_process.to_csv(\"Results/DataConvProcessed.csv\", sep=\";\", index=False)"
   ]
  },
  {
   "cell_type": "code",
   "execution_count": 40,
   "id": "8e0344d8",
   "metadata": {
    "ExecuteTime": {
     "end_time": "2023-02-17T12:00:30.709344Z",
     "start_time": "2023-02-17T12:00:30.679890Z"
    }
   },
   "outputs": [],
   "source": [
    "df_res_process = pd.read_csv(\"Results/DataConvProcessed.csv\", sep=\";\")"
   ]
  },
  {
   "cell_type": "code",
   "execution_count": 42,
   "id": "217fd1ec",
   "metadata": {
    "ExecuteTime": {
     "end_time": "2023-02-17T12:01:14.856861Z",
     "start_time": "2023-02-17T12:01:14.675714Z"
    }
   },
   "outputs": [
    {
     "name": "stdout",
     "output_type": "stream",
     "text": [
      "Mean FromAudio_MeanHumanTime_s = 4.0869 +/- 2.1205 ; Median = 3.7434 ; Min. =  1.1264 ; Max. =  15.0412\n",
      "Mean MeanVHTime_s = 7.3142 +/- 1.9404 ; Median = 7.1978 ; Min. =  3.7716 ; Max. =  14.6599\n"
     ]
    },
    {
     "data": {
      "image/png": "[encoded data removed]",
      "text/plain": [
       "<Figure size 1080x432 with 1 Axes>"
      ]
     },
     "metadata": {
      "needs_background": "light"
     },
     "output_type": "display_data"
    }
   ],
   "source": [
    "aute.stat_print(df_res_process[\"FromAudio_MeanHumanTime_s\"], \"FromAudio_MeanHumanTime_s\")\n",
    "aute.stat_print(df_res_process[\"MeanVHTime_s\"], \"MeanVHTime_s\")\n",
    "\n",
    "plt.figure(figsize=(15, 6))\n",
    "\n",
    "plt.hist(df_res_process[\"FromAudio_MeanHumanTime_s\"], bins=31, alpha=0.6, label=\"Human\")\n",
    "plt.hist(df_res_process[\"MeanVHTime_s\"], bins=31, alpha=0.6, label=\"V. H.\")\n",
    "plt.legend(fontsize=14)\n",
    "\n",
    "plt.show()"
   ]
  },
  {
   "cell_type": "code",
   "execution_count": 43,
   "id": "2ef37793",
   "metadata": {
    "ExecuteTime": {
     "end_time": "2023-02-17T12:01:29.095770Z",
     "start_time": "2023-02-17T12:01:28.954227Z"
    }
   },
   "outputs": [
    {
     "name": "stdout",
     "output_type": "stream",
     "text": [
      "Mean NumSentencePerson = 10.1267 +/- 3.3542 ; Median = 10.0 ; Min. =  1 ; Max. =  18\n",
      "Mean NumSentenceVH = 10.71 +/- 3.2433 ; Median = 11.0 ; Min. =  2 ; Max. =  18\n"
     ]
    },
    {
     "data": {
      "image/png": "[encoded data removed]",
      "text/plain": [
       "<Figure size 1080x432 with 1 Axes>"
      ]
     },
     "metadata": {
      "needs_background": "light"
     },
     "output_type": "display_data"
    }
   ],
   "source": [
    "aute.stat_print(df_res_process[\"NumSentencePerson\"], \"NumSentencePerson\")\n",
    "aute.stat_print(df_res_process[\"NumSentenceVH\"], \"NumSentenceVH\")\n",
    "\n",
    "plt.figure(figsize=(15, 6))\n",
    "\n",
    "plt.hist(df_res_process[\"NumSentencePerson\"], bins=21, alpha=0.6, label=\"Human\")\n",
    "plt.hist(df_res_process[\"NumSentenceVH\"], bins=21, alpha=0.6, label=\"V. H.\")\n",
    "plt.legend(fontsize=14)\n",
    "\n",
    "plt.show()"
   ]
  },
  {
   "cell_type": "code",
   "execution_count": 46,
   "id": "7a3a4837",
   "metadata": {
    "ExecuteTime": {
     "end_time": "2023-02-17T14:21:57.946731Z",
     "start_time": "2023-02-17T14:21:57.479306Z"
    }
   },
   "outputs": [
    {
     "name": "stdout",
     "output_type": "stream",
     "text": [
      "Mean NumTotalWordsPerson = 106.8767 +/- 51.2778 ; Median = 102.0 ; Min. =  5 ; Max. =  287\n",
      "Mean NumTotalWordsVH = 140.37 +/- 50.5237 ; Median = 138.0 ; Min. =  24 ; Max. =  295\n"
     ]
    },
    {
     "data": {
      "image/png": "[encoded data removed]",
      "text/plain": [
       "<Figure size 1080x432 with 1 Axes>"
      ]
     },
     "metadata": {
      "needs_background": "light"
     },
     "output_type": "display_data"
    },
    {
     "name": "stdout",
     "output_type": "stream",
     "text": [
      "Mean MeanWordsPerson = 10.8778 +/- 5.1249 ; Median = 10.0 ; Min. =  2.5 ; Max. =  33.5\n",
      "Mean MeanWordsVH = 13.7378 +/- 5.2141 ; Median = 13.0839 ; Min. =  5.2778 ; Max. =  33.5714\n"
     ]
    },
    {
     "data": {
      "image/png": "[encoded data removed]",
      "text/plain": [
       "<Figure size 1080x432 with 1 Axes>"
      ]
     },
     "metadata": {
      "needs_background": "light"
     },
     "output_type": "display_data"
    }
   ],
   "source": [
    "aute.stat_print(df_res_process[\"NumTotalWordsPerson\"], \"NumTotalWordsPerson\")\n",
    "aute.stat_print(df_res_process[\"NumTotalWordsVH\"], \"NumTotalWordsVH\")\n",
    "\n",
    "plt.figure(figsize=(15, 6))\n",
    "\n",
    "plt.hist(df_res_process[\"NumTotalWordsPerson\"], bins=31, alpha=0.6, label=\"Human\")\n",
    "plt.hist(df_res_process[\"NumTotalWordsVH\"], bins=31, alpha=0.6, label=\"V. H.\")\n",
    "plt.legend(fontsize=14)\n",
    "\n",
    "plt.show()\n",
    "\n",
    "aute.stat_print(df_res_process[\"MeanWordsPerson\"], \"MeanWordsPerson\")\n",
    "aute.stat_print(df_res_process[\"MeanWordsVH\"], \"MeanWordsVH\")\n",
    "\n",
    "plt.figure(figsize=(15, 6))\n",
    "\n",
    "plt.hist(df_res_process[\"MeanWordsPerson\"], bins=31, alpha=0.6, label=\"Human\")\n",
    "plt.hist(df_res_process[\"MeanWordsVH\"], bins=31, alpha=0.6, label=\"V. H.\")\n",
    "plt.legend(fontsize=14)\n",
    "\n",
    "plt.show()"
   ]
  },
  {
   "cell_type": "code",
   "execution_count": null,
   "id": "3f2c446a",
   "metadata": {},
   "outputs": [],
   "source": []
  }
 ],
 "metadata": {
  "kernelspec": {
   "display_name": "Python 3 (ipykernel)",
   "language": "python",
   "name": "python3"
  },
  "language_info": {
   "codemirror_mode": {
    "name": "ipython",
    "version": 3
   },
   "file_extension": ".py",
   "mimetype": "text/x-python",
   "name": "python",
   "nbconvert_exporter": "python",
   "pygments_lexer": "ipython3",
   "version": "3.7.8"
  },
  "latex_envs": {
   "LaTeX_envs_menu_present": true,
   "autoclose": false,
   "autocomplete": true,
   "bibliofile": "biblio.bib",
   "cite_by": "apalike",
   "current_citInitial": 1,
   "eqLabelWithNumbers": true,
   "eqNumInitial": 1,
   "hotkeys": {
    "equation": "Ctrl-E",
    "itemize": "Ctrl-I"
   },
   "labels_anchors": false,
   "latex_user_defs": false,
   "report_style_numbering": false,
   "user_envs_cfg": false
  }
 },
 "nbformat": 4,
 "nbformat_minor": 5
}
