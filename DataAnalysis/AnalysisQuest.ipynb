{
 "cells": [
  {
   "cell_type": "code",
   "execution_count": 1,
   "id": "5a8e7b36",
   "metadata": {
    "ExecuteTime": {
     "end_time": "2022-12-01T19:03:53.966136Z",
     "start_time": "2022-12-01T19:03:52.135360Z"
    }
   },
   "outputs": [],
   "source": [
    "import pandas as pd\n",
    "import numpy as np\n",
    "import matplotlib.pyplot as plt"
   ]
  },
  {
   "cell_type": "markdown",
   "id": "a8475a14",
   "metadata": {},
   "source": [
    "## STAI-Y1"
   ]
  },
  {
   "cell_type": "code",
   "execution_count": 13,
   "id": "dad9cc6d",
   "metadata": {
    "ExecuteTime": {
     "end_time": "2022-11-30T16:09:57.488305Z",
     "start_time": "2022-11-30T16:09:57.432252Z"
    }
   },
   "outputs": [
    {
     "name": "stdout",
     "output_type": "stream",
     "text": [
      "Shape (25, 30)\n",
      "Columns Index(['respondent_id', 'collector_id', 'date_created', 'date_modified',\n",
      "       'ip_address', 'email_address', 'first_name', 'last_name', 'custom_1',\n",
      "       'Usuario',\n",
      "       'A continuación, encontrará unas frases que se utilizan corrientemente para describirse uno a sí mismo. Lea cada frase y señale la puntuación de \"nada\" a \"mucho\" que indique mejor cómo se siente usted ahora mismo, en este momento. No hay respuestas buenas ni malas. No emplee demasiado tiempo en cada frase y conteste señalando la respuesta que mejor describa su situación actual.',\n",
      "       'Unnamed: 11', 'Unnamed: 12', 'Unnamed: 13', 'Unnamed: 14',\n",
      "       'Unnamed: 15', 'Unnamed: 16', 'Unnamed: 17', 'Unnamed: 18',\n",
      "       'Unnamed: 19', 'Unnamed: 20', 'Unnamed: 21', 'Unnamed: 22',\n",
      "       'Unnamed: 23', 'Unnamed: 24', 'Unnamed: 25', 'Unnamed: 26',\n",
      "       'Unnamed: 27', 'Unnamed: 28', 'Unnamed: 29'],\n",
      "      dtype='object')\n"
     ]
    }
   ],
   "source": [
    "df_stai_y1 = pd.read_excel(\"../Cuestionarios/CHATBOTs_STAI-Y1.xlsx\")\n",
    "questions_stai_y1 = dict(df_stai_y1.loc[0])\n",
    "df_stai_y1 = pd.read_excel(\"../Cuestionarios/CHATBOTs_STAI-Y1.xlsx\", skiprows=[1])\n",
    "print(\"Shape\", df_stai_y1.shape)\n",
    "print(\"Columns\", df_stai_y1.columns)"
   ]
  },
  {
   "cell_type": "code",
   "execution_count": 22,
   "id": "ed7f68cb",
   "metadata": {
    "ExecuteTime": {
     "end_time": "2022-11-30T16:19:29.062273Z",
     "start_time": "2022-11-30T16:19:29.044258Z"
    }
   },
   "outputs": [],
   "source": [
    "from_cat_to_num_dict = {\"Nada\": 1, \"Algo\": 2, \"Bastante\": 3, \"Mucho\": 4}"
   ]
  },
  {
   "cell_type": "code",
   "execution_count": 20,
   "id": "9eecfde0",
   "metadata": {
    "ExecuteTime": {
     "end_time": "2022-11-30T16:17:34.026491Z",
     "start_time": "2022-11-30T16:17:34.016580Z"
    }
   },
   "outputs": [
    {
     "data": {
      "text/plain": [
       "0     Bastante\n",
       "1          NaN\n",
       "2     Bastante\n",
       "3         Algo\n",
       "4         Algo\n",
       "5        Mucho\n",
       "6     Bastante\n",
       "7     Bastante\n",
       "8        Mucho\n",
       "9     Bastante\n",
       "10    Bastante\n",
       "11        Algo\n",
       "12       Mucho\n",
       "13        Algo\n",
       "14    Bastante\n",
       "15    Bastante\n",
       "16       Mucho\n",
       "17        Algo\n",
       "18    Bastante\n",
       "19        Nada\n",
       "20    Bastante\n",
       "21    Bastante\n",
       "22    Bastante\n",
       "23        Algo\n",
       "24         NaN\n",
       "Name: Unnamed: 11, dtype: object"
      ]
     },
     "execution_count": 20,
     "metadata": {},
     "output_type": "execute_result"
    }
   ],
   "source": [
    "df_stai_y1[\"Unnamed: 11\"]"
   ]
  },
  {
   "cell_type": "code",
   "execution_count": 19,
   "id": "f9817a1e",
   "metadata": {
    "ExecuteTime": {
     "end_time": "2022-11-30T16:17:20.707689Z",
     "start_time": "2022-11-30T16:17:20.694265Z"
    }
   },
   "outputs": [
    {
     "name": "stdout",
     "output_type": "stream",
     "text": [
      "4\n",
      "3\n",
      "3\n",
      "4\n",
      "3\n",
      "4\n",
      "4\n",
      "3\n",
      "3\n",
      "4\n",
      "3\n",
      "3\n",
      "3\n",
      "3\n",
      "4\n",
      "3\n",
      "3\n",
      "4\n",
      "4\n"
     ]
    }
   ],
   "source": [
    "cols_see = [\n",
    "    'Unnamed: 11', 'Unnamed: 12', 'Unnamed: 13', 'Unnamed: 14',\n",
    "    'Unnamed: 15', 'Unnamed: 16', 'Unnamed: 17', 'Unnamed: 18',\n",
    "    'Unnamed: 19', 'Unnamed: 20', 'Unnamed: 21', 'Unnamed: 22',\n",
    "    'Unnamed: 23', 'Unnamed: 24', 'Unnamed: 25', 'Unnamed: 26',\n",
    "    'Unnamed: 27', 'Unnamed: 28', 'Unnamed: 29'\n",
    "]\n",
    "\n",
    "for col in cols_see:\n",
    "    print(df_stai_y1[col].nunique())"
   ]
  },
  {
   "cell_type": "markdown",
   "id": "9d9d2840",
   "metadata": {
    "ExecuteTime": {
     "end_time": "2022-11-30T16:16:41.789047Z",
     "start_time": "2022-11-30T16:16:41.771044Z"
    }
   },
   "source": [
    "## Avatars"
   ]
  },
  {
   "cell_type": "markdown",
   "id": "df0e60dc",
   "metadata": {},
   "source": [
    "### Happy"
   ]
  },
  {
   "cell_type": "code",
   "execution_count": 55,
   "id": "0a07e9f4",
   "metadata": {
    "ExecuteTime": {
     "end_time": "2022-11-30T16:56:25.413656Z",
     "start_time": "2022-11-30T16:56:25.383534Z"
    }
   },
   "outputs": [
    {
     "name": "stdout",
     "output_type": "stream",
     "text": [
      "(21, 32)\n",
      "Index(['respondent_id', 'collector_id', 'date_created', 'date_modified',\n",
      "       'ip_address', 'email_address', 'first_name', 'last_name', 'custom_1',\n",
      "       'Usuario',\n",
      "       'Tienes que elegir un numero entre 1 y 7, siendo 1 “me he notado muy forzado durante la conversación” y 7 “me he notado muy natural durante la conversación”.',\n",
      "       'Tienes que elegir un numero entre 1 y 7, siendo 1 “ha sido una conversación artificial. No se parece nada a una conversación real” y 7 “ha sido una conversación realista. El contenido ha sido muy parecido a lo de una conversación real”.',\n",
      "       'Siendo 1 \"muy negativa\", 5 \"neutral\" y 9 \"muy positiva\". Indica tu nivel de valencia de la conversación.',\n",
      "       'Siendo 1 el estado de calma, 5 el estado normal y 9 el estado de excitación intensa. Indica tu nivel de arousal.',\n",
      "       'El nivel en que has sentido que dominabas (controlabas a nivel emocional) el contenido de la conversación. Siendo 1 \"no dominante\", 5 \"normal\" y 9 \"muy dominante\". Indica tu nivel de dominancia emocional.',\n",
      "       'Siendo 1 \"muy negativa\", 5 \"neutral\" y 9 \"muy positiva\". Indica el nivel de valencia DEL AVATAR durante la conversación',\n",
      "       'Siendo 1 el estado de calma, 5 el estado normal y 9 el estado de excitación intensa. Indica el nivel de arousal DEL AVATAR durante la conversación.',\n",
      "       'El nivel en que ha sentido que EL AVATAR estaba dominado (controlando a nivel emocional) el contenido de la conversación. Siendo 1 \"no dominante\", 5 \"normal\" y 9 \"muy dominante\". Indica el nivel de dominancia emocional DEL AVATAR.',\n",
      "       'Disgusto', 'Felicidad', 'Enfado', 'Miedo', 'Relajado', 'Sorpresa',\n",
      "       'Tristeza', 'Disgusto.1', 'Felicidad.1', 'Enfado.1', 'Miedo.1',\n",
      "       'Relajado.1', 'Sorpresa.1', 'Tristeza.1'],\n",
      "      dtype='object')\n"
     ]
    }
   ],
   "source": [
    "df_happy = pd.read_excel(\"../Cuestionarios/CHATBOTs_F.xlsx\", skiprows=[1])\n",
    "print(df_happy.shape)\n",
    "print(df_happy.columns)"
   ]
  },
  {
   "cell_type": "code",
   "execution_count": 56,
   "id": "ee23a361",
   "metadata": {
    "ExecuteTime": {
     "end_time": "2022-11-30T16:56:25.915414Z",
     "start_time": "2022-11-30T16:56:25.893413Z"
    }
   },
   "outputs": [],
   "source": [
    "# ###########################\n",
    "# ### Change column names ###\n",
    "# ###########################\n",
    "\n",
    "old_columns_name = [\n",
    "    'Tienes que elegir un numero entre 1 y 7, siendo 1 “me he notado muy forzado durante la conversación” y 7 “me he notado muy natural durante la conversación”.',\n",
    "    'Tienes que elegir un numero entre 1 y 7, siendo 1 “ha sido una conversación artificial. No se parece nada a una conversación real” y 7 “ha sido una conversación realista. El contenido ha sido muy parecido a lo de una conversación real”.',\n",
    "    'Siendo 1 \"muy negativa\", 5 \"neutral\" y 9 \"muy positiva\". Indica tu nivel de valencia de la conversación.',\n",
    "    'Siendo 1 el estado de calma, 5 el estado normal y 9 el estado de excitación intensa. Indica tu nivel de arousal.',\n",
    "    'El nivel en que has sentido que dominabas (controlabas a nivel emocional) el contenido de la conversación. Siendo 1 \"no dominante\", 5 \"normal\" y 9 \"muy dominante\". Indica tu nivel de dominancia emocional.',\n",
    "    'Siendo 1 \"muy negativa\", 5 \"neutral\" y 9 \"muy positiva\". Indica el nivel de valencia DEL AVATAR durante la conversación',\n",
    "    'Siendo 1 el estado de calma, 5 el estado normal y 9 el estado de excitación intensa. Indica el nivel de arousal DEL AVATAR durante la conversación.',\n",
    "    'El nivel en que ha sentido que EL AVATAR estaba dominado (controlando a nivel emocional) el contenido de la conversación. Siendo 1 \"no dominante\", 5 \"normal\" y 9 \"muy dominante\". Indica el nivel de dominancia emocional DEL AVATAR.'\n",
    "]\n",
    "\n",
    "new_columns_name = [\n",
    "    \"Question1\", \"Question2\", \"Question3\", \"Question4\", \"Question5\", \"Question6\", \"Question7\", \"Question8\"\n",
    "]\n",
    "\n",
    "change_name_column_dict = dict(zip(old_columns_name, new_columns_name))\n",
    "\n",
    "df_happy = df_happy.rename(columns=change_name_column_dict)\n",
    "\n",
    "# #########################\n",
    "# ### Change categories ###\n",
    "# #########################\n",
    "\n",
    "from_one_to_seven = {\n",
    "    '1. Muy forzado': 1, '2': 2, '3': 3, '4': 4, '5': 5, '6': 6, '7. Muy natural': 7\n",
    "}\n",
    "from_one_to_seven_2 = {\n",
    "    '1. Muy artificial': 1, '2': 2, '3': 3, '4': 4, '5': 5, '6': 6, '7. Muy realista': 7\n",
    "}\n",
    "from_one_to_nine = {\n",
    "    '1. Muy negativa': 1, '2': 2, '3': 3, '4': 4, '5. Neutral': 5, '6': 6, '7': 7, '8': 8, '9. Muy positiva': 9\n",
    "}\n",
    "from_one_to_nine_arousal = {\n",
    "    '1. Ninguno': 1, '2': 2, '3': 3, '4': 4, '5. Normal': 5, '6': 6, '7': 7, '8': 8, '9. Mucho': 9\n",
    "}\n",
    "from_one_to_nine_dom = {\n",
    "    '1. No dominante': 1, '2': 2, '3': 3, '4': 4, '5. Normal': 5, '6': 6, '7': 7, '8': 8, '9. Muy dominante': 9\n",
    "}\n",
    "from_one_to_nine_pos = {\n",
    "    '1. Muy negativa': 1, '2': 2, '3': 3, '4': 4, '5. Neutral': 5, '6': 6, '7': 7, '8': 8, '9. Muy positiva': 9\n",
    "}\n",
    "from_one_to_nine_calm = {\n",
    "    '1. Calma': 1, '2': 2, '3': 3, '4': 4, '5. Normal': 5, '6': 6, '7': 7, '8': 8, '9. Excitación': 9\n",
    "}\n",
    "categories_dict_list = [\n",
    "    from_one_to_seven,\n",
    "    from_one_to_seven_2,\n",
    "    from_one_to_nine,\n",
    "    from_one_to_nine_arousal,\n",
    "    from_one_to_nine_dom,\n",
    "    from_one_to_nine_pos,\n",
    "    from_one_to_nine_calm,\n",
    "    from_one_to_nine_dom\n",
    "]\n",
    "\n",
    "change_value_per_column_dict = dict(zip(new_columns_name, categories_dict_list))\n",
    "\n",
    "df_happy = df_happy.replace(change_value_per_column_dict)"
   ]
  },
  {
   "cell_type": "markdown",
   "id": "d15311e9",
   "metadata": {
    "ExecuteTime": {
     "end_time": "2022-11-30T16:55:05.436652Z",
     "start_time": "2022-11-30T16:55:05.417351Z"
    }
   },
   "source": [
    "### All avatars"
   ]
  },
  {
   "cell_type": "code",
   "execution_count": 40,
   "id": "9ca8dc84",
   "metadata": {
    "ExecuteTime": {
     "end_time": "2022-12-01T19:15:22.447808Z",
     "start_time": "2022-12-01T19:15:22.339768Z"
    }
   },
   "outputs": [],
   "source": [
    "path_to_cuest = \"../Cuestionarios/\"\n",
    "personality_cuest_list = [\"CHATBOTs_F\", \"CHATBOTs_T\", \"CHATBOTs_E\", \"CHATBOTs_R\"]\n",
    "personality_cuest_to_save_list = [\"CuestAvatarHappy\", \"CuestAvatarSad\", \"CuestAvatarAngry\", \"CuestAvatarRelax\"]\n",
    "\n",
    "for i_pers, pers in enumerate(personality_cuest_list):\n",
    "    data = pd.read_excel(path_to_cuest + pers + \".xlsx\", skiprows=[1])\n",
    "    \n",
    "    # ###########################\n",
    "    # ### Change column names ###\n",
    "    # ###########################\n",
    "\n",
    "    old_columns_name = [\n",
    "        'Tienes que elegir un numero entre 1 y 7, siendo 1 “me he notado muy forzado durante la conversación” y 7 “me he notado muy natural durante la conversación”.',\n",
    "        'Tienes que elegir un numero entre 1 y 7, siendo 1 “ha sido una conversación artificial. No se parece nada a una conversación real” y 7 “ha sido una conversación realista. El contenido ha sido muy parecido a lo de una conversación real”.',\n",
    "        'Siendo 1 \"muy negativa\", 5 \"neutral\" y 9 \"muy positiva\". Indica tu nivel de valencia de la conversación.',\n",
    "        'Siendo 1 el estado de calma, 5 el estado normal y 9 el estado de excitación intensa. Indica tu nivel de arousal.',\n",
    "        'El nivel en que has sentido que dominabas (controlabas a nivel emocional) el contenido de la conversación. Siendo 1 \"no dominante\", 5 \"normal\" y 9 \"muy dominante\". Indica tu nivel de dominancia emocional.',\n",
    "        'Siendo 1 \"muy negativa\", 5 \"neutral\" y 9 \"muy positiva\". Indica el nivel de valencia DEL AVATAR durante la conversación',\n",
    "        'Siendo 1 el estado de calma, 5 el estado normal y 9 el estado de excitación intensa. Indica el nivel de arousal DEL AVATAR durante la conversación.',\n",
    "        'El nivel en que ha sentido que EL AVATAR estaba dominado (controlando a nivel emocional) el contenido de la conversación. Siendo 1 \"no dominante\", 5 \"normal\" y 9 \"muy dominante\". Indica el nivel de dominancia emocional DEL AVATAR.'\n",
    "    ]\n",
    "\n",
    "    new_columns_name = [\n",
    "        \"Question1\", \"Question2\", \"Question3\", \"Question4\", \"Question5\", \"Question6\", \"Question7\", \"Question8\"\n",
    "    ]\n",
    "\n",
    "    change_name_column_dict = dict(zip(old_columns_name, new_columns_name))\n",
    "\n",
    "    data = data.rename(columns=change_name_column_dict)\n",
    "\n",
    "    # #########################\n",
    "    # ### Change categories ###\n",
    "    # #########################\n",
    "\n",
    "    from_one_to_seven = {\n",
    "        '1. Muy forzado': 1, '2': 2, '3': 3, '4': 4, '5': 5, '6': 6, '7. Muy natural': 7\n",
    "    }\n",
    "    from_one_to_seven_2 = {\n",
    "        '1. Muy artificial': 1, '2': 2, '3': 3, '4': 4, '5': 5, '6': 6, '7. Muy realista': 7\n",
    "    }\n",
    "    from_one_to_nine = {\n",
    "        '1. Muy negativa': 1, '2': 2, '3': 3, '4': 4, '5. Neutral': 5, '6': 6, '7': 7, '8': 8, '9. Muy positiva': 9\n",
    "    }\n",
    "    from_one_to_nine_arousal = {\n",
    "        '1. Ninguno': 1, '2': 2, '3': 3, '4': 4, '5. Normal': 5, '6': 6, '7': 7, '8': 8, '9. Mucho': 9\n",
    "    }\n",
    "    from_one_to_nine_dom = {\n",
    "        '1. No dominante': 1, '2': 2, '3': 3, '4': 4, '5. Normal': 5, '6': 6, '7': 7, '8': 8, '9. Muy dominante': 9\n",
    "    }\n",
    "    from_one_to_nine_pos = {\n",
    "        '1. Muy negativa': 1, '2': 2, '3': 3, '4': 4, '5. Neutral': 5, '6': 6, '7': 7, '8': 8, '9. Muy positiva': 9\n",
    "    }\n",
    "    from_one_to_nine_calm = {\n",
    "        '1. Calma': 1, '2': 2, '3': 3, '4': 4, '5. Normal': 5, '6': 6, '7': 7, '8': 8, '9. Excitación': 9\n",
    "    }\n",
    "    categories_dict_list = [\n",
    "        from_one_to_seven,\n",
    "        from_one_to_seven_2,\n",
    "        from_one_to_nine,\n",
    "        from_one_to_nine_arousal,\n",
    "        from_one_to_nine_dom,\n",
    "        from_one_to_nine_pos,\n",
    "        from_one_to_nine_calm,\n",
    "        from_one_to_nine_dom\n",
    "    ]\n",
    "\n",
    "    change_value_per_column_dict = dict(zip(new_columns_name, categories_dict_list))\n",
    "\n",
    "    data = data.replace(change_value_per_column_dict)\n",
    "    \n",
    "    for col in new_columns_name:\n",
    "        if data[col].dtype == \"O\":\n",
    "            # The possible strings that are in a column are removed checking if they are strings or not.\n",
    "            data[col] = [\n",
    "                int(v.split(\".\")[0]) if isinstance(v, str) else int(v) for v in data[col]\n",
    "            ]\n",
    "    \n",
    "    data.to_csv(path_to_cuest + \"PostProcessedCuest/\" + personality_cuest_to_save_list[i_pers] + \".csv\", sep=\",\")\n",
    "    "
   ]
  },
  {
   "cell_type": "code",
   "execution_count": null,
   "id": "2e538747",
   "metadata": {},
   "outputs": [],
   "source": []
  },
  {
   "cell_type": "code",
   "execution_count": null,
   "id": "1e5c8291",
   "metadata": {},
   "outputs": [],
   "source": []
  }
 ],
 "metadata": {
  "kernelspec": {
   "display_name": "Python 3 (ipykernel)",
   "language": "python",
   "name": "python3"
  },
  "language_info": {
   "codemirror_mode": {
    "name": "ipython",
    "version": 3
   },
   "file_extension": ".py",
   "mimetype": "text/x-python",
   "name": "python",
   "nbconvert_exporter": "python",
   "pygments_lexer": "ipython3",
   "version": "3.7.8"
  },
  "latex_envs": {
   "LaTeX_envs_menu_present": true,
   "autoclose": false,
   "autocomplete": true,
   "bibliofile": "biblio.bib",
   "cite_by": "apalike",
   "current_citInitial": 1,
   "eqLabelWithNumbers": true,
   "eqNumInitial": 1,
   "hotkeys": {
    "equation": "Ctrl-E",
    "itemize": "Ctrl-I"
   },
   "labels_anchors": false,
   "latex_user_defs": false,
   "report_style_numbering": false,
   "user_envs_cfg": false
  }
 },
 "nbformat": 4,
 "nbformat_minor": 5
}
