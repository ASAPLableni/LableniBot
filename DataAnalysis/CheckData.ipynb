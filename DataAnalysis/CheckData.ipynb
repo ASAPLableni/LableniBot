{
 "cells": [
  {
   "cell_type": "code",
   "execution_count": 1,
   "id": "82b89d7b",
   "metadata": {
    "ExecuteTime": {
     "end_time": "2022-09-26T15:56:47.433944Z",
     "start_time": "2022-09-26T15:56:46.226848Z"
    }
   },
   "outputs": [],
   "source": [
    "import pandas as pd\n",
    "import numpy as np\n",
    "import matplotlib.pyplot as plt\n",
    "import os\n",
    "\n",
    "import analysis_utils as aute"
   ]
  },
  {
   "cell_type": "code",
   "execution_count": 2,
   "id": "15e85622",
   "metadata": {
    "ExecuteTime": {
     "end_time": "2022-09-26T15:56:47.449593Z",
     "start_time": "2022-09-26T15:56:47.434946Z"
    }
   },
   "outputs": [],
   "source": [
    "rdm_th = 0\n",
    "corr_th = 0.85"
   ]
  },
  {
   "cell_type": "code",
   "execution_count": 3,
   "id": "2815e58f",
   "metadata": {
    "ExecuteTime": {
     "end_time": "2022-09-26T15:56:49.005349Z",
     "start_time": "2022-09-26T15:56:47.450957Z"
    }
   },
   "outputs": [
    {
     "name": "stdout",
     "output_type": "stream",
     "text": [
      "Number of conversations: 149\n"
     ]
    }
   ],
   "source": [
    "path_to_conversations = \"../Conversations/\"\n",
    "\n",
    "all_df_list = []\n",
    "for conv in os.listdir(path_to_conversations):\n",
    "    excel_name = [file for file in os.listdir(path_to_conversations + conv) if \".xlsx\" in file][0]\n",
    "    df_x = pd.read_excel(path_to_conversations + conv + \"/\" + excel_name)\n",
    "    if df_x.shape[0] > 2:\n",
    "        all_df_list.append(df_x)\n",
    "            \n",
    "print(\"Number of conversations:\", len(all_df_list))"
   ]
  },
  {
   "cell_type": "code",
   "execution_count": 4,
   "id": "313485a2",
   "metadata": {
    "ExecuteTime": {
     "end_time": "2022-09-26T15:56:49.020662Z",
     "start_time": "2022-09-26T15:56:49.007351Z"
    }
   },
   "outputs": [],
   "source": [
    "def include_time_columns(data, col_name):\n",
    "    \n",
    "    return {\n",
    "        \"Mean_\" + col_name: np.nanmean(data[col_name]) if col_name in data.columns else np.nan,\n",
    "        \"Max_\" + col_name: np.nanmax(data[col_name]) if col_name in data.columns else np.nan,\n",
    "        \"Min_\" + col_name: np.nanmin(data[col_name]) if col_name in data.columns else np.nan,\n",
    "        \"Diff_\" + col_name: (\n",
    "            data[col_name].dropna().iloc[-1] - data[col_name].dropna().iloc[0] if col_name in data.columns else np.nan\n",
    "        ),\n",
    "    }"
   ]
  },
  {
   "cell_type": "code",
   "execution_count": 5,
   "id": "4fa67e34",
   "metadata": {
    "ExecuteTime": {
     "end_time": "2022-09-26T15:56:49.052691Z",
     "start_time": "2022-09-26T15:56:49.021664Z"
    }
   },
   "outputs": [],
   "source": [
    "check_list = []\n",
    "for df in all_df_list:\n",
    "    \n",
    "    dict_data = {\n",
    "        \"NumRows\": df.shape[0],\n",
    "        \"NumCols\": df.shape[1],\n",
    "        \"TimeConversation_min\": (df[\"UnixTimestampEnd\"].iloc[-1] - df[\"UnixTimestampInit\"].iloc[0])/60,\n",
    "    }\n",
    "    \n",
    "    dict_res = include_time_columns(df, \"OpenAItime_s\")\n",
    "    dict_data.update(dict_res)\n",
    "    \n",
    "    dict_res = include_time_columns(df, \"AWStime_s\")\n",
    "    dict_data.update(dict_res)\n",
    "    \n",
    "    dict_res = include_time_columns(df, \"S2Ttime_s\")\n",
    "    dict_data.update(dict_res)\n",
    "    \n",
    "    check_list.append(dict_data)\n",
    "    \n",
    "df_check = pd.DataFrame(check_list)"
   ]
  },
  {
   "cell_type": "code",
   "execution_count": 6,
   "id": "c085138c",
   "metadata": {
    "ExecuteTime": {
     "end_time": "2022-09-26T15:56:49.322937Z",
     "start_time": "2022-09-26T15:56:49.053693Z"
    }
   },
   "outputs": [
    {
     "name": "stdout",
     "output_type": "stream",
     "text": [
      "Mean Number of rows = 12.5302 +/- 8.2467 ; Median = 11.0 ; Min. =  3 ; Max. =  42\n",
      "\n"
     ]
    },
    {
     "data": {
      "image/png": "[encoded data removed]",
      "text/plain": [
       "<Figure size 720x360 with 1 Axes>"
      ]
     },
     "metadata": {
      "needs_background": "light"
     },
     "output_type": "display_data"
    },
    {
     "name": "stdout",
     "output_type": "stream",
     "text": [
      "Mean Number of cols = 11.4094 +/- 1.0556 ; Median = 12.0 ; Min. =  10 ; Max. =  15\n",
      "\n",
      "Mean Time conversation (min) = 1.7637 +/- 1.3948 ; Median = 1.5199 ; Min. =  0.1264 ; Max. =  6.5459\n",
      "\n"
     ]
    },
    {
     "data": {
      "image/png": "[encoded data removed]",
      "text/plain": [
       "<Figure size 720x360 with 1 Axes>"
      ]
     },
     "metadata": {
      "needs_background": "light"
     },
     "output_type": "display_data"
    }
   ],
   "source": [
    "aute.stat_print(df_check[\"NumRows\"], \"Number of rows\")\n",
    "print()\n",
    "\n",
    "plt.figure(figsize=(10, 5))\n",
    "\n",
    "plt.hist(df_check[\"NumRows\"], bins=31, alpha=0.7)\n",
    "plt.xlabel(\"Number of rows\", fontsize=14)\n",
    "\n",
    "plt.show()\n",
    "\n",
    "aute.stat_print(df_check[\"NumCols\"], \"Number of cols\")\n",
    "print()\n",
    "\n",
    "aute.stat_print(df_check[\"TimeConversation_min\"], \"Time conversation (min)\")\n",
    "print()\n",
    "\n",
    "plt.figure(figsize=(10, 5))\n",
    "\n",
    "plt.hist(df_check[\"TimeConversation_min\"], bins=31, alpha=0.7)\n",
    "plt.xlabel(\"Conversation time (min)\", fontsize=14)\n",
    "\n",
    "plt.show()"
   ]
  },
  {
   "cell_type": "code",
   "execution_count": 7,
   "id": "53327f00",
   "metadata": {
    "ExecuteTime": {
     "end_time": "2022-09-26T15:57:31.029649Z",
     "start_time": "2022-09-26T15:57:30.894528Z"
    }
   },
   "outputs": [
    {
     "name": "stdout",
     "output_type": "stream",
     "text": [
      "Mean Mean_OpenAItime_s = 1.9912 +/- 0.6081 ; Median = 1.9931 ; Min. =  1.1588 ; Max. =  2.9653\n",
      "Mean Mean_AWStime_s = 0.1211 +/- 0.0465 ; Median = 0.1527 ; Min. =  0.0619 ; Max. =  0.1673\n",
      "Mean Mean_S2Ttime_s = 1.0318 +/- 0.4247 ; Median = 0.8152 ; Min. =  0.5175 ; Max. =  1.5717\n"
     ]
    },
    {
     "data": {
      "image/png": "[encoded data removed]",
      "text/plain": [
       "<Figure size 720x360 with 1 Axes>"
      ]
     },
     "metadata": {
      "needs_background": "light"
     },
     "output_type": "display_data"
    }
   ],
   "source": [
    "aute.stat_print(df_check[\"Mean_OpenAItime_s\"], \"Mean_OpenAItime_s\")\n",
    "aute.stat_print(df_check[\"Mean_AWStime_s\"], \"Mean_AWStime_s\")\n",
    "aute.stat_print(df_check[\"Mean_S2Ttime_s\"], \"Mean_S2Ttime_s\")\n",
    "\n",
    "plt.figure(figsize=(10, 5))\n",
    "\n",
    "plt.hist(df_check[\"Mean_OpenAItime_s\"], alpha=0.7, label=\"OpenAI\")\n",
    "plt.hist(df_check[\"Mean_AWStime_s\"], alpha=0.7, label=\"AWS\")\n",
    "plt.hist(df_check[\"Mean_S2Ttime_s\"], alpha=0.7, label=\"Google S2T\")\n",
    "\n",
    "plt.legend(fontsize=14)\n",
    "plt.xlabel(\"Module Average time (s)\", fontsize=14)\n",
    "\n",
    "plt.show()"
   ]
  },
  {
   "cell_type": "code",
   "execution_count": 8,
   "id": "8c25c99d",
   "metadata": {
    "ExecuteTime": {
     "end_time": "2022-09-26T15:57:20.559745Z",
     "start_time": "2022-09-26T15:57:20.436642Z"
    }
   },
   "outputs": [
    {
     "name": "stdout",
     "output_type": "stream",
     "text": [
      "Mean Mean_OpenAItime_s = 3.6466 +/- 2.0403 ; Median = 3.83 ; Min. =  1.3069 ; Max. =  6.6993\n",
      "Mean Mean_AWStime_s = -0.0972 +/- 0.1191 ; Median = 0.0 ; Min. =  -0.2458 ; Max. =  0.0\n",
      "Mean Mean_S2Ttime_s = -0.1387 +/- 0.1823 ; Median = 0.0 ; Min. =  -0.4513 ; Max. =  0.0\n"
     ]
    },
    {
     "data": {
      "image/png": "[encoded data removed]",
      "text/plain": [
       "<Figure size 720x360 with 1 Axes>"
      ]
     },
     "metadata": {
      "needs_background": "light"
     },
     "output_type": "display_data"
    }
   ],
   "source": [
    "aute.stat_print(df_check[\"Diff_OpenAItime_s\"], \"Mean_OpenAItime_s\")\n",
    "aute.stat_print(df_check[\"Diff_AWStime_s\"], \"Mean_AWStime_s\")\n",
    "aute.stat_print(df_check[\"Diff_S2Ttime_s\"], \"Mean_S2Ttime_s\")\n",
    "\n",
    "plt.figure(figsize=(10, 5))\n",
    "\n",
    "plt.hist(df_check[\"Diff_OpenAItime_s\"], alpha=0.7, label=\"OpenAI\")\n",
    "plt.hist(df_check[\"Diff_AWStime_s\"], alpha=0.7, label=\"AWS\")\n",
    "plt.hist(df_check[\"Diff_S2Ttime_s\"], alpha=0.7, label=\"Google S2T\")\n",
    "\n",
    "plt.legend(fontsize=14)\n",
    "plt.xlabel(\"Module Average time (s)\", fontsize=14)\n",
    "\n",
    "plt.show()"
   ]
  },
  {
   "cell_type": "code",
   "execution_count": null,
   "id": "c1b821a7",
   "metadata": {
    "ExecuteTime": {
     "end_time": "2022-09-26T15:56:49.754129Z",
     "start_time": "2022-09-26T15:56:49.739115Z"
    }
   },
   "outputs": [],
   "source": []
  },
  {
   "cell_type": "code",
   "execution_count": null,
   "id": "bc115d6a",
   "metadata": {
    "ExecuteTime": {
     "end_time": "2022-09-26T15:52:11.126882Z",
     "start_time": "2022-09-26T15:52:11.106435Z"
    }
   },
   "outputs": [],
   "source": []
  },
  {
   "cell_type": "code",
   "execution_count": null,
   "id": "7913febd",
   "metadata": {},
   "outputs": [],
   "source": []
  }
 ],
 "metadata": {
  "kernelspec": {
   "display_name": "Python 3.7.8 ('venv': venv)",
   "language": "python",
   "name": "python3"
  },
  "language_info": {
   "codemirror_mode": {
    "name": "ipython",
    "version": 3
   },
   "file_extension": ".py",
   "mimetype": "text/x-python",
   "name": "python",
   "nbconvert_exporter": "python",
   "pygments_lexer": "ipython3",
   "version": "3.7.8"
  },
  "latex_envs": {
   "LaTeX_envs_menu_present": true,
   "autoclose": false,
   "autocomplete": true,
   "bibliofile": "biblio.bib",
   "cite_by": "apalike",
   "current_citInitial": 1,
   "eqLabelWithNumbers": true,
   "eqNumInitial": 1,
   "hotkeys": {
    "equation": "Ctrl-E",
    "itemize": "Ctrl-I"
   },
   "labels_anchors": false,
   "latex_user_defs": false,
   "report_style_numbering": false,
   "user_envs_cfg": false
  },
  "vscode": {
   "interpreter": {
    "hash": "1894742da8d4df0582994d9f35387e3eb5c01a820108455775fa087a2a81ebdb"
   }
  }
 },
 "nbformat": 4,
 "nbformat_minor": 5
}
