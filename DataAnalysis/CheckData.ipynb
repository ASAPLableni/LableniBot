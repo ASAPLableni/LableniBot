{
 "cells": [
  {
   "cell_type": "code",
   "execution_count": 1,
   "id": "82b89d7b",
   "metadata": {
    "ExecuteTime": {
     "end_time": "2022-10-12T11:17:30.127984Z",
     "start_time": "2022-10-12T11:17:28.923590Z"
    }
   },
   "outputs": [],
   "source": [
    "import pandas as pd\n",
    "import numpy as np\n",
    "import matplotlib.pyplot as plt\n",
    "import seaborn as sns\n",
    "import os\n",
    "import re\n",
    "import pickle5 as pickle\n",
    "\n",
    "from sklearn.linear_model import LinearRegression\n",
    "\n",
    "import analysis_utils as aute"
   ]
  },
  {
   "cell_type": "code",
   "execution_count": 2,
   "id": "15e85622",
   "metadata": {
    "ExecuteTime": {
     "end_time": "2022-10-12T10:38:55.167730Z",
     "start_time": "2022-10-12T10:38:55.153316Z"
    }
   },
   "outputs": [],
   "source": [
    "rdm_th = 0\n",
    "corr_th = 0.85"
   ]
  },
  {
   "cell_type": "code",
   "execution_count": 10,
   "id": "2815e58f",
   "metadata": {
    "ExecuteTime": {
     "end_time": "2022-10-12T11:21:47.498872Z",
     "start_time": "2022-10-12T11:21:47.468828Z"
    }
   },
   "outputs": [
    {
     "name": "stdout",
     "output_type": "stream",
     "text": [
      "Bad file ../Conversations/Alejandro/Alejandro_20221010_113912/Conv_20221010_113912.pkl\n",
      "Bad file ../Conversations/Alejandro/Alejandro_20221010_114930/Conv_20221010_114930.pkl\n",
      "Bad file ../Conversations/Alejandro/Alejandro_20221010_115743/Conv_20221010_115743.pkl\n",
      "Bad file ../Conversations/Alejandro/Alejandro_20221010_120250/Conv_20221010_120250.pkl\n",
      "Bad file ../Conversations/Alejandro/Alejandro_20221010_120751/Conv_20221010_120751.pkl\n",
      "Bad file ../Conversations/Alejandro/Alejandro_20221010_121407/Conv_20221010_121407.pkl\n",
      "Number of conversations: 6\n"
     ]
    }
   ],
   "source": [
    "path_to_conversations = \"../Conversations/\"\n",
    "\n",
    "all_df_list, guide_of_times_list = [], []\n",
    "for subj in os.listdir(path_to_conversations):\n",
    "    in_folder_subj = os.listdir(path_to_conversations + subj)\n",
    "    for file in in_folder_subj:\n",
    "        if \".pkl\" not in file:\n",
    "            path_to_data = path_to_conversations + subj + \"/\" + file\n",
    "            pickle_name = [\n",
    "                conv for conv in os.listdir(path_to_data) if \".pkl\" in conv and \"Conv\" in conv\n",
    "            ][0]\n",
    "            try:\n",
    "                df_x = pd.read_pickle(path_to_data + \"/\" + pickle_name)\n",
    "                if df_x.shape[0] > 2:\n",
    "                    all_df_list.append(df_x)\n",
    "            except:\n",
    "                print(\"Bad file\", path_to_data + \"/\" + pickle_name)\n",
    "        else:\n",
    "            try:\n",
    "                with open(path_to_conversations + subj + \"/\" + file, 'rb') as f:\n",
    "                    guide_of_times = pickle.load(f)\n",
    "\n",
    "                guide_of_times_list.append({\n",
    "                    subj: guide_of_times\n",
    "                })\n",
    "            except:\n",
    "                print(\"Not guide in times in subject\", subj)\n",
    "            \n",
    "print(\"Number of conversations:\", len(all_df_list))"
   ]
  },
  {
   "cell_type": "code",
   "execution_count": 11,
   "id": "9e2e65d8",
   "metadata": {
    "ExecuteTime": {
     "end_time": "2022-10-12T11:21:56.171126Z",
     "start_time": "2022-10-12T11:21:56.165112Z"
    }
   },
   "outputs": [
    {
     "data": {
      "text/plain": [
       "[{'Jose1': {'Open Eyes GSR': {'InitRealTimeStr': '2022-10-12 12:27:57.455941',\n",
       "    'InitUnixTime': 1665570477.455941,\n",
       "    'EndRealTimeStr': '2022-10-12 12:28:07.464050',\n",
       "    'EndUnixTime': 1665570487.46405},\n",
       "   'Closed Eyes GSR': {'InitRealTimeStr': '2022-10-12 12:28:09.842492',\n",
       "    'InitUnixTime': 1665570489.842492,\n",
       "    'EndRealTimeStr': '2022-10-12 12:28:19.842907',\n",
       "    'EndUnixTime': 1665570499.842907},\n",
       "   'Neutral_1': {'InitRealTimeStr': '2022-10-12 12:29:45.767192',\n",
       "    'InitUnixTime': 1665570585.767192},\n",
       "   'Happy_Man_1': {'InitRealTimeStr': '2022-10-12 12:33:25.999217',\n",
       "    'InitUnixTime': 1665570805.999217}}}]"
      ]
     },
     "execution_count": 11,
     "metadata": {},
     "output_type": "execute_result"
    }
   ],
   "source": [
    "guide_of_times_list"
   ]
  },
  {
   "cell_type": "code",
   "execution_count": 12,
   "id": "313485a2",
   "metadata": {
    "ExecuteTime": {
     "end_time": "2022-10-04T15:45:10.585677Z",
     "start_time": "2022-10-04T15:45:10.571671Z"
    }
   },
   "outputs": [],
   "source": [
    "def include_time_columns(data, col_name_init, col_name_end, label):\n",
    "    \n",
    "    delta_time = data[col_name_end] - data[col_name_init]\n",
    "\n",
    "    return {\n",
    "        \"Mean_\" + label: np.nanmean(delta_time),\n",
    "        \"Max_\" + label: np.nanmax(delta_time),\n",
    "        \"Min_\" + label: np.nanmin(delta_time),\n",
    "        \"Diff_\" + label: delta_time.dropna().iloc[-1] - delta_time.dropna().iloc[0],\n",
    "    }"
   ]
  },
  {
   "cell_type": "code",
   "execution_count": 17,
   "id": "4fa67e34",
   "metadata": {
    "ExecuteTime": {
     "end_time": "2022-10-04T15:45:10.633476Z",
     "start_time": "2022-10-04T15:45:10.586679Z"
    }
   },
   "outputs": [],
   "source": [
    "check_list = []\n",
    "for df in all_df_list:\n",
    "    \n",
    "    dict_data = {\n",
    "        \"NumRows\": df.shape[0],\n",
    "        \"NumCols\": df.shape[1],\n",
    "        \"TimeConversation_min\": (df[\"S2TEndUnix\"].iloc[-1] - df[\"UnixTimestampLoopInit\"].iloc[0])/60,\n",
    "    }\n",
    "    \n",
    "    dict_res = include_time_columns(df, col_name_init=\"AWSStartUniX\", col_name_end=\"AWSEndUniX\", label=\"AWS\")\n",
    "    dict_data.update(dict_res)\n",
    "    \n",
    "    dict_res = include_time_columns(df, col_name_init=\"S2TStartUnix\", col_name_end=\"S2TEndUnix\", label=\"GoogleS2T\")\n",
    "    dict_data.update(dict_res)\n",
    "    \n",
    "    dict_res = include_time_columns(df, col_name_init=\"BotStartUnix\", col_name_end=\"BotEndUnix\", label=\"OpenAI\")\n",
    "    dict_data.update(dict_res)\n",
    "    \n",
    "    check_list.append(dict_data)\n",
    "    \n",
    "df_check = pd.DataFrame(check_list)"
   ]
  },
  {
   "cell_type": "code",
   "execution_count": 18,
   "id": "c085138c",
   "metadata": {
    "ExecuteTime": {
     "end_time": "2022-10-04T15:45:10.904508Z",
     "start_time": "2022-10-04T15:45:10.634477Z"
    }
   },
   "outputs": [
    {
     "name": "stdout",
     "output_type": "stream",
     "text": [
      "Mean Number of rows = 22.0 +/- 5.831 ; Median = 19.0 ; Min. =  18 ; Max. =  32\n",
      "\n"
     ]
    },
    {
     "data": {
      "image/png": "[encoded data removed]",
      "text/plain": [
       "<Figure size 720x360 with 1 Axes>"
      ]
     },
     "metadata": {
      "needs_background": "light"
     },
     "output_type": "display_data"
    },
    {
     "name": "stdout",
     "output_type": "stream",
     "text": [
      "Mean Number of cols = 19.0 +/- 0.0 ; Median = 19.0 ; Min. =  19 ; Max. =  19\n",
      "\n",
      "Mean Time conversation (min) = 3.5148 +/- 0.9803 ; Median = 3.1644 ; Min. =  2.6436 ; Max. =  5.0869\n",
      "\n"
     ]
    },
    {
     "data": {
      "image/png": "[encoded data removed]",
      "text/plain": [
       "<Figure size 720x360 with 1 Axes>"
      ]
     },
     "metadata": {
      "needs_background": "light"
     },
     "output_type": "display_data"
    }
   ],
   "source": [
    "aute.stat_print(df_check[\"NumRows\"], \"Number of rows\")\n",
    "print()\n",
    "\n",
    "plt.figure(figsize=(10, 5))\n",
    "\n",
    "plt.hist(df_check[\"NumRows\"], bins=31, alpha=0.7)\n",
    "plt.xlabel(\"Number of rows\", fontsize=14)\n",
    "\n",
    "plt.show()\n",
    "\n",
    "aute.stat_print(df_check[\"NumCols\"], \"Number of cols\")\n",
    "print()\n",
    "\n",
    "aute.stat_print(df_check[\"TimeConversation_min\"], \"Time conversation (min)\")\n",
    "print()\n",
    "\n",
    "plt.figure(figsize=(10, 5))\n",
    "\n",
    "plt.hist(df_check[\"TimeConversation_min\"], bins=31, alpha=0.7)\n",
    "plt.xlabel(\"Conversation time (min)\", fontsize=14)\n",
    "\n",
    "plt.show()"
   ]
  },
  {
   "cell_type": "code",
   "execution_count": 22,
   "id": "53327f00",
   "metadata": {
    "ExecuteTime": {
     "end_time": "2022-10-04T15:45:11.031599Z",
     "start_time": "2022-10-04T15:45:10.905509Z"
    }
   },
   "outputs": [
    {
     "name": "stdout",
     "output_type": "stream",
     "text": [
      "Mean Mean_OpenAItime_s = 1.5601 +/- 0.2573 ; Median = 1.5559 ; Min. =  1.2095 ; Max. =  1.9191\n",
      "Mean Mean_AWStime_s = 0.1691 +/- 0.0404 ; Median = 0.149 ; Min. =  0.1403 ; Max. =  0.2382\n",
      "Mean Mean_S2Ttime_s = 1.5599 +/- 0.0866 ; Median = 1.5303 ; Min. =  1.4818 ; Max. =  1.6973\n"
     ]
    },
    {
     "data": {
      "image/png": "[encoded data removed]",
      "text/plain": [
       "<Figure size 720x360 with 1 Axes>"
      ]
     },
     "metadata": {
      "needs_background": "light"
     },
     "output_type": "display_data"
    }
   ],
   "source": [
    "aute.stat_print(df_check[\"Mean_OpenAI\"], \"Mean_OpenAItime_s\")\n",
    "aute.stat_print(df_check[\"Mean_AWS\"], \"Mean_AWStime_s\")\n",
    "aute.stat_print(df_check[\"Mean_GoogleS2T\"], \"Mean_S2Ttime_s\")\n",
    "\n",
    "plt.figure(figsize=(10, 5))\n",
    "\n",
    "plt.hist(df_check[\"Mean_OpenAI\"], alpha=0.7, label=\"OpenAI\")\n",
    "plt.hist(df_check[\"Mean_AWS\"], alpha=0.7, label=\"AWS\")\n",
    "plt.hist(df_check[\"Mean_GoogleS2T\"], alpha=0.7, label=\"Google S2T\")\n",
    "\n",
    "plt.legend(fontsize=14)\n",
    "plt.xlabel(\"Module Average time (s)\", fontsize=14)\n",
    "\n",
    "plt.show()"
   ]
  },
  {
   "cell_type": "code",
   "execution_count": 23,
   "id": "8c25c99d",
   "metadata": {
    "ExecuteTime": {
     "end_time": "2022-10-04T15:45:11.159711Z",
     "start_time": "2022-10-04T15:45:11.032601Z"
    }
   },
   "outputs": [
    {
     "name": "stdout",
     "output_type": "stream",
     "text": [
      "Mean Mean_OpenAItime_s = 1.0426 +/- 0.2479 ; Median = 1.0172 ; Min. =  0.7498 ; Max. =  1.3863\n",
      "Mean Mean_AWStime_s = -0.2295 +/- 0.0243 ; Median = -0.2259 ; Min. =  -0.2651 ; Max. =  -0.2012\n",
      "Mean Mean_S2Ttime_s = -0.1715 +/- 0.0289 ; Median = -0.1725 ; Min. =  -0.2048 ; Max. =  -0.1363\n"
     ]
    },
    {
     "data": {
      "image/png": "[encoded data removed]",
      "text/plain": [
       "<Figure size 720x360 with 1 Axes>"
      ]
     },
     "metadata": {
      "needs_background": "light"
     },
     "output_type": "display_data"
    }
   ],
   "source": [
    "aute.stat_print(df_check[\"Diff_OpenAI\"], \"Mean_OpenAItime_s\")\n",
    "aute.stat_print(df_check[\"Diff_AWS\"], \"Mean_AWStime_s\")\n",
    "aute.stat_print(df_check[\"Diff_GoogleS2T\"], \"Mean_S2Ttime_s\")\n",
    "\n",
    "plt.figure(figsize=(10, 5))\n",
    "\n",
    "plt.hist(df_check[\"Diff_OpenAI\"], alpha=0.7, label=\"OpenAI\")\n",
    "plt.hist(df_check[\"Diff_AWS\"], alpha=0.7, label=\"AWS\")\n",
    "plt.hist(df_check[\"Diff_GoogleS2T\"], alpha=0.7, label=\"Google S2T\")\n",
    "\n",
    "plt.legend(fontsize=14)\n",
    "plt.xlabel(\"Module Average time (s)\", fontsize=14)\n",
    "\n",
    "plt.show()"
   ]
  },
  {
   "cell_type": "code",
   "execution_count": 25,
   "id": "299e0d24",
   "metadata": {},
   "outputs": [
    {
     "data": {
      "text/html": [
       "<div>\n",
       "<style scoped>\n",
       "    .dataframe tbody tr th:only-of-type {\n",
       "        vertical-align: middle;\n",
       "    }\n",
       "\n",
       "    .dataframe tbody tr th {\n",
       "        vertical-align: top;\n",
       "    }\n",
       "\n",
       "    .dataframe thead th {\n",
       "        text-align: right;\n",
       "    }\n",
       "</style>\n",
       "<table border=\"1\" class=\"dataframe\">\n",
       "  <thead>\n",
       "    <tr style=\"text-align: right;\">\n",
       "      <th></th>\n",
       "      <th>ConversationSentenceId</th>\n",
       "      <th>SubjectId</th>\n",
       "      <th>TimeLoopInitStr</th>\n",
       "      <th>UnixTimestampLoopInit</th>\n",
       "      <th>Source</th>\n",
       "      <th>SpanishMessage</th>\n",
       "      <th>Mode</th>\n",
       "      <th>GlobalMessage</th>\n",
       "      <th>ConfigName</th>\n",
       "      <th>BotStartUnix</th>\n",
       "      <th>BotEndUnix</th>\n",
       "      <th>AWSStartUniX</th>\n",
       "      <th>AWSEndUniX</th>\n",
       "      <th>S2TStartUnix</th>\n",
       "      <th>S2TEndUnix</th>\n",
       "      <th>BotTalkStartUnix</th>\n",
       "      <th>BotTalkEndUnix</th>\n",
       "      <th>PersonTalkStartUnix</th>\n",
       "      <th>PersonTalkEndUnix</th>\n",
       "    </tr>\n",
       "  </thead>\n",
       "  <tbody>\n",
       "    <tr>\n",
       "      <th>0</th>\n",
       "      <td>0</td>\n",
       "      <td>Jose</td>\n",
       "      <td>2022-10-09 14:51:29.8854</td>\n",
       "      <td>1.665320e+09</td>\n",
       "      <td>Bot</td>\n",
       "      <td>Hola, mi nombre es Alejandra ¿Cómo te llamas tú?</td>\n",
       "      <td>voice</td>\n",
       "      <td>Lo siguiente es una conversación con Alejandra...</td>\n",
       "      <td>Neutral_3</td>\n",
       "      <td>1.665320e+09</td>\n",
       "      <td>1.665320e+09</td>\n",
       "      <td>1.665320e+09</td>\n",
       "      <td>1.665320e+09</td>\n",
       "      <td>NaN</td>\n",
       "      <td>NaN</td>\n",
       "      <td>1.665320e+09</td>\n",
       "      <td>1.665320e+09</td>\n",
       "      <td>NaN</td>\n",
       "      <td>NaN</td>\n",
       "    </tr>\n",
       "    <tr>\n",
       "      <th>1</th>\n",
       "      <td>0</td>\n",
       "      <td>Jose</td>\n",
       "      <td>NaN</td>\n",
       "      <td>NaN</td>\n",
       "      <td>Person</td>\n",
       "      <td>Hola Alejandra yo me llamo José qué tal está.</td>\n",
       "      <td>voice</td>\n",
       "      <td>Lo siguiente es una conversación con Alejandra...</td>\n",
       "      <td>Neutral_3</td>\n",
       "      <td>NaN</td>\n",
       "      <td>NaN</td>\n",
       "      <td>NaN</td>\n",
       "      <td>NaN</td>\n",
       "      <td>1.665320e+09</td>\n",
       "      <td>1.665320e+09</td>\n",
       "      <td>NaN</td>\n",
       "      <td>NaN</td>\n",
       "      <td>1.665320e+09</td>\n",
       "      <td>1.665320e+09</td>\n",
       "    </tr>\n",
       "    <tr>\n",
       "      <th>2</th>\n",
       "      <td>1</td>\n",
       "      <td>Jose</td>\n",
       "      <td>2022-10-09 14:51:42.950329</td>\n",
       "      <td>1.665320e+09</td>\n",
       "      <td>Bot</td>\n",
       "      <td>Hola, José. Estoy bien, gracias. ¿Y tú?</td>\n",
       "      <td>voice</td>\n",
       "      <td>Lo siguiente es una conversación con Alejandra...</td>\n",
       "      <td>Neutral_3</td>\n",
       "      <td>1.665320e+09</td>\n",
       "      <td>1.665320e+09</td>\n",
       "      <td>1.665320e+09</td>\n",
       "      <td>1.665320e+09</td>\n",
       "      <td>NaN</td>\n",
       "      <td>NaN</td>\n",
       "      <td>1.665320e+09</td>\n",
       "      <td>1.665320e+09</td>\n",
       "      <td>NaN</td>\n",
       "      <td>NaN</td>\n",
       "    </tr>\n",
       "    <tr>\n",
       "      <th>3</th>\n",
       "      <td>1</td>\n",
       "      <td>Jose</td>\n",
       "      <td>NaN</td>\n",
       "      <td>NaN</td>\n",
       "      <td>Person</td>\n",
       "      <td>Pues yo estoy bien, la verdad llevo todo el dí...</td>\n",
       "      <td>voice</td>\n",
       "      <td>Lo siguiente es una conversación con Alejandra...</td>\n",
       "      <td>Neutral_3</td>\n",
       "      <td>NaN</td>\n",
       "      <td>NaN</td>\n",
       "      <td>NaN</td>\n",
       "      <td>NaN</td>\n",
       "      <td>1.665320e+09</td>\n",
       "      <td>1.665320e+09</td>\n",
       "      <td>NaN</td>\n",
       "      <td>NaN</td>\n",
       "      <td>1.665320e+09</td>\n",
       "      <td>1.665320e+09</td>\n",
       "    </tr>\n",
       "    <tr>\n",
       "      <th>4</th>\n",
       "      <td>2</td>\n",
       "      <td>Jose</td>\n",
       "      <td>2022-10-09 14:52:04.849369</td>\n",
       "      <td>1.665320e+09</td>\n",
       "      <td>Bot</td>\n",
       "      <td>¿Y qué es lo que haces?</td>\n",
       "      <td>voice</td>\n",
       "      <td>Lo siguiente es una conversación con Alejandra...</td>\n",
       "      <td>Neutral_3</td>\n",
       "      <td>1.665320e+09</td>\n",
       "      <td>1.665320e+09</td>\n",
       "      <td>1.665320e+09</td>\n",
       "      <td>1.665320e+09</td>\n",
       "      <td>NaN</td>\n",
       "      <td>NaN</td>\n",
       "      <td>1.665320e+09</td>\n",
       "      <td>1.665320e+09</td>\n",
       "      <td>NaN</td>\n",
       "      <td>NaN</td>\n",
       "    </tr>\n",
       "  </tbody>\n",
       "</table>\n",
       "</div>"
      ],
      "text/plain": [
       "   ConversationSentenceId SubjectId             TimeLoopInitStr  \\\n",
       "0                       0      Jose    2022-10-09 14:51:29.8854   \n",
       "1                       0      Jose                         NaN   \n",
       "2                       1      Jose  2022-10-09 14:51:42.950329   \n",
       "3                       1      Jose                         NaN   \n",
       "4                       2      Jose  2022-10-09 14:52:04.849369   \n",
       "\n",
       "   UnixTimestampLoopInit  Source  \\\n",
       "0           1.665320e+09     Bot   \n",
       "1                    NaN  Person   \n",
       "2           1.665320e+09     Bot   \n",
       "3                    NaN  Person   \n",
       "4           1.665320e+09     Bot   \n",
       "\n",
       "                                      SpanishMessage   Mode  \\\n",
       "0   Hola, mi nombre es Alejandra ¿Cómo te llamas tú?  voice   \n",
       "1      Hola Alejandra yo me llamo José qué tal está.  voice   \n",
       "2            Hola, José. Estoy bien, gracias. ¿Y tú?  voice   \n",
       "3  Pues yo estoy bien, la verdad llevo todo el dí...  voice   \n",
       "4                            ¿Y qué es lo que haces?  voice   \n",
       "\n",
       "                                       GlobalMessage ConfigName  BotStartUnix  \\\n",
       "0  Lo siguiente es una conversación con Alejandra...  Neutral_3  1.665320e+09   \n",
       "1  Lo siguiente es una conversación con Alejandra...  Neutral_3           NaN   \n",
       "2  Lo siguiente es una conversación con Alejandra...  Neutral_3  1.665320e+09   \n",
       "3  Lo siguiente es una conversación con Alejandra...  Neutral_3           NaN   \n",
       "4  Lo siguiente es una conversación con Alejandra...  Neutral_3  1.665320e+09   \n",
       "\n",
       "     BotEndUnix  AWSStartUniX    AWSEndUniX  S2TStartUnix    S2TEndUnix  \\\n",
       "0  1.665320e+09  1.665320e+09  1.665320e+09           NaN           NaN   \n",
       "1           NaN           NaN           NaN  1.665320e+09  1.665320e+09   \n",
       "2  1.665320e+09  1.665320e+09  1.665320e+09           NaN           NaN   \n",
       "3           NaN           NaN           NaN  1.665320e+09  1.665320e+09   \n",
       "4  1.665320e+09  1.665320e+09  1.665320e+09           NaN           NaN   \n",
       "\n",
       "   BotTalkStartUnix  BotTalkEndUnix  PersonTalkStartUnix  PersonTalkEndUnix  \n",
       "0      1.665320e+09    1.665320e+09                  NaN                NaN  \n",
       "1               NaN             NaN         1.665320e+09       1.665320e+09  \n",
       "2      1.665320e+09    1.665320e+09                  NaN                NaN  \n",
       "3               NaN             NaN         1.665320e+09       1.665320e+09  \n",
       "4      1.665320e+09    1.665320e+09                  NaN                NaN  "
      ]
     },
     "execution_count": 25,
     "metadata": {},
     "output_type": "execute_result"
    }
   ],
   "source": [
    "df.head(5)"
   ]
  },
  {
   "cell_type": "code",
   "execution_count": 26,
   "id": "c1b821a7",
   "metadata": {
    "ExecuteTime": {
     "end_time": "2022-10-04T15:45:11.239770Z",
     "start_time": "2022-10-04T15:45:11.160714Z"
    }
   },
   "outputs": [],
   "source": [
    "save_time_dict = {\n",
    "    \"AWS_t\": {\n",
    "        \"num_words\": [],\n",
    "        \"num_characters\": [],\n",
    "        \"time\": []\n",
    "    },\n",
    "    \"Google_S2T\": {\n",
    "        \"num_words\": [],\n",
    "        \"num_characters\": [],\n",
    "        \"time\": []\n",
    "    },\n",
    "    \"OpenAI\": {\n",
    "        \"num_words\": [],\n",
    "        \"num_characters\": [],\n",
    "        \"time\": []\n",
    "    }\n",
    "}\n",
    "for df in all_df_list:\n",
    "\n",
    "    df_person = df[df[\"Source\"]==\"Person\"]\n",
    "    df_bot = df[df[\"Source\"]==\"Bot\"]\n",
    "\n",
    "    for i in range(df_bot.shape[0]):\n",
    "        bot_sentence = df_bot[\"SpanishMessage\"].iloc[i]\n",
    "        num_all_words = len( \"\".join(re.findall(r'\\w+', bot_sentence)) )\n",
    "        save_time_dict[\"AWS_t\"][\"num_words\"].append( num_all_words )\n",
    "        save_time_dict[\"AWS_t\"][\"num_characters\"].append( len(bot_sentence) )\n",
    "        save_time_dict[\"AWS_t\"][\"time\"].append( df_bot[\"AWSEndUniX\"].iloc[i] - df_bot[\"AWSStartUniX\"].iloc[i] )\n",
    "    \n",
    "    for i in range(df_person.shape[0]):\n",
    "        num_all_words = len( \"\".join(re.findall(r'\\w+', df_person[\"SpanishMessage\"].iloc[i])) )\n",
    "        save_time_dict[\"Google_S2T\"][\"num_words\"].append( num_all_words )\n",
    "        save_time_dict[\"Google_S2T\"][\"num_characters\"].append( len(df_person[\"SpanishMessage\"].iloc[i]) )\n",
    "        save_time_dict[\"Google_S2T\"][\"time\"].append( df_person[\"S2TEndUnix\"].iloc[i] - df_person[\"S2TStartUnix\"].iloc[i] )\n",
    "\n",
    "    for i in range(df_bot.shape[0]):\n",
    "        num_all_words = len( \"\".join(re.findall(r'\\w+', df_bot[\"GlobalMessage\"].iloc[i])) )\n",
    "        save_time_dict[\"OpenAI\"][\"num_words\"].append( num_all_words )\n",
    "        save_time_dict[\"OpenAI\"][\"num_characters\"].append( len(df_bot[\"GlobalMessage\"].iloc[i]) )\n",
    "        save_time_dict[\"OpenAI\"][\"time\"].append( df_bot[\"BotTalkEndUnix\"].iloc[i] - df_bot[\"BotTalkStartUnix\"].iloc[i] )\n"
   ]
  },
  {
   "cell_type": "code",
   "execution_count": 34,
   "id": "68a2bb66",
   "metadata": {
    "ExecuteTime": {
     "end_time": "2022-10-04T15:46:30.554452Z",
     "start_time": "2022-10-04T15:46:30.435345Z"
    }
   },
   "outputs": [
    {
     "data": {
      "image/png": "[encoded data removed]",
      "text/plain": [
       "<Figure size 1080x432 with 1 Axes>"
      ]
     },
     "metadata": {
      "needs_background": "light"
     },
     "output_type": "display_data"
    }
   ],
   "source": [
    "min_num_words = np.min([np.min(v[\"num_words\"]) for k, v in save_time_dict.items() if k is not \"OpenAI\"])\n",
    "max_num_words = np.max([np.max(v[\"num_words\"]) for k, v in save_time_dict.items() if k is not \"OpenAI\"])\n",
    "\n",
    "plt.figure(figsize=(15, 6))\n",
    "\n",
    "for i, (k, v) in enumerate(save_time_dict.items()):\n",
    "    \n",
    "    if k is not \"OpenAI\":\n",
    "    \n",
    "        sort_x_idx = np.argsort(v[\"num_words\"])\n",
    "        y_time = np.array(v[\"time\"])[sort_x_idx]\n",
    "        x_len_text = np.array(v[\"num_words\"])[sort_x_idx]\n",
    "\n",
    "        x_to_lr = np.array(x_len_text).reshape(-1, 1)\n",
    "        lr = LinearRegression(n_jobs=-1)\n",
    "        lr.fit(x_to_lr, y_time)\n",
    "        y_pred = lr.predict(x_to_lr)\n",
    "\n",
    "        err_pred = np.sqrt( np.sum((y_time - y_pred)**2)/(len(y_time)-1-1) )\n",
    "        y_time_plus = y_pred + err_pred\n",
    "        y_time_minus = y_pred - err_pred\n",
    "\n",
    "        x_lim_min_max = np.array([max_num_words, min_num_words])\n",
    "        y_lim_min_max = lr.predict(x_lim_min_max.reshape(-1, 1))\n",
    "\n",
    "        plt.scatter(x_len_text, y_time, label=k, alpha=0.6, color=aute.PLT_DEFAULT_COLORS[i])\n",
    "        plt.plot(x_lim_min_max, y_lim_min_max, color=aute.PLT_DEFAULT_COLORS[i])\n",
    "        plt.fill_between(x_lim_min_max, \n",
    "                         y_lim_min_max + err_pred, \n",
    "                         y_lim_min_max - err_pred, \n",
    "                         alpha=0.2, color=aute.PLT_DEFAULT_COLORS[i])\n",
    "\n",
    "plt.legend(fontsize=12)\n",
    "plt.xlabel(\"Number of words\", fontsize=14)\n",
    "plt.ylabel(\"Time (s)\", fontsize=14)\n",
    "\n",
    "plt.show()"
   ]
  },
  {
   "cell_type": "code",
   "execution_count": 35,
   "id": "8067863a",
   "metadata": {
    "ExecuteTime": {
     "end_time": "2022-10-04T15:47:21.098720Z",
     "start_time": "2022-10-04T15:47:20.929479Z"
    }
   },
   "outputs": [
    {
     "data": {
      "image/png": "[encoded data removed]",
      "text/plain": [
       "<Figure size 1080x432 with 1 Axes>"
      ]
     },
     "metadata": {
      "needs_background": "light"
     },
     "output_type": "display_data"
    }
   ],
   "source": [
    "k = \"OpenAI\"\n",
    "v = save_time_dict[k]\n",
    "\n",
    "plt.figure(figsize=(15, 6))\n",
    "    \n",
    "sort_x_idx = np.argsort(v[\"num_words\"])\n",
    "y_time = np.array(v[\"time\"])[sort_x_idx]\n",
    "x_len_text = np.array(v[\"num_words\"])[sort_x_idx]\n",
    "\n",
    "x_to_lr = np.array(x_len_text).reshape(-1, 1)\n",
    "lr = LinearRegression(n_jobs=-1)\n",
    "lr.fit(x_to_lr, y_time)\n",
    "y_pred = lr.predict(x_to_lr)\n",
    "\n",
    "err_pred = np.sqrt( np.sum((y_time - y_pred)**2)/(len(y_time)-1-1) )\n",
    "y_time_plus = y_pred + err_pred\n",
    "y_time_minus = y_pred - err_pred\n",
    "\n",
    "\n",
    "plt.plot(x_len_text, y_pred, color=aute.PLT_DEFAULT_COLORS[i])\n",
    "plt.scatter(x_len_text, y_time, label=k, alpha=0.6, color=aute.PLT_DEFAULT_COLORS[i])\n",
    "plt.fill_between(x_len_text, y_time_plus, y_time_minus, alpha=0.2, color=aute.PLT_DEFAULT_COLORS[i])\n",
    "\n",
    "plt.legend(fontsize=12)\n",
    "plt.xlabel(\"Number of words\", fontsize=14)\n",
    "plt.ylabel(\"Time (s)\", fontsize=14)\n",
    "\n",
    "plt.show()"
   ]
  },
  {
   "cell_type": "code",
   "execution_count": 65,
   "id": "bc115d6a",
   "metadata": {
    "ExecuteTime": {
     "end_time": "2022-10-04T15:45:11.559961Z",
     "start_time": "2022-10-04T15:45:11.512933Z"
    }
   },
   "outputs": [
    {
     "name": "stdout",
     "output_type": "stream",
     "text": [
      "Shape (200, 3)\n"
     ]
    }
   ],
   "source": [
    "resource_name_list = [\"OpenAItime_s\", \"AWStime_s\", \"S2Ttime_s\"]\n",
    "save_time_list = []\n",
    "counter = 0\n",
    "for df in all_df_list:\n",
    "    \n",
    "    max_index_take = df[df[\"Source\"] == \"Bot\"].index[-1]\n",
    "    df_to_study = df.loc[1:(max_index_take+1)].reset_index(drop=True)\n",
    "\n",
    "    n_iter = (df_to_study.shape[0] // 2)\n",
    "\n",
    "    for i in range(n_iter):\n",
    "\n",
    "        delta_aws_t = (df_to_study[\"AWSEndUniX\"].iloc[2*i+1] - df_to_study[\"AWSStartUniX\"].iloc[2*i+1])\n",
    "        delta_s2t_t = (df_to_study[\"S2TEndUnix\"].iloc[2*i] - df_to_study[\"S2TStartUnix\"].iloc[2*i])\n",
    "        delta_bot_t = (df_to_study[\"BotEndUnix\"].iloc[2*i+1] - df_to_study[\"BotStartUnix\"].iloc[2*i+1])\n",
    "\n",
    "        total_time = df_to_study[\"BotTalkStartUnix\"].iloc[2*i+1] - df_to_study[\"PersonTalkEndUnix\"].iloc[2*i]\n",
    "        rest_time = total_time - delta_bot_t - delta_s2t_t - delta_aws_t\n",
    "\n",
    "        save_time_list += [\n",
    "            {\n",
    "                \"Iteration\": counter,\n",
    "                \"Source\": \"AWS\",\n",
    "                \"Time\": delta_aws_t\n",
    "            }, \n",
    "            {\n",
    "                \"Iteration\": counter,\n",
    "                \"Source\": \"S2T\",\n",
    "                \"Time\": delta_s2t_t\n",
    "            }, \n",
    "            {\n",
    "                \"Iteration\": counter,\n",
    "                \"Source\": \"OpenAI\",\n",
    "                \"Time\": delta_bot_t\n",
    "            }, \n",
    "            {\n",
    "                \"Iteration\": counter,\n",
    "                \"Source\": \"Total\",\n",
    "                \"Time\": total_time\n",
    "            }, \n",
    "            {\n",
    "                \"Iteration\": counter,\n",
    "                \"Source\": \"Rest\",\n",
    "                \"Time\": rest_time\n",
    "            }\n",
    "        ]\n",
    "\n",
    "        counter += 1\n",
    "        \n",
    "df_times = pd.DataFrame(save_time_list)\n",
    "print(\"Shape\", df_times.shape)"
   ]
  },
  {
   "cell_type": "code",
   "execution_count": 66,
   "id": "a22a05c1",
   "metadata": {},
   "outputs": [
    {
     "data": {
      "text/html": [
       "<div>\n",
       "<style scoped>\n",
       "    .dataframe tbody tr th:only-of-type {\n",
       "        vertical-align: middle;\n",
       "    }\n",
       "\n",
       "    .dataframe tbody tr th {\n",
       "        vertical-align: top;\n",
       "    }\n",
       "\n",
       "    .dataframe thead th {\n",
       "        text-align: right;\n",
       "    }\n",
       "</style>\n",
       "<table border=\"1\" class=\"dataframe\">\n",
       "  <thead>\n",
       "    <tr style=\"text-align: right;\">\n",
       "      <th></th>\n",
       "      <th>Iteration</th>\n",
       "      <th>Source</th>\n",
       "      <th>Time</th>\n",
       "    </tr>\n",
       "  </thead>\n",
       "  <tbody>\n",
       "    <tr>\n",
       "      <th>0</th>\n",
       "      <td>0</td>\n",
       "      <td>AWS</td>\n",
       "      <td>0.134722</td>\n",
       "    </tr>\n",
       "    <tr>\n",
       "      <th>1</th>\n",
       "      <td>0</td>\n",
       "      <td>S2T</td>\n",
       "      <td>1.362967</td>\n",
       "    </tr>\n",
       "    <tr>\n",
       "      <th>2</th>\n",
       "      <td>0</td>\n",
       "      <td>OpenAI</td>\n",
       "      <td>2.632019</td>\n",
       "    </tr>\n",
       "    <tr>\n",
       "      <th>3</th>\n",
       "      <td>0</td>\n",
       "      <td>Total</td>\n",
       "      <td>5.527828</td>\n",
       "    </tr>\n",
       "    <tr>\n",
       "      <th>4</th>\n",
       "      <td>0</td>\n",
       "      <td>Rest</td>\n",
       "      <td>1.398120</td>\n",
       "    </tr>\n",
       "    <tr>\n",
       "      <th>...</th>\n",
       "      <td>...</td>\n",
       "      <td>...</td>\n",
       "      <td>...</td>\n",
       "    </tr>\n",
       "    <tr>\n",
       "      <th>195</th>\n",
       "      <td>39</td>\n",
       "      <td>AWS</td>\n",
       "      <td>0.103124</td>\n",
       "    </tr>\n",
       "    <tr>\n",
       "      <th>196</th>\n",
       "      <td>39</td>\n",
       "      <td>S2T</td>\n",
       "      <td>1.232175</td>\n",
       "    </tr>\n",
       "    <tr>\n",
       "      <th>197</th>\n",
       "      <td>39</td>\n",
       "      <td>OpenAI</td>\n",
       "      <td>0.749828</td>\n",
       "    </tr>\n",
       "    <tr>\n",
       "      <th>198</th>\n",
       "      <td>39</td>\n",
       "      <td>Total</td>\n",
       "      <td>2.353575</td>\n",
       "    </tr>\n",
       "    <tr>\n",
       "      <th>199</th>\n",
       "      <td>39</td>\n",
       "      <td>Rest</td>\n",
       "      <td>0.268448</td>\n",
       "    </tr>\n",
       "  </tbody>\n",
       "</table>\n",
       "<p>200 rows × 3 columns</p>\n",
       "</div>"
      ],
      "text/plain": [
       "     Iteration  Source      Time\n",
       "0            0     AWS  0.134722\n",
       "1            0     S2T  1.362967\n",
       "2            0  OpenAI  2.632019\n",
       "3            0   Total  5.527828\n",
       "4            0    Rest  1.398120\n",
       "..         ...     ...       ...\n",
       "195         39     AWS  0.103124\n",
       "196         39     S2T  1.232175\n",
       "197         39  OpenAI  0.749828\n",
       "198         39   Total  2.353575\n",
       "199         39    Rest  0.268448\n",
       "\n",
       "[200 rows x 3 columns]"
      ]
     },
     "execution_count": 66,
     "metadata": {},
     "output_type": "execute_result"
    }
   ],
   "source": [
    "df_times"
   ]
  },
  {
   "cell_type": "code",
   "execution_count": 67,
   "id": "95b79f23",
   "metadata": {},
   "outputs": [],
   "source": [
    "all_times_list = []\n",
    "for g, df_g in df_times.groupby(\"Iteration\"):\n",
    "    dict_times = dict(zip(df_g[\"Source\"].values.tolist(), df_g[\"Time\"].values.tolist()))\n",
    "    all_times_list.append(dict_times)\n",
    "df_all_t_sources = pd.DataFrame(all_times_list)\n",
    "\n",
    "df_all_t_sources.to_csv(\"SaveToBoxplot.csv\", index=False)"
   ]
  },
  {
   "cell_type": "code",
   "execution_count": 77,
   "id": "36b1d31e",
   "metadata": {},
   "outputs": [
    {
     "data": {
      "text/plain": [
       "23.4517"
      ]
     },
     "execution_count": 77,
     "metadata": {},
     "output_type": "execute_result"
    }
   ],
   "source": []
  },
  {
   "cell_type": "code",
   "execution_count": 79,
   "id": "c2066640",
   "metadata": {},
   "outputs": [
    {
     "name": "stdout",
     "output_type": "stream",
     "text": [
      "Source AWS takes:\n",
      "Mean AWS = 0.1493 +/- 0.1078 ; Median = 0.1223 ; Min. =  0.1008 ; Max. =  0.727\n",
      "In percentage 3.2908 %\n",
      "\n",
      "Source S2T takes:\n",
      "Mean S2T = 1.5846 +/- 0.3927 ; Median = 1.3968 ; Min. =  1.1473 ; Max. =  2.3612\n",
      "In percentage 34.9323 %\n",
      "\n",
      "Source OpenAI takes:\n",
      "Mean OpenAI = 1.7385 +/- 0.5896 ; Median = 1.742 ; Min. =  0.6299 ; Max. =  3.4113\n",
      "In percentage 38.3252 %\n",
      "\n",
      "Source Total takes:\n",
      "Mean Total = 4.5361 +/- 0.9371 ; Median = 4.4584 ; Min. =  2.3536 ; Max. =  6.4646\n",
      "In percentage 100.0 %\n",
      "\n",
      "Source Rest takes:\n",
      "Mean Rest = 1.0638 +/- 0.3716 ; Median = 1.0398 ; Min. =  0.2684 ; Max. =  1.7251\n",
      "In percentage 23.4517 %\n",
      "\n"
     ]
    }
   ],
   "source": [
    "for col in df_all_t_sources.columns:\n",
    "    print(\"Source\", col, \"takes:\")\n",
    "    aute.stat_print(df_all_t_sources[col], col)\n",
    "    print(\"In percentage\", np.round(100 * np.sum(df_all_t_sources[col])/np.sum(df_all_t_sources[\"Total\"]), 4), \"%\")\n",
    "    print()"
   ]
  },
  {
   "cell_type": "code",
   "execution_count": 80,
   "id": "3312fbd8",
   "metadata": {},
   "outputs": [
    {
     "data": {
      "text/plain": [
       "0.0"
      ]
     },
     "execution_count": 80,
     "metadata": {},
     "output_type": "execute_result"
    }
   ],
   "source": [
    "all_diff = df_all_t_sources[\"Total\"] - np.sum(df_all_t_sources[[\"Rest\", \"OpenAI\", \"S2T\", \"AWS\"]], axis=1)\n",
    "np.max(all_diff)"
   ]
  },
  {
   "cell_type": "code",
   "execution_count": 81,
   "id": "0a6a8093",
   "metadata": {
    "ExecuteTime": {
     "end_time": "2022-10-04T15:45:11.655048Z",
     "start_time": "2022-10-04T15:45:11.561964Z"
    }
   },
   "outputs": [
    {
     "data": {
      "image/png": "[encoded data removed]",
      "text/plain": [
       "<Figure size 1008x360 with 1 Axes>"
      ]
     },
     "metadata": {
      "needs_background": "light"
     },
     "output_type": "display_data"
    }
   ],
   "source": [
    "plt.figure(figsize=(14, 5))\n",
    "sns.boxplot(x=\"Source\", y=\"Time\", data=df_times)\n",
    "\n",
    "plt.axhline(0, c=\"black\", linestyle=\"--\", alpha=0.5)\n",
    "\n",
    "plt.xlabel(\"Source\", fontsize=14)\n",
    "plt.ylabel(\"Time (s)\", fontsize=14)\n",
    "\n",
    "plt.savefig('../Documents/Images/save_boxplot.pdf', format='pdf')\n",
    "\n",
    "plt.show()"
   ]
  },
  {
   "cell_type": "code",
   "execution_count": null,
   "id": "1941ea58",
   "metadata": {},
   "outputs": [],
   "source": []
  }
 ],
 "metadata": {
  "kernelspec": {
   "display_name": "Python 3 (ipykernel)",
   "language": "python",
   "name": "python3"
  },
  "language_info": {
   "codemirror_mode": {
    "name": "ipython",
    "version": 3
   },
   "file_extension": ".py",
   "mimetype": "text/x-python",
   "name": "python",
   "nbconvert_exporter": "python",
   "pygments_lexer": "ipython3",
   "version": "3.7.8"
  },
  "latex_envs": {
   "LaTeX_envs_menu_present": true,
   "autoclose": false,
   "autocomplete": true,
   "bibliofile": "biblio.bib",
   "cite_by": "apalike",
   "current_citInitial": 1,
   "eqLabelWithNumbers": true,
   "eqNumInitial": 1,
   "hotkeys": {
    "equation": "Ctrl-E",
    "itemize": "Ctrl-I"
   },
   "labels_anchors": false,
   "latex_user_defs": false,
   "report_style_numbering": false,
   "user_envs_cfg": false
  },
  "vscode": {
   "interpreter": {
    "hash": "1894742da8d4df0582994d9f35387e3eb5c01a820108455775fa087a2a81ebdb"
   }
  }
 },
 "nbformat": 4,
 "nbformat_minor": 5
}
