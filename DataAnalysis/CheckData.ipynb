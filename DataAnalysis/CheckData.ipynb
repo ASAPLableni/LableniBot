{
 "cells": [
  {
   "cell_type": "code",
   "execution_count": 1,
   "id": "82b89d7b",
   "metadata": {
    "ExecuteTime": {
     "end_time": "2022-09-11T20:03:38.584270Z",
     "start_time": "2022-09-11T20:03:35.050157Z"
    }
   },
   "outputs": [],
   "source": [
    "import pandas as pd\n",
    "import numpy as np\n",
    "import matplotlib.pyplot as plt\n",
    "import os\n",
    "\n",
    "import analysis_utils as aute"
   ]
  },
  {
   "cell_type": "code",
   "execution_count": 2,
   "id": "15e85622",
   "metadata": {
    "ExecuteTime": {
     "end_time": "2022-09-11T20:03:38.600286Z",
     "start_time": "2022-09-11T20:03:38.586273Z"
    }
   },
   "outputs": [],
   "source": [
    "rdm_th = 0\n",
    "corr_th = 0.85"
   ]
  },
  {
   "cell_type": "code",
   "execution_count": 3,
   "id": "2815e58f",
   "metadata": {
    "ExecuteTime": {
     "end_time": "2022-09-11T20:03:39.160795Z",
     "start_time": "2022-09-11T20:03:38.601287Z"
    }
   },
   "outputs": [
    {
     "ename": "IndexError",
     "evalue": "list index out of range",
     "output_type": "error",
     "traceback": [
      "\u001b[1;31m---------------------------------------------------------------------------\u001b[0m",
      "\u001b[1;31mIndexError\u001b[0m                                Traceback (most recent call last)",
      "Input \u001b[1;32mIn [3]\u001b[0m, in \u001b[0;36m<cell line: 4>\u001b[1;34m()\u001b[0m\n\u001b[0;32m      3\u001b[0m all_df_list \u001b[38;5;241m=\u001b[39m []\n\u001b[0;32m      4\u001b[0m \u001b[38;5;28;01mfor\u001b[39;00m conv \u001b[38;5;129;01min\u001b[39;00m os\u001b[38;5;241m.\u001b[39mlistdir(path_to_conversations):\n\u001b[1;32m----> 5\u001b[0m     excel_name \u001b[38;5;241m=\u001b[39m \u001b[43m[\u001b[49m\u001b[43mfile\u001b[49m\u001b[43m \u001b[49m\u001b[38;5;28;43;01mfor\u001b[39;49;00m\u001b[43m \u001b[49m\u001b[43mfile\u001b[49m\u001b[43m \u001b[49m\u001b[38;5;129;43;01min\u001b[39;49;00m\u001b[43m \u001b[49m\u001b[43mos\u001b[49m\u001b[38;5;241;43m.\u001b[39;49m\u001b[43mlistdir\u001b[49m\u001b[43m(\u001b[49m\u001b[43mpath_to_conversations\u001b[49m\u001b[43m \u001b[49m\u001b[38;5;241;43m+\u001b[39;49m\u001b[43m \u001b[49m\u001b[43mconv\u001b[49m\u001b[43m)\u001b[49m\u001b[43m \u001b[49m\u001b[38;5;28;43;01mif\u001b[39;49;00m\u001b[43m \u001b[49m\u001b[38;5;124;43m\"\u001b[39;49m\u001b[38;5;124;43m.xlsx\u001b[39;49m\u001b[38;5;124;43m\"\u001b[39;49m\u001b[43m \u001b[49m\u001b[38;5;129;43;01min\u001b[39;49;00m\u001b[43m \u001b[49m\u001b[43mfile\u001b[49m\u001b[43m]\u001b[49m\u001b[43m[\u001b[49m\u001b[38;5;241;43m0\u001b[39;49m\u001b[43m]\u001b[49m\n\u001b[0;32m      6\u001b[0m     df_x \u001b[38;5;241m=\u001b[39m pd\u001b[38;5;241m.\u001b[39mread_excel(path_to_conversations \u001b[38;5;241m+\u001b[39m conv \u001b[38;5;241m+\u001b[39m \u001b[38;5;124m\"\u001b[39m\u001b[38;5;124m/\u001b[39m\u001b[38;5;124m\"\u001b[39m \u001b[38;5;241m+\u001b[39m excel_name)\n\u001b[0;32m      7\u001b[0m     \u001b[38;5;28;01mif\u001b[39;00m df_x\u001b[38;5;241m.\u001b[39mshape[\u001b[38;5;241m0\u001b[39m] \u001b[38;5;241m>\u001b[39m \u001b[38;5;241m2\u001b[39m:\n",
      "\u001b[1;31mIndexError\u001b[0m: list index out of range"
     ]
    }
   ],
   "source": [
    "path_to_conversations = \"../Conversations/\"\n",
    "\n",
    "all_df_list = []\n",
    "for conv in os.listdir(path_to_conversations):\n",
    "    excel_name = [file for file in os.listdir(path_to_conversations + conv) if \".xlsx\" in file][0]\n",
    "    df_x = pd.read_excel(path_to_conversations + conv + \"/\" + excel_name)\n",
    "    if df_x.shape[0] > 2:\n",
    "        all_df_list.append(df_x)\n",
    "            \n",
    "print(\"Number of conversations:\", len(all_df_list))"
   ]
  },
  {
   "cell_type": "code",
   "execution_count": 4,
   "id": "4fa67e34",
   "metadata": {
    "ExecuteTime": {
     "end_time": "2022-09-11T20:03:39.175793Z",
     "start_time": "2022-09-11T20:03:39.161796Z"
    }
   },
   "outputs": [],
   "source": [
    "check_list = []\n",
    "for df in all_df_list:\n",
    "    check_list.append({\n",
    "        \"NumRows\": df.shape[0],\n",
    "        \"NumCols\": df.shape[1],\n",
    "        \"TimeConversation_min\": (df[\"UnixTimestampEnd\"].iloc[-1] - df[\"UnixTimestampInit\"].iloc[0])/60\n",
    "    })\n",
    "    \n",
    "df_check = pd.DataFrame(check_list)"
   ]
  },
  {
   "cell_type": "code",
   "execution_count": 5,
   "id": "c085138c",
   "metadata": {
    "ExecuteTime": {
     "end_time": "2022-09-11T20:03:39.430941Z",
     "start_time": "2022-09-11T20:03:39.176795Z"
    }
   },
   "outputs": [
    {
     "name": "stdout",
     "output_type": "stream",
     "text": [
      "Mean Number of rows = 9.3448 +/- 6.1154 ; Median = 8.0 ; Min. =  3 ; Max. =  26\n",
      "\n"
     ]
    },
    {
     "data": {
      "image/png": "[encoded data removed]",
      "text/plain": [
       "<Figure size 720x360 with 1 Axes>"
      ]
     },
     "metadata": {
      "needs_background": "light"
     },
     "output_type": "display_data"
    },
    {
     "name": "stdout",
     "output_type": "stream",
     "text": [
      "Mean Number of cols = 11.1034 +/- 0.9227 ; Median = 11.0 ; Min. =  10 ; Max. =  12\n",
      "\n",
      "Mean Time conversation (min) = 1.376 +/- 1.0499 ; Median = 0.9108 ; Min. =  0.1873 ; Max. =  3.8995\n",
      "\n"
     ]
    },
    {
     "data": {
      "image/png": "[encoded data removed]",
      "text/plain": [
       "<Figure size 720x360 with 1 Axes>"
      ]
     },
     "metadata": {
      "needs_background": "light"
     },
     "output_type": "display_data"
    }
   ],
   "source": [
    "aute.stat_print(df_check[\"NumRows\"], \"Number of rows\")\n",
    "print()\n",
    "\n",
    "plt.figure(figsize=(10, 5))\n",
    "\n",
    "plt.hist(df_check[\"NumRows\"], bins=31, alpha=0.7)\n",
    "plt.xlabel(\"Number of rows\", fontsize=14)\n",
    "\n",
    "plt.show()\n",
    "\n",
    "aute.stat_print(df_check[\"NumCols\"], \"Number of cols\")\n",
    "print()\n",
    "\n",
    "aute.stat_print(df_check[\"TimeConversation_min\"], \"Time conversation (min)\")\n",
    "print()\n",
    "\n",
    "plt.figure(figsize=(10, 5))\n",
    "\n",
    "plt.hist(df_check[\"TimeConversation_min\"], bins=31, alpha=0.7)\n",
    "plt.xlabel(\"Conversation time (min)\", fontsize=14)\n",
    "\n",
    "plt.show()"
   ]
  },
  {
   "cell_type": "code",
   "execution_count": null,
   "id": "bc115d6a",
   "metadata": {},
   "outputs": [],
   "source": []
  }
 ],
 "metadata": {
  "kernelspec": {
   "display_name": "Python 3 (ipykernel)",
   "language": "python",
   "name": "python3"
  },
  "language_info": {
   "codemirror_mode": {
    "name": "ipython",
    "version": 3
   },
   "file_extension": ".py",
   "mimetype": "text/x-python",
   "name": "python",
   "nbconvert_exporter": "python",
   "pygments_lexer": "ipython3",
   "version": "3.9.11"
  },
  "latex_envs": {
   "LaTeX_envs_menu_present": true,
   "autoclose": false,
   "autocomplete": true,
   "bibliofile": "biblio.bib",
   "cite_by": "apalike",
   "current_citInitial": 1,
   "eqLabelWithNumbers": true,
   "eqNumInitial": 1,
   "hotkeys": {
    "equation": "Ctrl-E",
    "itemize": "Ctrl-I"
   },
   "labels_anchors": false,
   "latex_user_defs": false,
   "report_style_numbering": false,
   "user_envs_cfg": false
  }
 },
 "nbformat": 4,
 "nbformat_minor": 5
}
