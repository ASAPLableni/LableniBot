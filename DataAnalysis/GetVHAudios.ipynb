{
 "cells": [
  {
   "cell_type": "code",
   "execution_count": 20,
   "id": "16af95b9",
   "metadata": {},
   "outputs": [],
   "source": [
    "import json\n",
    "import os\n",
    "import pandas as pd\n",
    "import matplotlib.pyplot as plt\n",
    "import numpy as np\n",
    "import scipy as sp\n",
    "import wave\n",
    "import time\n",
    "\n",
    "from boto3 import Session"
   ]
  },
  {
   "cell_type": "code",
   "execution_count": 2,
   "id": "76f97576",
   "metadata": {},
   "outputs": [],
   "source": [
    "config_json = open(\"../LableniBotConfig/config.json\")\n",
    "config_dict = json.load(config_json)\n",
    "\n",
    "with open('Results/NoDepressSubjects.txt', 'r') as f:\n",
    "    subj_no_depress_list = f.readlines()\n",
    "subj_no_depress_list = [subj.replace(\"\\n\", \"\") for subj in subj_no_depress_list]"
   ]
  },
  {
   "cell_type": "code",
   "execution_count": 3,
   "id": "c387db1a",
   "metadata": {},
   "outputs": [],
   "source": [
    "session = Session(\n",
    "    aws_access_key_id=config_dict[\"AWS_ACCESS_KEY_ID\"],\n",
    "    aws_secret_access_key=config_dict[\"AWS_SECRET_ACCESS_KEY\"]\n",
    ")\n",
    "polly = session.client(\"polly\", region_name='eu-west-1')"
   ]
  },
  {
   "cell_type": "code",
   "execution_count": 4,
   "id": "f811b349",
   "metadata": {},
   "outputs": [],
   "source": [
    "def from_str_to_aws_polly_pcm(input_str, aws_prosody=\"slow\"):\n",
    "    input_str_aws = input_str\n",
    "    input_str_aws = input_str_aws.replace(\"?\", \".\").replace(\"¿\", \".\")\n",
    "    input_str_aws = input_str_aws.replace('.', '<break time=\"0.6s\"/>')\n",
    "    input_str_aws = input_str_aws.replace(',', '<break time=\"0.25s\"/>')\n",
    "    input_str_aws = '<prosody rate=\"' + aws_prosody + '\">' + input_str_aws + '</prosody>'\n",
    "    input_str_aws = \"<speak>\" + input_str_aws + \"</speak>\"\n",
    "\n",
    "    return input_str_aws"
   ]
  },
  {
   "cell_type": "code",
   "execution_count": 38,
   "id": "8d61c60c",
   "metadata": {},
   "outputs": [
    {
     "data": {
      "text/plain": [
       "['User_01_CB_20221116_094233',\n",
       " 'User_01_CB_20221116_094932',\n",
       " 'User_01_CB_20221116_095440',\n",
       " 'User_01_CB_20221116_095834',\n",
       " 'User_01_CB_20221116_100351',\n",
       " 'User_01_CB_20221116_100942',\n",
       " 'User_01_CB_20221116_101436']"
      ]
     },
     "execution_count": 38,
     "metadata": {},
     "output_type": "execute_result"
    }
   ],
   "source": [
    "os.listdir(\"../Conversations/\" + subj + \"_Conversations/\")[2:]"
   ]
  },
  {
   "cell_type": "code",
   "execution_count": 48,
   "id": "f197c7f1",
   "metadata": {},
   "outputs": [
    {
     "name": "stdout",
     "output_type": "stream",
     "text": [
      "Bad subject ../Conversations/USER_48_CB2_Conversations/\n",
      "Bad subject ../Conversations/USER_47_CB2_Conversations/\n",
      "Bad subject ../Conversations/USER_38_CB2_Conversations/USER_38_CB2_20230223_093627/Conv_20230223_093627.pkl\n",
      "Bad subject ../Conversations/User_50_CB_Conversations/User_50_CB_20221219_144734/Conv_20221219_144734.pkl\n",
      "Subject User_01_CB\n",
      "End\n"
     ]
    }
   ],
   "source": [
    "for subj in subj_no_depress_list:\n",
    "    \n",
    "    print(\"Subject\", subj, end=\"\\r\")\n",
    "    \n",
    "    path_to_folders = \"../Conversations/\" + subj + \"_Conversations/\"\n",
    "    try:\n",
    "        all_folders_inside = os.listdir(path_to_folders)[2:]\n",
    "    except:\n",
    "        print(\"Bad subject\", path_to_folders)\n",
    "        continue\n",
    "    \n",
    "    for folder in all_folders_inside:\n",
    "        path_to_conv = path_to_folders + folder + \"/\"\n",
    "        conv_f_name = os.listdir(path_to_conv)[2]\n",
    "        try:\n",
    "            df_conv = pd.read_csv(path_to_conv + conv_f_name, sep=\";\")\n",
    "        except:\n",
    "            print(\"Bad subject\", path_to_conv + conv_f_name)\n",
    "            continue\n",
    "        \n",
    "        vh_personality, vh_gender, vh_id = df_conv[\"ConfigName\"].iloc[0].split(\"_\")\n",
    "        \n",
    "        vh_voice_id = \"Lucia\" if vh_gender == \"Female\" or vh_gender == \"Woman\" else \"Enrique\"\n",
    "        vh_engine = \"neural\" if vh_voice_id == \"Lucia\" else \"standard\"\n",
    "        \n",
    "        for i_b_m, bot_message in enumerate(df_conv[df_conv[\"Source\"] == \"Bot\"][\"SpanishMessage\"].values):\n",
    "            \n",
    "            audio_name = subj + \"_\" + vh_personality + \"_\" + vh_id + \"_Mssg\" + str(i_b_m)\n",
    "            root_bot_audio = \"../VHAudios/AllAudios/\" + audio_name + \".mp3\"\n",
    "            \n",
    "            if audio_name + \".mp3\" in os.listdir(\"../VHAudios/AllAudios/\"):\n",
    "                continue\n",
    "            \n",
    "            bot_message_spanish_aws = from_str_to_aws_polly_pcm(bot_message)\n",
    "            \n",
    "            response = polly.synthesize_speech(\n",
    "                Text=bot_message_spanish_aws,\n",
    "                OutputFormat=\"pcm\",\n",
    "                VoiceId=vh_voice_id,\n",
    "                # SampleRate=str(RATE),\n",
    "                Engine=vh_engine,\n",
    "                TextType=\"ssml\"\n",
    "            )\n",
    "            \n",
    "            OMNI_CHANNELS = 1  # Polly's output is a mono audio stream\n",
    "            WAV_SAMPLE_WIDTH_BYTES = 2  # Polly's output is a stream of 16-bits (2 bytes) samples\n",
    "            RATE_AWS = 16000\n",
    "            FRAMES = []\n",
    "\n",
    "            # Processing the response to audio stream\n",
    "            STREAM = response.get(\"AudioStream\")\n",
    "            FRAMES.append(STREAM.read())\n",
    "            # TODO: Save these audios as the subjects audios are saved.\n",
    "\n",
    "            WAVE_FORMAT = wave.open(root_bot_audio, 'wb')\n",
    "            WAVE_FORMAT.setnchannels(OMNI_CHANNELS)\n",
    "            WAVE_FORMAT.setsampwidth(WAV_SAMPLE_WIDTH_BYTES)\n",
    "            WAVE_FORMAT.setframerate(RATE_AWS)\n",
    "            WAVE_FORMAT.writeframes(b''.join(FRAMES))\n",
    "            WAVE_FORMAT.close()\n",
    "            \n",
    "print()  \n",
    "print(\"End\")        "
   ]
  },
  {
   "cell_type": "code",
   "execution_count": null,
   "id": "cc85e403",
   "metadata": {},
   "outputs": [],
   "source": []
  },
  {
   "cell_type": "code",
   "execution_count": null,
   "id": "d46a5384",
   "metadata": {},
   "outputs": [],
   "source": []
  },
  {
   "cell_type": "code",
   "execution_count": null,
   "id": "e2ff2532",
   "metadata": {},
   "outputs": [],
   "source": []
  },
  {
   "cell_type": "code",
   "execution_count": null,
   "id": "60d2ba26",
   "metadata": {},
   "outputs": [],
   "source": []
  }
 ],
 "metadata": {
  "kernelspec": {
   "display_name": "Python 3 (ipykernel)",
   "language": "python",
   "name": "python3"
  },
  "language_info": {
   "codemirror_mode": {
    "name": "ipython",
    "version": 3
   },
   "file_extension": ".py",
   "mimetype": "text/x-python",
   "name": "python",
   "nbconvert_exporter": "python",
   "pygments_lexer": "ipython3",
   "version": "3.9.7"
  }
 },
 "nbformat": 4,
 "nbformat_minor": 5
}
